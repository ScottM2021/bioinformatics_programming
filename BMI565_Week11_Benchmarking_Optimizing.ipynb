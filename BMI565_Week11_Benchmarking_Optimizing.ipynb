{
 "cells": [
  {
   "cell_type": "markdown",
   "metadata": {},
   "source": [
    "# BMI565: Bioinformatics Programming & Scripting"
   ]
  },
  {
   "cell_type": "markdown",
   "metadata": {},
   "source": [
    "#### (C) Michael Mooney (mooneymi@ohsu.edu)"
   ]
  },
  {
   "cell_type": "markdown",
   "metadata": {},
   "source": [
    "## Week 11: Benchmarking and Optimizing Python Code"
   ]
  },
  {
   "cell_type": "markdown",
   "metadata": {},
   "source": [
    "1. Benchmarking / Profiling in Python\n",
    "2. Optimizing Code with Cython\n",
    "3. Parallel Processing\n",
    "    - `Multiprocessing` module\n",
    "    - `pp` (Parallel Python) module\n",
    "4. Final Exam Review"
   ]
  },
  {
   "cell_type": "markdown",
   "metadata": {},
   "source": [
    "#### Requirements\n",
    "\n",
    "- Python 2.7\n",
    "- `time`, `timeit`, and `profile` modules\n",
    "- `scipy` and `numpy` modules\n",
    "- `multiprocessing` module\n",
    "- Parallel Python, `pp`, module\n",
    "\n",
    "** Note: Parallel Python can be installed with `pip install pp`."
   ]
  },
  {
   "cell_type": "code",
   "execution_count": 1,
   "metadata": {
    "collapsed": true
   },
   "outputs": [],
   "source": [
    "import numpy as np"
   ]
  },
  {
   "cell_type": "markdown",
   "metadata": {},
   "source": [
    "## Benchmarking / Profiling\n",
    "\n",
    "There are a number of ways to evaluate the performance of your Python code. Three useful modules are:\n",
    "\n",
    "- `time`\n",
    "- `timeit`\n",
    "- `profile`"
   ]
  },
  {
   "cell_type": "code",
   "execution_count": 2,
   "metadata": {
    "collapsed": true
   },
   "outputs": [],
   "source": [
    "## Define a function that determines if a number is prime\n",
    "def isprime(n):\n",
    "    \"\"\"\n",
    "    Returns the number if it is prime, otherwise returns None.\n",
    "    \"\"\"\n",
    "    assert n > 0, \"Number must be greater than 0!\"\n",
    "    if n < 2: return None\n",
    "    for i in range(2,n):\n",
    "        if n % i == 0:\n",
    "            return None\n",
    "    return n\n",
    "\n",
    "def get_primes(min, max):\n",
    "    result = []\n",
    "    possible_primes = range(min,max+1)\n",
    "    for n in possible_primes:\n",
    "        result.append(isprime(n))\n",
    "\n",
    "    prime_nums = [n for n in result if n is not None]\n",
    "    return prime_nums"
   ]
  },
  {
   "cell_type": "code",
   "execution_count": 3,
   "metadata": {
    "collapsed": true
   },
   "outputs": [],
   "source": [
    "## Binary search function\n",
    "def bsearch(l, n):\n",
    "    s = 0\n",
    "    e = len(l) - 1\n",
    "    while True:\n",
    "        if s > e:\n",
    "            return None\n",
    "        mid = (s + e)/2\n",
    "        if l[mid] < n:\n",
    "            s = mid  + 1\n",
    "        elif l[mid] > n:\n",
    "            e = mid  - 1\n",
    "        else:\n",
    "            return mid"
   ]
  },
  {
   "cell_type": "code",
   "execution_count": 4,
   "metadata": {
    "collapsed": true
   },
   "outputs": [],
   "source": [
    "## Recursive binary search function\n",
    "def rec_bsearch(l,n,s=0,e=None):\n",
    "    if e is None: e = len(l) - 1\n",
    "    if s > e:\n",
    "        return None\n",
    "    mid = (s + e)/2\n",
    "    if n == l[mid]:\n",
    "        return mid\n",
    "    elif n < l[mid]:\n",
    "        return rec_bsearch(l,n,s,mid-1)\n",
    "    else:\n",
    "        return rec_bsearch(l,n,mid+1,e)"
   ]
  },
  {
   "cell_type": "markdown",
   "metadata": {},
   "source": [
    "### `time` module"
   ]
  },
  {
   "cell_type": "code",
   "execution_count": 5,
   "metadata": {
    "collapsed": true
   },
   "outputs": [],
   "source": [
    "import time\n",
    "\n",
    "def search_time(fun, N, M):\n",
    "    runtimes = []\n",
    "    nums = np.arange(M)\n",
    "    start_time = time.time()\n",
    "    for i in range(N):\n",
    "        t0 = time.time()\n",
    "        cmd = fun + \"(nums, 3450)\"\n",
    "        idx = eval(cmd)\n",
    "        runtimes.append(time.time() - t0)\n",
    "    \n",
    "    print \"Total runtime: \", time.time() - start_time\n",
    "    print \"Mean runtime: \", sum(runtimes)/len(runtimes)\n",
    "    return None"
   ]
  },
  {
   "cell_type": "code",
   "execution_count": 6,
   "metadata": {
    "collapsed": false
   },
   "outputs": [
    {
     "name": "stdout",
     "output_type": "stream",
     "text": [
      "Binary Search:\n",
      "Total runtime:  0.119760990143\n",
      "Mean runtime:  2.35820770264e-05\n"
     ]
    }
   ],
   "source": [
    "print \"Binary Search:\"\n",
    "search_time(\"bsearch\", 5000, 1000000)"
   ]
  },
  {
   "cell_type": "markdown",
   "metadata": {},
   "source": [
    "### `timeit` module"
   ]
  },
  {
   "cell_type": "code",
   "execution_count": 7,
   "metadata": {
    "collapsed": false
   },
   "outputs": [
    {
     "data": {
      "text/plain": [
       "0.06543111801147461"
      ]
     },
     "execution_count": 7,
     "metadata": {},
     "output_type": "execute_result"
    }
   ],
   "source": [
    "import timeit\n",
    "\n",
    "## Get the runtime of a Python statement\n",
    "timeit.timeit(\"bsearch(nums, 3450)\", setup=\"from __main__ import bsearch; import numpy as np; nums = np.arange(1000000)\", number=5000)"
   ]
  },
  {
   "cell_type": "code",
   "execution_count": 8,
   "metadata": {
    "collapsed": false
   },
   "outputs": [
    {
     "data": {
      "text/plain": [
       "[0.06094789505004883, 0.056292057037353516, 0.05849313735961914]"
      ]
     },
     "execution_count": 8,
     "metadata": {},
     "output_type": "execute_result"
    }
   ],
   "source": [
    "## Create a timer and run it multiple times\n",
    "timer = timeit.Timer(\"bsearch(nums, 3450)\", setup=\"from __main__ import bsearch; import numpy as np; nums = np.arange(1000000)\")\n",
    "timer.repeat(3, number=5000)"
   ]
  },
  {
   "cell_type": "markdown",
   "metadata": {},
   "source": [
    "### `profile` module"
   ]
  },
  {
   "cell_type": "code",
   "execution_count": 9,
   "metadata": {
    "collapsed": false
   },
   "outputs": [
    {
     "name": "stdout",
     "output_type": "stream",
     "text": [
      "         23 function calls (5 primitive calls) in 0.001 seconds\n",
      "\n",
      "   Ordered by: standard name\n",
      "\n",
      "   ncalls  tottime  percall  cumtime  percall filename:lineno(function)\n",
      "        1    0.000    0.000    0.000    0.000 :0(len)\n",
      "        1    0.000    0.000    0.000    0.000 :0(setprofile)\n",
      "     19/1    0.000    0.000    0.000    0.000 <ipython-input-4-3e47e1fd46da>:2(rec_bsearch)\n",
      "        1    0.000    0.000    0.000    0.000 <string>:1(<module>)\n",
      "        0    0.000             0.000          profile:0(profiler)\n",
      "        1    0.000    0.000    0.001    0.001 profile:0(rec_bsearch(nums, 3450))\n",
      "\n",
      "\n"
     ]
    }
   ],
   "source": [
    "import profile\n",
    "nums = np.arange(10000000)\n",
    "profile.run(\"rec_bsearch(nums, 3450)\")"
   ]
  },
  {
   "cell_type": "markdown",
   "metadata": {},
   "source": [
    "## Cython"
   ]
  },
  {
   "cell_type": "markdown",
   "metadata": {},
   "source": [
    "Cython is a programming language that allows you to create C extensions for your Python programs, thereby improving performance. I'll show one simple example of how you might do this below, but for more details consult the Cython documentation (link in references). Before running the example code blocks below, you'll need to create two files and run a command to compile the Cython module. Note that the code shown below for the Cython implementation of the binary search algorithm is nearly identical to pure Python, with just a few minor tweaks (mostly accounting for data type conversions between Python/Numpy and Cython). \n",
    "\n",
    "Create a file called **'cy_bsearch.pyx'** that contains the following:\n",
    "\n",
    "    #cython: boundscheck=False\n",
    "    #cython: wraparound=False\n",
    "    cimport numpy as np\n",
    "    \n",
    "    cdef bsearch(np.ndarray[np.int64_t, ndim=1] L, int target, int start=0, end=None):\n",
    "        \"\"\"\n",
    "        Binary search\n",
    "        \"\"\"\n",
    "        cdef Py_ssize_t idx, mid\n",
    "        \n",
    "        if end is None: \n",
    "            end = len(L)-1\n",
    "        while L.size > 0:\n",
    "            idx = start + (end - start)/2\n",
    "            mid = (len(L)-1)/2\n",
    "            if L[mid] == target:\n",
    "                return idx\n",
    "            else:\n",
    "                if target < L[mid]:\n",
    "                    L = L[:mid]\n",
    "                    end = idx - 1\n",
    "                else:\n",
    "                    L = L[mid+1:]\n",
    "                    start = idx + 1\n",
    "        return None\n",
    "\n",
    "\n",
    "Create another file called **'setup.py'** that contains the following:\n",
    "\n",
    "    from distutils.core import setup\n",
    "    from distutils.extension import Extension\n",
    "    from Cython.Distutils import build_ext\n",
    "    \n",
    "    import numpy\n",
    "    \n",
    "    ext = Extension(\"cy_bsearch\", [\"cy_bsearch.pyx\"],\n",
    "                    include_dirs = [numpy.get_include()])\n",
    "    \n",
    "    setup(ext_modules=[ext],\n",
    "          cmdclass = {'build_ext': build_ext})\n",
    "\n",
    "Finally, run the following at the command-line (this may produce a number of warnings, which can be ignored):\n",
    "\n",
    "    python setup.py build_ext --inplace\n",
    "\n",
    "This example is purely meant to illustrate how you might use Cython. However, because binary search is such a simple algorithm, we don't see any improvement in performance. This is an important point when it comes to optimization: **Over-optimization can be a real waste of time.** Rather than optimizing every last piece of code, you should focus only on those places where you will see real benefit."
   ]
  },
  {
   "cell_type": "code",
   "execution_count": 10,
   "metadata": {
    "collapsed": false
   },
   "outputs": [],
   "source": [
    "import pyximport\n",
    "pyximport.install(setup_args={'include_dirs':[np.get_include()]})\n",
    "from cy_bsearch import bsearch as cython_bsearch"
   ]
  },
  {
   "cell_type": "code",
   "execution_count": 11,
   "metadata": {
    "collapsed": false
   },
   "outputs": [
    {
     "name": "stdout",
     "output_type": "stream",
     "text": [
      "Cython Binary Search:\n",
      "Total runtime:  0.179076910019\n",
      "Mean runtime:  3.5307598114e-05\n"
     ]
    }
   ],
   "source": [
    "print \"Cython Binary Search:\"\n",
    "search_time(\"cython_bsearch\", 5000, 1000000)"
   ]
  },
  {
   "cell_type": "code",
   "execution_count": 12,
   "metadata": {
    "collapsed": false
   },
   "outputs": [
    {
     "data": {
      "text/plain": [
       "0.11948013305664062"
      ]
     },
     "execution_count": 12,
     "metadata": {},
     "output_type": "execute_result"
    }
   ],
   "source": [
    "timeit.timeit(\"cython_bsearch(nums, 3450)\", setup=\"from cy_bsearch import bsearch as cython_bsearch; import numpy as np; nums = np.arange(1000000)\", number=5000)"
   ]
  },
  {
   "cell_type": "markdown",
   "metadata": {},
   "source": [
    "## Parallel Processing\n",
    "\n",
    "Parallel processing is a technique for improving the performance of a computational task, based on the idea that large problems can often be split into multiple smaller problems. These smaller problems can then be solved simultaneously (in parallel). Given the constraints of processor design and development, parallel computing (multi-processor machines) is now a common way to improve computational power.\n",
    "\n",
    "There are numerous Python modules that allow you to take advantage of the computational power of multiple processors (the list below is not complete):\n",
    "\n",
    "[https://wiki.python.org/moin/ParallelProcessing](https://wiki.python.org/moin/ParallelProcessing)\n",
    "\n",
    "Keep in mind that there is always some amount of overhead cost due to splitting a large task into multiple smaller task and then gathering/compiling the individual results. The efficiency gains achieved with parallel processing will depend on the individual tasks being performed and the amount of communication (data transfer) required."
   ]
  },
  {
   "cell_type": "code",
   "execution_count": 13,
   "metadata": {
    "collapsed": false
   },
   "outputs": [],
   "source": [
    "import multiprocessing as mp\n",
    "import pp"
   ]
  },
  {
   "cell_type": "code",
   "execution_count": 14,
   "metadata": {
    "collapsed": false
   },
   "outputs": [
    {
     "name": "stdout",
     "output_type": "stream",
     "text": [
      "There are 1888 prime numbers between 30000 and 50000.\n",
      "Elapsed time: 11.9381160736\n"
     ]
    }
   ],
   "source": [
    "## Find prime numbers serially\n",
    "min_prime = 30000\n",
    "max_prime = 50000\n",
    "\n",
    "t0 = time.time()\n",
    "prime_nums = get_primes(min_prime, max_prime)\n",
    "t1 = time.time()\n",
    "\n",
    "print \"There are %d prime numbers between %d and %d.\" % (len(prime_nums), min_prime, max_prime)\n",
    "print \"Elapsed time:\", t1 - t0"
   ]
  },
  {
   "cell_type": "code",
   "execution_count": 15,
   "metadata": {
    "collapsed": false
   },
   "outputs": [
    {
     "name": "stdout",
     "output_type": "stream",
     "text": [
      "         60008 function calls in 12.435 seconds\n",
      "\n",
      "   Ordered by: standard name\n",
      "\n",
      "   ncalls  tottime  percall  cumtime  percall filename:lineno(function)\n",
      "    20001    0.041    0.000    0.041    0.000 :0(append)\n",
      "    20002    4.154    0.000    4.154    0.000 :0(range)\n",
      "        1    0.000    0.000    0.000    0.000 :0(setprofile)\n",
      "        1    0.095    0.095   12.435   12.435 <ipython-input-2-4d94308a6ebf>:13(get_primes)\n",
      "    20001    8.146    0.000   12.300    0.001 <ipython-input-2-4d94308a6ebf>:2(isprime)\n",
      "        1    0.000    0.000   12.435   12.435 <string>:1(<module>)\n",
      "        1    0.000    0.000   12.435   12.435 profile:0(get_primes(min_prime, max_prime))\n",
      "        0    0.000             0.000          profile:0(profiler)\n",
      "\n",
      "\n"
     ]
    }
   ],
   "source": [
    "profile.run(\"get_primes(min_prime, max_prime)\")"
   ]
  },
  {
   "cell_type": "markdown",
   "metadata": {},
   "source": [
    "### `Multiprocessing` module\n",
    "\n",
    "`Multiprocessing` is a module in Python's standard library that allows you to spawn multiple Python processes. It is an easy way to take advantage of multiple cores on a single machine.\n",
    "\n",
    "[https://docs.python.org/2/library/multiprocessing.html](https://docs.python.org/2/library/multiprocessing.html)"
   ]
  },
  {
   "cell_type": "code",
   "execution_count": 16,
   "metadata": {
    "collapsed": false
   },
   "outputs": [
    {
     "data": {
      "text/plain": [
       "8"
      ]
     },
     "execution_count": 16,
     "metadata": {},
     "output_type": "execute_result"
    }
   ],
   "source": [
    "## Get number of CPUs\n",
    "mp.cpu_count()"
   ]
  },
  {
   "cell_type": "code",
   "execution_count": 17,
   "metadata": {
    "collapsed": false
   },
   "outputs": [
    {
     "name": "stdout",
     "output_type": "stream",
     "text": [
      "There are 1888 prime numbers between 30000 and 50000.\n",
      "Elapsed time: 3.64277696609\n"
     ]
    }
   ],
   "source": [
    "## Find prime numbers using parallel processes\n",
    "possible_primes = range(min_prime,max_prime+1)\n",
    "\n",
    "t2 = time.time()\n",
    "pool = mp.Pool(processes=4)\n",
    "result2 = pool.map(isprime, possible_primes)\n",
    "prime_nums2 = [n for n in result2 if n is not None]\n",
    "t3 = time.time()\n",
    "\n",
    "## Make sure to close the processes created by Pool\n",
    "pool.close()\n",
    "\n",
    "print \"There are %d prime numbers between %d and %d.\" % (len(prime_nums2), min_prime, max_prime) \n",
    "print \"Elapsed time:\", t3 - t2"
   ]
  },
  {
   "cell_type": "markdown",
   "metadata": {},
   "source": [
    "### `pp` (Parallel Python) module\n",
    "\n",
    "The Parallel Python module can be used to parallelize across multiple processors on a single machine, and also across multiple nodes of a computing cluster.\n",
    "\n",
    "[http://www.parallelpython.com/](http://www.parallelpython.com/)"
   ]
  },
  {
   "cell_type": "code",
   "execution_count": 18,
   "metadata": {
    "collapsed": false
   },
   "outputs": [
    {
     "name": "stdout",
     "output_type": "stream",
     "text": [
      "There are 1888 prime numbers between 30000 and 50000.\n",
      "Elapsed time: 6.73694086075\n"
     ]
    }
   ],
   "source": [
    "## Create pp job server\n",
    "job_server = pp.Server(ncpus=7)\n",
    "jobs = []\n",
    "\n",
    "t4 = time.time()\n",
    "## Submit jobs to pp server\n",
    "for i in possible_primes:\n",
    "    jobs.append(job_server.submit(isprime, (i,)))\n",
    "## Wait for all jobs to finish\n",
    "job_server.wait()\n",
    "prime_nums3 = [job() for job in jobs if job() is not None]\n",
    "t5 = time.time()\n",
    "\n",
    "## Close the processes created by pp\n",
    "job_server.destroy()\n",
    "\n",
    "## Print results\n",
    "print \"There are %d prime numbers between %d and %d.\" % (len(prime_nums3), min_prime, max_prime) \n",
    "print \"Elapsed time:\", t5 - t4"
   ]
  },
  {
   "cell_type": "markdown",
   "metadata": {},
   "source": [
    "## References\n",
    "\n",
    "- [https://wiki.python.org/moin/ParallelProcessing](https://wiki.python.org/moin/ParallelProcessing)\n",
    "- [http://docs.cython.org/en/latest/](http://docs.cython.org/en/latest/)\n",
    "- [https://docs.python.org/2/library/time.html](https://docs.python.org/2/library/time.html)\n",
    "- [https://docs.python.org/2/library/timeit.html](https://docs.python.org/2/library/timeit.html)\n",
    "- [https://docs.python.org/2/library/profile.html](https://docs.python.org/2/library/profile.html)"
   ]
  },
  {
   "cell_type": "markdown",
   "metadata": {},
   "source": [
    "#### Last Updated: 12-Sep-2017"
   ]
  }
 ],
 "metadata": {
  "anaconda-cloud": {},
  "kernelspec": {
   "display_name": "Python [default]",
   "language": "python",
   "name": "python2"
  },
  "language_info": {
   "codemirror_mode": {
    "name": "ipython",
    "version": 2
   },
   "file_extension": ".py",
   "mimetype": "text/x-python",
   "name": "python",
   "nbconvert_exporter": "python",
   "pygments_lexer": "ipython2",
   "version": "2.7.11"
  }
 },
 "nbformat": 4,
 "nbformat_minor": 0
}
