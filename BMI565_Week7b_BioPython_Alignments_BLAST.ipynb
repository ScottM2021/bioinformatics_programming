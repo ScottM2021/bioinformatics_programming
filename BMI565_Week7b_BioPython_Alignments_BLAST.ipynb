{
 "cells": [
  {
   "cell_type": "markdown",
   "metadata": {},
   "source": [
    "# BMI565: Bioinformatics Programming & Scripting"
   ]
  },
  {
   "cell_type": "markdown",
   "metadata": {},
   "source": [
    "#### (C) Michael Mooney (mooneymi@ohsu.edu)"
   ]
  },
  {
   "cell_type": "markdown",
   "metadata": {},
   "source": [
    "## Week 7: BioPython - Alignments and BLAST"
   ]
  },
  {
   "cell_type": "markdown",
   "metadata": {},
   "source": [
    "1. Sequence Alignment\n",
    "2. Clustalw\n",
    "    - Alignment I/O\n",
    "    - `AlignInfo` module\n",
    "3. BLAST\n",
    "    - BLAST Queries Using BioPython"
   ]
  },
  {
   "cell_type": "markdown",
   "metadata": {},
   "source": [
    "#### Requirements\n",
    "\n",
    "- Python 2.7 or 3.5\n",
    "- `Bio` (BioPython) module\n",
    "- Clustalw command-line program \n",
    "    - [http://www.clustal.org/clustal2/](http://www.clustal.org/clustal2/)\n",
    "- Data Files\n",
    "    - `./data/egfr.fasta`"
   ]
  },
  {
   "cell_type": "code",
   "execution_count": 1,
   "metadata": {},
   "outputs": [],
   "source": [
    "from __future__ import print_function, division"
   ]
  },
  {
   "cell_type": "markdown",
   "metadata": {},
   "source": [
    "## Sequence Alignment\n",
    "\n",
    "By aligning biological sequences we can identify functional, structural, or evolutionary relationships between sequences. \n",
    "\n",
    "- Pairwise alignment algorithms compare two sequences\n",
    "    - Smith-Waterman\n",
    "    - Needleman-Wunsch\n",
    "- Multiple sequence alignment (MSA) algorithms compare two or more sequences\n",
    "    - clustalw\n",
    "    - muscle\n",
    "    - tcoffee\n",
    "    \n",
    "BioPython supports both types of alignment through its `Align` module."
   ]
  },
  {
   "cell_type": "markdown",
   "metadata": {},
   "source": [
    "## Clustalw\n",
    "\n",
    "The Clustalw MSA program uses progressive alignment construction by taking the following steps\n",
    "\n",
    "1. Perform pair-wise alignment of all sequences\n",
    "2. Construct a tree such that branches represent the most similar sequences\n",
    "3. Collapse branches into groups in order of similarity "
   ]
  },
  {
   "cell_type": "code",
   "execution_count": 2,
   "metadata": {},
   "outputs": [],
   "source": [
    "from Bio.Align.Applications import ClustalwCommandline"
   ]
  },
  {
   "cell_type": "code",
   "execution_count": 3,
   "metadata": {},
   "outputs": [
    {
     "name": "stdout",
     "output_type": "stream",
     "text": [
      "clustalw2 -infile=./data/egfr.fasta\n"
     ]
    }
   ],
   "source": [
    "## Create the Clustalw command\n",
    "command = ClustalwCommandline(\"clustalw2\", infile=\"./data/egfr.fasta\")\n",
    "print(command)"
   ]
  },
  {
   "cell_type": "code",
   "execution_count": 4,
   "metadata": {},
   "outputs": [],
   "source": [
    "## Run the Clustalw command\n",
    "stdout, stderr = command()"
   ]
  },
  {
   "cell_type": "code",
   "execution_count": 5,
   "metadata": {},
   "outputs": [
    {
     "name": "stdout",
     "output_type": "stream",
     "text": [
      "\n",
      "\n",
      "\n",
      " CLUSTAL 2.1 Multiple Sequence Alignments\n",
      "\n",
      "\n",
      "Sequence format is Pearson\n",
      "Sequence 1: sp|P00533|EGFR_HUMAN    1210 aa\n",
      "Sequence 2: sp|P00533-2|EGFR_HUMAN   405 aa\n",
      "Sequence 3: sp|P00533-3|EGFR_HUMAN   705 aa\n",
      "Sequence 4: sp|P00533-4|EGFR_HUMAN   628 aa\n",
      "Start of Pairwise alignments\n",
      "Aligning...\n",
      "\n",
      "Sequences (1:2) Aligned. Score:  99\n",
      "Sequences (1:3) Aligned. Score:  89\n",
      "Sequences (1:4) Aligned. Score:  99\n",
      "Sequences (2:3) Aligned. Score:  99\n",
      "Sequences (2:4) Aligned. Score:  99\n",
      "Sequences (3:4) Aligned. Score:  99\n",
      "Guide tree file created:   [./data/egfr.dnd]\n",
      "\n",
      "There are 3 groups\n",
      "Start of Multiple Alignment\n",
      "\n",
      "Aligning...\n",
      "Group 1: Sequences:   2      Score:13892\n",
      "Group 2: Sequences:   2      Score:8903\n",
      "Group 3: Sequences:   4      Score:14198\n",
      "Alignment Score 20210\n",
      "\n",
      "CLUSTAL-Alignment file created  [./data/egfr.aln]\n",
      "\n",
      "\n"
     ]
    }
   ],
   "source": [
    "print(stdout)"
   ]
  },
  {
   "cell_type": "code",
   "execution_count": 6,
   "metadata": {},
   "outputs": [
    {
     "name": "stdout",
     "output_type": "stream",
     "text": [
      "\n"
     ]
    }
   ],
   "source": [
    "print(stderr)"
   ]
  },
  {
   "cell_type": "markdown",
   "metadata": {},
   "source": [
    "#### Passing parameters to Clustalw\n",
    "\n",
    "Clustalw has several parameters that can significantly affect the alignment results (e.g. gap penalties).\n",
    "\n",
    "[http://www.clustal.org/download/clustalw_help.txt](http://www.clustal.org/download/clustalw_help.txt)\n",
    "\n",
    "Run the following at the commandline to see all available options:\n",
    "\n",
    "    clustalw2 -help"
   ]
  },
  {
   "cell_type": "code",
   "execution_count": 7,
   "metadata": {},
   "outputs": [
    {
     "name": "stdout",
     "output_type": "stream",
     "text": [
      "clustalw2 -infile=egfr.fasta -gapopen=5 -gapext=3\n"
     ]
    }
   ],
   "source": [
    "command = ClustalwCommandline(\"clustalw2\", infile=\"egfr.fasta\")\n",
    "command.gapopen = 5\n",
    "command.gapext = 3\n",
    "print(command)"
   ]
  },
  {
   "cell_type": "markdown",
   "metadata": {},
   "source": [
    "### Alignment I/O\n",
    "\n",
    "BioPython stores the results of a MSA in `MultipleSeqAlignment` objects. These objects can be created by reading the results of an alignment from a file using the `AlignIO` module.\n",
    "\n",
    "Supported formats: [http://biopython.org/wiki/AlignIO](http://biopython.org/wiki/AlignIO)"
   ]
  },
  {
   "cell_type": "code",
   "execution_count": 8,
   "metadata": {},
   "outputs": [
    {
     "name": "stdout",
     "output_type": "stream",
     "text": [
      "SingleLetterAlphabet() alignment with 4 rows and 1210 columns\n",
      "MRPSGTAGAALLALLAALCPASRALEEKKVCQGTSNKLTQLGTF...--- sp|P00533-3|EGFR_HUMAN\n",
      "MRPSGTAGAALLALLAALCPASRALEEKKVCQGTSNKLTQLGTF...--- sp|P00533-4|EGFR_HUMAN\n",
      "MRPSGTAGAALLALLAALCPASRALEEKKVCQGTSNKLTQLGTF...IGA sp|P00533|EGFR_HUMAN\n",
      "MRPSGTAGAALLALLAALCPASRALEEKKVCQGTSNKLTQLGTF...--- sp|P00533-2|EGFR_HUMAN\n"
     ]
    }
   ],
   "source": [
    "from Bio import AlignIO\n",
    "\n",
    "## Read the alignment results from the ClustalW output file\n",
    "egfr_alignment = AlignIO.read(\"./data/egfr.aln\", \"clustal\")\n",
    "\n",
    "## egfr_alignment is now a BioPython MultipleSeqAlignment object\n",
    "print(egfr_alignment)"
   ]
  },
  {
   "cell_type": "code",
   "execution_count": 9,
   "metadata": {},
   "outputs": [
    {
     "name": "stdout",
     "output_type": "stream",
     "text": [
      "Help on MultipleSeqAlignment in module Bio.Align object:\n",
      "\n",
      "class MultipleSeqAlignment(__builtin__.object)\n",
      " |  Represents a classical multiple sequence alignment (MSA).\n",
      " |  \n",
      " |  By this we mean a collection of sequences (usually shown as rows) which\n",
      " |  are all the same length (usually with gap characters for insertions or\n",
      " |  padding). The data can then be regarded as a matrix of letters, with well\n",
      " |  defined columns.\n",
      " |  \n",
      " |  You would typically create an MSA by loading an alignment file with the\n",
      " |  AlignIO module:\n",
      " |  \n",
      " |  >>> from Bio import AlignIO\n",
      " |  >>> align = AlignIO.read(\"Clustalw/opuntia.aln\", \"clustal\")\n",
      " |  >>> print(align)\n",
      " |  SingleLetterAlphabet() alignment with 7 rows and 156 columns\n",
      " |  TATACATTAAAGAAGGGGGATGCGGATAAATGGAAAGGCGAAAG...AGA gi|6273285|gb|AF191659.1|AF191\n",
      " |  TATACATTAAAGAAGGGGGATGCGGATAAATGGAAAGGCGAAAG...AGA gi|6273284|gb|AF191658.1|AF191\n",
      " |  TATACATTAAAGAAGGGGGATGCGGATAAATGGAAAGGCGAAAG...AGA gi|6273287|gb|AF191661.1|AF191\n",
      " |  TATACATAAAAGAAGGGGGATGCGGATAAATGGAAAGGCGAAAG...AGA gi|6273286|gb|AF191660.1|AF191\n",
      " |  TATACATTAAAGGAGGGGGATGCGGATAAATGGAAAGGCGAAAG...AGA gi|6273290|gb|AF191664.1|AF191\n",
      " |  TATACATTAAAGGAGGGGGATGCGGATAAATGGAAAGGCGAAAG...AGA gi|6273289|gb|AF191663.1|AF191\n",
      " |  TATACATTAAAGGAGGGGGATGCGGATAAATGGAAAGGCGAAAG...AGA gi|6273291|gb|AF191665.1|AF191\n",
      " |  \n",
      " |  In some respects you can treat these objects as lists of SeqRecord objects,\n",
      " |  each representing a row of the alignment. Iterating over an alignment gives\n",
      " |  the SeqRecord object for each row:\n",
      " |  \n",
      " |  >>> len(align)\n",
      " |  7\n",
      " |  >>> for record in align:\n",
      " |  ...     print(\"%s %i\" % (record.id, len(record)))\n",
      " |  ...\n",
      " |  gi|6273285|gb|AF191659.1|AF191 156\n",
      " |  gi|6273284|gb|AF191658.1|AF191 156\n",
      " |  gi|6273287|gb|AF191661.1|AF191 156\n",
      " |  gi|6273286|gb|AF191660.1|AF191 156\n",
      " |  gi|6273290|gb|AF191664.1|AF191 156\n",
      " |  gi|6273289|gb|AF191663.1|AF191 156\n",
      " |  gi|6273291|gb|AF191665.1|AF191 156\n",
      " |  \n",
      " |  You can also access individual rows as SeqRecord objects via their index:\n",
      " |  \n",
      " |  >>> print(align[0].id)\n",
      " |  gi|6273285|gb|AF191659.1|AF191\n",
      " |  >>> print(align[-1].id)\n",
      " |  gi|6273291|gb|AF191665.1|AF191\n",
      " |  \n",
      " |  And extract columns as strings:\n",
      " |  \n",
      " |  >>> print(align[:, 1])\n",
      " |  AAAAAAA\n",
      " |  \n",
      " |  Or, take just the first ten columns as a sub-alignment:\n",
      " |  \n",
      " |  >>> print(align[:, :10])\n",
      " |  SingleLetterAlphabet() alignment with 7 rows and 10 columns\n",
      " |  TATACATTAA gi|6273285|gb|AF191659.1|AF191\n",
      " |  TATACATTAA gi|6273284|gb|AF191658.1|AF191\n",
      " |  TATACATTAA gi|6273287|gb|AF191661.1|AF191\n",
      " |  TATACATAAA gi|6273286|gb|AF191660.1|AF191\n",
      " |  TATACATTAA gi|6273290|gb|AF191664.1|AF191\n",
      " |  TATACATTAA gi|6273289|gb|AF191663.1|AF191\n",
      " |  TATACATTAA gi|6273291|gb|AF191665.1|AF191\n",
      " |  \n",
      " |  Combining this alignment slicing with alignment addition allows you to\n",
      " |  remove a section of the alignment. For example, taking just the first\n",
      " |  and last ten columns:\n",
      " |  \n",
      " |  >>> print(align[:, :10] + align[:, -10:])\n",
      " |  SingleLetterAlphabet() alignment with 7 rows and 20 columns\n",
      " |  TATACATTAAGTGTACCAGA gi|6273285|gb|AF191659.1|AF191\n",
      " |  TATACATTAAGTGTACCAGA gi|6273284|gb|AF191658.1|AF191\n",
      " |  TATACATTAAGTGTACCAGA gi|6273287|gb|AF191661.1|AF191\n",
      " |  TATACATAAAGTGTACCAGA gi|6273286|gb|AF191660.1|AF191\n",
      " |  TATACATTAAGTGTACCAGA gi|6273290|gb|AF191664.1|AF191\n",
      " |  TATACATTAAGTATACCAGA gi|6273289|gb|AF191663.1|AF191\n",
      " |  TATACATTAAGTGTACCAGA gi|6273291|gb|AF191665.1|AF191\n",
      " |  \n",
      " |  Note - This object replaced the older Alignment object defined in module\n",
      " |  Bio.Align.Generic but is not fully backwards compatible with it.\n",
      " |  \n",
      " |  Note - This object does NOT attempt to model the kind of alignments used\n",
      " |  in next generation sequencing with multiple sequencing reads which are\n",
      " |  much shorter than the alignment, and where there is usually a consensus or\n",
      " |  reference sequence with special status.\n",
      " |  \n",
      " |  Methods defined here:\n",
      " |  \n",
      " |  __add__(self, other)\n",
      " |      Combine two alignments with the same number of rows by adding them.\n",
      " |      \n",
      " |      If you have two multiple sequence alignments (MSAs), there are two ways to think\n",
      " |      about adding them - by row or by column. Using the extend method adds by row.\n",
      " |      Using the addition operator adds by column. For example,\n",
      " |      \n",
      " |      >>> from Bio.Alphabet import generic_dna\n",
      " |      >>> from Bio.Seq import Seq\n",
      " |      >>> from Bio.SeqRecord import SeqRecord\n",
      " |      >>> from Bio.Align import MultipleSeqAlignment\n",
      " |      >>> a1 = SeqRecord(Seq(\"AAAAC\", generic_dna), id=\"Alpha\")\n",
      " |      >>> b1 = SeqRecord(Seq(\"AAA-C\", generic_dna), id=\"Beta\")\n",
      " |      >>> c1 = SeqRecord(Seq(\"AAAAG\", generic_dna), id=\"Gamma\")\n",
      " |      >>> a2 = SeqRecord(Seq(\"GT\", generic_dna), id=\"Alpha\")\n",
      " |      >>> b2 = SeqRecord(Seq(\"GT\", generic_dna), id=\"Beta\")\n",
      " |      >>> c2 = SeqRecord(Seq(\"GT\", generic_dna), id=\"Gamma\")\n",
      " |      >>> left = MultipleSeqAlignment([a1, b1, c1],\n",
      " |      ...                             annotations={\"tool\": \"demo\", \"name\": \"start\"},\n",
      " |      ...                             column_annotations={\"stats\": \"CCCXC\"})\n",
      " |      >>> right = MultipleSeqAlignment([a2, b2, c2],\n",
      " |      ...                             annotations={\"tool\": \"demo\", \"name\": \"end\"},\n",
      " |      ...                             column_annotations={\"stats\": \"CC\"})\n",
      " |      \n",
      " |      Now, let's look at these two alignments:\n",
      " |      \n",
      " |      >>> print(left)\n",
      " |      DNAAlphabet() alignment with 3 rows and 5 columns\n",
      " |      AAAAC Alpha\n",
      " |      AAA-C Beta\n",
      " |      AAAAG Gamma\n",
      " |      >>> print(right)\n",
      " |      DNAAlphabet() alignment with 3 rows and 2 columns\n",
      " |      GT Alpha\n",
      " |      GT Beta\n",
      " |      GT Gamma\n",
      " |      \n",
      " |      And add them:\n",
      " |      \n",
      " |      >>> combined = left + right\n",
      " |      >>> print(combined)\n",
      " |      DNAAlphabet() alignment with 3 rows and 7 columns\n",
      " |      AAAACGT Alpha\n",
      " |      AAA-CGT Beta\n",
      " |      AAAAGGT Gamma\n",
      " |      \n",
      " |      For this to work, both alignments must have the same number of records (here\n",
      " |      they both have 3 rows):\n",
      " |      \n",
      " |      >>> len(left)\n",
      " |      3\n",
      " |      >>> len(right)\n",
      " |      3\n",
      " |      >>> len(combined)\n",
      " |      3\n",
      " |      \n",
      " |      The individual rows are SeqRecord objects, and these can be added together. Refer\n",
      " |      to the SeqRecord documentation for details of how the annotation is handled. This\n",
      " |      example is a special case in that both original alignments shared the same names,\n",
      " |      meaning when the rows are added they also get the same name.\n",
      " |      \n",
      " |      Any common annotations are preserved, but differing annotation is lost. This is\n",
      " |      the same behaviour used in the SeqRecord annotations and is designed to prevent\n",
      " |      accidental propagation of inappropriate values:\n",
      " |      \n",
      " |      >>> combined.annotations\n",
      " |      {'tool': 'demo'}\n",
      " |      \n",
      " |      Similarly any common per-column-annotations are combined:\n",
      " |      \n",
      " |      >>> combined.column_annotations\n",
      " |      {'stats': 'CCCXCCC'}\n",
      " |  \n",
      " |  __format__(self, format_spec)\n",
      " |      Return the alignment as a string in the specified file format.\n",
      " |      \n",
      " |      This method supports the python format() function added in\n",
      " |      Python 2.6/3.0.  The format_spec should be a lower case\n",
      " |      string supported by Bio.AlignIO as an output file format.\n",
      " |      See also the alignment's format() method.\n",
      " |  \n",
      " |  __getitem__(self, index)\n",
      " |      Access part of the alignment.\n",
      " |      \n",
      " |      Depending on the indices, you can get a SeqRecord object\n",
      " |      (representing a single row), a Seq object (for a single columns),\n",
      " |      a string (for a single characters) or another alignment\n",
      " |      (representing some part or all of the alignment).\n",
      " |      \n",
      " |      align[r,c] gives a single character as a string\n",
      " |      align[r] gives a row as a SeqRecord\n",
      " |      align[r,:] gives a row as a SeqRecord\n",
      " |      align[:,c] gives a column as a Seq (using the alignment's alphabet)\n",
      " |      \n",
      " |      align[:] and align[:,:] give a copy of the alignment\n",
      " |      \n",
      " |      Anything else gives a sub alignment, e.g.\n",
      " |      align[0:2] or align[0:2,:] uses only row 0 and 1\n",
      " |      align[:,1:3] uses only columns 1 and 2\n",
      " |      align[0:2,1:3] uses only rows 0 & 1 and only cols 1 & 2\n",
      " |      \n",
      " |      We'll use the following example alignment here for illustration:\n",
      " |      \n",
      " |      >>> from Bio.Alphabet import generic_dna\n",
      " |      >>> from Bio.Seq import Seq\n",
      " |      >>> from Bio.SeqRecord import SeqRecord\n",
      " |      >>> from Bio.Align import MultipleSeqAlignment\n",
      " |      >>> a = SeqRecord(Seq(\"AAAACGT\", generic_dna), id=\"Alpha\")\n",
      " |      >>> b = SeqRecord(Seq(\"AAA-CGT\", generic_dna), id=\"Beta\")\n",
      " |      >>> c = SeqRecord(Seq(\"AAAAGGT\", generic_dna), id=\"Gamma\")\n",
      " |      >>> d = SeqRecord(Seq(\"AAAACGT\", generic_dna), id=\"Delta\")\n",
      " |      >>> e = SeqRecord(Seq(\"AAA-GGT\", generic_dna), id=\"Epsilon\")\n",
      " |      >>> align = MultipleSeqAlignment([a, b, c, d, e], generic_dna)\n",
      " |      \n",
      " |      You can access a row of the alignment as a SeqRecord using an integer\n",
      " |      index (think of the alignment as a list of SeqRecord objects here):\n",
      " |      \n",
      " |      >>> first_record = align[0]\n",
      " |      >>> print(\"%s %s\" % (first_record.id, first_record.seq))\n",
      " |      Alpha AAAACGT\n",
      " |      >>> last_record = align[-1]\n",
      " |      >>> print(\"%s %s\" % (last_record.id, last_record.seq))\n",
      " |      Epsilon AAA-GGT\n",
      " |      \n",
      " |      You can also access use python's slice notation to create a sub-alignment\n",
      " |      containing only some of the SeqRecord objects:\n",
      " |      \n",
      " |      >>> sub_alignment = align[2:5]\n",
      " |      >>> print(sub_alignment)\n",
      " |      DNAAlphabet() alignment with 3 rows and 7 columns\n",
      " |      AAAAGGT Gamma\n",
      " |      AAAACGT Delta\n",
      " |      AAA-GGT Epsilon\n",
      " |      \n",
      " |      This includes support for a step, i.e. align[start:end:step], which\n",
      " |      can be used to select every second sequence:\n",
      " |      \n",
      " |      >>> sub_alignment = align[::2]\n",
      " |      >>> print(sub_alignment)\n",
      " |      DNAAlphabet() alignment with 3 rows and 7 columns\n",
      " |      AAAACGT Alpha\n",
      " |      AAAAGGT Gamma\n",
      " |      AAA-GGT Epsilon\n",
      " |      \n",
      " |      Or to get a copy of the alignment with the rows in reverse order:\n",
      " |      \n",
      " |      >>> rev_alignment = align[::-1]\n",
      " |      >>> print(rev_alignment)\n",
      " |      DNAAlphabet() alignment with 5 rows and 7 columns\n",
      " |      AAA-GGT Epsilon\n",
      " |      AAAACGT Delta\n",
      " |      AAAAGGT Gamma\n",
      " |      AAA-CGT Beta\n",
      " |      AAAACGT Alpha\n",
      " |      \n",
      " |      You can also use two indices to specify both rows and columns. Using simple\n",
      " |      integers gives you the entry as a single character string. e.g.\n",
      " |      \n",
      " |      >>> align[3, 4]\n",
      " |      'C'\n",
      " |      \n",
      " |      This is equivalent to:\n",
      " |      \n",
      " |      >>> align[3][4]\n",
      " |      'C'\n",
      " |      \n",
      " |      or:\n",
      " |      \n",
      " |      >>> align[3].seq[4]\n",
      " |      'C'\n",
      " |      \n",
      " |      To get a single column (as a string) use this syntax:\n",
      " |      \n",
      " |      >>> align[:, 4]\n",
      " |      'CCGCG'\n",
      " |      \n",
      " |      Or, to get part of a column,\n",
      " |      \n",
      " |      >>> align[1:3, 4]\n",
      " |      'CG'\n",
      " |      \n",
      " |      However, in general you get a sub-alignment,\n",
      " |      \n",
      " |      >>> print(align[1:5, 3:6])\n",
      " |      DNAAlphabet() alignment with 4 rows and 3 columns\n",
      " |      -CG Beta\n",
      " |      AGG Gamma\n",
      " |      ACG Delta\n",
      " |      -GG Epsilon\n",
      " |      \n",
      " |      This should all seem familiar to anyone who has used the NumPy\n",
      " |      array or matrix objects.\n",
      " |  \n",
      " |  __init__(self, records, alphabet=None, annotations=None, column_annotations=None)\n",
      " |      Initialize a new MultipleSeqAlignment object.\n",
      " |      \n",
      " |      Arguments:\n",
      " |       - records - A list (or iterator) of SeqRecord objects, whose\n",
      " |                   sequences are all the same length.  This may be an be an\n",
      " |                   empty list.\n",
      " |       - alphabet - The alphabet for the whole alignment, typically a gapped\n",
      " |                    alphabet, which should be a super-set of the individual\n",
      " |                    record alphabets.  If omitted, a consensus alphabet is\n",
      " |                    used.\n",
      " |       - annotations - Information about the whole alignment (dictionary).\n",
      " |       - column_annotations - Per column annotation (restricted dictionary).\n",
      " |                    This holds Python sequences (lists, strings, tuples)\n",
      " |                    whose length matches the number of columns. A typical\n",
      " |                    use would be a secondary structure consensus string.\n",
      " |      \n",
      " |      You would normally load a MSA from a file using Bio.AlignIO, but you\n",
      " |      can do this from a list of SeqRecord objects too:\n",
      " |      \n",
      " |      >>> from Bio.Alphabet import generic_dna\n",
      " |      >>> from Bio.Seq import Seq\n",
      " |      >>> from Bio.SeqRecord import SeqRecord\n",
      " |      >>> from Bio.Align import MultipleSeqAlignment\n",
      " |      >>> a = SeqRecord(Seq(\"AAAACGT\", generic_dna), id=\"Alpha\")\n",
      " |      >>> b = SeqRecord(Seq(\"AAA-CGT\", generic_dna), id=\"Beta\")\n",
      " |      >>> c = SeqRecord(Seq(\"AAAAGGT\", generic_dna), id=\"Gamma\")\n",
      " |      >>> align = MultipleSeqAlignment([a, b, c],\n",
      " |      ...                              annotations={\"tool\": \"demo\"},\n",
      " |      ...                              column_annotations={\"stats\": \"CCCXCCC\"})\n",
      " |      >>> print(align)\n",
      " |      DNAAlphabet() alignment with 3 rows and 7 columns\n",
      " |      AAAACGT Alpha\n",
      " |      AAA-CGT Beta\n",
      " |      AAAAGGT Gamma\n",
      " |      >>> align.annotations\n",
      " |      {'tool': 'demo'}\n",
      " |      >>> align.column_annotations\n",
      " |      {'stats': 'CCCXCCC'}\n",
      " |      \n",
      " |      NOTE - The older Bio.Align.Generic.Alignment class only accepted a\n",
      " |      single argument, an alphabet.  This is still supported via a backwards\n",
      " |      compatible \"hack\" so as not to disrupt existing scripts and users, but\n",
      " |      is deprecated and will be removed in a future release.\n",
      " |  \n",
      " |  __iter__(self)\n",
      " |      Iterate over alignment rows as SeqRecord objects.\n",
      " |      \n",
      " |      e.g.\n",
      " |      \n",
      " |      >>> from Bio.Alphabet import IUPAC, Gapped\n",
      " |      >>> from Bio.Align import MultipleSeqAlignment\n",
      " |      >>> align = MultipleSeqAlignment([], Gapped(IUPAC.unambiguous_dna, \"-\"))\n",
      " |      >>> align.add_sequence(\"Alpha\", \"ACTGCTAGCTAG\")\n",
      " |      >>> align.add_sequence(\"Beta\",  \"ACT-CTAGCTAG\")\n",
      " |      >>> align.add_sequence(\"Gamma\", \"ACTGCTAGATAG\")\n",
      " |      >>> for record in align:\n",
      " |      ...    print(record.id)\n",
      " |      ...    print(record.seq)\n",
      " |      ...\n",
      " |      Alpha\n",
      " |      ACTGCTAGCTAG\n",
      " |      Beta\n",
      " |      ACT-CTAGCTAG\n",
      " |      Gamma\n",
      " |      ACTGCTAGATAG\n",
      " |  \n",
      " |  __len__(self)\n",
      " |      Return the number of sequences in the alignment.\n",
      " |      \n",
      " |      Use len(alignment) to get the number of sequences (i.e. the number of\n",
      " |      rows), and alignment.get_alignment_length() to get the length of the\n",
      " |      longest sequence (i.e. the number of columns).\n",
      " |      \n",
      " |      This is easy to remember if you think of the alignment as being like a\n",
      " |      list of SeqRecord objects.\n",
      " |  \n",
      " |  __repr__(self)\n",
      " |      Return a representation of the object for debugging.\n",
      " |      \n",
      " |      The representation cannot be used with eval() to recreate the object,\n",
      " |      which is usually possible with simple python ojects.  For example:\n",
      " |      \n",
      " |      <Bio.Align.MultipleSeqAlignment instance (2 records of length 14,\n",
      " |      SingleLetterAlphabet()) at a3c184c>\n",
      " |      \n",
      " |      The hex string is the memory address of the object, see help(id).\n",
      " |      This provides a simple way to visually distinguish alignments of\n",
      " |      the same size.\n",
      " |  \n",
      " |  __str__(self)\n",
      " |      Return a multi-line string summary of the alignment.\n",
      " |      \n",
      " |      This output is intended to be readable, but large alignments are\n",
      " |      shown truncated.  A maximum of 20 rows (sequences) and 50 columns\n",
      " |      are shown, with the record identifiers.  This should fit nicely on a\n",
      " |      single screen. e.g.\n",
      " |      \n",
      " |      >>> from Bio.Alphabet import IUPAC, Gapped\n",
      " |      >>> from Bio.Align import MultipleSeqAlignment\n",
      " |      >>> align = MultipleSeqAlignment([], Gapped(IUPAC.unambiguous_dna, \"-\"))\n",
      " |      >>> align.add_sequence(\"Alpha\", \"ACTGCTAGCTAG\")\n",
      " |      >>> align.add_sequence(\"Beta\",  \"ACT-CTAGCTAG\")\n",
      " |      >>> align.add_sequence(\"Gamma\", \"ACTGCTAGATAG\")\n",
      " |      >>> print(align)\n",
      " |      Gapped(IUPACUnambiguousDNA(), '-') alignment with 3 rows and 12 columns\n",
      " |      ACTGCTAGCTAG Alpha\n",
      " |      ACT-CTAGCTAG Beta\n",
      " |      ACTGCTAGATAG Gamma\n",
      " |      \n",
      " |      See also the alignment's format method.\n",
      " |  \n",
      " |  add_sequence(self, descriptor, sequence, start=None, end=None, weight=1.0)\n",
      " |      Add a sequence to the alignment.\n",
      " |      \n",
      " |      This doesn't do any kind of alignment, it just adds in the sequence\n",
      " |      object, which is assumed to be prealigned with the existing\n",
      " |      sequences.\n",
      " |      \n",
      " |      Arguments:\n",
      " |          - descriptor - The descriptive id of the sequence being added.\n",
      " |            This will be used as the resulting SeqRecord's\n",
      " |            .id property (and, for historical compatibility,\n",
      " |            also the .description property)\n",
      " |          - sequence - A string with sequence info.\n",
      " |          - start - You can explicitly set the start point of the sequence.\n",
      " |            This is useful (at least) for BLAST alignments, which can\n",
      " |            just be partial alignments of sequences.\n",
      " |          - end - Specify the end of the sequence, which is important\n",
      " |            for the same reason as the start.\n",
      " |          - weight - The weight to place on the sequence in the alignment.\n",
      " |            By default, all sequences have the same weight. (0.0 =>\n",
      " |            no weight, 1.0 => highest weight)\n",
      " |      \n",
      " |      In general providing a SeqRecord and calling .append is preferred.\n",
      " |  \n",
      " |  append(self, record)\n",
      " |      Add one more SeqRecord object to the alignment as a new row.\n",
      " |      \n",
      " |      This must have the same length as the original alignment (unless this is\n",
      " |      the first record), and have an alphabet compatible with the alignment's\n",
      " |      alphabet.\n",
      " |      \n",
      " |      >>> from Bio import AlignIO\n",
      " |      >>> align = AlignIO.read(\"Clustalw/opuntia.aln\", \"clustal\")\n",
      " |      >>> print(align)\n",
      " |      SingleLetterAlphabet() alignment with 7 rows and 156 columns\n",
      " |      TATACATTAAAGAAGGGGGATGCGGATAAATGGAAAGGCGAAAG...AGA gi|6273285|gb|AF191659.1|AF191\n",
      " |      TATACATTAAAGAAGGGGGATGCGGATAAATGGAAAGGCGAAAG...AGA gi|6273284|gb|AF191658.1|AF191\n",
      " |      TATACATTAAAGAAGGGGGATGCGGATAAATGGAAAGGCGAAAG...AGA gi|6273287|gb|AF191661.1|AF191\n",
      " |      TATACATAAAAGAAGGGGGATGCGGATAAATGGAAAGGCGAAAG...AGA gi|6273286|gb|AF191660.1|AF191\n",
      " |      TATACATTAAAGGAGGGGGATGCGGATAAATGGAAAGGCGAAAG...AGA gi|6273290|gb|AF191664.1|AF191\n",
      " |      TATACATTAAAGGAGGGGGATGCGGATAAATGGAAAGGCGAAAG...AGA gi|6273289|gb|AF191663.1|AF191\n",
      " |      TATACATTAAAGGAGGGGGATGCGGATAAATGGAAAGGCGAAAG...AGA gi|6273291|gb|AF191665.1|AF191\n",
      " |      >>> len(align)\n",
      " |      7\n",
      " |      \n",
      " |      We'll now construct a dummy record to append as an example:\n",
      " |      \n",
      " |      >>> from Bio.Seq import Seq\n",
      " |      >>> from Bio.SeqRecord import SeqRecord\n",
      " |      >>> dummy = SeqRecord(Seq(\"N\"*156), id=\"dummy\")\n",
      " |      \n",
      " |      Now append this to the alignment,\n",
      " |      \n",
      " |      >>> align.append(dummy)\n",
      " |      >>> print(align)\n",
      " |      SingleLetterAlphabet() alignment with 8 rows and 156 columns\n",
      " |      TATACATTAAAGAAGGGGGATGCGGATAAATGGAAAGGCGAAAG...AGA gi|6273285|gb|AF191659.1|AF191\n",
      " |      TATACATTAAAGAAGGGGGATGCGGATAAATGGAAAGGCGAAAG...AGA gi|6273284|gb|AF191658.1|AF191\n",
      " |      TATACATTAAAGAAGGGGGATGCGGATAAATGGAAAGGCGAAAG...AGA gi|6273287|gb|AF191661.1|AF191\n",
      " |      TATACATAAAAGAAGGGGGATGCGGATAAATGGAAAGGCGAAAG...AGA gi|6273286|gb|AF191660.1|AF191\n",
      " |      TATACATTAAAGGAGGGGGATGCGGATAAATGGAAAGGCGAAAG...AGA gi|6273290|gb|AF191664.1|AF191\n",
      " |      TATACATTAAAGGAGGGGGATGCGGATAAATGGAAAGGCGAAAG...AGA gi|6273289|gb|AF191663.1|AF191\n",
      " |      TATACATTAAAGGAGGGGGATGCGGATAAATGGAAAGGCGAAAG...AGA gi|6273291|gb|AF191665.1|AF191\n",
      " |      NNNNNNNNNNNNNNNNNNNNNNNNNNNNNNNNNNNNNNNNNNNN...NNN dummy\n",
      " |      >>> len(align)\n",
      " |      8\n",
      " |  \n",
      " |  extend(self, records)\n",
      " |      Add more SeqRecord objects to the alignment as rows.\n",
      " |      \n",
      " |      They must all have the same length as the original alignment, and have\n",
      " |      alphabets compatible with the alignment's alphabet. For example,\n",
      " |      \n",
      " |      >>> from Bio.Alphabet import generic_dna\n",
      " |      >>> from Bio.Seq import Seq\n",
      " |      >>> from Bio.SeqRecord import SeqRecord\n",
      " |      >>> from Bio.Align import MultipleSeqAlignment\n",
      " |      >>> a = SeqRecord(Seq(\"AAAACGT\", generic_dna), id=\"Alpha\")\n",
      " |      >>> b = SeqRecord(Seq(\"AAA-CGT\", generic_dna), id=\"Beta\")\n",
      " |      >>> c = SeqRecord(Seq(\"AAAAGGT\", generic_dna), id=\"Gamma\")\n",
      " |      >>> d = SeqRecord(Seq(\"AAAACGT\", generic_dna), id=\"Delta\")\n",
      " |      >>> e = SeqRecord(Seq(\"AAA-GGT\", generic_dna), id=\"Epsilon\")\n",
      " |      \n",
      " |      First we create a small alignment (three rows):\n",
      " |      \n",
      " |      >>> align = MultipleSeqAlignment([a, b, c])\n",
      " |      >>> print(align)\n",
      " |      DNAAlphabet() alignment with 3 rows and 7 columns\n",
      " |      AAAACGT Alpha\n",
      " |      AAA-CGT Beta\n",
      " |      AAAAGGT Gamma\n",
      " |      \n",
      " |      Now we can extend this alignment with another two rows:\n",
      " |      \n",
      " |      >>> align.extend([d, e])\n",
      " |      >>> print(align)\n",
      " |      DNAAlphabet() alignment with 5 rows and 7 columns\n",
      " |      AAAACGT Alpha\n",
      " |      AAA-CGT Beta\n",
      " |      AAAAGGT Gamma\n",
      " |      AAAACGT Delta\n",
      " |      AAA-GGT Epsilon\n",
      " |      \n",
      " |      Because the alignment object allows iteration over the rows as\n",
      " |      SeqRecords, you can use the extend method with a second alignment\n",
      " |      (provided its sequences have the same length as the original alignment).\n",
      " |  \n",
      " |  format(self, format)\n",
      " |      Return the alignment as a string in the specified file format.\n",
      " |      \n",
      " |      The format should be a lower case string supported as an output\n",
      " |      format by Bio.AlignIO (such as \"fasta\", \"clustal\", \"phylip\",\n",
      " |      \"stockholm\", etc), which is used to turn the alignment into a\n",
      " |      string.\n",
      " |      \n",
      " |      e.g.\n",
      " |      \n",
      " |      >>> from Bio.Alphabet import IUPAC, Gapped\n",
      " |      >>> from Bio.Align import MultipleSeqAlignment\n",
      " |      >>> align = MultipleSeqAlignment([], Gapped(IUPAC.unambiguous_dna, \"-\"))\n",
      " |      >>> align.add_sequence(\"Alpha\", \"ACTGCTAGCTAG\")\n",
      " |      >>> align.add_sequence(\"Beta\",  \"ACT-CTAGCTAG\")\n",
      " |      >>> align.add_sequence(\"Gamma\", \"ACTGCTAGATAG\")\n",
      " |      >>> print(align.format(\"fasta\"))\n",
      " |      >Alpha\n",
      " |      ACTGCTAGCTAG\n",
      " |      >Beta\n",
      " |      ACT-CTAGCTAG\n",
      " |      >Gamma\n",
      " |      ACTGCTAGATAG\n",
      " |      <BLANKLINE>\n",
      " |      >>> print(align.format(\"phylip\"))\n",
      " |       3 12\n",
      " |      Alpha      ACTGCTAGCT AG\n",
      " |      Beta       ACT-CTAGCT AG\n",
      " |      Gamma      ACTGCTAGAT AG\n",
      " |      <BLANKLINE>\n",
      " |      \n",
      " |      For Python 2.6, 3.0 or later see also the built in format() function.\n",
      " |  \n",
      " |  get_alignment_length(self)\n",
      " |      Return the maximum length of the alignment.\n",
      " |      \n",
      " |      All objects in the alignment should (hopefully) have the same\n",
      " |      length. This function will go through and find this length\n",
      " |      by finding the maximum length of sequences in the alignment.\n",
      " |      \n",
      " |      >>> from Bio.Alphabet import IUPAC, Gapped\n",
      " |      >>> from Bio.Align import MultipleSeqAlignment\n",
      " |      >>> align = MultipleSeqAlignment([], Gapped(IUPAC.unambiguous_dna, \"-\"))\n",
      " |      >>> align.add_sequence(\"Alpha\", \"ACTGCTAGCTAG\")\n",
      " |      >>> align.add_sequence(\"Beta\",  \"ACT-CTAGCTAG\")\n",
      " |      >>> align.add_sequence(\"Gamma\", \"ACTGCTAGATAG\")\n",
      " |      >>> align.get_alignment_length()\n",
      " |      12\n",
      " |      \n",
      " |      If you want to know the number of sequences in the alignment,\n",
      " |      use len(align) instead:\n",
      " |      \n",
      " |      >>> len(align)\n",
      " |      3\n",
      " |  \n",
      " |  sort(self, key=None, reverse=False)\n",
      " |      Sort the rows (SeqRecord objects) of the alignment in place.\n",
      " |      \n",
      " |      This sorts the rows alphabetically using the SeqRecord object id by\n",
      " |      default. The sorting can be controlled by supplying a key function\n",
      " |      which must map each SeqRecord to a sort value.\n",
      " |      \n",
      " |      This is useful if you want to add two alignments which use the same\n",
      " |      record identifiers, but in a different order. For example,\n",
      " |      \n",
      " |      >>> from Bio.Alphabet import generic_dna\n",
      " |      >>> from Bio.Seq import Seq\n",
      " |      >>> from Bio.SeqRecord import SeqRecord\n",
      " |      >>> from Bio.Align import MultipleSeqAlignment\n",
      " |      >>> align1 = MultipleSeqAlignment([\n",
      " |      ...              SeqRecord(Seq(\"ACGT\", generic_dna), id=\"Human\"),\n",
      " |      ...              SeqRecord(Seq(\"ACGG\", generic_dna), id=\"Mouse\"),\n",
      " |      ...              SeqRecord(Seq(\"ACGC\", generic_dna), id=\"Chicken\"),\n",
      " |      ...          ])\n",
      " |      >>> align2 = MultipleSeqAlignment([\n",
      " |      ...              SeqRecord(Seq(\"CGGT\", generic_dna), id=\"Mouse\"),\n",
      " |      ...              SeqRecord(Seq(\"CGTT\", generic_dna), id=\"Human\"),\n",
      " |      ...              SeqRecord(Seq(\"CGCT\", generic_dna), id=\"Chicken\"),\n",
      " |      ...          ])\n",
      " |      \n",
      " |      If you simple try and add these without sorting, you get this:\n",
      " |      \n",
      " |      >>> print(align1 + align2)\n",
      " |      DNAAlphabet() alignment with 3 rows and 8 columns\n",
      " |      ACGTCGGT <unknown id>\n",
      " |      ACGGCGTT <unknown id>\n",
      " |      ACGCCGCT Chicken\n",
      " |      \n",
      " |      Consult the SeqRecord documentation which explains why you get a\n",
      " |      default value when annotation like the identifier doesn't match up.\n",
      " |      However, if we sort the alignments first, then add them we get the\n",
      " |      desired result:\n",
      " |      \n",
      " |      >>> align1.sort()\n",
      " |      >>> align2.sort()\n",
      " |      >>> print(align1 + align2)\n",
      " |      DNAAlphabet() alignment with 3 rows and 8 columns\n",
      " |      ACGCCGCT Chicken\n",
      " |      ACGTCGTT Human\n",
      " |      ACGGCGGT Mouse\n",
      " |      \n",
      " |      As an example using a different sort order, you could sort on the\n",
      " |      GC content of each sequence.\n",
      " |      \n",
      " |      >>> from Bio.SeqUtils import GC\n",
      " |      >>> print(align1)\n",
      " |      DNAAlphabet() alignment with 3 rows and 4 columns\n",
      " |      ACGC Chicken\n",
      " |      ACGT Human\n",
      " |      ACGG Mouse\n",
      " |      >>> align1.sort(key = lambda record: GC(record.seq))\n",
      " |      >>> print(align1)\n",
      " |      DNAAlphabet() alignment with 3 rows and 4 columns\n",
      " |      ACGT Human\n",
      " |      ACGC Chicken\n",
      " |      ACGG Mouse\n",
      " |      \n",
      " |      There is also a reverse argument, so if you wanted to sort by ID\n",
      " |      but backwards:\n",
      " |      \n",
      " |      >>> align1.sort(reverse=True)\n",
      " |      >>> print(align1)\n",
      " |      DNAAlphabet() alignment with 3 rows and 4 columns\n",
      " |      ACGG Mouse\n",
      " |      ACGT Human\n",
      " |      ACGC Chicken\n",
      " |  \n",
      " |  ----------------------------------------------------------------------\n",
      " |  Data descriptors defined here:\n",
      " |  \n",
      " |  __dict__\n",
      " |      dictionary for instance variables (if defined)\n",
      " |  \n",
      " |  __weakref__\n",
      " |      list of weak references to the object (if defined)\n",
      " |  \n",
      " |  column_annotations\n",
      " |      Dictionary of per-letter-annotation for the sequence.\n",
      "\n"
     ]
    }
   ],
   "source": [
    "help(egfr_alignment)"
   ]
  },
  {
   "cell_type": "code",
   "execution_count": 10,
   "metadata": {},
   "outputs": [
    {
     "data": {
      "text/plain": [
       "4"
      ]
     },
     "execution_count": 10,
     "metadata": {},
     "output_type": "execute_result"
    }
   ],
   "source": [
    "## MultipleSeqAlignment objects are iterable objects with one element per sequence\n",
    "len(egfr_alignment)"
   ]
  },
  {
   "cell_type": "code",
   "execution_count": 11,
   "metadata": {},
   "outputs": [
    {
     "name": "stdout",
     "output_type": "stream",
     "text": [
      "MRPSGTAGAALLALLAALCPASRALEEKKVCQGTSNKLTQLGTFEDHFLSLQRMFNNCEVVLGNLEITYVQRNYDLSFLKTIQEVAGYVLIALNTVERIPLENLQIIRGNMYYENSYALAVLSNYDANKTGLKELPMRNLQEILHGAVRFSNNPALCNVESIQWRDIVSSDFLSNMSMDFQNHLGSCQKCDPSCPNGSCWGAGEENCQKLTKIICAQQCSGRCRGKSPSDCCHNQCAAGCTGPRESDCLVCRKFRDEATCKDTCPPLMLYNPTTYQMDVNPEGKYSFGATCVKKCPRNYVVTDHGSCVRACGADSYEMEEDGVRKCKKCEGPCRKVCNGIGIGEFKDSLSINATNIKHFKNCTSISGDLHILPVAFRGDSFTHTPPLDPQELDILKTVKEITGFLLIQAWPENRTDLHAFENLEIIRGRTKQHGQFSLAVVSLNITSLGLRSLKEISDGDVIISGNKNLCYANTINWKKLFGTSGQKTKIISNRGENSCKATGQVCHALCSPEGCWGPEPRDCVSCRNVSRGRECVDKCNLLEGEPREFVENSECIQCHPECLPQAMNITCTGRGPDNCIQCAHYIDGPHCVKTCPAGVMGENNTLVWKYADAGHVCHLCHPNCTYG---PGNE------------------SLKAMLFC-----LFK-----------------------LSSCNQSND-----------------------GSVSH--------------------QSGSPAA-----QES-----------------CLG----WIPSLLP----------------SEFQLGWG-----GCSHLHAWP------SASVIITASSCH------------------------------------------------------------------------------------------------------------------------------------------------------------------------------------------------------------------------------------------------------------------------------------------------------------------------------------------------------------------------\n",
      "MRPSGTAGAALLALLAALCPASRALEEKKVCQGTSNKLTQLGTFEDHFLSLQRMFNNCEVVLGNLEITYVQRNYDLSFLKTIQEVAGYVLIALNTVERIPLENLQIIRGNMYYENSYALAVLSNYDANKTGLKELPMRNLQEILHGAVRFSNNPALCNVESIQWRDIVSSDFLSNMSMDFQNHLGSCQKCDPSCPNGSCWGAGEENCQKLTKIICAQQCSGRCRGKSPSDCCHNQCAAGCTGPRESDCLVCRKFRDEATCKDTCPPLMLYNPTTYQMDVNPEGKYSFGATCVKKCPRNYVVTDHGSCVRACGADSYEMEEDGVRKCKKCEGPCRKVCNGIGIGEFKDSLSINATNIKHFKNCTSISGDLHILPVAFRGDSFTHTPPLDPQELDILKTVKEITGFLLIQAWPENRTDLHAFENLEIIRGRTKQHGQFSLAVVSLNITSLGLRSLKEISDGDVIISGNKNLCYANTINWKKLFGTSGQKTKIISNRGENSCKATGQVCHALCSPEGCWGPEPRDCVSCRNVSRGRECVDKCNLLEGEPREFVENSECIQCHPECLPQAMNITCTGRGPDNCIQCAHYIDGPHCVKTCPAGVMGENNTLVWKYADAGHVCHLCHPNCTYG---S---------------------------------------------------------------------------------------------------------------------------------------------------------------------------------------------------------------------------------------------------------------------------------------------------------------------------------------------------------------------------------------------------------------------------------------------------------------------------------------------------------------------------------------------------------------------------------------------------\n",
      "MRPSGTAGAALLALLAALCPASRALEEKKVCQGTSNKLTQLGTFEDHFLSLQRMFNNCEVVLGNLEITYVQRNYDLSFLKTIQEVAGYVLIALNTVERIPLENLQIIRGNMYYENSYALAVLSNYDANKTGLKELPMRNLQEILHGAVRFSNNPALCNVESIQWRDIVSSDFLSNMSMDFQNHLGSCQKCDPSCPNGSCWGAGEENCQKLTKIICAQQCSGRCRGKSPSDCCHNQCAAGCTGPRESDCLVCRKFRDEATCKDTCPPLMLYNPTTYQMDVNPEGKYSFGATCVKKCPRNYVVTDHGSCVRACGADSYEMEEDGVRKCKKCEGPCRKVCNGIGIGEFKDSLSINATNIKHFKNCTSISGDLHILPVAFRGDSFTHTPPLDPQELDILKTVKEITGFLLIQAWPENRTDLHAFENLEIIRGRTKQHGQFSLAVVSLNITSLGLRSLKEISDGDVIISGNKNLCYANTINWKKLFGTSGQKTKIISNRGENSCKATGQVCHALCSPEGCWGPEPRDCVSCRNVSRGRECVDKCNLLEGEPREFVENSECIQCHPECLPQAMNITCTGRGPDNCIQCAHYIDGPHCVKTCPAGVMGENNTLVWKYADAGHVCHLCHPNCTYGCTGPGLEGCPTNGPKIPSIATGMVGALLLLLVVALGIGLFMRRRHIVRKRTLRRLLQERELVEPLTPSGEAPNQALLRILKETEFKKIKVLGSGAFGTVYKGLWIPEGEKVKIPVAIKELREATSPKANKEILDEAYVMASVDNPHVCRLLGICLTSTVQLITQLMPFGCLLDYVREHKDNIGSQYLLNWCVQIAKGMNYLEDRRLVHRDLAARNVLVKTPQHVKITDFGLAKLLGAEEKEYHAEGGKVPIKWMALESILHRIYTHQSDVWSYGVTVWELMTFGSKPYDGIPASEISSILEKGERLPQPPICTIDVYMIMVKCWMIDADSRPKFRELIIEFSKMARDPQRYLVIQGDERMHLPSPTDSNFYRALMDEEDMDDVVDADEYLIPQQGFFSSPSTSRTPLLSSLSATSNNSTVACIDRNGLQSCPIKEDSFLQRYSSDPTGALTEDSIDDTFLPVPEYINQSVPKRPAGSVQNPVYHNQPLNPAPSRDPHYQDPHSTAVGNPEYLNTVQPTCVNSTFDSPAHWAQKGSHQISLDNPDYQQDFFPKEAKPNGIFKGSTAENAEYLRVAPQSSEFIGA\n",
      "MRPSGTAGAALLALLAALCPASRALEEKKVCQGTSNKLTQLGTFEDHFLSLQRMFNNCEVVLGNLEITYVQRNYDLSFLKTIQEVAGYVLIALNTVERIPLENLQIIRGNMYYENSYALAVLSNYDANKTGLKELPMRNLQEILHGAVRFSNNPALCNVESIQWRDIVSSDFLSNMSMDFQNHLGSCQKCDPSCPNGSCWGAGEENCQKLTKIICAQQCSGRCRGKSPSDCCHNQCAAGCTGPRESDCLVCRKFRDEATCKDTCPPLMLYNPTTYQMDVNPEGKYSFGATCVKKCPRNYVVTDHGSCVRACGADSYEMEEDGVRKCKKCEGPCRKVCNGIGIGEFKDSLSINATNIKHFKNCTSISGDLHILPVAFRGDSFTHTPPLDPQELDILKTVKEITGLS-------------------------------------------------------------------------------------------------------------------------------------------------------------------------------------------------------------------------------------------------------------------------------------------------------------------------------------------------------------------------------------------------------------------------------------------------------------------------------------------------------------------------------------------------------------------------------------------------------------------------------------------------------------------------------------------------------------------------------------------------------------------------------------------------------------------------------------\n"
     ]
    }
   ],
   "source": [
    "## iterate through an alignment object\n",
    "for seq in egfr_alignment:\n",
    "    print(seq.seq)"
   ]
  },
  {
   "cell_type": "code",
   "execution_count": 12,
   "metadata": {},
   "outputs": [
    {
     "data": {
      "text/plain": [
       "SeqRecord(seq=Seq('MRPSGTAGAALLALLAALCPASRALEEKKVCQGTSNKLTQLGTFEDHFLSLQRM...---', SingleLetterAlphabet()), id='sp|P00533-3|EGFR_HUMAN', name='<unknown name>', description='sp|P00533-3|EGFR_HUMAN', dbxrefs=[])"
      ]
     },
     "execution_count": 12,
     "metadata": {},
     "output_type": "execute_result"
    }
   ],
   "source": [
    "## Use indices to retrieve sequences\n",
    "egfr_alignment[0]"
   ]
  },
  {
   "cell_type": "code",
   "execution_count": 13,
   "metadata": {},
   "outputs": [
    {
     "data": {
      "text/plain": [
       "'G-T-'"
      ]
     },
     "execution_count": 13,
     "metadata": {},
     "output_type": "execute_result"
    }
   ],
   "source": [
    "## Use slice notation to retrieve columns of the alignment\n",
    "## For instance, to see agreement at a specific location\n",
    "egfr_alignment[:,750]"
   ]
  },
  {
   "cell_type": "code",
   "execution_count": 14,
   "metadata": {},
   "outputs": [
    {
     "name": "stdout",
     "output_type": "stream",
     "text": [
      "SingleLetterAlphabet() alignment with 4 rows and 25 columns\n",
      "GSPAA-----QES------------ sp|P00533-3|EGFR_HUMAN\n",
      "------------------------- sp|P00533-4|EGFR_HUMAN\n",
      "TSPKANKEILDEAYVMASVDNPHVC sp|P00533|EGFR_HUMAN\n",
      "------------------------- sp|P00533-2|EGFR_HUMAN\n"
     ]
    }
   ],
   "source": [
    "print(egfr_alignment[:,750:775])"
   ]
  },
  {
   "cell_type": "markdown",
   "metadata": {},
   "source": [
    "#### Reading and Writing Alignments\n",
    "\n",
    "Similar to SeqIO, we can read very large alignment files using a generator returned from the `AlignIO.parse()` method. Alignments can also be written to file in a variety of formats."
   ]
  },
  {
   "cell_type": "code",
   "execution_count": 15,
   "metadata": {},
   "outputs": [
    {
     "name": "stdout",
     "output_type": "stream",
     "text": [
      "SingleLetterAlphabet() alignment with 4 rows and 1210 columns\n",
      "MRPSGTAGAALLALLAALCPASRALEEKKVCQGTSNKLTQLGTF...--- sp|P00533-3|EGFR_HUMAN\n",
      "MRPSGTAGAALLALLAALCPASRALEEKKVCQGTSNKLTQLGTF...--- sp|P00533-4|EGFR_HUMAN\n",
      "MRPSGTAGAALLALLAALCPASRALEEKKVCQGTSNKLTQLGTF...IGA sp|P00533|EGFR_HUMAN\n",
      "MRPSGTAGAALLALLAALCPASRALEEKKVCQGTSNKLTQLGTF...--- sp|P00533-2|EGFR_HUMAN\n"
     ]
    }
   ],
   "source": [
    "## Use a generator to read an alignment file\n",
    "alignments = AlignIO.parse(\"./data/egfr.aln\", \"clustal\")\n",
    "\n",
    "for alignment in alignments:\n",
    "    print(alignment)"
   ]
  },
  {
   "cell_type": "code",
   "execution_count": 16,
   "metadata": {},
   "outputs": [
    {
     "data": {
      "text/plain": [
       "1"
      ]
     },
     "execution_count": 16,
     "metadata": {},
     "output_type": "execute_result"
    }
   ],
   "source": [
    "## Write an alignment to a file\n",
    "AlignIO.write(egfr_alignment, \"example.stk\", \"stockholm\")"
   ]
  },
  {
   "cell_type": "markdown",
   "metadata": {},
   "source": [
    "### `AlignInfo` module\n",
    "\n",
    "The `AlignInfo` module allows the generation of a consensus sequence resulting from an alignment. The consensus sequence contains the most common letter at each sequence position.\n",
    "\n",
    "`AlignInfo` contains two methods for generating a consensus sequence:\n",
    "\n",
    "`dumb_consensus()` counts the number of matches at a particular position. If a letter count exceeds a threshold it is included in the consensus, otherwise an ambiguous character is included.\n",
    "\n",
    "`gap_consensus()` is the same as `dumb_consensus()` except that it allows gaps."
   ]
  },
  {
   "cell_type": "code",
   "execution_count": 17,
   "metadata": {},
   "outputs": [],
   "source": [
    "from Bio.Align import AlignInfo"
   ]
  },
  {
   "cell_type": "code",
   "execution_count": 18,
   "metadata": {},
   "outputs": [],
   "source": [
    "summary = AlignInfo.SummaryInfo(egfr_alignment)"
   ]
  },
  {
   "cell_type": "code",
   "execution_count": 19,
   "metadata": {},
   "outputs": [
    {
     "name": "stdout",
     "output_type": "stream",
     "text": [
      "Help on method dumb_consensus in module Bio.Align.AlignInfo:\n",
      "\n",
      "dumb_consensus(self, threshold=0.7, ambiguous='X', consensus_alpha=None, require_multiple=0) method of Bio.Align.AlignInfo.SummaryInfo instance\n",
      "    Output a fast consensus sequence of the alignment.\n",
      "    \n",
      "    This doesn't do anything fancy at all. It will just go through the\n",
      "    sequence residue by residue and count up the number of each type\n",
      "    of residue (ie. A or G or T or C for DNA) in all sequences in the\n",
      "    alignment. If the percentage of the most common residue type is\n",
      "    greater then the passed threshold, then we will add that residue type,\n",
      "    otherwise an ambiguous character will be added.\n",
      "    \n",
      "    This could be made a lot fancier (ie. to take a substitution matrix\n",
      "    into account), but it just meant for a quick and dirty consensus.\n",
      "    \n",
      "    Arguments:\n",
      "     - threshold - The threshold value that is required to add a particular\n",
      "       atom.\n",
      "     - ambiguous - The ambiguous character to be added when the threshold is\n",
      "       not reached.\n",
      "     - consensus_alpha - The alphabet to return for the consensus sequence.\n",
      "       If this is None, then we will try to guess the alphabet.\n",
      "     - require_multiple - If set as 1, this will require that more than\n",
      "       1 sequence be part of an alignment to put it in the consensus (ie.\n",
      "       not just 1 sequence and gaps).\n",
      "\n"
     ]
    }
   ],
   "source": [
    "help(summary.dumb_consensus)"
   ]
  },
  {
   "cell_type": "code",
   "execution_count": 20,
   "metadata": {},
   "outputs": [
    {
     "data": {
      "text/plain": [
       "Seq('MRPSGTAGAALLALLAALCPASRALEEKKVCQGTSNKLTQLGTFEDHFLSLQRM...IGA', SingleLetterAlphabet())"
      ]
     },
     "execution_count": 20,
     "metadata": {},
     "output_type": "execute_result"
    }
   ],
   "source": [
    "summary.dumb_consensus(threshold=0.6, ambiguous='X')"
   ]
  },
  {
   "cell_type": "code",
   "execution_count": 21,
   "metadata": {},
   "outputs": [
    {
     "data": {
      "text/plain": [
       "'MRPSGTAGAALLALLAALCPASRALEEKKVCQGTSNKLTQLGTFEDHFLSLQRMFNNCEVVLGNLEITYVQRNYDLSFLKTIQEVAGYVLIALNTVERIPLENLQIIRGNMYYENSYALAVLSNYDANKTGLKELPMRNLQEILHGAVRFSNNPALCNVESIQWRDIVSSDFLSNMSMDFQNHLGSCQKCDPSCPNGSCWGAGEENCQKLTKIICAQQCSGRCRGKSPSDCCHNQCAAGCTGPRESDCLVCRKFRDEATCKDTCPPLMLYNPTTYQMDVNPEGKYSFGATCVKKCPRNYVVTDHGSCVRACGADSYEMEEDGVRKCKKCEGPCRKVCNGIGIGEFKDSLSINATNIKHFKNCTSISGDLHILPVAFRGDSFTHTPPLDPQELDILKTVKEITGFLLIQAWPENRTDLHAFENLEIIRGRTKQHGQFSLAVVSLNITSLGLRSLKEISDGDVIISGNKNLCYANTINWKKLFGTSGQKTKIISNRGENSCKATGQVCHALCSPEGCWGPEPRDCVSCRNVSRGRECVDKCNLLEGEPREFVENSECIQCHPECLPQAMNITCTGRGPDNCIQCAHYIDGPHCVKTCPAGVMGENNTLVWKYADAGHVCHLCHPNCTYGCTGPGXEGCPTNGPKIPSIATGMVGXLXXXLXXALGIGLFXRRRHIVRKRTLRRLLQERELVEPLXXXXXXXXQALLRILKETEFKKIKVLGSGAFGXVXXGLWIPEGEKVKIPVAIKELRXXXSPXANKEILXEXYVMASVDNPHVCRLLGICLXSTVQXIXXLXPFGCLLDYVREHKDNIGSXXXLXWXVQIAKGXXXLXXXXLVHRDLXAXXXXXXXXXHVKITDFGLAKLLGAEEKEYHAEGGKVPIKWMALESILHRIYTHQSDVWSYGVTVWELMTFGSKPYDGIPASEISSILEKGERLPQPPICTIDVYMIMVKCWMIDADSRPKFRELIIEFSKMARDPQRYLVIQGDERMHLPSPTDSNFYRALMDEEDMDDVVDADEYLIPQQGFFSSPSTSRTPLLSSLSATSNNSTVACIDRNGLQSCPIKEDSFLQRYSSDPTGALTEDSIDDTFLPVPEYINQSVPKRPAGSVQNPVYHNQPLNPAPSRDPHYQDPHSTAVGNPEYLNTVQPTCVNSTFDSPAHWAQKGSHQISLDNPDYQQDFFPKEAKPNGIFKGSTAENAEYLRVAPQSSEFIGA'"
      ]
     },
     "execution_count": 21,
     "metadata": {},
     "output_type": "execute_result"
    }
   ],
   "source": [
    "## View the dumb_consensus sequence\n",
    "str(summary.dumb_consensus(threshold=0.6, ambiguous='X'))"
   ]
  },
  {
   "cell_type": "code",
   "execution_count": 22,
   "metadata": {},
   "outputs": [
    {
     "data": {
      "text/plain": [
       "'MRPSGTAGAALLALLAALCPASRALEEKKVCQGTSNKLTQLGTFEDHFLSLQRMFNNCEVVLGNLEITYVQRNYDLSFLKTIQEVAGYVLIALNTVERIPLENLQIIRGNMYYENSYALAVLSNYDANKTGLKELPMRNLQEILHGAVRFSNNPALCNVESIQWRDIVSSDFLSNMSMDFQNHLGSCQKCDPSCPNGSCWGAGEENCQKLTKIICAQQCSGRCRGKSPSDCCHNQCAAGCTGPRESDCLVCRKFRDEATCKDTCPPLMLYNPTTYQMDVNPEGKYSFGATCVKKCPRNYVVTDHGSCVRACGADSYEMEEDGVRKCKKCEGPCRKVCNGIGIGEFKDSLSINATNIKHFKNCTSISGDLHILPVAFRGDSFTHTPPLDPQELDILKTVKEITGFLLIQAWPENRTDLHAFENLEIIRGRTKQHGQFSLAVVSLNITSLGLRSLKEISDGDVIISGNKNLCYANTINWKKLFGTSGQKTKIISNRGENSCKATGQVCHALCSPEGCWGPEPRDCVSCRNVSRGRECVDKCNLLEGEPREFVENSECIQCHPECLPQAMNITCTGRGPDNCIQCAHYIDGPHCVKTCPAGVMGENNTLVWKYADAGHVCHLCHPNCTYG---XXXX------------------XXXXXXXX-----XXX-----------------------XXXXXXXXX-----------------------XXXXX--------------------XXXXXXX-----XXX-----------------XXX----XXXXXXX----------------XXXXXXXX-----XXXXXXXXX------XXXXXXXXXXXX------------------------------------------------------------------------------------------------------------------------------------------------------------------------------------------------------------------------------------------------------------------------------------------------------------------------------------------------------------------------'"
      ]
     },
     "execution_count": 22,
     "metadata": {},
     "output_type": "execute_result"
    }
   ],
   "source": [
    "## View the gap_consensus sequence\n",
    "str(summary.gap_consensus(threshold=0.6, ambiguous='X'))"
   ]
  },
  {
   "cell_type": "markdown",
   "metadata": {},
   "source": [
    "## BLAST: Basic Local Alignment Search Tool\n",
    "\n",
    "- Developed in 1990 by researchers at NCBI, Penn State, and University of Arizona (biologists and computer scientists)\n",
    "- Emphasizes speed over accuracy, which is necessary when searching databases containing hundreds of millions of sequences\n",
    "- [http://blast.ncbi.nlm.nih.gov/Blast.cgi](http://blast.ncbi.nlm.nih.gov/Blast.cgi)"
   ]
  },
  {
   "cell_type": "markdown",
   "metadata": {},
   "source": [
    "#### The BLAST Algorithm\n",
    "\n",
    "1. Break query sequence into \"words\" (substrings)\n",
    "2. Search a list of indexed words for similarity\n",
    "3. Use thresholding to eliminate poor matches\n",
    "4. Search database for sequences associated with high-scoring \"words\"\n",
    "5. Extend matching alignments and score the sequence's similarity to quantify high-scoring sequence pairs (HSPs)\n",
    "6. Combine HSPs if mapping to the same database sequence\n",
    "7. Display scores and Smith-Waterman alignment for high-scoring matches\n",
    "\n",
    "The results of the algorithm is an E-value for each matching sequence. The E-value represents the probability of getting the alignment by chance (a p-value corrected for multiple testing).\n",
    "\n",
    "Details about the sequence similarity scores can be found here: [http://www.ncbi.nlm.nih.gov/BLAST/tutorial/Altschul-1.html](http://www.ncbi.nlm.nih.gov/BLAST/tutorial/Altschul-1.html)"
   ]
  },
  {
   "cell_type": "markdown",
   "metadata": {},
   "source": [
    "### BLAST Queries Using BioPython\n",
    "\n",
    "BioPython supports running BLAST queries either locally or over the internet. To run BLAST locally you will need to install the algorithm and sequence databases on your machine. The advantages of running queries locally are improved performance (faster) and customizable databases. Use the following module for local BLAST:\n",
    "\n",
    "    from Bio.Blast.Applications import NcbiblastpCommandline\n",
    "    \n",
    "We will focus on running BLAST queries over the internet, which requires less initial setup and provides access to NCBI's sequence databases. The `qblast()` method in the `Bio.Blast.NCBIWWW` module can be used to submit BLAST queries. The method takes three parameters:\n",
    "\n",
    "1. The blast program (indicates the type of query)\n",
    "    - blastp: amino acid sequence queried against protein database\n",
    "    - blastn: nucleotide sequence queried against nucleotide database\n",
    "    - blastx: translated nucleotide sequence queried against protein database\n",
    "2. The database to search\n",
    "    - [http://www.ncbi.nlm.nih.gov/BLAST/blast_databases.shtml](http://www.ncbi.nlm.nih.gov/BLAST/blast_databases.shtml)\n",
    "3. The query sequence (a string)\n",
    "\n",
    "The `qblast()` method returns XML formatted results."
   ]
  },
  {
   "cell_type": "code",
   "execution_count": 23,
   "metadata": {},
   "outputs": [],
   "source": [
    "from Bio.Blast import NCBIWWW"
   ]
  },
  {
   "cell_type": "code",
   "execution_count": 24,
   "metadata": {},
   "outputs": [
    {
     "data": {
      "text/plain": [
       "'MRPSGTAGAALLALLAALCPASRALEEKKVCQGTSNKLTQLGTFEDHFLSLQRMFNNCEVVLGNLEITYVQRNYDLSFLKTIQEVAGYVLIALNTVERIPLENLQIIRGNMYYENSYALAVLSNYDANKTGLKELPMRNLQEILHGAVRFSNNPALCNVESIQWRDIVSSDFLSNMSMDFQNHLGSCQKCDPSCPNGSCWGAGEENCQKLTKIICAQQCSGRCRGKSPSDCCHNQCAAGCTGPRESDCLVCRKFRDEATCKDTCPPLMLYNPTTYQMDVNPEGKYSFGATCVKKCPRNYVVTDHGSCVRACGADSYEMEEDGVRKCKKCEGPCRKVCNGIGIGEFKDSLSINATNIKHFKNCTSISGDLHILPVAFRGDSFTHTPPLDPQELDILKTVKEITGFLLIQAWPENRTDLHAFENLEIIRGRTKQHGQFSLAVVSLNITSLGLRSLKEISDGDVIISGNKNLCYANTINWKKLFGTSGQKTKIISNRGENSCKATGQVCHALCSPEGCWGPEPRDCVSCRNVSRGRECVDKCNLLEGEPREFVENSECIQCHPECLPQAMNITCTGRGPDNCIQCAHYIDGPHCVKTCPAGVMGENNTLVWKYADAGHVCHLCHPNCTYGCTGPGXEGCPTNGPKIPSIATGMVGXLXXXLXXALGIGLFXRRRHIVRKRTLRRLLQERELVEPLXXXXXXXXQALLRILKETEFKKIKVLGSGAFGXVXXGLWIPEGEKVKIPVAIKELRXXXSPXANKEILXEXYVMASVDNPHVCRLLGICLXSTVQXIXXLXPFGCLLDYVREHKDNIGSXXXLXWXVQIAKGXXXLXXXXLVHRDLXAXXXXXXXXXHVKITDFGLAKLLGAEEKEYHAEGGKVPIKWMALESILHRIYTHQSDVWSYGVTVWELMTFGSKPYDGIPASEISSILEKGERLPQPPICTIDVYMIMVKCWMIDADSRPKFRELIIEFSKMARDPQRYLVIQGDERMHLPSPTDSNFYRALMDEEDMDDVVDADEYLIPQQGFFSSPSTSRTPLLSSLSATSNNSTVACIDRNGLQSCPIKEDSFLQRYSSDPTGALTEDSIDDTFLPVPEYINQSVPKRPAGSVQNPVYHNQPLNPAPSRDPHYQDPHSTAVGNPEYLNTVQPTCVNSTFDSPAHWAQKGSHQISLDNPDYQQDFFPKEAKPNGIFKGSTAENAEYLRVAPQSSEFIGA'"
      ]
     },
     "execution_count": 24,
     "metadata": {},
     "output_type": "execute_result"
    }
   ],
   "source": [
    "## Get a query sequence\n",
    "seq = str(summary.dumb_consensus(threshold=0.6, ambiguous='X'))\n",
    "seq"
   ]
  },
  {
   "cell_type": "code",
   "execution_count": 25,
   "metadata": {},
   "outputs": [],
   "source": [
    "## WARNING -- this may take a while to run\n",
    "## Run a BLAST query\n",
    "result_handle = NCBIWWW.qblast('blastp', 'nr', seq)\n",
    "\n",
    "## Write XML results to file\n",
    "fh = open(\"blast_results.xml\", 'w')\n",
    "fh.write(result_handle.read())\n",
    "fh.close()"
   ]
  },
  {
   "cell_type": "markdown",
   "metadata": {},
   "source": [
    "#### Reading BLAST XML Results"
   ]
  },
  {
   "cell_type": "code",
   "execution_count": 26,
   "metadata": {},
   "outputs": [],
   "source": [
    "## Import module for parsing BLAST XML results\n",
    "from Bio.Blast import NCBIXML\n",
    "\n",
    "## Read BLAST results\n",
    "fh = open('blast_results.xml')\n",
    "blast_record = NCBIXML.read(fh)\n",
    "fh.close()"
   ]
  },
  {
   "cell_type": "code",
   "execution_count": 27,
   "metadata": {},
   "outputs": [
    {
     "data": {
      "text/plain": [
       "50"
      ]
     },
     "execution_count": 27,
     "metadata": {},
     "output_type": "execute_result"
    }
   ],
   "source": [
    "## Get descriptions of matches\n",
    "len(blast_record.descriptions)"
   ]
  },
  {
   "cell_type": "code",
   "execution_count": 28,
   "metadata": {},
   "outputs": [
    {
     "name": "stdout",
     "output_type": "stream",
     "text": [
      "gi|61354647|gb|AAX41033.1| epidermal growth factor receptor, partial [synthetic construct]\n",
      "6046.0\n",
      "0.0 \n",
      "\n",
      "gi|29725609|ref|NP_005219.2| epidermal growth factor receptor isoform a precursor [Homo sapiens] >gi|2811086|sp|P00533.2|EGFR_HUMAN RecName: Full=Epidermal growth factor receptor; AltName: Full=Proto-oncogene c-ErbB-1; AltName: Full=Receptor tyrosine-protein kinase erbB-1; Flags: Precursor >gi|11494380|gb|AAG35789.1|AF288738_4 p170 epidermal growth factor receptor [Homo sapiens] >gi|46241840|gb|AAS83109.1| epidermal growth factor receptor (erythroblastic leukemia viral (v-erb-b) oncogene homolog, avian) [Homo sapiens] >gi|61354737|gb|AAX41052.1| epidermal growth factor receptor [synthetic construct] >gi|61354745|gb|AAX41053.1| epidermal growth factor receptor [synthetic construct] >gi|119571347|gb|EAW50962.1| epidermal growth factor receptor (erythroblastic leukemia viral (v-erb-b) oncogene homolog, avian), isoform CRA_a [Homo sapiens]\n",
      "6044.0\n",
      "0.0 \n",
      "\n",
      "gi|261860248|dbj|BAI46646.1| epidermal growth factor receptor, partial [synthetic construct]\n",
      "6040.0\n",
      "0.0 \n",
      "\n"
     ]
    }
   ],
   "source": [
    "for description in blast_record.descriptions[0:3]:\n",
    "    print(description.title)\n",
    "    print(description.score)\n",
    "    print(description.e, '\\n')"
   ]
  },
  {
   "cell_type": "code",
   "execution_count": 29,
   "metadata": {},
   "outputs": [
    {
     "data": {
      "text/plain": [
       "50"
      ]
     },
     "execution_count": 29,
     "metadata": {},
     "output_type": "execute_result"
    }
   ],
   "source": [
    "## Get alignment info about matches\n",
    "len(blast_record.alignments)"
   ]
  },
  {
   "cell_type": "code",
   "execution_count": 30,
   "metadata": {},
   "outputs": [
    {
     "name": "stdout",
     "output_type": "stream",
     "text": [
      "gi|61354647|gb|AAX41033.1| epidermal growth factor receptor, partial [synthetic construct]\n",
      "6046.0\n",
      "Query:  MRPSGTAGAALLALLAALCPASRALEEKKVCQGTSNKLTQLGTFEDHFLSLQRMFNNCEVVLGNLEITYVQRNYDLSFLKTIQEVAGYVLIALNTVERIPLENLQIIRGNMYYENSYALAVLSNYDANKTGLKELPMRNLQEILHGAVRFSNNPALCNVESIQWRDIVSSDFLSNMSMDFQNHLGSCQKCDPSCPNGSCWGAGEENCQKLTKIICAQQCSGRCRGKSPSDCCHNQCAAGCTGPRESDCLVCRKFRDEATCKDTCPPLMLYNPTTYQMDVNPEGKYSFGATCVKKCPRNYVVTDHGSCVRACGADSYEMEEDGVRKCKKCEGPCRKVCNGIGIGEFKDSLSINATNIKHFKNCTSISGDLHILPVAFRGDSFTHTPPLDPQELDILKTVKEITGFLLIQAWPENRTDLHAFENLEIIRGRTKQHGQFSLAVVSLNITSLGLRSLKEISDGDVIISGNKNLCYANTINWKKLFGTSGQKTKIISNRGENSCKATGQVCHALCSPEGCWGPEPRDCVSCRNVSRGRECVDKCNLLEGEPREFVENSECIQCHPECLPQAMNITCTGRGPDNCIQCAHYIDGPHCVKTCPAGVMGENNTLVWKYADAGHVCHLCHPNCTYGCTGPGXEGCPTNGPKIPSIATGMVGXLXXXLXXALGIGLFXRRRHIVRKRTLRRLLQERELVEPLXXXXXXXXQALLRILKETEFKKIKVLGSGAFGXVXXGLWIPEGEKVKIPVAIKELRXXXSPXANKEILXEXYVMASVDNPHVCRLLGICLXSTVQXIXXLXPFGCLLDYVREHKDNIGSXXXLXWXVQIAKGXXXLXXXXLVHRDLXAXXXXXXXXXHVKITDFGLAKLLGAEEKEYHAEGGKVPIKWMALESILHRIYTHQSDVWSYGVTVWELMTFGSKPYDGIPASEISSILEKGERLPQPPICTIDVYMIMVKCWMIDADSRPKFRELIIEFSKMARDPQRYLVIQGDERMHLPSPTDSNFYRALMDEEDMDDVVDADEYLIPQQGFFSSPSTSRTPLLSSLSATSNNSTVACIDRNGLQSCPIKEDSFLQRYSSDPTGALTEDSIDDTFLPVPEYINQSVPKRPAGSVQNPVYHNQPLNPAPSRDPHYQDPHSTAVGNPEYLNTVQPTCVNSTFDSPAHWAQKGSHQISLDNPDYQQDFFPKEAKPNGIFKGSTAENAEYLRVAPQSSEFIGA \n",
      "\n",
      "Match:  MRPSGTAGAALLALLAALCPASRALEEKKVCQGTSNKLTQLGTFEDHFLSLQRMFNNCEVVLGNLEITYVQRNYDLSFLKTIQEVAGYVLIALNTVERIPLENLQIIRGNMYYENSYALAVLSNYDANKTGLKELPMRNLQEILHGAVRFSNNPALCNVESIQWRDIVSSDFLSNMSMDFQNHLGSCQKCDPSCPNGSCWGAGEENCQKLTKIICAQQCSGRCRGKSPSDCCHNQCAAGCTGPRESDCLVCRKFRDEATCKDTCPPLMLYNPTTYQMDVNPEGKYSFGATCVKKCPRNYVVTDHGSCVRACGADSYEMEEDGVRKCKKCEGPCRKVCNGIGIGEFKDSLSINATNIKHFKNCTSISGDLHILPVAFRGDSFTHTPPLDPQELDILKTVKEITGFLLIQAWPENRTDLHAFENLEIIRGRTKQHGQFSLAVVSLNITSLGLRSLKEISDGDVIISGNKNLCYANTINWKKLFGTSGQKTKIISNRGENSCKATGQVCHALCSPEGCWGPEPRDCVSCRNVSRGRECVDKCNLLEGEPREFVENSECIQCHPECLPQAMNITCTGRGPDNCIQCAHYIDGPHCVKTCPAGVMGENNTLVWKYADAGHVCHLCHPNCTYGCTGPG EGCPTNGPKIPSIATGMVG L   L  ALGIGLF RRRHIVRKRTLRRLLQERELVEPL        QALLRILKETEFKKIKVLGSGAFG V  GLWIPEGEKVKIPVAIKELR   SP ANKEIL E YVMASVDNPHVCRLLGICL STVQ I  L PFGCLLDYVREHKDNIGS   L W VQIAKG   L    LVHRDL A         HVKITDFGLAKLLGAEEKEYHAEGGKVPIKWMALESILHRIYTHQSDVWSYGVTVWELMTFGSKPYDGIPASEISSILEKGERLPQPPICTIDVYMIMVKCWMIDADSRPKFRELIIEFSKMARDPQRYLVIQGDERMHLPSPTDSNFYRALMDEEDMDDVVDADEYLIPQQGFFSSPSTSRTPLLSSLSATSNNSTVACIDRNGLQSCPIKEDSFLQRYSSDPTGALTEDSIDDTFLPVPEYINQSVPKRPAGSVQNPVYHNQPLNPAPSRDPHYQDPHSTAVGNPEYLNTVQPTCVNSTFDSPAHWAQKGSHQISLDNPDYQQDFFPKEAKPNGIFKGSTAENAEYLRVAPQSSEFIGA \n",
      "\n",
      "Subject:  MRPSGTAGAALLALLAALCPASRALEEKKVCQGTSNKLTQLGTFEDHFLSLQRMFNNCEVVLGNLEITYVQRNYDLSFLKTIQEVAGYVLIALNTVERIPLENLQIIRGNMYYENSYALAVLSNYDANKTGLKELPMRNLQEILHGAVRFSNNPALCNVESIQWRDIVSSDFLSNMSMDFQNHLGSCQKCDPSCPNGSCWGAGEENCQKLTKIICAQQCSGRCRGKSPSDCCHNQCAAGCTGPRESDCLVCRKFRDEATCKDTCPPLMLYNPTTYQMDVNPEGKYSFGATCVKKCPRNYVVTDHGSCVRACGADSYEMEEDGVRKCKKCEGPCRKVCNGIGIGEFKDSLSINATNIKHFKNCTSISGDLHILPVAFRGDSFTHTPPLDPQELDILKTVKEITGFLLIQAWPENRTDLHAFENLEIIRGRTKQHGQFSLAVVSLNITSLGLRSLKEISDGDVIISGNKNLCYANTINWKKLFGTSGQKTKIISNRGENSCKATGQVCHALCSPEGCWGPEPRDCVSCRNVSRGRECVDKCNLLEGEPREFVENSECIQCHPECLPQAMNITCTGRGPDNCIQCAHYIDGPHCVKTCPAGVMGENNTLVWKYADAGHVCHLCHPNCTYGCTGPGLEGCPTNGPKIPSIATGMVGALLLLLVVALGIGLFMRRRHIVRKRTLRRLLQERELVEPLTPSGEAPNQALLRILKETEFKKIKVLGSGAFGTVYKGLWIPEGEKVKIPVAIKELREATSPKANKEILDEAYVMASVDNPHVCRLLGICLTSTVQLITQLMPFGCLLDYVREHKDNIGSQYLLNWCVQIAKGMNYLEDRRLVHRDLAARNVLVKTPQHVKITDFGLAKLLGAEEKEYHAEGGKVPIKWMALESILHRIYTHQSDVWSYGVTVWELMTFGSKPYDGIPASEISSILEKGERLPQPPICTIDVYMIMVKCWMIDADSRPKFRELIIEFSKMARDPQRYLVIQGDERMHLPSPTDSNFYRALMDEEDMDDVVDADEYLIPQQGFFSSPSTSRTPLLSSLSATSNNSTVACIDRNGLQSCPIKEDSFLQRYSSDPTGALTEDSIDDTFLPVPEYINQSVPKRPAGSVQNPVYHNQPLNPAPSRDPHYQDPHSTAVGNPEYLNTVQPTCVNSTFDSPAHWAQKGSHQISLDNPDYQQDFFPKEAKPNGIFKGSTAENAEYLRVAPQSSEFIGA \n",
      "\n",
      "gi|29725609|ref|NP_005219.2| epidermal growth factor receptor isoform a precursor [Homo sapiens] >gi|2811086|sp|P00533.2|EGFR_HUMAN RecName: Full=Epidermal growth factor receptor; AltName: Full=Proto-oncogene c-ErbB-1; AltName: Full=Receptor tyrosine-protein kinase erbB-1; Flags: Precursor >gi|11494380|gb|AAG35789.1|AF288738_4 p170 epidermal growth factor receptor [Homo sapiens] >gi|46241840|gb|AAS83109.1| epidermal growth factor receptor (erythroblastic leukemia viral (v-erb-b) oncogene homolog, avian) [Homo sapiens] >gi|61354737|gb|AAX41052.1| epidermal growth factor receptor [synthetic construct] >gi|61354745|gb|AAX41053.1| epidermal growth factor receptor [synthetic construct] >gi|119571347|gb|EAW50962.1| epidermal growth factor receptor (erythroblastic leukemia viral (v-erb-b) oncogene homolog, avian), isoform CRA_a [Homo sapiens]\n",
      "6044.0\n",
      "Query:  MRPSGTAGAALLALLAALCPASRALEEKKVCQGTSNKLTQLGTFEDHFLSLQRMFNNCEVVLGNLEITYVQRNYDLSFLKTIQEVAGYVLIALNTVERIPLENLQIIRGNMYYENSYALAVLSNYDANKTGLKELPMRNLQEILHGAVRFSNNPALCNVESIQWRDIVSSDFLSNMSMDFQNHLGSCQKCDPSCPNGSCWGAGEENCQKLTKIICAQQCSGRCRGKSPSDCCHNQCAAGCTGPRESDCLVCRKFRDEATCKDTCPPLMLYNPTTYQMDVNPEGKYSFGATCVKKCPRNYVVTDHGSCVRACGADSYEMEEDGVRKCKKCEGPCRKVCNGIGIGEFKDSLSINATNIKHFKNCTSISGDLHILPVAFRGDSFTHTPPLDPQELDILKTVKEITGFLLIQAWPENRTDLHAFENLEIIRGRTKQHGQFSLAVVSLNITSLGLRSLKEISDGDVIISGNKNLCYANTINWKKLFGTSGQKTKIISNRGENSCKATGQVCHALCSPEGCWGPEPRDCVSCRNVSRGRECVDKCNLLEGEPREFVENSECIQCHPECLPQAMNITCTGRGPDNCIQCAHYIDGPHCVKTCPAGVMGENNTLVWKYADAGHVCHLCHPNCTYGCTGPGXEGCPTNGPKIPSIATGMVGXLXXXLXXALGIGLFXRRRHIVRKRTLRRLLQERELVEPLXXXXXXXXQALLRILKETEFKKIKVLGSGAFGXVXXGLWIPEGEKVKIPVAIKELRXXXSPXANKEILXEXYVMASVDNPHVCRLLGICLXSTVQXIXXLXPFGCLLDYVREHKDNIGSXXXLXWXVQIAKGXXXLXXXXLVHRDLXAXXXXXXXXXHVKITDFGLAKLLGAEEKEYHAEGGKVPIKWMALESILHRIYTHQSDVWSYGVTVWELMTFGSKPYDGIPASEISSILEKGERLPQPPICTIDVYMIMVKCWMIDADSRPKFRELIIEFSKMARDPQRYLVIQGDERMHLPSPTDSNFYRALMDEEDMDDVVDADEYLIPQQGFFSSPSTSRTPLLSSLSATSNNSTVACIDRNGLQSCPIKEDSFLQRYSSDPTGALTEDSIDDTFLPVPEYINQSVPKRPAGSVQNPVYHNQPLNPAPSRDPHYQDPHSTAVGNPEYLNTVQPTCVNSTFDSPAHWAQKGSHQISLDNPDYQQDFFPKEAKPNGIFKGSTAENAEYLRVAPQSSEFIGA \n",
      "\n",
      "Match:  MRPSGTAGAALLALLAALCPASRALEEKKVCQGTSNKLTQLGTFEDHFLSLQRMFNNCEVVLGNLEITYVQRNYDLSFLKTIQEVAGYVLIALNTVERIPLENLQIIRGNMYYENSYALAVLSNYDANKTGLKELPMRNLQEILHGAVRFSNNPALCNVESIQWRDIVSSDFLSNMSMDFQNHLGSCQKCDPSCPNGSCWGAGEENCQKLTKIICAQQCSGRCRGKSPSDCCHNQCAAGCTGPRESDCLVCRKFRDEATCKDTCPPLMLYNPTTYQMDVNPEGKYSFGATCVKKCPRNYVVTDHGSCVRACGADSYEMEEDGVRKCKKCEGPCRKVCNGIGIGEFKDSLSINATNIKHFKNCTSISGDLHILPVAFRGDSFTHTPPLDPQELDILKTVKEITGFLLIQAWPENRTDLHAFENLEIIRGRTKQHGQFSLAVVSLNITSLGLRSLKEISDGDVIISGNKNLCYANTINWKKLFGTSGQKTKIISNRGENSCKATGQVCHALCSPEGCWGPEPRDCVSCRNVSRGRECVDKCNLLEGEPREFVENSECIQCHPECLPQAMNITCTGRGPDNCIQCAHYIDGPHCVKTCPAGVMGENNTLVWKYADAGHVCHLCHPNCTYGCTGPG EGCPTNGPKIPSIATGMVG L   L  ALGIGLF RRRHIVRKRTLRRLLQERELVEPL        QALLRILKETEFKKIKVLGSGAFG V  GLWIPEGEKVKIPVAIKELR   SP ANKEIL E YVMASVDNPHVCRLLGICL STVQ I  L PFGCLLDYVREHKDNIGS   L W VQIAKG   L    LVHRDL A         HVKITDFGLAKLLGAEEKEYHAEGGKVPIKWMALESILHRIYTHQSDVWSYGVTVWELMTFGSKPYDGIPASEISSILEKGERLPQPPICTIDVYMIMVKCWMIDADSRPKFRELIIEFSKMARDPQRYLVIQGDERMHLPSPTDSNFYRALMDEEDMDDVVDADEYLIPQQGFFSSPSTSRTPLLSSLSATSNNSTVACIDRNGLQSCPIKEDSFLQRYSSDPTGALTEDSIDDTFLPVPEYINQSVPKRPAGSVQNPVYHNQPLNPAPSRDPHYQDPHSTAVGNPEYLNTVQPTCVNSTFDSPAHWAQKGSHQISLDNPDYQQDFFPKEAKPNGIFKGSTAENAEYLRVAPQSSEFIGA \n",
      "\n",
      "Subject:  MRPSGTAGAALLALLAALCPASRALEEKKVCQGTSNKLTQLGTFEDHFLSLQRMFNNCEVVLGNLEITYVQRNYDLSFLKTIQEVAGYVLIALNTVERIPLENLQIIRGNMYYENSYALAVLSNYDANKTGLKELPMRNLQEILHGAVRFSNNPALCNVESIQWRDIVSSDFLSNMSMDFQNHLGSCQKCDPSCPNGSCWGAGEENCQKLTKIICAQQCSGRCRGKSPSDCCHNQCAAGCTGPRESDCLVCRKFRDEATCKDTCPPLMLYNPTTYQMDVNPEGKYSFGATCVKKCPRNYVVTDHGSCVRACGADSYEMEEDGVRKCKKCEGPCRKVCNGIGIGEFKDSLSINATNIKHFKNCTSISGDLHILPVAFRGDSFTHTPPLDPQELDILKTVKEITGFLLIQAWPENRTDLHAFENLEIIRGRTKQHGQFSLAVVSLNITSLGLRSLKEISDGDVIISGNKNLCYANTINWKKLFGTSGQKTKIISNRGENSCKATGQVCHALCSPEGCWGPEPRDCVSCRNVSRGRECVDKCNLLEGEPREFVENSECIQCHPECLPQAMNITCTGRGPDNCIQCAHYIDGPHCVKTCPAGVMGENNTLVWKYADAGHVCHLCHPNCTYGCTGPGLEGCPTNGPKIPSIATGMVGALLLLLVVALGIGLFMRRRHIVRKRTLRRLLQERELVEPLTPSGEAPNQALLRILKETEFKKIKVLGSGAFGTVYKGLWIPEGEKVKIPVAIKELREATSPKANKEILDEAYVMASVDNPHVCRLLGICLTSTVQLITQLMPFGCLLDYVREHKDNIGSQYLLNWCVQIAKGMNYLEDRRLVHRDLAARNVLVKTPQHVKITDFGLAKLLGAEEKEYHAEGGKVPIKWMALESILHRIYTHQSDVWSYGVTVWELMTFGSKPYDGIPASEISSILEKGERLPQPPICTIDVYMIMVKCWMIDADSRPKFRELIIEFSKMARDPQRYLVIQGDERMHLPSPTDSNFYRALMDEEDMDDVVDADEYLIPQQGFFSSPSTSRTPLLSSLSATSNNSTVACIDRNGLQSCPIKEDSFLQRYSSDPTGALTEDSIDDTFLPVPEYINQSVPKRPAGSVQNPVYHNQPLNPAPSRDPHYQDPHSTAVGNPEYLNTVQPTCVNSTFDSPAHWAQKGSHQISLDNPDYQQDFFPKEAKPNGIFKGSTAENAEYLRVAPQSSEFIGA \n",
      "\n"
     ]
    }
   ],
   "source": [
    "for alignment in blast_record.alignments[0:2]:\n",
    "    print(alignment.title)\n",
    "    for hsp in alignment.hsps:\n",
    "        print(hsp.score)\n",
    "        print(\"Query: \", hsp.query, '\\n')\n",
    "        print(\"Match: \", hsp.match, '\\n')\n",
    "        print(\"Subject: \", hsp.sbjct, '\\n')"
   ]
  },
  {
   "cell_type": "markdown",
   "metadata": {},
   "source": [
    "## References\n",
    "\n",
    "- Python for Bioinformatics, Sebastian Bassi, CRC Press (2010)\n",
    "- [http://biopython.org/DIST/docs/tutorial/Tutorial.html](http://biopython.org/DIST/docs/tutorial/Tutorial.html)\n",
    "- [http://biopython.org/DIST/docs/api/](http://biopython.org/DIST/docs/api/)\n",
    "- Peter Cock et al. Biopython: freely available Python tools for computational molecular biology and bioinformatics, <i>Bioinformatics</i> (2009)"
   ]
  },
  {
   "cell_type": "markdown",
   "metadata": {},
   "source": [
    "#### Last Updated: 5-Sep-2018"
   ]
  }
 ],
 "metadata": {
  "anaconda-cloud": {},
  "kernelspec": {
   "display_name": "Python 2",
   "language": "python",
   "name": "python2"
  },
  "language_info": {
   "codemirror_mode": {
    "name": "ipython",
    "version": 2
   },
   "file_extension": ".py",
   "mimetype": "text/x-python",
   "name": "python",
   "nbconvert_exporter": "python",
   "pygments_lexer": "ipython2",
   "version": "2.7.15"
  }
 },
 "nbformat": 4,
 "nbformat_minor": 1
}
