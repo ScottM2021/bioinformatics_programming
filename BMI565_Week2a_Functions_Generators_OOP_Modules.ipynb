{
 "cells": [
  {
   "cell_type": "markdown",
   "metadata": {},
   "source": [
    "# BMI565: Bioinformatics Programming & Scripting\n",
    "\n",
    "#### (C) Michael Mooney (mooneymi@ohsu.edu)\n",
    "\n",
    "## Week 2: Functions, Generators, Object Oriented Programming, and Modules\n",
    "\n",
    "1. Code Organization / Modularity\n",
    "2. Functions\n",
    "    - Function Parameters\n",
    "    - Variable Scope\n",
    "3. Generators\n",
    "4. Object-oriented Programming (OOP)\n",
    "    - Class Definitions\n",
    "    - Inheritance, Polymorphism, Encapsulation\n",
    "    - The `Exception` Class\n",
    "5. Python Modules\n",
    "    - Installing Modules\n",
    "    - Creating Your Own Modules\n",
    "\n",
    "#### Requirements\n",
    "\n",
    "- Python 2.7 or 3.5\n",
    "- Data Files\n",
    "    - `./data/annot_test.txt`\n",
    "- Miscellaneous Files\n",
    "    - `./images/variable_scope.jpg`\n",
    "    - `./images/cell.jpg`"
   ]
  },
  {
   "cell_type": "code",
   "execution_count": null,
   "metadata": {},
   "outputs": [],
   "source": [
    "from __future__ import print_function, division"
   ]
  },
  {
   "cell_type": "markdown",
   "metadata": {},
   "source": [
    "## Code Organization / Modularity\n",
    "\n",
    "Modularity is a key concept in a top-down problem solving strategy. In programming, modularity refers to breaking code into small pieces that can (essentially) function independently. The advantages of modular code are:\n",
    "\n",
    "1. Makes code easier to read/interpret\n",
    "2. Makes code easier to maintain/debug\n",
    "3. Makes code easier to reuse\n",
    "4. Can sometimes improve performance\n",
    "\n",
    "In Python (and many other languages), creating functions and classes (OOP) are methods for modularizing code.\n",
    "\n",
    "<b>Functional Programming</b>: Create data structures and perform operations on the data using functions. Functions can manipulate input and return that changed input as output, but they do not maintain an internal state. \n",
    "\n",
    "<b>Object-oriented Programming</b>: Create data structures (objects) that have associated functions (methods). The objects maintain an internal state, which is manipulated by methods."
   ]
  },
  {
   "cell_type": "markdown",
   "metadata": {},
   "source": [
    "## Functions\n",
    "\n",
    "Functions are executable blocks of code with specific inputs and (optionally) outputs. A function's inputs are specified by parameters in the function definition. Ouputs are specified by the return value in the function definition. An example function definition is given below:\n",
    "\n",
    "    def my_function(parameter1, parameter2):\n",
    "        \"\"\"\n",
    "        Docstring explaining function\n",
    "        \"\"\"\n",
    "        \n",
    "        ...function code...\n",
    "        \n",
    "        return output\n",
    "\n",
    "\n",
    "A function is called as follows:\n",
    "\n",
    "    my_function(x, y)\n",
    "\n",
    "\\*Note: The number of arguments (x and y above) and their order are important."
   ]
  },
  {
   "cell_type": "code",
   "execution_count": 43,
   "metadata": {},
   "outputs": [],
   "source": [
    "def count_A(seq):\n",
    "    \"\"\"\n",
    "    This function counts the number of As in a DNA sequence.\n",
    "    \"\"\"\n",
    "    count = 0\n",
    "    for base in seq:\n",
    "        if base == \"A\":\n",
    "            count = count + 1\n",
    "    \n",
    "    return count"
   ]
  },
  {
   "cell_type": "code",
   "execution_count": 44,
   "metadata": {},
   "outputs": [
    {
     "data": {
      "text/plain": [
       "8"
      ]
     },
     "execution_count": 44,
     "metadata": {},
     "output_type": "execute_result"
    }
   ],
   "source": [
    "seq = \"ATAATAAGATGCGCGCGCGCGCTTATGCGCGCGCA\"\n",
    "count_A(seq)"
   ]
  },
  {
   "cell_type": "markdown",
   "metadata": {},
   "source": [
    "### Function Parameters\n",
    "\n",
    "When calling a function you can specify the parameters by name. In this case, the order is not important."
   ]
  },
  {
   "cell_type": "code",
   "execution_count": 45,
   "metadata": {},
   "outputs": [
    {
     "name": "stdout",
     "output_type": "stream",
     "text": [
      "3 raised to the 4th power is:\n"
     ]
    },
    {
     "data": {
      "text/plain": [
       "81"
      ]
     },
     "execution_count": 45,
     "metadata": {},
     "output_type": "execute_result"
    }
   ],
   "source": [
    "def foo(x, y, message):\n",
    "    print(message)\n",
    "    return x**y\n",
    "\n",
    "var = foo(message=\"3 raised to the 4th power is:\", x=3, y=4)\n",
    "var"
   ]
  },
  {
   "cell_type": "markdown",
   "metadata": {},
   "source": [
    "You can also specify <b>default values</b> for parameters in the function definition. Parameters given default values must come after other parameters."
   ]
  },
  {
   "cell_type": "code",
   "execution_count": 46,
   "metadata": {},
   "outputs": [
    {
     "data": {
      "text/plain": [
       "[5]"
      ]
     },
     "execution_count": 46,
     "metadata": {},
     "output_type": "execute_result"
    }
   ],
   "source": [
    "import random\n",
    "def rolldice(num_rolls=1, sides=6):\n",
    "    rolls = [random.randint(1,sides) for n in range(num_rolls)]\n",
    "    return rolls\n",
    "rolldice()"
   ]
  },
  {
   "cell_type": "code",
   "execution_count": 47,
   "metadata": {},
   "outputs": [
    {
     "data": {
      "text/plain": [
       "[3, 4, 3]"
      ]
     },
     "execution_count": 47,
     "metadata": {},
     "output_type": "execute_result"
    }
   ],
   "source": [
    "rolldice(3)"
   ]
  },
  {
   "cell_type": "code",
   "execution_count": 48,
   "metadata": {},
   "outputs": [
    {
     "data": {
      "text/plain": [
       "[14]"
      ]
     },
     "execution_count": 48,
     "metadata": {},
     "output_type": "execute_result"
    }
   ],
   "source": [
    "rolldice(sides=20)"
   ]
  },
  {
   "cell_type": "markdown",
   "metadata": {},
   "source": [
    "#### Flexible Function Parameters\n",
    "\n",
    "There are two ways to specify additional (not explicitly defined) parameters in a function definition. Using the `*parameters` notation will load any extra arguments provided in the function call as a tuple of arguments. The `**parameters` notation will load additional arguments as a dictionary. In the latter case, arguments must be specified as `key=value` pairs."
   ]
  },
  {
   "cell_type": "code",
   "execution_count": 49,
   "metadata": {},
   "outputs": [
    {
     "name": "stdout",
     "output_type": "stream",
     "text": [
      "Function Message: Hello, world!\n",
      "1\n",
      "2\n",
      "3\n"
     ]
    }
   ],
   "source": [
    "## Example of a function allowing additional parameters\n",
    "def arg_tuple(message, *parameters):\n",
    "    print(\"Function Message: %s\" % message)\n",
    "    for p in parameters:\n",
    "        print(p)\n",
    "\n",
    "arg_tuple(\"Hello, world!\", 1, 2, 3)"
   ]
  },
  {
   "cell_type": "code",
   "execution_count": 50,
   "metadata": {},
   "outputs": [
    {
     "name": "stdout",
     "output_type": "stream",
     "text": [
      "Function Message: Hello, world!\n",
      "1\n",
      "2\n",
      "3\n"
     ]
    }
   ],
   "source": [
    "t = (1,2,3)\n",
    "arg_tuple(\"Hello, world!\", *t)"
   ]
  },
  {
   "cell_type": "code",
   "execution_count": 51,
   "metadata": {},
   "outputs": [
    {
     "name": "stdout",
     "output_type": "stream",
     "text": [
      "Function Message: Hello, world!\n"
     ]
    }
   ],
   "source": [
    "arg_tuple(\"Hello, world!\")"
   ]
  },
  {
   "cell_type": "code",
   "execution_count": 52,
   "metadata": {},
   "outputs": [
    {
     "name": "stdout",
     "output_type": "stream",
     "text": [
      "ATAATAAGATGCGCGCGCGCGCTTATGCGCGCGCA\n",
      "type: DNA\n",
      "location: chr1:123-4956\n"
     ]
    }
   ],
   "source": [
    "## Another example of a function allowing additional parameters\n",
    "def arg_dict(seq, **parameters):\n",
    "    print(seq)\n",
    "    for k, v in parameters.items():\n",
    "        print(str(k)+\": \"+str(v))\n",
    "\n",
    "arg_dict(seq, type=\"DNA\", location=\"chr1:123-4956\")"
   ]
  },
  {
   "cell_type": "code",
   "execution_count": 53,
   "metadata": {},
   "outputs": [
    {
     "name": "stdout",
     "output_type": "stream",
     "text": [
      "ATAATAAGATGCGCGCGCGCGCTTATGCGCGCGCA\n",
      "type: DNA\n",
      "loc: chr1:123-456\n"
     ]
    }
   ],
   "source": [
    "param_dict = {'type':'DNA', 'loc':\"chr1:123-456\"}\n",
    "arg_dict(seq, **param_dict)"
   ]
  },
  {
   "cell_type": "markdown",
   "metadata": {},
   "source": [
    "### Variable Scope\n",
    "\n",
    "Variable scope defines where in your code a variable can be accessed. \n",
    "\n",
    "- Local Scope\n",
    "    - Variables defined within a function definition are only accessible within that function\n",
    "- Global Scope\n",
    "    - Variables defined outside a function are accessible both outside and within a function\n",
    "    \n",
    "\\**Don't change global variables within a function unless you use the `global` statement (use sparingly)\n",
    "\n",
    "<img src=\"./images/variable_scope.jpg\" align=\"left\" width=\"200\" />"
   ]
  },
  {
   "cell_type": "markdown",
   "metadata": {},
   "source": [
    "#### An Example:"
   ]
  },
  {
   "cell_type": "code",
   "execution_count": 55,
   "metadata": {},
   "outputs": [
    {
     "name": "stdout",
     "output_type": "stream",
     "text": [
      "42\n",
      "13\n",
      "13\n"
     ]
    }
   ],
   "source": [
    "## Define a global variable 'a'\n",
    "a = 42\n",
    "\n",
    "## Define a function with a local variable 'a' \n",
    "def foo2():\n",
    "    #global a\n",
    "    a = 13\n",
    "    print(a)\n",
    "\n",
    "## Will the global variable 'a' be changed?\n",
    "print(a)\n",
    "foo2()\n",
    "print(a)"
   ]
  },
  {
   "cell_type": "code",
   "execution_count": 56,
   "metadata": {},
   "outputs": [],
   "source": [
    "a = 42\n",
    "def foo2(var1):\n",
    "    var1 = 13\n",
    "    return var1\n",
    "\n",
    "a = foo2(a)"
   ]
  },
  {
   "cell_type": "code",
   "execution_count": 57,
   "metadata": {},
   "outputs": [
    {
     "data": {
      "text/plain": [
       "13"
      ]
     },
     "execution_count": 57,
     "metadata": {},
     "output_type": "execute_result"
    }
   ],
   "source": [
    "a"
   ]
  },
  {
   "cell_type": "markdown",
   "metadata": {},
   "source": [
    "## Generators\n",
    "\n",
    "Generators are a special type of function that returns an iterator. Values are yielded one at a time when the generator is called with the `.next()` method. Generators contain `yield` statements rather than `return` statements. \n",
    "\n",
    "Generators can be useful for: \n",
    "- Memory-intensive applications\n",
    "- Parallelizing code\n",
    "- Artificial intelligence applications where we want to dynamically search a parameter space\n",
    "\n",
    "** Note: in Python 3 the `.next()` method was renamed to `.__next__()`. Use the built-in function `next()` to make your code compatible. For example, use `next(gen)` rather than `gen.next()`.\n",
    "\n",
    "#### A Simple Example:"
   ]
  },
  {
   "cell_type": "code",
   "execution_count": 58,
   "metadata": {},
   "outputs": [
    {
     "data": {
      "text/plain": [
       "'a'"
      ]
     },
     "execution_count": 58,
     "metadata": {},
     "output_type": "execute_result"
    }
   ],
   "source": [
    "def abc():\n",
    "    yield \"a\"\n",
    "    yield \"b\"\n",
    "    yield \"c\"\n",
    "\n",
    "gen = abc()\n",
    "next(gen)"
   ]
  },
  {
   "cell_type": "code",
   "execution_count": 59,
   "metadata": {},
   "outputs": [
    {
     "data": {
      "text/plain": [
       "'b'"
      ]
     },
     "execution_count": 59,
     "metadata": {},
     "output_type": "execute_result"
    }
   ],
   "source": [
    "next(gen)"
   ]
  },
  {
   "cell_type": "code",
   "execution_count": 60,
   "metadata": {},
   "outputs": [
    {
     "data": {
      "text/plain": [
       "'c'"
      ]
     },
     "execution_count": 60,
     "metadata": {},
     "output_type": "execute_result"
    }
   ],
   "source": [
    "next(gen)"
   ]
  },
  {
   "cell_type": "code",
   "execution_count": 61,
   "metadata": {},
   "outputs": [
    {
     "ename": "StopIteration",
     "evalue": "",
     "output_type": "error",
     "traceback": [
      "\u001b[0;31m---------------------------------------------------------------------------\u001b[0m",
      "\u001b[0;31mStopIteration\u001b[0m                             Traceback (most recent call last)",
      "\u001b[0;32m<ipython-input-61-6e72e47198db>\u001b[0m in \u001b[0;36m<module>\u001b[0;34m\u001b[0m\n\u001b[0;32m----> 1\u001b[0;31m \u001b[0mnext\u001b[0m\u001b[0;34m(\u001b[0m\u001b[0mgen\u001b[0m\u001b[0;34m)\u001b[0m\u001b[0;34m\u001b[0m\u001b[0;34m\u001b[0m\u001b[0m\n\u001b[0m",
      "\u001b[0;31mStopIteration\u001b[0m: "
     ]
    }
   ],
   "source": [
    "next(gen)"
   ]
  },
  {
   "cell_type": "code",
   "execution_count": 62,
   "metadata": {},
   "outputs": [
    {
     "data": {
      "text/plain": [
       "['a', 'b', 'c']"
      ]
     },
     "execution_count": 62,
     "metadata": {},
     "output_type": "execute_result"
    }
   ],
   "source": [
    "letters = [x for x in abc()]\n",
    "letters"
   ]
  },
  {
   "cell_type": "markdown",
   "metadata": {},
   "source": [
    "#### Prime Number Example:"
   ]
  },
  {
   "cell_type": "code",
   "execution_count": 63,
   "metadata": {},
   "outputs": [
    {
     "data": {
      "text/plain": [
       "2"
      ]
     },
     "execution_count": 63,
     "metadata": {},
     "output_type": "execute_result"
    }
   ],
   "source": [
    "## Define a function that determines if a number is prime\n",
    "def isprime(n):\n",
    "    for i in range(2,n):\n",
    "        if n % i == 0:\n",
    "            return False\n",
    "    return True\n",
    "\n",
    "## Define a generator that yields prime numbers <= n\n",
    "## By using a generator the entire list of numbers is not stored in memory\n",
    "def getprime(n):\n",
    "    for i in range(2,n+1):\n",
    "        if isprime(i):\n",
    "            yield i\n",
    "\n",
    "prime_gen = getprime(10)\n",
    "next(prime_gen)"
   ]
  },
  {
   "cell_type": "code",
   "execution_count": 64,
   "metadata": {},
   "outputs": [
    {
     "data": {
      "text/plain": [
       "3"
      ]
     },
     "execution_count": 64,
     "metadata": {},
     "output_type": "execute_result"
    }
   ],
   "source": [
    "next(prime_gen)"
   ]
  },
  {
   "cell_type": "code",
   "execution_count": 65,
   "metadata": {},
   "outputs": [
    {
     "data": {
      "text/plain": [
       "[2, 3, 5, 7, 11]"
      ]
     },
     "execution_count": 65,
     "metadata": {},
     "output_type": "execute_result"
    }
   ],
   "source": [
    "[n for n in getprime(11)]"
   ]
  },
  {
   "cell_type": "markdown",
   "metadata": {},
   "source": [
    "## Object Oriented Programming (OOP)\n",
    "\n",
    "<b>Class</b>: A data structure consisting of data fields and methods.\n",
    "\n",
    "<b>Object</b>: An instantiated version of a class (an instance).\n",
    "\n",
    "<img src=\"./images/cell.jpg\" align=\"center\" width=\"400\" />"
   ]
  },
  {
   "cell_type": "markdown",
   "metadata": {},
   "source": [
    "Let's say we want to write a program to simulate a cell:\n",
    "\n",
    "A <b>functional programmer</b> would:\n",
    "1. Create data structures to represent the cell and its macromolecules\n",
    "    - Data: DNA, mRNA, protein\n",
    "2. Create functions to perform basic cellular tasks\n",
    "    - Functions: DNA replication, transcription, translation, etc."
   ]
  },
  {
   "cell_type": "markdown",
   "metadata": {},
   "source": [
    "    dna = \"ATGCGCTAAATTCA\"\n",
    "    mrna = transcribe(dna)\n",
    "    protein = translate(mrna)"
   ]
  },
  {
   "cell_type": "markdown",
   "metadata": {},
   "source": [
    "An <b>object-oriented programmer</b> would:\n",
    "1. Create a class to represent the cell's macromolecules and methods associated with each\n",
    "    - Data: DNA, mRNA, protein\n",
    "    - Methods: DNA replication, transcription, translation, etc."
   ]
  },
  {
   "cell_type": "markdown",
   "metadata": {},
   "source": [
    "    myCell = Cell()\n",
    "    myCell.dna = \"ATGCGCTAAATTCA\"\n",
    "    myCell.transcribe()\n",
    "    myCell.translate()"
   ]
  },
  {
   "cell_type": "markdown",
   "metadata": {},
   "source": [
    "### Class Definitions\n",
    "\n",
    "    class Book:\n",
    "        title = \"NA\"\n",
    "        author = \"NA\"\n",
    "        \n",
    "        def __init__(self, t=title, a=author):\n",
    "            if t is not None:\n",
    "                self.title = title\n",
    "            if a is not None:\n",
    "                self.author = author\n",
    "        \n",
    "        def set_pages(self, pages):\n",
    "            self.num_pages = pages\n",
    "\n",
    "<b>Definitions</b>:\n",
    "- `title` and `author` are class attributes (variables associated with the class)\n",
    "- `self` refers to the object itself, and should be a parameter in all class methods\n",
    "- `self.title`, `self.author`, and `self.num_pages` are object attributes (variables associated with an object of type Book)\n",
    "- `__init__()` is a special method that is executed when an object is created\n",
    "- `set_pages()` is a class method"
   ]
  },
  {
   "cell_type": "code",
   "execution_count": 66,
   "metadata": {},
   "outputs": [],
   "source": [
    "## Define the Book class\n",
    "class Book:\n",
    "    title = \"NA\"\n",
    "    author = \"NA\"\n",
    "\n",
    "    def __init__(self, t=title, a=author):\n",
    "            self.title = t\n",
    "            self.author = a\n",
    "\n",
    "    def set_pages(self, pages):\n",
    "        self.num_pages = pages"
   ]
  },
  {
   "cell_type": "code",
   "execution_count": 67,
   "metadata": {},
   "outputs": [
    {
     "name": "stdout",
     "output_type": "stream",
     "text": [
      "NA\n"
     ]
    }
   ],
   "source": [
    "## Create a Book object\n",
    "scifi_book = Book()\n",
    "print(scifi_book.title)"
   ]
  },
  {
   "cell_type": "code",
   "execution_count": 70,
   "metadata": {},
   "outputs": [
    {
     "name": "stdout",
     "output_type": "stream",
     "text": [
      "Ender's Game\n",
      "Orson Scott Card\n"
     ]
    }
   ],
   "source": [
    "scifi_book = Book(\"Ender's Game\", \"Orson Scott Card\")\n",
    "print(scifi_book.title)\n",
    "print(scifi_book.author)"
   ]
  },
  {
   "cell_type": "code",
   "execution_count": 71,
   "metadata": {},
   "outputs": [
    {
     "ename": "AttributeError",
     "evalue": "'Book' object has no attribute 'num_pages'",
     "output_type": "error",
     "traceback": [
      "\u001b[0;31m---------------------------------------------------------------------------\u001b[0m",
      "\u001b[0;31mAttributeError\u001b[0m                            Traceback (most recent call last)",
      "\u001b[0;32m<ipython-input-71-0dcd294a2af4>\u001b[0m in \u001b[0;36m<module>\u001b[0;34m\u001b[0m\n\u001b[0;32m----> 1\u001b[0;31m \u001b[0mscifi_book\u001b[0m\u001b[0;34m.\u001b[0m\u001b[0mnum_pages\u001b[0m\u001b[0;34m\u001b[0m\u001b[0;34m\u001b[0m\u001b[0m\n\u001b[0m",
      "\u001b[0;31mAttributeError\u001b[0m: 'Book' object has no attribute 'num_pages'"
     ]
    }
   ],
   "source": [
    "scifi_book.num_pages"
   ]
  },
  {
   "cell_type": "code",
   "execution_count": 72,
   "metadata": {},
   "outputs": [
    {
     "name": "stdout",
     "output_type": "stream",
     "text": [
      "324\n"
     ]
    }
   ],
   "source": [
    "scifi_book.set_pages(324)\n",
    "print(scifi_book.num_pages)"
   ]
  },
  {
   "cell_type": "code",
   "execution_count": 73,
   "metadata": {},
   "outputs": [
    {
     "data": {
      "text/plain": [
       "'NA'"
      ]
     },
     "execution_count": 73,
     "metadata": {},
     "output_type": "execute_result"
    }
   ],
   "source": [
    "Book.title"
   ]
  },
  {
   "cell_type": "markdown",
   "metadata": {},
   "source": [
    "#### Variable Scope\n",
    "\n",
    "Rules for variable scope apply in class definitions the same as for function definitions. However, `self` is used to indicate object attributes, which will be preserved outside of methods. Any variables not declared using `self` are treated as a local variable and will not be accessible outside a class method.\n",
    "\n",
    "    class Book:\n",
    "        title = \"NA\"\n",
    "        author = \"NA\"\n",
    "        \n",
    "        def __init__(self, t=title, a=author):\n",
    "            language = \"English\"\n",
    "            self.title = t\n",
    "            self.author = a\n",
    "        \n",
    "        def set_pages(self, pages):\n",
    "            self.num_pages = pages\n",
    "\n",
    "The `language` variable has local scope within the `__init__` method and will be lost after the object is created."
   ]
  },
  {
   "cell_type": "code",
   "execution_count": 74,
   "metadata": {},
   "outputs": [
    {
     "data": {
      "text/plain": [
       "'UAUUAUUCUACGCGCGCGCGCGAAUACGCGCGCGU'"
      ]
     },
     "execution_count": 74,
     "metadata": {},
     "output_type": "execute_result"
    }
   ],
   "source": [
    "## An example of a class for DNA sequences\n",
    "class Sequence:\n",
    "    TranscriptionTable = {\"A\":\"U\",\"T\":\"A\",\"C\":\"G\",\"G\":\"C\"}\n",
    "    def __init__(self, seqstring):\n",
    "        assert len(set(seqstring.upper()) - set(['A', 'T', 'C', 'G'])) == 0, \"Not a DNA sequence!\"\n",
    "        self.seqstring = seqstring.upper()\n",
    "    def transcribe(self):\n",
    "        tt = \"\"\n",
    "        for x in self.seqstring:\n",
    "            tt += self.TranscriptionTable[x]\n",
    "        return tt\n",
    "\n",
    "seqObj = Sequence(seq)\n",
    "seqObj.transcribe()"
   ]
  },
  {
   "cell_type": "code",
   "execution_count": 75,
   "metadata": {},
   "outputs": [
    {
     "data": {
      "text/plain": [
       "'ATAATAAGATGCGCGCGCGCGCTTATGCGCGCGCA'"
      ]
     },
     "execution_count": 75,
     "metadata": {},
     "output_type": "execute_result"
    }
   ],
   "source": [
    "seq"
   ]
  },
  {
   "cell_type": "code",
   "execution_count": 78,
   "metadata": {},
   "outputs": [
    {
     "ename": "AssertionError",
     "evalue": "Not a DNA sequence!",
     "output_type": "error",
     "traceback": [
      "\u001b[0;31m---------------------------------------------------------------------------\u001b[0m",
      "\u001b[0;31mAssertionError\u001b[0m                            Traceback (most recent call last)",
      "\u001b[0;32m<ipython-input-78-ee824e66a4f9>\u001b[0m in \u001b[0;36m<module>\u001b[0;34m\u001b[0m\n\u001b[0;32m----> 1\u001b[0;31m \u001b[0mseqObj\u001b[0m \u001b[0;34m=\u001b[0m \u001b[0mSequence\u001b[0m\u001b[0;34m(\u001b[0m\u001b[0;34m'ATCGNCGT'\u001b[0m\u001b[0;34m)\u001b[0m\u001b[0;34m\u001b[0m\u001b[0;34m\u001b[0m\u001b[0m\n\u001b[0m",
      "\u001b[0;32m<ipython-input-74-ff9887162779>\u001b[0m in \u001b[0;36m__init__\u001b[0;34m(self, seqstring)\u001b[0m\n\u001b[1;32m      3\u001b[0m     \u001b[0mTranscriptionTable\u001b[0m \u001b[0;34m=\u001b[0m \u001b[0;34m{\u001b[0m\u001b[0;34m\"A\"\u001b[0m\u001b[0;34m:\u001b[0m\u001b[0;34m\"U\"\u001b[0m\u001b[0;34m,\u001b[0m\u001b[0;34m\"T\"\u001b[0m\u001b[0;34m:\u001b[0m\u001b[0;34m\"A\"\u001b[0m\u001b[0;34m,\u001b[0m\u001b[0;34m\"C\"\u001b[0m\u001b[0;34m:\u001b[0m\u001b[0;34m\"G\"\u001b[0m\u001b[0;34m,\u001b[0m\u001b[0;34m\"G\"\u001b[0m\u001b[0;34m:\u001b[0m\u001b[0;34m\"C\"\u001b[0m\u001b[0;34m}\u001b[0m\u001b[0;34m\u001b[0m\u001b[0;34m\u001b[0m\u001b[0m\n\u001b[1;32m      4\u001b[0m     \u001b[0;32mdef\u001b[0m \u001b[0m__init__\u001b[0m\u001b[0;34m(\u001b[0m\u001b[0mself\u001b[0m\u001b[0;34m,\u001b[0m \u001b[0mseqstring\u001b[0m\u001b[0;34m)\u001b[0m\u001b[0;34m:\u001b[0m\u001b[0;34m\u001b[0m\u001b[0;34m\u001b[0m\u001b[0m\n\u001b[0;32m----> 5\u001b[0;31m         \u001b[0;32massert\u001b[0m \u001b[0mlen\u001b[0m\u001b[0;34m(\u001b[0m\u001b[0mset\u001b[0m\u001b[0;34m(\u001b[0m\u001b[0mseqstring\u001b[0m\u001b[0;34m.\u001b[0m\u001b[0mupper\u001b[0m\u001b[0;34m(\u001b[0m\u001b[0;34m)\u001b[0m\u001b[0;34m)\u001b[0m \u001b[0;34m-\u001b[0m \u001b[0mset\u001b[0m\u001b[0;34m(\u001b[0m\u001b[0;34m[\u001b[0m\u001b[0;34m'A'\u001b[0m\u001b[0;34m,\u001b[0m \u001b[0;34m'T'\u001b[0m\u001b[0;34m,\u001b[0m \u001b[0;34m'C'\u001b[0m\u001b[0;34m,\u001b[0m \u001b[0;34m'G'\u001b[0m\u001b[0;34m]\u001b[0m\u001b[0;34m)\u001b[0m\u001b[0;34m)\u001b[0m \u001b[0;34m==\u001b[0m \u001b[0;36m0\u001b[0m\u001b[0;34m,\u001b[0m \u001b[0;34m\"Not a DNA sequence!\"\u001b[0m\u001b[0;34m\u001b[0m\u001b[0;34m\u001b[0m\u001b[0m\n\u001b[0m\u001b[1;32m      6\u001b[0m         \u001b[0mself\u001b[0m\u001b[0;34m.\u001b[0m\u001b[0mseqstring\u001b[0m \u001b[0;34m=\u001b[0m \u001b[0mseqstring\u001b[0m\u001b[0;34m.\u001b[0m\u001b[0mupper\u001b[0m\u001b[0;34m(\u001b[0m\u001b[0;34m)\u001b[0m\u001b[0;34m\u001b[0m\u001b[0;34m\u001b[0m\u001b[0m\n\u001b[1;32m      7\u001b[0m     \u001b[0;32mdef\u001b[0m \u001b[0mtranscribe\u001b[0m\u001b[0;34m(\u001b[0m\u001b[0mself\u001b[0m\u001b[0;34m)\u001b[0m\u001b[0;34m:\u001b[0m\u001b[0;34m\u001b[0m\u001b[0;34m\u001b[0m\u001b[0m\n",
      "\u001b[0;31mAssertionError\u001b[0m: Not a DNA sequence!"
     ]
    }
   ],
   "source": [
    "seqObj = Sequence('ATCGNCGT')"
   ]
  },
  {
   "cell_type": "code",
   "execution_count": 77,
   "metadata": {},
   "outputs": [
    {
     "name": "stdout",
     "output_type": "stream",
     "text": [
      "Help on class str in module builtins:\n",
      "\n",
      "class str(object)\n",
      " |  str(object='') -> str\n",
      " |  str(bytes_or_buffer[, encoding[, errors]]) -> str\n",
      " |  \n",
      " |  Create a new string object from the given object. If encoding or\n",
      " |  errors is specified, then the object must expose a data buffer\n",
      " |  that will be decoded using the given encoding and error handler.\n",
      " |  Otherwise, returns the result of object.__str__() (if defined)\n",
      " |  or repr(object).\n",
      " |  encoding defaults to sys.getdefaultencoding().\n",
      " |  errors defaults to 'strict'.\n",
      " |  \n",
      " |  Methods defined here:\n",
      " |  \n",
      " |  __add__(self, value, /)\n",
      " |      Return self+value.\n",
      " |  \n",
      " |  __contains__(self, key, /)\n",
      " |      Return key in self.\n",
      " |  \n",
      " |  __eq__(self, value, /)\n",
      " |      Return self==value.\n",
      " |  \n",
      " |  __format__(self, format_spec, /)\n",
      " |      Return a formatted version of the string as described by format_spec.\n",
      " |  \n",
      " |  __ge__(self, value, /)\n",
      " |      Return self>=value.\n",
      " |  \n",
      " |  __getattribute__(self, name, /)\n",
      " |      Return getattr(self, name).\n",
      " |  \n",
      " |  __getitem__(self, key, /)\n",
      " |      Return self[key].\n",
      " |  \n",
      " |  __getnewargs__(...)\n",
      " |  \n",
      " |  __gt__(self, value, /)\n",
      " |      Return self>value.\n",
      " |  \n",
      " |  __hash__(self, /)\n",
      " |      Return hash(self).\n",
      " |  \n",
      " |  __iter__(self, /)\n",
      " |      Implement iter(self).\n",
      " |  \n",
      " |  __le__(self, value, /)\n",
      " |      Return self<=value.\n",
      " |  \n",
      " |  __len__(self, /)\n",
      " |      Return len(self).\n",
      " |  \n",
      " |  __lt__(self, value, /)\n",
      " |      Return self<value.\n",
      " |  \n",
      " |  __mod__(self, value, /)\n",
      " |      Return self%value.\n",
      " |  \n",
      " |  __mul__(self, value, /)\n",
      " |      Return self*value.\n",
      " |  \n",
      " |  __ne__(self, value, /)\n",
      " |      Return self!=value.\n",
      " |  \n",
      " |  __repr__(self, /)\n",
      " |      Return repr(self).\n",
      " |  \n",
      " |  __rmod__(self, value, /)\n",
      " |      Return value%self.\n",
      " |  \n",
      " |  __rmul__(self, value, /)\n",
      " |      Return value*self.\n",
      " |  \n",
      " |  __sizeof__(self, /)\n",
      " |      Return the size of the string in memory, in bytes.\n",
      " |  \n",
      " |  __str__(self, /)\n",
      " |      Return str(self).\n",
      " |  \n",
      " |  capitalize(self, /)\n",
      " |      Return a capitalized version of the string.\n",
      " |      \n",
      " |      More specifically, make the first character have upper case and the rest lower\n",
      " |      case.\n",
      " |  \n",
      " |  casefold(self, /)\n",
      " |      Return a version of the string suitable for caseless comparisons.\n",
      " |  \n",
      " |  center(self, width, fillchar=' ', /)\n",
      " |      Return a centered string of length width.\n",
      " |      \n",
      " |      Padding is done using the specified fill character (default is a space).\n",
      " |  \n",
      " |  count(...)\n",
      " |      S.count(sub[, start[, end]]) -> int\n",
      " |      \n",
      " |      Return the number of non-overlapping occurrences of substring sub in\n",
      " |      string S[start:end].  Optional arguments start and end are\n",
      " |      interpreted as in slice notation.\n",
      " |  \n",
      " |  encode(self, /, encoding='utf-8', errors='strict')\n",
      " |      Encode the string using the codec registered for encoding.\n",
      " |      \n",
      " |      encoding\n",
      " |        The encoding in which to encode the string.\n",
      " |      errors\n",
      " |        The error handling scheme to use for encoding errors.\n",
      " |        The default is 'strict' meaning that encoding errors raise a\n",
      " |        UnicodeEncodeError.  Other possible values are 'ignore', 'replace' and\n",
      " |        'xmlcharrefreplace' as well as any other name registered with\n",
      " |        codecs.register_error that can handle UnicodeEncodeErrors.\n",
      " |  \n",
      " |  endswith(...)\n",
      " |      S.endswith(suffix[, start[, end]]) -> bool\n",
      " |      \n",
      " |      Return True if S ends with the specified suffix, False otherwise.\n",
      " |      With optional start, test S beginning at that position.\n",
      " |      With optional end, stop comparing S at that position.\n",
      " |      suffix can also be a tuple of strings to try.\n",
      " |  \n",
      " |  expandtabs(self, /, tabsize=8)\n",
      " |      Return a copy where all tab characters are expanded using spaces.\n",
      " |      \n",
      " |      If tabsize is not given, a tab size of 8 characters is assumed.\n",
      " |  \n",
      " |  find(...)\n",
      " |      S.find(sub[, start[, end]]) -> int\n",
      " |      \n",
      " |      Return the lowest index in S where substring sub is found,\n",
      " |      such that sub is contained within S[start:end].  Optional\n",
      " |      arguments start and end are interpreted as in slice notation.\n",
      " |      \n",
      " |      Return -1 on failure.\n",
      " |  \n",
      " |  format(...)\n",
      " |      S.format(*args, **kwargs) -> str\n",
      " |      \n",
      " |      Return a formatted version of S, using substitutions from args and kwargs.\n",
      " |      The substitutions are identified by braces ('{' and '}').\n",
      " |  \n",
      " |  format_map(...)\n",
      " |      S.format_map(mapping) -> str\n",
      " |      \n",
      " |      Return a formatted version of S, using substitutions from mapping.\n",
      " |      The substitutions are identified by braces ('{' and '}').\n",
      " |  \n",
      " |  index(...)\n",
      " |      S.index(sub[, start[, end]]) -> int\n",
      " |      \n",
      " |      Return the lowest index in S where substring sub is found, \n",
      " |      such that sub is contained within S[start:end].  Optional\n",
      " |      arguments start and end are interpreted as in slice notation.\n",
      " |      \n",
      " |      Raises ValueError when the substring is not found.\n",
      " |  \n",
      " |  isalnum(self, /)\n",
      " |      Return True if the string is an alpha-numeric string, False otherwise.\n",
      " |      \n",
      " |      A string is alpha-numeric if all characters in the string are alpha-numeric and\n",
      " |      there is at least one character in the string.\n",
      " |  \n",
      " |  isalpha(self, /)\n",
      " |      Return True if the string is an alphabetic string, False otherwise.\n",
      " |      \n",
      " |      A string is alphabetic if all characters in the string are alphabetic and there\n",
      " |      is at least one character in the string.\n",
      " |  \n",
      " |  isascii(self, /)\n",
      " |      Return True if all characters in the string are ASCII, False otherwise.\n",
      " |      \n",
      " |      ASCII characters have code points in the range U+0000-U+007F.\n",
      " |      Empty string is ASCII too.\n",
      " |  \n",
      " |  isdecimal(self, /)\n",
      " |      Return True if the string is a decimal string, False otherwise.\n",
      " |      \n",
      " |      A string is a decimal string if all characters in the string are decimal and\n",
      " |      there is at least one character in the string.\n",
      " |  \n",
      " |  isdigit(self, /)\n",
      " |      Return True if the string is a digit string, False otherwise.\n",
      " |      \n",
      " |      A string is a digit string if all characters in the string are digits and there\n",
      " |      is at least one character in the string.\n",
      " |  \n",
      " |  isidentifier(self, /)\n",
      " |      Return True if the string is a valid Python identifier, False otherwise.\n",
      " |      \n",
      " |      Use keyword.iskeyword() to test for reserved identifiers such as \"def\" and\n",
      " |      \"class\".\n",
      " |  \n",
      " |  islower(self, /)\n",
      " |      Return True if the string is a lowercase string, False otherwise.\n",
      " |      \n",
      " |      A string is lowercase if all cased characters in the string are lowercase and\n",
      " |      there is at least one cased character in the string.\n",
      " |  \n",
      " |  isnumeric(self, /)\n",
      " |      Return True if the string is a numeric string, False otherwise.\n",
      " |      \n",
      " |      A string is numeric if all characters in the string are numeric and there is at\n",
      " |      least one character in the string.\n",
      " |  \n",
      " |  isprintable(self, /)\n",
      " |      Return True if the string is printable, False otherwise.\n",
      " |      \n",
      " |      A string is printable if all of its characters are considered printable in\n",
      " |      repr() or if it is empty.\n",
      " |  \n",
      " |  isspace(self, /)\n",
      " |      Return True if the string is a whitespace string, False otherwise.\n",
      " |      \n",
      " |      A string is whitespace if all characters in the string are whitespace and there\n",
      " |      is at least one character in the string.\n",
      " |  \n",
      " |  istitle(self, /)\n",
      " |      Return True if the string is a title-cased string, False otherwise.\n",
      " |      \n",
      " |      In a title-cased string, upper- and title-case characters may only\n",
      " |      follow uncased characters and lowercase characters only cased ones.\n",
      " |  \n",
      " |  isupper(self, /)\n",
      " |      Return True if the string is an uppercase string, False otherwise.\n",
      " |      \n",
      " |      A string is uppercase if all cased characters in the string are uppercase and\n",
      " |      there is at least one cased character in the string.\n",
      " |  \n",
      " |  join(self, iterable, /)\n",
      " |      Concatenate any number of strings.\n",
      " |      \n",
      " |      The string whose method is called is inserted in between each given string.\n",
      " |      The result is returned as a new string.\n",
      " |      \n",
      " |      Example: '.'.join(['ab', 'pq', 'rs']) -> 'ab.pq.rs'\n",
      " |  \n",
      " |  ljust(self, width, fillchar=' ', /)\n",
      " |      Return a left-justified string of length width.\n",
      " |      \n",
      " |      Padding is done using the specified fill character (default is a space).\n",
      " |  \n",
      " |  lower(self, /)\n",
      " |      Return a copy of the string converted to lowercase.\n",
      " |  \n",
      " |  lstrip(self, chars=None, /)\n",
      " |      Return a copy of the string with leading whitespace removed.\n",
      " |      \n",
      " |      If chars is given and not None, remove characters in chars instead.\n",
      " |  \n",
      " |  partition(self, sep, /)\n",
      " |      Partition the string into three parts using the given separator.\n",
      " |      \n",
      " |      This will search for the separator in the string.  If the separator is found,\n",
      " |      returns a 3-tuple containing the part before the separator, the separator\n",
      " |      itself, and the part after it.\n",
      " |      \n",
      " |      If the separator is not found, returns a 3-tuple containing the original string\n",
      " |      and two empty strings.\n",
      " |  \n",
      " |  replace(self, old, new, count=-1, /)\n",
      " |      Return a copy with all occurrences of substring old replaced by new.\n",
      " |      \n",
      " |        count\n",
      " |          Maximum number of occurrences to replace.\n",
      " |          -1 (the default value) means replace all occurrences.\n",
      " |      \n",
      " |      If the optional argument count is given, only the first count occurrences are\n",
      " |      replaced.\n",
      " |  \n",
      " |  rfind(...)\n",
      " |      S.rfind(sub[, start[, end]]) -> int\n",
      " |      \n",
      " |      Return the highest index in S where substring sub is found,\n",
      " |      such that sub is contained within S[start:end].  Optional\n",
      " |      arguments start and end are interpreted as in slice notation.\n",
      " |      \n",
      " |      Return -1 on failure.\n",
      " |  \n",
      " |  rindex(...)\n",
      " |      S.rindex(sub[, start[, end]]) -> int\n",
      " |      \n",
      " |      Return the highest index in S where substring sub is found,\n",
      " |      such that sub is contained within S[start:end].  Optional\n",
      " |      arguments start and end are interpreted as in slice notation.\n",
      " |      \n",
      " |      Raises ValueError when the substring is not found.\n",
      " |  \n",
      " |  rjust(self, width, fillchar=' ', /)\n",
      " |      Return a right-justified string of length width.\n",
      " |      \n",
      " |      Padding is done using the specified fill character (default is a space).\n",
      " |  \n",
      " |  rpartition(self, sep, /)\n",
      " |      Partition the string into three parts using the given separator.\n",
      " |      \n",
      " |      This will search for the separator in the string, starting at the end. If\n",
      " |      the separator is found, returns a 3-tuple containing the part before the\n",
      " |      separator, the separator itself, and the part after it.\n",
      " |      \n",
      " |      If the separator is not found, returns a 3-tuple containing two empty strings\n",
      " |      and the original string.\n",
      " |  \n",
      " |  rsplit(self, /, sep=None, maxsplit=-1)\n",
      " |      Return a list of the words in the string, using sep as the delimiter string.\n",
      " |      \n",
      " |        sep\n",
      " |          The delimiter according which to split the string.\n",
      " |          None (the default value) means split according to any whitespace,\n",
      " |          and discard empty strings from the result.\n",
      " |        maxsplit\n",
      " |          Maximum number of splits to do.\n",
      " |          -1 (the default value) means no limit.\n",
      " |      \n",
      " |      Splits are done starting at the end of the string and working to the front.\n",
      " |  \n",
      " |  rstrip(self, chars=None, /)\n",
      " |      Return a copy of the string with trailing whitespace removed.\n",
      " |      \n",
      " |      If chars is given and not None, remove characters in chars instead.\n",
      " |  \n",
      " |  split(self, /, sep=None, maxsplit=-1)\n",
      " |      Return a list of the words in the string, using sep as the delimiter string.\n",
      " |      \n",
      " |      sep\n",
      " |        The delimiter according which to split the string.\n",
      " |        None (the default value) means split according to any whitespace,\n",
      " |        and discard empty strings from the result.\n",
      " |      maxsplit\n",
      " |        Maximum number of splits to do.\n",
      " |        -1 (the default value) means no limit.\n",
      " |  \n",
      " |  splitlines(self, /, keepends=False)\n",
      " |      Return a list of the lines in the string, breaking at line boundaries.\n",
      " |      \n",
      " |      Line breaks are not included in the resulting list unless keepends is given and\n",
      " |      true.\n",
      " |  \n",
      " |  startswith(...)\n",
      " |      S.startswith(prefix[, start[, end]]) -> bool\n",
      " |      \n",
      " |      Return True if S starts with the specified prefix, False otherwise.\n",
      " |      With optional start, test S beginning at that position.\n",
      " |      With optional end, stop comparing S at that position.\n",
      " |      prefix can also be a tuple of strings to try.\n",
      " |  \n",
      " |  strip(self, chars=None, /)\n",
      " |      Return a copy of the string with leading and trailing whitespace remove.\n",
      " |      \n",
      " |      If chars is given and not None, remove characters in chars instead.\n",
      " |  \n",
      " |  swapcase(self, /)\n",
      " |      Convert uppercase characters to lowercase and lowercase characters to uppercase.\n",
      " |  \n",
      " |  title(self, /)\n",
      " |      Return a version of the string where each word is titlecased.\n",
      " |      \n",
      " |      More specifically, words start with uppercased characters and all remaining\n",
      " |      cased characters have lower case.\n",
      " |  \n",
      " |  translate(self, table, /)\n",
      " |      Replace each character in the string using the given translation table.\n",
      " |      \n",
      " |        table\n",
      " |          Translation table, which must be a mapping of Unicode ordinals to\n",
      " |          Unicode ordinals, strings, or None.\n",
      " |      \n",
      " |      The table must implement lookup/indexing via __getitem__, for instance a\n",
      " |      dictionary or list.  If this operation raises LookupError, the character is\n",
      " |      left untouched.  Characters mapped to None are deleted.\n",
      " |  \n",
      " |  upper(self, /)\n",
      " |      Return a copy of the string converted to uppercase.\n",
      " |  \n",
      " |  zfill(self, width, /)\n",
      " |      Pad a numeric string with zeros on the left, to fill a field of the given width.\n",
      " |      \n",
      " |      The string is never truncated.\n",
      " |  \n",
      " |  ----------------------------------------------------------------------\n",
      " |  Static methods defined here:\n",
      " |  \n",
      " |  __new__(*args, **kwargs) from builtins.type\n",
      " |      Create and return a new object.  See help(type) for accurate signature.\n",
      " |  \n",
      " |  maketrans(x, y=None, z=None, /)\n",
      " |      Return a translation table usable for str.translate().\n",
      " |      \n",
      " |      If there is only one argument, it must be a dictionary mapping Unicode\n",
      " |      ordinals (integers) or characters to Unicode ordinals, strings or None.\n",
      " |      Character keys will be then converted to ordinals.\n",
      " |      If there are two arguments, they must be strings of equal length, and\n",
      " |      in the resulting dictionary, each character in x will be mapped to the\n",
      " |      character at the same position in y. If there is a third argument, it\n",
      " |      must be a string, whose characters will be mapped to None in the result.\n",
      "\n"
     ]
    }
   ],
   "source": [
    "help(str)"
   ]
  },
  {
   "cell_type": "code",
   "execution_count": 79,
   "metadata": {},
   "outputs": [
    {
     "data": {
      "text/plain": [
       "{'A': 'U', 'T': 'A', 'C': 'G', 'G': 'C'}"
      ]
     },
     "execution_count": 79,
     "metadata": {},
     "output_type": "execute_result"
    }
   ],
   "source": [
    "seqObj.TranscriptionTable"
   ]
  },
  {
   "cell_type": "code",
   "execution_count": 80,
   "metadata": {},
   "outputs": [
    {
     "data": {
      "text/plain": [
       "{'A': 'U', 'T': 'A', 'C': 'G', 'G': 'C'}"
      ]
     },
     "execution_count": 80,
     "metadata": {},
     "output_type": "execute_result"
    }
   ],
   "source": [
    "## The TranscriptionTable dictionary is a class attribute \n",
    "## it belongs to the class itself, as well as any object \n",
    "## that is of the Sequence type\n",
    "Sequence.TranscriptionTable"
   ]
  },
  {
   "cell_type": "code",
   "execution_count": 81,
   "metadata": {},
   "outputs": [
    {
     "data": {
      "text/plain": [
       "'ATAATAAGATGCGCGCGCGCGCTTATGCGCGCGCA'"
      ]
     },
     "execution_count": 81,
     "metadata": {},
     "output_type": "execute_result"
    }
   ],
   "source": [
    "seq"
   ]
  },
  {
   "cell_type": "markdown",
   "metadata": {},
   "source": [
    "### Inheritance, Polymorphism, Encapsulation\n",
    "\n",
    "Inheritance, polymorphism (a.k.a. overloading), and encapsulation are three important feature of the object-oriented programming paradigm.\n",
    "\n",
    "1. Inheritance:\n",
    "    - The ability to create a new class that automatically includes (inherits) the features of another class\n",
    "    - The new class can be modified to represent a more specific phenomenon\n",
    "    - Example: a mammal class can be modified to create a dog class\n",
    "    - Advantage: ability to reuse and tailor classes\n",
    "2. Polymorphism (a.k.a. Overloading):\n",
    "    - The ability of a method to behave differently depending on the object type\n",
    "    - Example: the `+` operator behaves differently for strings and numeric data types\n",
    "    - Advantage: ability to create a common interface\n",
    "3. Encapsulation:\n",
    "    - The ability to make variables and methods private, so they are not easily modified\n",
    "    - There is limited support for this in Python (mangling)\n",
    "    - Advantage: ability to simplify code and prevent misuse"
   ]
  },
  {
   "cell_type": "markdown",
   "metadata": {},
   "source": [
    "#### Inheritance\n",
    "\n",
    "Inheritance allows us to create a new class, a <b>derived class</b>, that retains all methods and attributes from a <b>base class</b>. We can specify new class variables and methods that overwrite those in the base class."
   ]
  },
  {
   "cell_type": "code",
   "execution_count": 82,
   "metadata": {},
   "outputs": [
    {
     "data": {
      "text/plain": [
       "'TTCTCATGTTTGACAGCTTA'"
      ]
     },
     "execution_count": 82,
     "metadata": {},
     "output_type": "execute_result"
    }
   ],
   "source": [
    "## Define a new class that inherits from the Sequence class\n",
    "class Plasmid(Sequence):\n",
    "    abResDict = {\"Tet\":\"CTAGCAT\", \"Amp\":\"CACTACTG\"}\n",
    "\n",
    "pbr322 = Plasmid(\"ttctcatgtttgacagctta\")\n",
    "pbr322.seqstring"
   ]
  },
  {
   "cell_type": "code",
   "execution_count": 83,
   "metadata": {},
   "outputs": [
    {
     "data": {
      "text/plain": [
       "'AAGAGUACAAACUGUCGAAU'"
      ]
     },
     "execution_count": 83,
     "metadata": {},
     "output_type": "execute_result"
    }
   ],
   "source": [
    "pbr322.transcribe()"
   ]
  },
  {
   "cell_type": "code",
   "execution_count": 84,
   "metadata": {},
   "outputs": [
    {
     "data": {
      "text/plain": [
       "'TTCTCATGTTTGACAGCTTA'"
      ]
     },
     "execution_count": 84,
     "metadata": {},
     "output_type": "execute_result"
    }
   ],
   "source": [
    "## Add attributes and a method to the Plasmid class\n",
    "class Plasmid(Sequence):\n",
    "    abResDict = {\"Tet\":\"CTAGCAT\", \"Amp\":\"CACTACTG\"}\n",
    "    def __init__(self, seqstring, iname):\n",
    "        self.insert_name = iname\n",
    "        Sequence.__init__(self, seqstring)\n",
    "    def abRes(self, ab):\n",
    "        if self.abResDict[ab] in self.seqstring:\n",
    "            return True\n",
    "        else:\n",
    "            return False\n",
    "\n",
    "pbr322 = Plasmid(\"ttctcatgtttgacagctta\", \"Akt1\")\n",
    "pbr322.seqstring"
   ]
  },
  {
   "cell_type": "code",
   "execution_count": 85,
   "metadata": {},
   "outputs": [
    {
     "data": {
      "text/plain": [
       "False"
      ]
     },
     "execution_count": 85,
     "metadata": {},
     "output_type": "execute_result"
    }
   ],
   "source": [
    "pbr322.abRes('Tet')"
   ]
  },
  {
   "cell_type": "code",
   "execution_count": 86,
   "metadata": {},
   "outputs": [
    {
     "name": "stdout",
     "output_type": "stream",
     "text": [
      "Help on class Plasmid in module __main__:\n",
      "\n",
      "class Plasmid(Sequence)\n",
      " |  Plasmid(seqstring, iname)\n",
      " |  \n",
      " |  Method resolution order:\n",
      " |      Plasmid\n",
      " |      Sequence\n",
      " |      builtins.object\n",
      " |  \n",
      " |  Methods defined here:\n",
      " |  \n",
      " |  __init__(self, seqstring, iname)\n",
      " |      Initialize self.  See help(type(self)) for accurate signature.\n",
      " |  \n",
      " |  abRes(self, ab)\n",
      " |  \n",
      " |  ----------------------------------------------------------------------\n",
      " |  Data and other attributes defined here:\n",
      " |  \n",
      " |  abResDict = {'Amp': 'CACTACTG', 'Tet': 'CTAGCAT'}\n",
      " |  \n",
      " |  ----------------------------------------------------------------------\n",
      " |  Methods inherited from Sequence:\n",
      " |  \n",
      " |  transcribe(self)\n",
      " |  \n",
      " |  ----------------------------------------------------------------------\n",
      " |  Data descriptors inherited from Sequence:\n",
      " |  \n",
      " |  __dict__\n",
      " |      dictionary for instance variables (if defined)\n",
      " |  \n",
      " |  __weakref__\n",
      " |      list of weak references to the object (if defined)\n",
      " |  \n",
      " |  ----------------------------------------------------------------------\n",
      " |  Data and other attributes inherited from Sequence:\n",
      " |  \n",
      " |  TranscriptionTable = {'A': 'U', 'C': 'G', 'G': 'C', 'T': 'A'}\n",
      "\n"
     ]
    }
   ],
   "source": [
    "help(Plasmid)"
   ]
  },
  {
   "cell_type": "markdown",
   "metadata": {},
   "source": [
    "#### Polymorphism\n",
    "\n",
    "Polymorphism allows us to modify common operators and methods to behave in a specific way depending on object type. This means that we can create customized classes that still behave as one would expect a Python object to behave. We can do this using special class methods. \n",
    "\n",
    "#### Examples of Special Methods\n",
    "<table align=\"left\">\n",
    "<tr><td style=\"text-align:center\"><b>Method</b></td><td><b>Description</b></td></tr>\n",
    "<tr><td style=\"text-align:center\">`__init__()`</td><td>Executed every time an object is created</td></tr>\n",
    "<tr><td style=\"text-align:center\">`__repr__()`</td><td>Returns a string that is a unique representation of the object; result of `repr(object)`</td></tr>\n",
    "<tr><td style=\"text-align:center\">`__str__()`</td><td>Returns a string to be displayed when the object is printed; result of `str(object)`</td></tr>\n",
    "<tr><td style=\"text-align:center\">`__len__()`</td><td>Returns a length value for the object; result of `len(object)`</td></tr>\n",
    "<tr><td style=\"text-align:center\">`__add__()`</td><td>Specifies the behavior of the `+` operator</td></tr>\n",
    "</table>"
   ]
  },
  {
   "cell_type": "markdown",
   "metadata": {},
   "source": [
    "[https://docs.python.org/2/reference/datamodel.html#special-method-names](https://docs.python.org/2/reference/datamodel.html#special-method-names)"
   ]
  },
  {
   "cell_type": "markdown",
   "metadata": {},
   "source": [
    "#### Encapsulation\n",
    "\n",
    "Encapsulation allows us to keep portions of code (variables, methods) private, meaning they are not viewable or usable. This allows us to control how others use our code. In Python, \"mangling\" allows us to make variables and methods <i>less</i> visible. To create a mangled variable or method, place two underscores before the variable or method name.\n",
    "\n",
    "    __MangledVar = 13\n",
    "    \n",
    "    def __MangledMethod(self, msg):\n",
    "        print \"Secret Message: \" + str(msg)\n"
   ]
  },
  {
   "cell_type": "markdown",
   "metadata": {},
   "source": [
    "Mangled variables or methods can still be accessed, but the class name must be included.\n",
    "\n",
    "    object._ClassName__MangledVar"
   ]
  },
  {
   "cell_type": "code",
   "execution_count": null,
   "metadata": {},
   "outputs": [],
   "source": [
    "## Define a class with a mangled attribute\n",
    "class MangledMsg:\n",
    "    __version = 1.0\n",
    "    def __init__(self, msg):\n",
    "        self.msg = msg\n",
    "\n",
    "mang_obj = MangledMsg(\"Hello, world!\")\n",
    "print(mang_obj._MangledMsg__version)"
   ]
  },
  {
   "cell_type": "code",
   "execution_count": null,
   "metadata": {},
   "outputs": [],
   "source": [
    "print(mang_obj.__version)"
   ]
  },
  {
   "cell_type": "markdown",
   "metadata": {},
   "source": [
    "### The `Exception` Class\n",
    "\n",
    "An exception is a signal that an error has occured. We'll talk about exceptions more when we dicuss error checking and code testing.\n",
    "\n",
    "#### Creating Custom Exceptions\n",
    "\n",
    "We can create a custom exception class by inheriting from the base `Exception` class."
   ]
  },
  {
   "cell_type": "code",
   "execution_count": 87,
   "metadata": {},
   "outputs": [],
   "source": [
    "## A custom exception to be raised when we encounter\n",
    "## an odd number\n",
    "class NotEvenNumberError(Exception):\n",
    "    def __init__(self, num):\n",
    "        self.num = num\n",
    "    def __str__(self):\n",
    "        return str(self.num) + \" is not an even number!\""
   ]
  },
  {
   "cell_type": "code",
   "execution_count": 92,
   "metadata": {},
   "outputs": [
    {
     "ename": "NotEvenNumberError",
     "evalue": "2 is not an even number!",
     "output_type": "error",
     "traceback": [
      "\u001b[0;31m---------------------------------------------------------------------------\u001b[0m",
      "\u001b[0;31mNotEvenNumberError\u001b[0m                        Traceback (most recent call last)",
      "\u001b[0;32m<ipython-input-92-60457ad180e1>\u001b[0m in \u001b[0;36m<module>\u001b[0;34m\u001b[0m\n\u001b[1;32m      4\u001b[0m     \u001b[0;32mraise\u001b[0m \u001b[0mNotEvenNumberError\u001b[0m\u001b[0;34m(\u001b[0m\u001b[0mnum\u001b[0m\u001b[0;34m)\u001b[0m\u001b[0;34m\u001b[0m\u001b[0;34m\u001b[0m\u001b[0m\n\u001b[1;32m      5\u001b[0m \u001b[0;32melse\u001b[0m\u001b[0;34m:\u001b[0m\u001b[0;34m\u001b[0m\u001b[0;34m\u001b[0m\u001b[0m\n\u001b[0;32m----> 6\u001b[0;31m     \u001b[0;32mraise\u001b[0m \u001b[0mNotEvenNumberError\u001b[0m\u001b[0;34m(\u001b[0m\u001b[0mnum\u001b[0m\u001b[0;34m)\u001b[0m\u001b[0;34m\u001b[0m\u001b[0;34m\u001b[0m\u001b[0m\n\u001b[0m",
      "\u001b[0;31mNotEvenNumberError\u001b[0m: 2 is not an even number!"
     ]
    }
   ],
   "source": [
    "## Use the raise statement to activate your exception\n",
    "num = 2\n",
    "if num % 2 != 0:\n",
    "    raise NotEvenNumberError(num)"
   ]
  },
  {
   "cell_type": "markdown",
   "metadata": {},
   "source": [
    "## Python Modules\n",
    "\n",
    "Modules are files containing code that can be easily imported and re-used. There are a number of built-in modules that are included with the standard Python installation. We've seen some of these already, such as `csv`, `re`, `random`, etc.\n",
    "\n",
    "    import os\n",
    "    os.listdir(\".\")  ## lists files in the current directory\n",
    "    os.getcwd()  ## prints the current directory\n",
    "    \n",
    "    import random as ran ## use 'as' to rename a module\n",
    "    ran.randint(0,10)\n",
    "    \n",
    "We can also import specific functions or variables that can be called without the module name.\n",
    "\n",
    "    from random import randint\n",
    "    randint(1,6)"
   ]
  },
  {
   "cell_type": "markdown",
   "metadata": {},
   "source": [
    "### Installing Modules\n",
    "\n",
    "Installing modules using the `pip` package manager:\n",
    "    \n",
    "    pip install <package-name>\n",
    "\n",
    "To install a package from source, first download and decompress the source package. Then change to the source directory and execute the following command:\n",
    "    \n",
    "    python setup.py install\n",
    "    \n",
    "A list of available packages: [http://pypi.python.org/pypi](http://pypi.python.org/pypi)\n"
   ]
  },
  {
   "cell_type": "markdown",
   "metadata": {},
   "source": [
    "### Creating Your Own Modules\n",
    "\n",
    "A module can be any function(s) we define and save as a `.py` file. We would import our module as follows:\n",
    "\n",
    "    import my_module  ## imports my_module.py\n",
    "\n",
    "Make sure that your module (`my_module.py`) is located in the same directory as your program or in the `Python Path`.\n",
    "\n",
    "    import sys\n",
    "    print(sys.path)\n",
    "    sys.path.append(\"/home/mooneymi/mymodules\")\n",
    "    \n",
    "** Caution: Don't name your module the same as common Python modules (e.g. sys, csv, re, random). This can lead to faulty code.\n",
    "\n",
    "Note that importing a module with the `import` statment will work only once per session in the Python interpreter. Use the `reload()` function, from the `importlib` module (or the `imp` module before Python 3.4), if you have made changes to the module and want to re-import the module. (In Python 2, the `reload()` function is built-in, so you will not have to import it.) \n",
    "\n",
    "    from importlib import reload\n",
    "    reload(my_module)"
   ]
  },
  {
   "cell_type": "markdown",
   "metadata": {},
   "source": [
    "#### Why create modules?\n",
    "\n",
    "- Portability of tools\n",
    "- Code organization\n",
    "- Specify default values/parameters\n",
    "- Sharing code with others (dissemination, publication)\n",
    "    - Packages: \"collections\" of modules (allows modules to be grouped under a common name)\n",
    "    - [http://pypi.python.org/pypi](http://pypi.python.org/pypi)"
   ]
  },
  {
   "cell_type": "markdown",
   "metadata": {},
   "source": [
    "#### Execution as a Main Program\n",
    "\n",
    "Although modules often contain code extensions (i.e. functions that can be called by another program), in certain circumstances we might want to execute the module itself as a stand-alone program:\n",
    "\n",
    "    python my_module.py\n",
    "\n",
    "At the end of the `my_module.py` module we would place the following code:\n",
    "\n",
    "    if __name__ == \"__main__\":\n",
    "        ## code to run when module is executed from command-line, but NOT when it is imported\n",
    "    \n"
   ]
  },
  {
   "cell_type": "markdown",
   "metadata": {},
   "source": [
    "Variables with double underscores ( `__name__` ) are special built-in Python variables. The `__name__` variable contains the module name, and programs can use it to determine from where they have been executed."
   ]
  },
  {
   "cell_type": "markdown",
   "metadata": {},
   "source": [
    "## In-Class Exercises"
   ]
  },
  {
   "cell_type": "code",
   "execution_count": null,
   "metadata": {},
   "outputs": [],
   "source": [
    "## Exercise 1.\n",
    "## Write a function that parses the microarray annotation file \n",
    "## (as you did last week). The function should take one \n",
    "## argument (the path to the file) and should return a list \n",
    "## of probe IDs and a list of gene symbols.\n",
    "##\n",
    "file_name = \"./data/annot_test.txt\"\n",
    "\n",
    "def parse_array(file):\n",
    "    ...\n",
    "    return (probes, genes)\n"
   ]
  },
  {
   "cell_type": "code",
   "execution_count": null,
   "metadata": {},
   "outputs": [],
   "source": [
    "## Exercise 2. \n",
    "## Create a module that contains the above function.\n",
    "## Import the module and use the function to assign \n",
    "## the two lists to variables.\n",
    "##\n",
    "## function definition saved in my_module.py\n",
    "\n",
    "import my_module\n",
    "\n",
    "probes, genes = my_module.parse_array(file_name)"
   ]
  },
  {
   "cell_type": "code",
   "execution_count": 94,
   "metadata": {},
   "outputs": [
    {
     "name": "stdout",
     "output_type": "stream",
     "text": [
      "hello world\n"
     ]
    }
   ],
   "source": [
    "print(\"hello \\\n",
    "world\")"
   ]
  },
  {
   "cell_type": "markdown",
   "metadata": {},
   "source": [
    "## References\n",
    "\n",
    "- <u>Python for Bioinformatics</u>, Sebastian Bassi, CRC Press (2010)\n",
    "- <u>Python Essential Reference</u>, David Beazley, 4th Edition, Addison‐Wesley (2008)\n",
    "- [http://docs.python.org/](http://docs.python.org/)\n",
    "- [https://docs.python.org/2/howto/functional.html](https://docs.python.org/2/howto/functional.html)\n",
    "- [https://docs.python.org/2/tutorial/errors.html#user-defined-exceptions](https://docs.python.org/2/tutorial/errors.html#user-defined-exceptions)\n",
    "\n",
    "#### Last Updated: 17-Sep-2019"
   ]
  }
 ],
 "metadata": {
  "anaconda-cloud": {},
  "kernelspec": {
   "display_name": "Python 3",
   "language": "python",
   "name": "python3"
  },
  "language_info": {
   "codemirror_mode": {
    "name": "ipython",
    "version": 3
   },
   "file_extension": ".py",
   "mimetype": "text/x-python",
   "name": "python",
   "nbconvert_exporter": "python",
   "pygments_lexer": "ipython3",
   "version": "3.7.2"
  }
 },
 "nbformat": 4,
 "nbformat_minor": 1
}
