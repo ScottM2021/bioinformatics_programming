{
 "cells": [
  {
   "cell_type": "markdown",
   "metadata": {},
   "source": [
    "# BMI565: Bioinformatics Programming & Scripting\n",
    "\n",
    "#### (C) Michael Mooney (mooneymi@ohsu.edu)\n",
    "\n",
    "## Week 4: BioPython - Entrez E-utilities\n",
    "\n",
    "1. NCBI - Entrez Databases\n",
    "2. E-Utils\n",
    "    - `Entrez.esearch()`\n",
    "    - `Entrez.esummary()`\n",
    "    - `Entrez.efetch()`\n",
    "    - `Entrez.epost()`\n",
    "    - `Entrez.einfo()`\n",
    "\n",
    "#### Requirements\n",
    "\n",
    "- Python 2.7 or 3.5\n",
    "- `Bio` (BioPython) module\n",
    "- Miscellaneous Files\n",
    "    - `./images/ncbi_ids.jpg`"
   ]
  },
  {
   "cell_type": "code",
   "execution_count": 1,
   "metadata": {},
   "outputs": [],
   "source": [
    "from __future__ import print_function, division"
   ]
  },
  {
   "cell_type": "markdown",
   "metadata": {
    "heading_collapsed": true
   },
   "source": [
    "## NCBI - Entrez Databases\n",
    "\n",
    "- Global Query Cross‐Database Search System\n",
    "    - Allows metasearch of NCBI health science repository\n",
    "    - National Center for Biotechnology Information (NBCI) started GenBank in 1992\n",
    "    - [http://www.ncbi.nlm.nih.gov/gquery/](http://www.ncbi.nlm.nih.gov/gquery/)\n",
    "- E-utilities\n",
    "    - Supported by NCBI to provide a stable interface to Entrez query and database system\n",
    "    - Queries are submitted via web URLs and XML formatted data is returned\n",
    "    - The `Entrez` module from BioPython provides a programming interface to E-utils\n",
    "        - Make no more than 3 queries per second (enforced by BioPython)\n",
    "        - Queries should be accompanied by your email address\n",
    "        - For large/regular queries consider downloading and accessing a local copy of the database"
   ]
  },
  {
   "cell_type": "markdown",
   "metadata": {},
   "source": [
    "## E-Utils\n",
    "\n",
    "[http://biopython.org/DIST/docs/tutorial/Tutorial.html](http://biopython.org/DIST/docs/tutorial/Tutorial.html)\n",
    "\n",
    "NCBI limits the frequency of requests sent to its server:<br />\n",
    "[https://ncbiinsights.ncbi.nlm.nih.gov/2017/11/02/new-api-keys-for-the-e-utilities/](https://ncbiinsights.ncbi.nlm.nih.gov/2017/11/02/new-api-keys-for-the-e-utilities/)"
   ]
  },
  {
   "cell_type": "markdown",
   "metadata": {},
   "source": [
    "### `Entrez.esearch()`\n",
    "\n",
    "[http://www.ncbi.nlm.nih.gov/books/NBK25499/#chapter4.ESearch](http://www.ncbi.nlm.nih.gov/books/NBK25499/#chapter4.ESearch)\n",
    "\n",
    "The `Entrez.esearch()` function allows you to search specific NCBI databases for entries that match a specified search term. The function will return a list of unique identifiers (UIDs). The type of UID will depend on the database searched. By default, only the first 20 records are returned (use the `retmax` parameter to change this).\n",
    "\n",
    "<img src=\"./images/ncbi_ids.jpg\" align=\"left\"/>"
   ]
  },
  {
   "cell_type": "code",
   "execution_count": 2,
   "metadata": {},
   "outputs": [],
   "source": [
    "from Bio import Entrez"
   ]
  },
  {
   "cell_type": "code",
   "execution_count": 3,
   "metadata": {},
   "outputs": [
    {
     "name": "stdout",
     "output_type": "stream",
     "text": [
      "Help on function esearch in module Bio.Entrez:\n",
      "\n",
      "esearch(db, term, **keywds)\n",
      "    Run an Entrez search and return a handle to the results.\n",
      "    \n",
      "    ESearch searches and retrieves primary IDs (for use in EFetch, ELink\n",
      "    and ESummary) and term translations, and optionally retains results\n",
      "    for future use in the user's environment.\n",
      "    \n",
      "    See the online documentation for an explanation of the parameters:\n",
      "    http://www.ncbi.nlm.nih.gov/books/NBK25499/#chapter4.ESearch\n",
      "    \n",
      "    Return a handle to the results which are always in XML format.\n",
      "    \n",
      "    Raises an IOError exception if there's a network error.\n",
      "    \n",
      "    Short example:\n",
      "    \n",
      "    >>> from Bio import Entrez\n",
      "    >>> Entrez.email = \"Your.Name.Here@example.org\"\n",
      "    >>> handle = Entrez.esearch(db=\"nucleotide\", retmax=10, term=\"opuntia[ORGN] accD\", idtype=\"acc\")\n",
      "    >>> record = Entrez.read(handle)\n",
      "    >>> handle.close()\n",
      "    >>> int(record[\"Count\"]) >= 2\n",
      "    True\n",
      "    >>> \"EF590893.1\" in record[\"IdList\"]\n",
      "    True\n",
      "    >>> \"EF590892.1\" in record[\"IdList\"]\n",
      "    True\n",
      "\n"
     ]
    }
   ],
   "source": [
    "help(Entrez.esearch)"
   ]
  },
  {
   "cell_type": "code",
   "execution_count": 4,
   "metadata": {},
   "outputs": [
    {
     "data": {
      "text/plain": [
       "dict_keys(['Count', 'RetMax', 'RetStart', 'IdList', 'TranslationSet', 'TranslationStack', 'QueryTranslation'])"
      ]
     },
     "execution_count": 4,
     "metadata": {},
     "output_type": "execute_result"
    }
   ],
   "source": [
    "## Provide your email address\n",
    "email = \"mooneymi@ohsu.edu\"\n",
    "Entrez.email = email\n",
    "\n",
    "## Submit a query\n",
    "handle = Entrez.esearch(db=\"nuccore\", term=\"sonic\")\n",
    "\n",
    "## Entrez.read() parses XML results\n",
    "## A dictionary is returned\n",
    "record = Entrez.read(handle)\n",
    "record.keys()"
   ]
  },
  {
   "cell_type": "code",
   "execution_count": 5,
   "metadata": {},
   "outputs": [
    {
     "data": {
      "text/plain": [
       "['1435204407', '1737764336', '1737725602', '1519313790', '1377038066', '1377038045', '1377038028', '1377038018', '1285032919', '1285032844', '1104469592', '1063759739', '806776661', '806776660', '557636687', '557636676', '547235320', '547234831', '479277987', '312839895']"
      ]
     },
     "execution_count": 5,
     "metadata": {},
     "output_type": "execute_result"
    }
   ],
   "source": [
    "ids = record[\"IdList\"]\n",
    "ids"
   ]
  },
  {
   "cell_type": "code",
   "execution_count": 6,
   "metadata": {},
   "outputs": [
    {
     "data": {
      "text/plain": [
       "'2318'"
      ]
     },
     "execution_count": 6,
     "metadata": {},
     "output_type": "execute_result"
    }
   ],
   "source": [
    "record[\"Count\"]"
   ]
  },
  {
   "cell_type": "code",
   "execution_count": 7,
   "metadata": {},
   "outputs": [],
   "source": [
    "handle.close()"
   ]
  },
  {
   "cell_type": "markdown",
   "metadata": {},
   "source": [
    "### `Entrez.esummary()`\n",
    "\n",
    "The `Entrez.esummary()` function provides a document summary for a specified UID. The provided summary is useful for initial filtering of the UID list returned by `Entrez.esearch()`.\n",
    "\n",
    "#### UIDs Matter!\n",
    "\n",
    "When searching multiple databases, make sure to use the appropriate UID for the given database. \n",
    "\n",
    "For example, <b>Gene ID != GI number</b> (although both are integers)."
   ]
  },
  {
   "cell_type": "code",
   "execution_count": 8,
   "metadata": {},
   "outputs": [
    {
     "data": {
      "text/plain": [
       "[{'Item': [], 'Id': '1435204407', 'Caption': 'NM_021926', 'Title': 'Homo sapiens ALX homeobox 4 (ALX4), mRNA', 'Extra': 'gi|1435204407|ref|NM_021926.4|[1435204407]', 'Gi': IntegerElement(1435204407, attributes={}), 'CreateDate': '2000/12/01', 'UpdateDate': '2019/09/15', 'Flags': IntegerElement(512, attributes={}), 'TaxId': IntegerElement(9606, attributes={}), 'Length': IntegerElement(5727, attributes={}), 'Status': 'live', 'ReplacedBy': '', 'Comment': '  ', 'AccessionVersion': 'NM_021926.4'}]"
      ]
     },
     "execution_count": 8,
     "metadata": {},
     "output_type": "execute_result"
    }
   ],
   "source": [
    "handle = Entrez.esummary(db=\"nuccore\", id=ids[0])\n",
    "summary = Entrez.read(handle)\n",
    "summary"
   ]
  },
  {
   "cell_type": "code",
   "execution_count": 9,
   "metadata": {},
   "outputs": [
    {
     "name": "stdout",
     "output_type": "stream",
     "text": [
      "Item: []\n",
      "Id: 1435204407\n",
      "Caption: NM_021926\n",
      "Title: Homo sapiens ALX homeobox 4 (ALX4), mRNA\n",
      "Extra: gi|1435204407|ref|NM_021926.4|[1435204407]\n",
      "Gi: 1435204407\n",
      "CreateDate: 2000/12/01\n",
      "UpdateDate: 2019/09/15\n",
      "Flags: 512\n",
      "TaxId: 9606\n",
      "Length: 5727\n",
      "Status: live\n",
      "ReplacedBy: \n",
      "Comment:   \n",
      "AccessionVersion: NM_021926.4\n"
     ]
    }
   ],
   "source": [
    "for k,v in summary[0].items():\n",
    "    print(k+\":\", v)"
   ]
  },
  {
   "cell_type": "code",
   "execution_count": 10,
   "metadata": {},
   "outputs": [],
   "source": [
    "handle.close()"
   ]
  },
  {
   "cell_type": "markdown",
   "metadata": {},
   "source": [
    "### `Entrez.efetch`\n",
    "\n",
    "The `Entrez.efetch()` function retrieves entire records in a specified format. In addition to the `database` and `id` parameters, you can specify the retrieval type `rettype` and retrieval mode `retmode` parameters. \n",
    "\n",
    "[http://www.ncbi.nlm.nih.gov/books/NBK25499/#_chapter4_EFetch_](http://www.ncbi.nlm.nih.gov/books/NBK25499/#_chapter4_EFetch_)"
   ]
  },
  {
   "cell_type": "code",
   "execution_count": 11,
   "metadata": {},
   "outputs": [
    {
     "name": "stdout",
     "output_type": "stream",
     "text": [
      ">NM_021926.4 Homo sapiens ALX homeobox 4 (ALX4), mRNA\n",
      "AAACTCCCAGCCAAGGCGCGCGGTGGCGTCCTCGCGCCCTCGCTCGCGTCCCCGCCCGCCGCCTGCGCAA\n",
      "GCCAGGCATGAATGCTGAGACTTGCGTCTCTTACTGCGAGTCGCCGGCCGCTGCCATGGACGCCTACTAC\n",
      "AGCCCGGTGTCGCAGAGTCGGGAGGGCTCGTCGCCTTTTAGGGCATTTCCCGGAGGCGACAAGTTCGGCA\n",
      "CAACTTTCCTGTCGGCCGCCGCCAAAGCACAGGGATTCGGGGACGCCAAGAGCCGGGCCCGTTACGGCGC\n",
      "TGGGCAGCAGGACCTGGCGACACCCCTGGAGAGTGGAGCTGGGGCGCGGGGCTCCTTTAACAAGTTCCAG\n",
      "CCCCAGCCGTCGACCCCGCAGCCCCAGCCGCCGCCGCAGCCGCAGCCGCAGCAGCAGCAGCCGCAGCCCC\n",
      "AGCCGCCCGCGCAACCGCATCTTTACTTGCAGCGAGGCGCCTGCAAGACGCCCCCGGACGGCAGCCTCAA\n",
      "ACTCCAGGAAGGCAGCAGCGGCCACAGCGCGGCCTTGCAGGTTCCCTGCTACGCTAAAGAGAGCTCCCTG\n",
      "GGTGAGCCAGAGTTACCCCCTGACTCTGACACTGTGGGGATGGACAGCAGCTACCTGAGTGTCAAGGAGG\n",
      "CTGGGGTGAAGGGGCCCCAGGACCGGGCCAGCTCAGACCTCCCCAGCCCATTGGAGAAGGCCGACTCAGA\n",
      "GAGCAACAAGGGCAAGAAGCGGCGGAACCGGACCACCTTCACCAGCTACCAGCTGGAGGAGCTGGAGAAG\n",
      "GTCTTCCAGAAGACCCACTACCCAGACGTGTATGCGCGGGAACAGCTGGCCATGAGGACAGACCTCACTG\n",
      "AGGCCCGCGTGCAGGTCTGGTTCCAGAACCGAAGGGCCAAGTGGAGGAAGCGGGAGCGTTTTGGGCAGAT\n",
      "GCAGCAGGTTCGAACCCACTTCTCCACTGCATATGAGCTGCCCCTCCTCACCCGAGCTGAGAACTACGCC\n",
      "CAGATTCAGAACCCGTCCTGGCTCGGCAACAACGGGGCTGCCTCACCAGTGCCAGCCTGCGTGGTCCCCT\n",
      "GCGACCCGGTGCCTGCCTGCATGTCCCCTCATGCCCACCCCCCTGGCTCTGGGGCCAGCAGCGTCACCGA\n",
      "CTTCCTGAGTGTGTCTGGGGCTGGCAGTCACGTGGGCCAGACGCACATGGGCAGCCTGTTTGGAGCAGCC\n",
      "AGCCTCAGCCCAGGCCTCAATGGCTACGAGCTCAACGGCGAGCCGGACCGCAAGACCTCGAGCATCGCGG\n",
      "CCCTCCGCATGAAGGCCAAGGAGCACAGTGCGGCCATTTCCTGGGCCACATGACAGGGCACCCCTGCCCC\n",
      "GTCCCCACCTCGGGACACCATGGGCCACGCCCATGTTTTCCAGGCCCCCAGCCTCCCACTCGACTTTCCT\n",
      "CTTAGGAACCTGGCCTGGGCCAGGGGCCTGACCCTCAGCACTTTCAGCCGCCCCAAGTCTGAGGCCCCGT\n",
      "GGACTGCTGGGAGGGAGGGGGCAGCAGGCCCCTGGCCCCTCCCTGGCACTGAGGCCCTGACCCCTGCTCC\n",
      "CGGCCACAGGCAGTGGAGAAAGCCAGGTGGCCACGTTTTTCAGCTTCGCATCCATGATAAGCTGAAAGCG\n",
      "CTTTCTTGCTCCCGCCCACTCCTCTGCTCTGCCTAGTTGACCATGAGTCAATGCTAGATTTCCATGCAGA\n",
      "CCCAGCAGCCTCACCAGCCCAGTCTTGTCCATCCTTCCCGCTCCTAGTGGGGTCCCCTGGTCACCAGGCC\n",
      "GGTGGCTGTGTGTCTGAAGCACAGGCTGCCCTGCAGAGCCAGCCTCCTGCCCTCCCATCTTTCTCTCCCT\n",
      "GAAAGCACACGGAATCCGACCTGCTGGGGCCAAGGCGCCAGCCTCCACCTCCCCCCGAACAGTGACGAGT\n",
      "CTGACAGAGCCTGGCTGACTGCATCCTGGCTGTCCCCTAGGCTGGATACACCTGGAGAGAGTGGGCAGAG\n",
      "GATGACAGGAGCTGGAGCCGAGGACCCCTGCTGCCATCTAGCAATGCCAGTCCCCAGGGGAGACACGGGC\n",
      "CAGCCCCTCACTGGACACTATAGGGGAGGAGCCAGACCTGAGGGAGGCTGAGAACACAGATGCCACAAGG\n",
      "GCTCCCATGGTGCTAGAAGAAGGAAAGGTCCTGGGAGAGGGGGAGGCATCCGGGTGGGGCGTGGGCCCGG\n",
      "GCAGTCCTCCCGCTCTCCGGCCTGCCTGGCATCTGGTACAGCGGGGAGGTCTGGGCAGCTTTGTTCTCCA\n",
      "TCCAGAGCCCAGTCAGGTTCCCTCCAGGAGGATGCGGAGGGGCTCGTCTCTTCCCTGCCCTACCCTGGCC\n",
      "CCTCCCTGGGGCTGCTCAGCAGTGTCCCGGCATGGAAGGACTCACAACTTCGGAACACATAAGCTAGAGC\n",
      "TTGGGGGCCGGGTGGCAGAGGGTCAAAAGCTGCGTGCAGGCTTTGCTAGAGGACGTGTGGCCATGCTCGG\n",
      "CCTCCAGGCCCTGCTATGGCCTCAAACTGACTGTCCTCCCTGCCATATCTGTCAGTGTCATCGCTGCCCA\n",
      "GAGCCTTCCACGGCAGATGGGGGCTCTGTGTCCCTCCAGGCACTAGGAGGTGTTGCTCTTCTCCACACAG\n",
      "CTTTCCACACTCCGTCCTTACACTTCTTCCACAGGGACCAGGACTCTCTGCCCTCTCTCCAGCCTGCGGA\n",
      "AGGGCTCCTGGCCTGGGCTCCTCGGTGTGGCTTTGCTATTGCAAATGGGGCTGTCAGGATGCCCTCCTGA\n",
      "AACCAGGCTTCCTGCCTCCAGGAAGCGGGGCTCTGTGCCTGCCTGCCCGACCCCTGTAGCTTGGGTCTGG\n",
      "CCCTGAGCCCCAGCCCTCACCTCAGCTGGGAGTACACAGTAACCGTCCAGAGGCAGGCCTGTCAGACCCC\n",
      "AGGTGGGGGGTCCCTCCAGCAGGCAGCGCCCCGCATTGAAGCGCTCGCCTTTTCTACCTTCTCCCTTGAT\n",
      "TCCTGTCATGGAGTAGGGCCAGGCCCACTATGCTCAGGGTCGTGGACACAGAAAGGCCTCCTGGGTTGGG\n",
      "CGGAGGGTAAACTTGGTGTTGTTGAATGAGGGTCTCTGGGGTTGGGGGTGACAGTCTCCCGCCTGCCTGG\n",
      "TGTTCTCATCTGCTCTAGAAACCAGGCTGAGGAAGGGTCTGGCTGTGGCCTCCCTTAATGAGTCAGACCT\n",
      "CTTTGTGAACCGTAGCTCTAAAATGGATCTTATAGAGGTGAAAGGGTCTTGGACATTGAATTAAATGTTC\n",
      "TTGGAGGCTTGGCTTTAAGTGTTTCAAATATTTGAGGATTTGGAGTGACTTTTGGGAAGTTTTTTCTAGT\n",
      "TCTGAGGTTCGCTGAAATGACCCAGACTCCCCCAAAATCTAGCCAGGGAAAGGAAGAACTTAAGGCTGGG\n",
      "AACAGTTTCCCCATTTCTCCCCCCTTTCCTTCTGAAATGCTCATGGCTGAGGAAGGATGGGGAAGGAAGG\n",
      "AACTTTCACCTTGGGTCTTTCTCACCCATGAGAGAATCAGGACAAAGAGGAGGAGAGCCAGGTAGCTCCA\n",
      "GAGTGGGCCAGGAGGGAGAGCAAGGGAATCAGGACAAAGAGGAGGACAGACAGGTAGCTCCAGAGCAGGC\n",
      "AGGGAGGGAGAGTGAGAGCTTTAAGGGGGCTCTTCCGCAGTGGCCCCCGGCACTCAGTTCCTCCATGCGT\n",
      "CTGCTCTCTGGCTGGGCTAGACCCAAGTCAGGCAAATTTCAACCCAAAAGCTTGAGAAGAAAAGGCGTCT\n",
      "ATTAGAAGACTCTGTGGCTATGGCTGCCTGTCCCAACACACCCAGGAAGTGTCTAGGATTAAACATGCCA\n",
      "ATGTGAAACATTCCTGTTCATCTCGTCAAAGGCAGCCACGTACCCCAGGCCTGTCCTCTGTGGCTTGGCC\n",
      "CAGCCCTTGGGGGCCACCTAACCACACTAAGTATGATAGGACCACCGAGTTGGGAGGAAGCTTAGAAACC\n",
      "CTCTAGTTAGTCCAGTCCCTTCACAACAGAGAAGACCCTGGCCCAGAGTGGAGACATGACTGCCCTGACC\n",
      "TGTACTTGCCCTGAGACTAGGCTGAGAGAGGAGCCTGGGACGTGCCACCCAGGGTGTGAGGGCCTGGGCT\n",
      "TCGTTGGCACCAGGGGCGGCCGGTGCTGCATGGAGCTCCCCTCTCCAATGCCTCATGGGCATTCACTCAG\n",
      "CAGCTCAGTTCTCCAGAAGAGAACCTTGGGGCCCAGTCCCTTCCAAGACAGGTGGCTAGGCCCAACCTTC\n",
      "TGCACTGCAGAGCAGGGGGCCACTGCCGTGTCAGCTCCTAGGATGACTGAGCAAGTCAGGGCAGCTGCCC\n",
      "AAGGCCATCTGGAGCTAAAGCTCATGAAGGCAGGTGGAGAGAAGCATCTACCTGCCACGTGGTTCATTGC\n",
      "TATGCGAATAAGCTAAGAGAGGTGAGGATTTCCTTTGGATACCTGCCTAAGATCTCAACAGAGATGGCAA\n",
      "CTTAAAAATAAAGTCGTGGGTAGCCGGCAGATGGATGGGCAGCCTCCCCACACTGACAGCCTCCAGTCCC\n",
      "TGCTGGGCACAGGTCTCAGCATGGCAAGGCTTGACACTAAGGTGCTGCTACTGCCCTCCAGATGCCAGCA\n",
      "CTACTCCTGGGGCATGGGAGCGAGGGCTCTGGGGGGCACACAGAGAGGCTTGTCTCCAAGGCTGAAATAG\n",
      "CACTTGGAGGACATGGGCTTTTAGAACTTTCCTTGAATTCTTTTAACTATACTTGATTCTCAGCGCTCAC\n",
      "TACCGTGCCTCCAGCTTCGGGAAGCACGGTGGCCAGGTTAGCTCAAAGACACTGCGATGGGGTAGGTGCA\n",
      "GCAAGTGTGGGGTGGGTCCCCAGCACACACAGCTGTGATCACACTGGACCCAGCTCCGTGCCCCATCTCC\n",
      "TGTCATTTCGGCTGGGCAGACGAGGGACGCTTCCATGAAAACTACGTACCCTGCTTATGCAGTCATTCCC\n",
      "TCCCTGGGCTAGACAGTGGGGGGCCATCTTCGAGAACCTGAAAGACACGCGGGGGTTCCTGGTCTGTTTC\n",
      "ATGGCCCTTACTGTCCAGTGCAAAGGCAAACAGGCCTAGCTGGGGGAGGATGGTTGGTAAACTGGCCCCC\n",
      "AGGATAATACTCTGTGACTATCCAGTTAAAAAATAAGAAGGTGACAATGACCCATCAACCCCACTTCACT\n",
      "TCTTTCAGGATGCTGTAGGGAGGAAAGGTGCTTCCATGACCTAACCTCGGCCTCTCCTTTCTTCCCTCTT\n",
      "CACTCACACACATAGAGCTAGGCCTTTATACTACTGATTTTGAAGGACAGTTTTCAATGTCTAATCATCT\n",
      "GTTTAGGTGTGCAGTGGTTGAAAAAAGAAAGCTGAGTGCTAGAAGGAACATGAACCTCAACCGTTACTTA\n",
      "TTGTTCTCATTGTAAGATATTTTAACCCTGTATAAATGCAACTTTTCCTTTAGCTTAATGGCCTGGGGTG\n",
      "GAATATTAAAAATATATATTAAAAATACAGTAAAAATCCAGAAAAATGTAAAAAAAAAAATGAGGTCGGT\n",
      "TCCATAAAGTTTTACTGCCTATACCACCATGTAACTACATTATAGCAAAATATTAAAAGAAACGTTCTTG\n",
      "CCTTTTAAAGTAAGTTATTGCACTTACATCTTTTTTGGGAGAGGAGGAACACGGATGGGAAGGAGATGTA\n",
      "GGGGCCCAGGCATGGGGCAAAATGGAGTGCAGAGGTAGCCGGGCACTCCCAGAACACCCTTTGCTGGCCC\n",
      "AGCCCAAACTGTTTGGTTGTTGTTATTTGCAATAAACTCCTTCTCCTTCCTCCTCTC\n",
      "\n",
      "\n"
     ]
    }
   ],
   "source": [
    "## Use Entrez.efetch() to get a fasta record\n",
    "handle = Entrez.efetch(db=\"nuccore\", id=ids[0], rettype=\"fasta\", retmode=\"txt\")\n",
    "\n",
    "## Here we use the handle's read() method, not Entrez.read(),\n",
    "## since the retmode parameter is text, not XML\n",
    "fasta_record = handle.read()\n",
    "print(fasta_record)"
   ]
  },
  {
   "cell_type": "code",
   "execution_count": 12,
   "metadata": {},
   "outputs": [],
   "source": [
    "handle.close()"
   ]
  },
  {
   "cell_type": "code",
   "execution_count": 13,
   "metadata": {},
   "outputs": [
    {
     "data": {
      "text/plain": [
       "dict_keys(['TSeq_seqtype', 'TSeq_accver', 'TSeq_taxid', 'TSeq_orgname', 'TSeq_defline', 'TSeq_length', 'TSeq_sequence'])"
      ]
     },
     "execution_count": 13,
     "metadata": {},
     "output_type": "execute_result"
    }
   ],
   "source": [
    "## Use Entrez.efetch() to get a fasta record\n",
    "handle = Entrez.efetch(db=\"nuccore\", id=ids[0], rettype=\"fasta\", retmode=\"xml\")\n",
    "\n",
    "## Use Entrez.read() to parse XML output\n",
    "fasta_record = Entrez.read(handle)\n",
    "fasta_record[0].keys()"
   ]
  },
  {
   "cell_type": "code",
   "execution_count": 14,
   "metadata": {},
   "outputs": [
    {
     "data": {
      "text/plain": [
       "'9606'"
      ]
     },
     "execution_count": 14,
     "metadata": {},
     "output_type": "execute_result"
    }
   ],
   "source": [
    "fasta_record[0]['TSeq_taxid']"
   ]
  },
  {
   "cell_type": "code",
   "execution_count": 15,
   "metadata": {},
   "outputs": [
    {
     "data": {
      "text/plain": [
       "'AAACTCCCAGCCAAGGCGCGCGGTGGCGTCCTCGCGCCCTCGCTCGCGTCCCCGCCCGCCGCCTGCGCAAGCCAGGCATGAATGCTGAGACTTGCGTCTCTTACTGCGAGTCGCCGGCCGCTGCCATGGACGCCTACTACAGCCCGGTGTCGCAGAGTCGGGAGGGCTCGTCGCCTTTTAGGGCATTTCCCGGAGGCGACAAGTTCGGCACAACTTTCCTGTCGGCCGCCGCCAAAGCACAGGGATTCGGGGACGCCAAGAGCCGGGCCCGTTACGGCGCTGGGCAGCAGGACCTGGCGACACCCCTGGAGAGTGGAGCTGGGGCGCGGGGCTCCTTTAACAAGTTCCAGCCCCAGCCGTCGACCCCGCAGCCCCAGCCGCCGCCGCAGCCGCAGCCGCAGCAGCAGCAGCCGCAGCCCCAGCCGCCCGCGCAACCGCATCTTTACTTGCAGCGAGGCGCCTGCAAGACGCCCCCGGACGGCAGCCTCAAACTCCAGGAAGGCAGCAGCGGCCACAGCGCGGCCTTGCAGGTTCCCTGCTACGCTAAAGAGAGCTCCCTGGGTGAGCCAGAGTTACCCCCTGACTCTGACACTGTGGGGATGGACAGCAGCTACCTGAGTGTCAAGGAGGCTGGGGTGAAGGGGCCCCAGGACCGGGCCAGCTCAGACCTCCCCAGCCCATTGGAGAAGGCCGACTCAGAGAGCAACAAGGGCAAGAAGCGGCGGAACCGGACCACCTTCACCAGCTACCAGCTGGAGGAGCTGGAGAAGGTCTTCCAGAAGACCCACTACCCAGACGTGTATGCGCGGGAACAGCTGGCCATGAGGACAGACCTCACTGAGGCCCGCGTGCAGGTCTGGTTCCAGAACCGAAGGGCCAAGTGGAGGAAGCGGGAGCGTTTTGGGCAGATGCAGCAGGTTCGAACCCACTTCTCCACTGCATATGAGCTGCCCCTCCTCACCCGAGCTGAGAACTACGCCCAGATTCAGAACCCGTCCTGGCTCGGCAACAACGGGGCTGCCTCACCAGTGCCAGCCTGCGTGGTCCCCTGCGACCCGGTGCCTGCCTGCATGTCCCCTCATGCCCACCCCCCTGGCTCTGGGGCCAGCAGCGTCACCGACTTCCTGAGTGTGTCTGGGGCTGGCAGTCACGTGGGCCAGACGCACATGGGCAGCCTGTTTGGAGCAGCCAGCCTCAGCCCAGGCCTCAATGGCTACGAGCTCAACGGCGAGCCGGACCGCAAGACCTCGAGCATCGCGGCCCTCCGCATGAAGGCCAAGGAGCACAGTGCGGCCATTTCCTGGGCCACATGACAGGGCACCCCTGCCCCGTCCCCACCTCGGGACACCATGGGCCACGCCCATGTTTTCCAGGCCCCCAGCCTCCCACTCGACTTTCCTCTTAGGAACCTGGCCTGGGCCAGGGGCCTGACCCTCAGCACTTTCAGCCGCCCCAAGTCTGAGGCCCCGTGGACTGCTGGGAGGGAGGGGGCAGCAGGCCCCTGGCCCCTCCCTGGCACTGAGGCCCTGACCCCTGCTCCCGGCCACAGGCAGTGGAGAAAGCCAGGTGGCCACGTTTTTCAGCTTCGCATCCATGATAAGCTGAAAGCGCTTTCTTGCTCCCGCCCACTCCTCTGCTCTGCCTAGTTGACCATGAGTCAATGCTAGATTTCCATGCAGACCCAGCAGCCTCACCAGCCCAGTCTTGTCCATCCTTCCCGCTCCTAGTGGGGTCCCCTGGTCACCAGGCCGGTGGCTGTGTGTCTGAAGCACAGGCTGCCCTGCAGAGCCAGCCTCCTGCCCTCCCATCTTTCTCTCCCTGAAAGCACACGGAATCCGACCTGCTGGGGCCAAGGCGCCAGCCTCCACCTCCCCCCGAACAGTGACGAGTCTGACAGAGCCTGGCTGACTGCATCCTGGCTGTCCCCTAGGCTGGATACACCTGGAGAGAGTGGGCAGAGGATGACAGGAGCTGGAGCCGAGGACCCCTGCTGCCATCTAGCAATGCCAGTCCCCAGGGGAGACACGGGCCAGCCCCTCACTGGACACTATAGGGGAGGAGCCAGACCTGAGGGAGGCTGAGAACACAGATGCCACAAGGGCTCCCATGGTGCTAGAAGAAGGAAAGGTCCTGGGAGAGGGGGAGGCATCCGGGTGGGGCGTGGGCCCGGGCAGTCCTCCCGCTCTCCGGCCTGCCTGGCATCTGGTACAGCGGGGAGGTCTGGGCAGCTTTGTTCTCCATCCAGAGCCCAGTCAGGTTCCCTCCAGGAGGATGCGGAGGGGCTCGTCTCTTCCCTGCCCTACCCTGGCCCCTCCCTGGGGCTGCTCAGCAGTGTCCCGGCATGGAAGGACTCACAACTTCGGAACACATAAGCTAGAGCTTGGGGGCCGGGTGGCAGAGGGTCAAAAGCTGCGTGCAGGCTTTGCTAGAGGACGTGTGGCCATGCTCGGCCTCCAGGCCCTGCTATGGCCTCAAACTGACTGTCCTCCCTGCCATATCTGTCAGTGTCATCGCTGCCCAGAGCCTTCCACGGCAGATGGGGGCTCTGTGTCCCTCCAGGCACTAGGAGGTGTTGCTCTTCTCCACACAGCTTTCCACACTCCGTCCTTACACTTCTTCCACAGGGACCAGGACTCTCTGCCCTCTCTCCAGCCTGCGGAAGGGCTCCTGGCCTGGGCTCCTCGGTGTGGCTTTGCTATTGCAAATGGGGCTGTCAGGATGCCCTCCTGAAACCAGGCTTCCTGCCTCCAGGAAGCGGGGCTCTGTGCCTGCCTGCCCGACCCCTGTAGCTTGGGTCTGGCCCTGAGCCCCAGCCCTCACCTCAGCTGGGAGTACACAGTAACCGTCCAGAGGCAGGCCTGTCAGACCCCAGGTGGGGGGTCCCTCCAGCAGGCAGCGCCCCGCATTGAAGCGCTCGCCTTTTCTACCTTCTCCCTTGATTCCTGTCATGGAGTAGGGCCAGGCCCACTATGCTCAGGGTCGTGGACACAGAAAGGCCTCCTGGGTTGGGCGGAGGGTAAACTTGGTGTTGTTGAATGAGGGTCTCTGGGGTTGGGGGTGACAGTCTCCCGCCTGCCTGGTGTTCTCATCTGCTCTAGAAACCAGGCTGAGGAAGGGTCTGGCTGTGGCCTCCCTTAATGAGTCAGACCTCTTTGTGAACCGTAGCTCTAAAATGGATCTTATAGAGGTGAAAGGGTCTTGGACATTGAATTAAATGTTCTTGGAGGCTTGGCTTTAAGTGTTTCAAATATTTGAGGATTTGGAGTGACTTTTGGGAAGTTTTTTCTAGTTCTGAGGTTCGCTGAAATGACCCAGACTCCCCCAAAATCTAGCCAGGGAAAGGAAGAACTTAAGGCTGGGAACAGTTTCCCCATTTCTCCCCCCTTTCCTTCTGAAATGCTCATGGCTGAGGAAGGATGGGGAAGGAAGGAACTTTCACCTTGGGTCTTTCTCACCCATGAGAGAATCAGGACAAAGAGGAGGAGAGCCAGGTAGCTCCAGAGTGGGCCAGGAGGGAGAGCAAGGGAATCAGGACAAAGAGGAGGACAGACAGGTAGCTCCAGAGCAGGCAGGGAGGGAGAGTGAGAGCTTTAAGGGGGCTCTTCCGCAGTGGCCCCCGGCACTCAGTTCCTCCATGCGTCTGCTCTCTGGCTGGGCTAGACCCAAGTCAGGCAAATTTCAACCCAAAAGCTTGAGAAGAAAAGGCGTCTATTAGAAGACTCTGTGGCTATGGCTGCCTGTCCCAACACACCCAGGAAGTGTCTAGGATTAAACATGCCAATGTGAAACATTCCTGTTCATCTCGTCAAAGGCAGCCACGTACCCCAGGCCTGTCCTCTGTGGCTTGGCCCAGCCCTTGGGGGCCACCTAACCACACTAAGTATGATAGGACCACCGAGTTGGGAGGAAGCTTAGAAACCCTCTAGTTAGTCCAGTCCCTTCACAACAGAGAAGACCCTGGCCCAGAGTGGAGACATGACTGCCCTGACCTGTACTTGCCCTGAGACTAGGCTGAGAGAGGAGCCTGGGACGTGCCACCCAGGGTGTGAGGGCCTGGGCTTCGTTGGCACCAGGGGCGGCCGGTGCTGCATGGAGCTCCCCTCTCCAATGCCTCATGGGCATTCACTCAGCAGCTCAGTTCTCCAGAAGAGAACCTTGGGGCCCAGTCCCTTCCAAGACAGGTGGCTAGGCCCAACCTTCTGCACTGCAGAGCAGGGGGCCACTGCCGTGTCAGCTCCTAGGATGACTGAGCAAGTCAGGGCAGCTGCCCAAGGCCATCTGGAGCTAAAGCTCATGAAGGCAGGTGGAGAGAAGCATCTACCTGCCACGTGGTTCATTGCTATGCGAATAAGCTAAGAGAGGTGAGGATTTCCTTTGGATACCTGCCTAAGATCTCAACAGAGATGGCAACTTAAAAATAAAGTCGTGGGTAGCCGGCAGATGGATGGGCAGCCTCCCCACACTGACAGCCTCCAGTCCCTGCTGGGCACAGGTCTCAGCATGGCAAGGCTTGACACTAAGGTGCTGCTACTGCCCTCCAGATGCCAGCACTACTCCTGGGGCATGGGAGCGAGGGCTCTGGGGGGCACACAGAGAGGCTTGTCTCCAAGGCTGAAATAGCACTTGGAGGACATGGGCTTTTAGAACTTTCCTTGAATTCTTTTAACTATACTTGATTCTCAGCGCTCACTACCGTGCCTCCAGCTTCGGGAAGCACGGTGGCCAGGTTAGCTCAAAGACACTGCGATGGGGTAGGTGCAGCAAGTGTGGGGTGGGTCCCCAGCACACACAGCTGTGATCACACTGGACCCAGCTCCGTGCCCCATCTCCTGTCATTTCGGCTGGGCAGACGAGGGACGCTTCCATGAAAACTACGTACCCTGCTTATGCAGTCATTCCCTCCCTGGGCTAGACAGTGGGGGGCCATCTTCGAGAACCTGAAAGACACGCGGGGGTTCCTGGTCTGTTTCATGGCCCTTACTGTCCAGTGCAAAGGCAAACAGGCCTAGCTGGGGGAGGATGGTTGGTAAACTGGCCCCCAGGATAATACTCTGTGACTATCCAGTTAAAAAATAAGAAGGTGACAATGACCCATCAACCCCACTTCACTTCTTTCAGGATGCTGTAGGGAGGAAAGGTGCTTCCATGACCTAACCTCGGCCTCTCCTTTCTTCCCTCTTCACTCACACACATAGAGCTAGGCCTTTATACTACTGATTTTGAAGGACAGTTTTCAATGTCTAATCATCTGTTTAGGTGTGCAGTGGTTGAAAAAAGAAAGCTGAGTGCTAGAAGGAACATGAACCTCAACCGTTACTTATTGTTCTCATTGTAAGATATTTTAACCCTGTATAAATGCAACTTTTCCTTTAGCTTAATGGCCTGGGGTGGAATATTAAAAATATATATTAAAAATACAGTAAAAATCCAGAAAAATGTAAAAAAAAAAATGAGGTCGGTTCCATAAAGTTTTACTGCCTATACCACCATGTAACTACATTATAGCAAAATATTAAAAGAAACGTTCTTGCCTTTTAAAGTAAGTTATTGCACTTACATCTTTTTTGGGAGAGGAGGAACACGGATGGGAAGGAGATGTAGGGGCCCAGGCATGGGGCAAAATGGAGTGCAGAGGTAGCCGGGCACTCCCAGAACACCCTTTGCTGGCCCAGCCCAAACTGTTTGGTTGTTGTTATTTGCAATAAACTCCTTCTCCTTCCTCCTCTC'"
      ]
     },
     "execution_count": 15,
     "metadata": {},
     "output_type": "execute_result"
    }
   ],
   "source": [
    "fasta_record[0]['TSeq_sequence']"
   ]
  },
  {
   "cell_type": "code",
   "execution_count": 16,
   "metadata": {},
   "outputs": [],
   "source": [
    "handle.close()"
   ]
  },
  {
   "cell_type": "markdown",
   "metadata": {},
   "source": [
    "#### Downloading Records in Bulk\n",
    "\n",
    "Multiple IDs can be supplied to `Entrez.efetch()` as a comma separated list. "
   ]
  },
  {
   "cell_type": "code",
   "execution_count": 17,
   "metadata": {},
   "outputs": [
    {
     "name": "stdout",
     "output_type": "stream",
     "text": [
      "1435204407,1737764336,1737725602\n"
     ]
    }
   ],
   "source": [
    "print(','.join(ids[0:3]))"
   ]
  },
  {
   "cell_type": "code",
   "execution_count": 18,
   "metadata": {},
   "outputs": [
    {
     "name": "stdout",
     "output_type": "stream",
     "text": [
      ">NM_021926.4 Homo sapiens ALX homeobox 4 (ALX4), mRNA\n",
      "AAACTCCCAGCCAAGGCGCGCGGTGGCGTCCTCGCGCCCTCGCTCGCGTCCCCGCCCGCCGCCTGCGCAA\n",
      "GCCAGGCATGAATGCTGAGACTTGCGTCTCTTACTGCGAGTCGCCGGCCGCTGCCATGGACGCCTACTAC\n",
      "AGCCCGGTGTCGCAGAGTCGGGAGGGCTCGTCGCCTTTTAGGGCATTTCCCGGAGGCGACAAGTTCGGCA\n",
      "CAACTTTCCTGTCGGCCGCCGCCAAAGCACAGGGATTCGGGGACGCCAAGAGCCGGGCCCGTTACGGCGC\n",
      "TGGGCAGCAGGACCTGGCGACACCCCTGGAGAGTGGAGCTGGGGCGCGGGGCTCCTTTAACAAGTTCCAG\n",
      "CCCCAGCCGTCGACCCCGCAGCCCCAGCCGCCGCCGCAGCCGCAGCCGCAGCAGCAGCAGCCGCAGCCCC\n",
      "AGCCGCCCGCGCAACCGCAT\n"
     ]
    }
   ],
   "source": [
    "## Use Entrez.efetch() to get a fasta record\n",
    "handle = Entrez.efetch(db=\"nuccore\", id=','.join(ids[0:3]), rettype=\"fasta\", retmode=\"text\")\n",
    "\n",
    "## Here we use the handle's read() method, not Entrez.read(),\n",
    "## since the retmode parameter is text, not XML\n",
    "fasta_records = handle.read()\n",
    "print(fasta_records[:500])"
   ]
  },
  {
   "cell_type": "code",
   "execution_count": 19,
   "metadata": {},
   "outputs": [],
   "source": [
    "handle.close()"
   ]
  },
  {
   "cell_type": "markdown",
   "metadata": {},
   "source": [
    "### `Entrez.epost()`\n",
    "\n",
    "Alternatively, use the `Entrez.epost()` function to cache a large number of IDs (too many IDs can make the URL-based requests fail). This function uploads the ID list to the NCBI servers and returns a `WebEnv` value and a `QueryKey` value that can be supplied to `Entrez.efetch()` to retrieve the query results.\n",
    "\n",
    "[http://www.ncbi.nlm.nih.gov/books/NBK25499/#_chapter4_EPost_](http://www.ncbi.nlm.nih.gov/books/NBK25499/#_chapter4_EPost_)"
   ]
  },
  {
   "cell_type": "code",
   "execution_count": 20,
   "metadata": {},
   "outputs": [
    {
     "name": "stdout",
     "output_type": "stream",
     "text": [
      ">NM_021926.4 Homo sapiens ALX homeobox 4 (ALX4), mRNA\n",
      "AAACTCCCAGCCAAGGCGCGCGGTGGCGTCCTCGCGCCCTCGCTCGCGTCCCCGCCCGCCGCCTGCGCAA\n",
      "GCCAGGCATGAATGCTGAGACTTGCGTCTCTTACTGCGAGTCGCCGGCCGCTGCCATGGACGCCTACTAC\n",
      "AGCCCGGTGTCGCAGAGTCGGGAGGGCTCGTCGCCTTTTAGGGCATTTCCCGGAGGCGACAAGTTCGGCA\n",
      "CAACTTTCCTGTCGGCCGCCGCCAAAGCACAGGGATTCGGGGACGCCAAGAGCCGGGCCCGTTACGGCGC\n",
      "TGGGCAGCAGGACCTGGCGACACCCCTGGAGAGTGGAGCTGGGGCGCGGGGCTCCTTTAACAAGTTCCAG\n",
      "CCCCAGCCGTCGACCCCGCAGCCCCAGCCGCCGCCGCAGCCGCAGCCGCAGCAGCAGCAGCCGCAGCCCC\n",
      "AGCCGCCCGCGCAACCGCAT\n"
     ]
    }
   ],
   "source": [
    "## Use Entrez.epost() to cache multiple IDs\n",
    "handle = Entrez.epost(db=\"nuccore\", id=','.join(ids[0:3]))\n",
    "epost_results = Entrez.read(handle)\n",
    "web_env = epost_results['WebEnv']\n",
    "query_key = epost_results['QueryKey']\n",
    "handle.close()\n",
    "\n",
    "## Use the WebEnv and QueryKey values to retrieve\n",
    "## the query results with Entrez.efetch()\n",
    "handle = Entrez.efetch(db=\"nuccore\", rettype=\"fasta\", retmode=\"text\", webenv=web_env, query_key=query_key)\n",
    "fasta_records = handle.read()\n",
    "print(fasta_records[:500])"
   ]
  },
  {
   "cell_type": "markdown",
   "metadata": {},
   "source": [
    "### `Entrez.einfo()`\n",
    "\n",
    "The `Entrez.einfo()` function can be used to retrieve information about the structure of Entrez databases."
   ]
  },
  {
   "cell_type": "code",
   "execution_count": 21,
   "metadata": {},
   "outputs": [
    {
     "name": "stdout",
     "output_type": "stream",
     "text": [
      "<?xml version=\"1.0\" encoding=\"UTF-8\" ?>\n",
      "<!DOCTYPE eInfoResult PUBLIC \"-//NLM//DTD einfo 20190110//EN\" \"https://eutils.ncbi.nlm.nih.gov/eutils/dtd/20190110/einfo.dtd\">\n",
      "<eInfoResult>\n",
      "<DbList>\n",
      "\n",
      "\t<DbName>pubmed</DbName>\n",
      "\t<DbName>protein</DbName>\n",
      "\t<DbName>nuccore</DbName>\n",
      "\t<DbName>ipg</DbName>\n",
      "\t<DbName>nucleotide</DbName>\n",
      "\t<DbName>structure</DbName>\n",
      "\t<DbName>sparcle</DbName>\n",
      "\t<DbName>genome</DbName>\n",
      "\t<DbName>annotinfo</DbName>\n",
      "\t<DbName>assembly</DbName>\n",
      "\t<DbName>bioproject</DbName>\n",
      "\t<DbName>biosample</DbName>\n",
      "\t<DbName>blastdbinfo</DbName>\n",
      "\t<DbName>books</DbName>\n",
      "\t<DbName>cdd</DbName>\n",
      "\t<DbName>clinvar</DbName>\n",
      "\t<DbName>gap</DbName>\n",
      "\t<DbName>gapplus</DbName>\n",
      "\t<DbName>grasp</DbName>\n",
      "\t<DbName>dbvar</DbName>\n",
      "\t<DbName>gene</DbName>\n",
      "\t<DbName>gds</DbName>\n",
      "\t<DbName>geoprofiles</DbName>\n",
      "\t<DbName>homologene</DbName>\n",
      "\t<DbName>medgen</DbName>\n",
      "\t<DbName>mesh</DbName>\n",
      "\t<DbName>ncbisearch</DbName>\n",
      "\t<DbName>nlmcatalog</DbName>\n",
      "\t<DbName>omim</DbName>\n",
      "\t<DbName>orgtrack</DbName>\n",
      "\t<DbName>pmc</DbName>\n",
      "\t<DbName>popset</DbName>\n",
      "\t<DbName>probe</DbName>\n",
      "\t<DbName>proteinclusters</DbName>\n",
      "\t<DbName>pcassay</DbName>\n",
      "\t<DbName>biosystems</DbName>\n",
      "\t<DbName>pccompound</DbName>\n",
      "\t<DbName>pcsubstance</DbName>\n",
      "\t<DbName>seqannot</DbName>\n",
      "\t<DbName>snp</DbName>\n",
      "\t<DbName>sra</DbName>\n",
      "\t<DbName>taxonomy</DbName>\n",
      "\t<DbName>biocollections</DbName>\n",
      "\t<DbName>gtr</DbName>\n",
      "</DbList>\n",
      "\n",
      "</eInfoResult>\n",
      "\n"
     ]
    }
   ],
   "source": [
    "## To list available databases\n",
    "handle = Entrez.einfo()\n",
    "result = handle.read()\n",
    "print(result)"
   ]
  },
  {
   "cell_type": "code",
   "execution_count": 22,
   "metadata": {},
   "outputs": [],
   "source": [
    "handle.close()"
   ]
  },
  {
   "cell_type": "code",
   "execution_count": 23,
   "metadata": {},
   "outputs": [
    {
     "name": "stdout",
     "output_type": "stream",
     "text": [
      "dict_keys(['DbList'])\n"
     ]
    },
    {
     "data": {
      "text/plain": [
       "['pubmed', 'protein', 'nuccore', 'ipg', 'nucleotide', 'structure', 'sparcle', 'genome', 'annotinfo', 'assembly', 'bioproject', 'biosample', 'blastdbinfo', 'books', 'cdd', 'clinvar', 'gap', 'gapplus', 'grasp', 'dbvar', 'gene', 'gds', 'geoprofiles', 'homologene', 'medgen', 'mesh', 'ncbisearch', 'nlmcatalog', 'omim', 'orgtrack', 'pmc', 'popset', 'probe', 'proteinclusters', 'pcassay', 'biosystems', 'pccompound', 'pcsubstance', 'seqannot', 'snp', 'sra', 'taxonomy', 'biocollections', 'gtr']"
      ]
     },
     "execution_count": 23,
     "metadata": {},
     "output_type": "execute_result"
    }
   ],
   "source": [
    "## Or you can parse the XML\n",
    "handle = Entrez.einfo()\n",
    "result = Entrez.read(handle)\n",
    "print(result.keys())\n",
    "result['DbList']"
   ]
  },
  {
   "cell_type": "code",
   "execution_count": 24,
   "metadata": {},
   "outputs": [],
   "source": [
    "handle.close()"
   ]
  },
  {
   "cell_type": "markdown",
   "metadata": {},
   "source": [
    "\n",
    "\n",
    "By specifying the database name when calling `Entrez.einfo()` database field information can be retrieved."
   ]
  },
  {
   "cell_type": "code",
   "execution_count": 25,
   "metadata": {
    "scrolled": true
   },
   "outputs": [
    {
     "name": "stdout",
     "output_type": "stream",
     "text": [
      "ALL: All terms from all searchable fields\n",
      "UID: Unique number assigned to each sequence\n",
      "FILT: Limits the records\n",
      "WORD: Free text associated with record\n",
      "TITL: Words in definition line\n",
      "KYWD: Nonstandardized terms provided by submitter\n",
      "AUTH: Author(s) of publication\n",
      "JOUR: Journal abbreviation of publication\n",
      "VOL: Volume number of publication\n",
      "ISS: Issue number of publication\n",
      "PAGE: Page number(s) of publication\n",
      "ORGN: Scientific and common names of organism, and all higher levels of taxonomy\n",
      "ACCN: Accession number of sequence\n",
      "PACC: Does not include retired secondary accessions\n",
      "GENE: Name of gene associated with sequence\n",
      "PROT: Name of protein associated with sequence\n",
      "ECNO: EC number for enzyme or CAS registry number\n",
      "PDAT: Date sequence added to GenBank\n",
      "MDAT: Date of last update\n",
      "SUBS: CAS chemical name or MEDLINE Substance Name\n",
      "PROP: Classification by source qualifiers and molecule type\n",
      "SQID: String identifier for sequence\n",
      "GPRJ: BioProject\n",
      "SLEN: Length of sequence\n",
      "FKEY: Feature annotated on sequence\n",
      "PORG: Scientific and common names of primary organism, and all higher levels of taxonomy\n",
      "COMP: Component accessions for an assembly\n",
      "ASSM: Assembly\n",
      "DIV: Division\n",
      "STRN: Strain\n",
      "ISOL: Isolate\n",
      "CULT: Cultivar\n",
      "BRD: Breed\n",
      "BIOS: BioSample\n"
     ]
    }
   ],
   "source": [
    "## To get info about a specific database\n",
    "handle = Entrez.einfo(db=\"nuccore\")\n",
    "result = Entrez.read(handle)\n",
    "for field in result['DbInfo']['FieldList']:\n",
    "    print(\"%(Name)s: %(Description)s\" % field)"
   ]
  },
  {
   "cell_type": "code",
   "execution_count": 26,
   "metadata": {},
   "outputs": [
    {
     "data": {
      "text/plain": [
       "dict_keys(['DbInfo'])"
      ]
     },
     "execution_count": 26,
     "metadata": {},
     "output_type": "execute_result"
    }
   ],
   "source": [
    "result.keys()"
   ]
  },
  {
   "cell_type": "code",
   "execution_count": 27,
   "metadata": {},
   "outputs": [
    {
     "data": {
      "text/plain": [
       "dict_keys(['DbName', 'MenuName', 'Description', 'DbBuild', 'Count', 'LastUpdate', 'FieldList', 'LinkList'])"
      ]
     },
     "execution_count": 27,
     "metadata": {},
     "output_type": "execute_result"
    }
   ],
   "source": [
    "result['DbInfo'].keys()"
   ]
  },
  {
   "cell_type": "code",
   "execution_count": 28,
   "metadata": {},
   "outputs": [],
   "source": [
    "handle.close()"
   ]
  },
  {
   "cell_type": "markdown",
   "metadata": {},
   "source": [
    "## In-Class Exercises"
   ]
  },
  {
   "cell_type": "code",
   "execution_count": 29,
   "metadata": {},
   "outputs": [],
   "source": [
    "## Exercise 1.\n",
    "## Use the Entrez BioPython module to retrieve fasta records\n",
    "## for 3 Refseq mRNA sequences for the P53 gene.\n",
    "## Use the following search term: \n",
    "## \"TP53[Gene] AND Homo sapiens[Organism] AND mRNA[Filter] AND Refseq[Filter]\"\n",
    "##\n",
    "## Remember to provide your email address\n",
    "##\n"
   ]
  },
  {
   "cell_type": "code",
   "execution_count": 30,
   "metadata": {},
   "outputs": [],
   "source": [
    "## Exercise 2.\n",
    "## Parse the 3 fasta records and save each sequence in\n",
    "## a separate fasta file.\n",
    "##\n"
   ]
  },
  {
   "cell_type": "markdown",
   "metadata": {},
   "source": [
    "## References\n",
    "\n",
    "- Python for Bioinformatics, Sebastian Bassi, CRC Press (2010)\n",
    "- [http://en.wikipedia.org/wiki/Entrez](http://en.wikipedia.org/wiki/Entrez)\n",
    "- [http://www.ncbi.nlm.nih.gov/books/NBK1058/](http://www.ncbi.nlm.nih.gov/books/NBK1058/)\n",
    "- [http://www.ncbi.nlm.nih.gov/books/NBK25499/](http://www.ncbi.nlm.nih.gov/books/NBK25499/)\n",
    "- [http://biopython.org/DIST/docs/tutorial/Tutorial.html](http://biopython.org/DIST/docs/tutorial/Tutorial.html)\n",
    "- [http://biopython.org/DIST/docs/api/](http://biopython.org/DIST/docs/api/)\n",
    "\n",
    "#### Last Updated: 18-Sep-2019"
   ]
  }
 ],
 "metadata": {
  "anaconda-cloud": {},
  "kernelspec": {
   "display_name": "Python 3",
   "language": "python",
   "name": "python3"
  },
  "language_info": {
   "codemirror_mode": {
    "name": "ipython",
    "version": 3
   },
   "file_extension": ".py",
   "mimetype": "text/x-python",
   "name": "python",
   "nbconvert_exporter": "python",
   "pygments_lexer": "ipython3",
   "version": "3.7.2"
  }
 },
 "nbformat": 4,
 "nbformat_minor": 1
}
