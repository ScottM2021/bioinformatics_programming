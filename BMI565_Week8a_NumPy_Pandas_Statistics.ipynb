{
 "cells": [
  {
   "cell_type": "markdown",
   "metadata": {},
   "source": [
    "# BMI565: Bioinformatics Programming & Scripting"
   ]
  },
  {
   "cell_type": "markdown",
   "metadata": {},
   "source": [
    "#### (C) Michael Mooney (mooneymi@ohsu.edu)"
   ]
  },
  {
   "cell_type": "markdown",
   "metadata": {},
   "source": [
    "## Week 8: NumPy, Pandas, and Statsmodels"
   ]
  },
  {
   "cell_type": "markdown",
   "metadata": {},
   "source": [
    "1. Scientific Computing in Python\n",
    "2. Numpy\n",
    "    - Numpy Arrays\n",
    "    - Element-wise Operations\n",
    "    - Boolean Indexing\n",
    "3. Pandas for Data Analysis\n",
    "    - Labeled data structures\n",
    "    - Plotting with `Pandas`\n",
    "4. Statistics\n",
    "    - Descriptive Statistics\n",
    "    - Linear regression\n",
    "5. Scipy\n",
    "    - Mann-Whitney Rank Test"
   ]
  },
  {
   "cell_type": "markdown",
   "metadata": {},
   "source": [
    "#### Requirements\n",
    "\n",
    "- Python 2.7 or 3.5\n",
    "- `numpy` module\n",
    "- `scipy` module\n",
    "- `pandas` module\n",
    "- `statsmodels` module\n",
    "- Data Files\n",
    "    - `./data/serotonin_data.txt`"
   ]
  },
  {
   "cell_type": "code",
   "execution_count": 1,
   "metadata": {},
   "outputs": [],
   "source": [
    "from __future__ import print_function, division"
   ]
  },
  {
   "cell_type": "markdown",
   "metadata": {},
   "source": [
    "## Scientific Computing Packages\n",
    "\n",
    "- <b>Numpy</b>: provides support for creating and efficiently manipulation large data structures (arrays, multi-dimensional arrays, matrices, etc.)\n",
    "- Matplotlib: provides visualization of data through graphical plots (requires numpy)\n",
    "- <b>Scipy</b>: provides a collection of mathematical algorithms for scientific computing\n",
    "- Scikit-learn: a collection of machine-learning algorithms\n",
    "- <b>Pandas</b>: data analysis tools, including specialized data structures (built on numpy)\n",
    "- Statistical Packages:\n",
    "    - <b>Statsmodels</b>: \n",
    "    - Rpy2: provides an interface between Python and R"
   ]
  },
  {
   "cell_type": "code",
   "execution_count": 2,
   "metadata": {},
   "outputs": [],
   "source": [
    "## The following line is only needed inside the Jupyter \n",
    "## notebook, it is not a Python statement\n",
    "%matplotlib inline"
   ]
  },
  {
   "cell_type": "code",
   "execution_count": 3,
   "metadata": {},
   "outputs": [],
   "source": [
    "import numpy as np\n",
    "import pandas as pd\n",
    "import scipy as sp\n",
    "import matplotlib.pyplot as plt"
   ]
  },
  {
   "cell_type": "markdown",
   "metadata": {},
   "source": [
    "## Numpy\n",
    "\n",
    "### Numpy Arrays\n",
    "\n",
    "Why are numpy arrays so efficient?\n",
    "- Arrays are of a fixed size\n",
    "- Stored in contiguous blocks of memory\n",
    "- Arrays contain a single data type\n",
    "- Vectorized (element-wise) operations\n",
    "\n",
    "Indexing, slicing and iterating over arrays works the same as for lists. "
   ]
  },
  {
   "cell_type": "code",
   "execution_count": 4,
   "metadata": {},
   "outputs": [
    {
     "data": {
      "text/plain": [
       "array([1, 2, 3])"
      ]
     },
     "execution_count": 4,
     "metadata": {},
     "output_type": "execute_result"
    }
   ],
   "source": [
    "## Create an array from a list\n",
    "myarray = np.array([1,2,3])\n",
    "myarray"
   ]
  },
  {
   "cell_type": "code",
   "execution_count": 5,
   "metadata": {},
   "outputs": [
    {
     "data": {
      "text/plain": [
       "array([[1, 2, 3],\n",
       "       [4, 5, 6]])"
      ]
     },
     "execution_count": 5,
     "metadata": {},
     "output_type": "execute_result"
    }
   ],
   "source": [
    "## Create a multi-dimensional array from a list of lists\n",
    "myarray2 = np.array([[1,2,3],[4,5,6]])\n",
    "myarray2"
   ]
  },
  {
   "cell_type": "code",
   "execution_count": 6,
   "metadata": {},
   "outputs": [
    {
     "data": {
      "text/plain": [
       "(2, 3)"
      ]
     },
     "execution_count": 6,
     "metadata": {},
     "output_type": "execute_result"
    }
   ],
   "source": [
    "## Get the dimensions of the array\n",
    "myarray2.shape"
   ]
  },
  {
   "cell_type": "code",
   "execution_count": 7,
   "metadata": {},
   "outputs": [
    {
     "data": {
      "text/plain": [
       "array([[2, 3],\n",
       "       [5, 6]])"
      ]
     },
     "execution_count": 7,
     "metadata": {},
     "output_type": "execute_result"
    }
   ],
   "source": [
    "## Subset the array using indices\n",
    "myarray2[0:2,1:3]"
   ]
  },
  {
   "cell_type": "code",
   "execution_count": 8,
   "metadata": {},
   "outputs": [
    {
     "data": {
      "text/plain": [
       "array([0, 1, 2, 3, 4, 5, 6, 7, 8, 9])"
      ]
     },
     "execution_count": 8,
     "metadata": {},
     "output_type": "execute_result"
    }
   ],
   "source": [
    "## Create a range as an array\n",
    "np.arange(10)"
   ]
  },
  {
   "cell_type": "code",
   "execution_count": 9,
   "metadata": {},
   "outputs": [
    {
     "data": {
      "text/plain": [
       "array([0., 0., 0., 0., 0., 0., 0., 0., 0., 0.])"
      ]
     },
     "execution_count": 9,
     "metadata": {},
     "output_type": "execute_result"
    }
   ],
   "source": [
    "## Create an array of zeros\n",
    "np.zeros(10)"
   ]
  },
  {
   "cell_type": "code",
   "execution_count": 10,
   "metadata": {},
   "outputs": [
    {
     "data": {
      "text/plain": [
       "array([1., 1., 1., 1., 1., 1., 1., 1., 1., 1.])"
      ]
     },
     "execution_count": 10,
     "metadata": {},
     "output_type": "execute_result"
    }
   ],
   "source": [
    "## Create an array of ones\n",
    "np.ones(10)"
   ]
  },
  {
   "cell_type": "code",
   "execution_count": 11,
   "metadata": {},
   "outputs": [
    {
     "data": {
      "text/plain": [
       "array([0.79186789, 0.26706391, 0.83182296, 0.27332573, 0.75524138,\n",
       "       0.61051336, 0.36212896, 0.58563969, 0.92229368, 0.13915718])"
      ]
     },
     "execution_count": 11,
     "metadata": {},
     "output_type": "execute_result"
    }
   ],
   "source": [
    "## Create random arrays\n",
    "## Uniform random numbers between 0 and 1\n",
    "np.random.rand(10)"
   ]
  },
  {
   "cell_type": "code",
   "execution_count": 12,
   "metadata": {},
   "outputs": [
    {
     "data": {
      "text/plain": [
       "array([[0.29198866, 0.97884271, 0.13079012, 0.60923345, 0.96059974],\n",
       "       [0.92035516, 0.10432385, 0.03055366, 0.87569311, 0.74998504]])"
      ]
     },
     "execution_count": 12,
     "metadata": {},
     "output_type": "execute_result"
    }
   ],
   "source": [
    "np.random.rand(2,5)"
   ]
  },
  {
   "cell_type": "code",
   "execution_count": 13,
   "metadata": {},
   "outputs": [
    {
     "name": "stdout",
     "output_type": "stream",
     "text": [
      "Help on built-in function rand:\n",
      "\n",
      "rand(...)\n",
      "    rand(d0, d1, ..., dn)\n",
      "    \n",
      "    Random values in a given shape.\n",
      "    \n",
      "    Create an array of the given shape and populate it with\n",
      "    random samples from a uniform distribution\n",
      "    over ``[0, 1)``.\n",
      "    \n",
      "    Parameters\n",
      "    ----------\n",
      "    d0, d1, ..., dn : int, optional\n",
      "        The dimensions of the returned array, should all be positive.\n",
      "        If no argument is given a single Python float is returned.\n",
      "    \n",
      "    Returns\n",
      "    -------\n",
      "    out : ndarray, shape ``(d0, d1, ..., dn)``\n",
      "        Random values.\n",
      "    \n",
      "    See Also\n",
      "    --------\n",
      "    random\n",
      "    \n",
      "    Notes\n",
      "    -----\n",
      "    This is a convenience function. If you want an interface that\n",
      "    takes a shape-tuple as the first argument, refer to\n",
      "    np.random.random_sample .\n",
      "    \n",
      "    Examples\n",
      "    --------\n",
      "    >>> np.random.rand(3,2)\n",
      "    array([[ 0.14022471,  0.96360618],  #random\n",
      "           [ 0.37601032,  0.25528411],  #random\n",
      "           [ 0.49313049,  0.94909878]]) #random\n",
      "\n"
     ]
    }
   ],
   "source": [
    "help(np.random.rand)"
   ]
  },
  {
   "cell_type": "code",
   "execution_count": 14,
   "metadata": {},
   "outputs": [
    {
     "data": {
      "text/plain": [
       "array([-0.29073954,  0.63731063, -0.65436076,  0.12848641,  0.7751292 ,\n",
       "        1.34616697, -1.24594035, -0.00607707, -0.13290724,  0.34077058])"
      ]
     },
     "execution_count": 14,
     "metadata": {},
     "output_type": "execute_result"
    }
   ],
   "source": [
    "## Normally distributed random numbers\n",
    "np.random.randn(10)"
   ]
  },
  {
   "cell_type": "code",
   "execution_count": 15,
   "metadata": {},
   "outputs": [
    {
     "name": "stdout",
     "output_type": "stream",
     "text": [
      "Help on built-in function randn:\n",
      "\n",
      "randn(...)\n",
      "    randn(d0, d1, ..., dn)\n",
      "    \n",
      "    Return a sample (or samples) from the \"standard normal\" distribution.\n",
      "    \n",
      "    If positive, int_like or int-convertible arguments are provided,\n",
      "    `randn` generates an array of shape ``(d0, d1, ..., dn)``, filled\n",
      "    with random floats sampled from a univariate \"normal\" (Gaussian)\n",
      "    distribution of mean 0 and variance 1 (if any of the :math:`d_i` are\n",
      "    floats, they are first converted to integers by truncation). A single\n",
      "    float randomly sampled from the distribution is returned if no\n",
      "    argument is provided.\n",
      "    \n",
      "    This is a convenience function.  If you want an interface that takes a\n",
      "    tuple as the first argument, use `numpy.random.standard_normal` instead.\n",
      "    \n",
      "    Parameters\n",
      "    ----------\n",
      "    d0, d1, ..., dn : int, optional\n",
      "        The dimensions of the returned array, should be all positive.\n",
      "        If no argument is given a single Python float is returned.\n",
      "    \n",
      "    Returns\n",
      "    -------\n",
      "    Z : ndarray or float\n",
      "        A ``(d0, d1, ..., dn)``-shaped array of floating-point samples from\n",
      "        the standard normal distribution, or a single such float if\n",
      "        no parameters were supplied.\n",
      "    \n",
      "    See Also\n",
      "    --------\n",
      "    standard_normal : Similar, but takes a tuple as its argument.\n",
      "    \n",
      "    Notes\n",
      "    -----\n",
      "    For random samples from :math:`N(\\mu, \\sigma^2)`, use:\n",
      "    \n",
      "    ``sigma * np.random.randn(...) + mu``\n",
      "    \n",
      "    Examples\n",
      "    --------\n",
      "    >>> np.random.randn()\n",
      "    2.1923875335537315 #random\n",
      "    \n",
      "    Two-by-four array of samples from N(3, 6.25):\n",
      "    \n",
      "    >>> 2.5 * np.random.randn(2, 4) + 3\n",
      "    array([[-4.49401501,  4.00950034, -1.81814867,  7.29718677],  #random\n",
      "           [ 0.39924804,  4.68456316,  4.99394529,  4.84057254]]) #random\n",
      "\n"
     ]
    }
   ],
   "source": [
    "help(np.random.randn)"
   ]
  },
  {
   "cell_type": "code",
   "execution_count": 16,
   "metadata": {},
   "outputs": [
    {
     "data": {
      "text/plain": [
       "array([6, 3, 5, 5, 5, 7, 7, 0, 1, 0])"
      ]
     },
     "execution_count": 16,
     "metadata": {},
     "output_type": "execute_result"
    }
   ],
   "source": [
    "## Random integers\n",
    "## Parameters: low, high(exclusive), size\n",
    "np.random.randint(0, 10, 10)"
   ]
  },
  {
   "cell_type": "code",
   "execution_count": 17,
   "metadata": {},
   "outputs": [
    {
     "name": "stdout",
     "output_type": "stream",
     "text": [
      "1\n",
      "2\n",
      "3\n"
     ]
    }
   ],
   "source": [
    "## You can iterate over an array just like a list\n",
    "for n in myarray:\n",
    "    print(n)"
   ]
  },
  {
   "cell_type": "markdown",
   "metadata": {},
   "source": [
    "#### Numpy Array Attributes"
   ]
  },
  {
   "cell_type": "markdown",
   "metadata": {},
   "source": [
    "<table align=\"left\">\n",
    "<tr><td style=\"text-align:center\"><b>Attribute</b></td><td><b>Description</b></td></tr>\n",
    "<tr><td style=\"text-align:center\">`ndim`</td><td>The number of dimensions</td></tr>\n",
    "<tr><td style=\"text-align:center\">`shape`</td><td>A tuple specifying the size of each dimension</td></tr>\n",
    "<tr><td style=\"text-align:center\">`size`</td><td>The total number of elements in the array</td></tr>\n",
    "<tr><td style=\"text-align:center\">`dtype`</td><td>The data type of the array elements</td></tr>\n",
    "<tr><td style=\"text-align:center\">`itemsize`</td><td>The size (in bytes) of each array element</td></tr>\n",
    "</table>\n"
   ]
  },
  {
   "cell_type": "markdown",
   "metadata": {},
   "source": [
    "Mathematical operations for arrays:\n",
    "\n",
    "[http://docs.scipy.org/doc/numpy/reference/routines.math.html](http://docs.scipy.org/doc/numpy/reference/routines.math.html)\n",
    "\n",
    "Statistical operations for arrays:\n",
    "\n",
    "[http://docs.scipy.org/doc/numpy/reference/routines.statistics.html](http://docs.scipy.org/doc/numpy/reference/routines.statistics.html)\n",
    "\n",
    "Linear algebra operations:\n",
    "\n",
    "[http://docs.scipy.org/doc/numpy/reference/routines.linalg.html](http://docs.scipy.org/doc/numpy/reference/routines.linalg.html)"
   ]
  },
  {
   "cell_type": "code",
   "execution_count": 18,
   "metadata": {},
   "outputs": [
    {
     "data": {
      "text/plain": [
       "dtype('float64')"
      ]
     },
     "execution_count": 18,
     "metadata": {},
     "output_type": "execute_result"
    }
   ],
   "source": [
    "np.zeros(10).dtype"
   ]
  },
  {
   "cell_type": "code",
   "execution_count": 19,
   "metadata": {},
   "outputs": [
    {
     "data": {
      "text/plain": [
       "6"
      ]
     },
     "execution_count": 19,
     "metadata": {},
     "output_type": "execute_result"
    }
   ],
   "source": [
    "## Get the sum of an array of numbers\n",
    "np.sum(myarray)"
   ]
  },
  {
   "cell_type": "code",
   "execution_count": 20,
   "metadata": {},
   "outputs": [
    {
     "data": {
      "text/plain": [
       "array([[2, 1, 6, 1, 2],\n",
       "       [2, 8, 7, 3, 6]])"
      ]
     },
     "execution_count": 20,
     "metadata": {},
     "output_type": "execute_result"
    }
   ],
   "source": [
    "x = np.random.randint(0,10, (2,5))\n",
    "x"
   ]
  },
  {
   "cell_type": "code",
   "execution_count": 21,
   "metadata": {},
   "outputs": [
    {
     "data": {
      "text/plain": [
       "array([ 4,  9, 13,  4,  8])"
      ]
     },
     "execution_count": 21,
     "metadata": {},
     "output_type": "execute_result"
    }
   ],
   "source": [
    "np.sum(x, 0)"
   ]
  },
  {
   "cell_type": "markdown",
   "metadata": {},
   "source": [
    "### Element-wise Operations\n",
    "\n",
    "Numpy allows you to easily perform operations on each element in an array."
   ]
  },
  {
   "cell_type": "code",
   "execution_count": 22,
   "metadata": {},
   "outputs": [
    {
     "data": {
      "text/plain": [
       "array([0., 1., 2., 3., 4., 5., 6., 7., 8., 9.])"
      ]
     },
     "execution_count": 22,
     "metadata": {},
     "output_type": "execute_result"
    }
   ],
   "source": [
    "sample_array = np.arange(10, dtype=\"float\")\n",
    "sample_array"
   ]
  },
  {
   "cell_type": "code",
   "execution_count": 23,
   "metadata": {},
   "outputs": [
    {
     "data": {
      "text/plain": [
       "array([0. , 0.5, 1. , 1.5, 2. , 2.5, 3. , 3.5, 4. , 4.5])"
      ]
     },
     "execution_count": 23,
     "metadata": {},
     "output_type": "execute_result"
    }
   ],
   "source": [
    "sample_array/2"
   ]
  },
  {
   "cell_type": "code",
   "execution_count": 24,
   "metadata": {},
   "outputs": [
    {
     "data": {
      "text/plain": [
       "array([ 0.,  3.,  6.,  9., 12., 15., 18., 21., 24., 27.])"
      ]
     },
     "execution_count": 24,
     "metadata": {},
     "output_type": "execute_result"
    }
   ],
   "source": [
    "sample_array*3"
   ]
  },
  {
   "cell_type": "markdown",
   "metadata": {},
   "source": [
    "### Boolean Indexing"
   ]
  },
  {
   "cell_type": "code",
   "execution_count": 25,
   "metadata": {},
   "outputs": [
    {
     "data": {
      "text/plain": [
       "array([ True,  True,  True, False, False, False, False, False, False,\n",
       "       False])"
      ]
     },
     "execution_count": 25,
     "metadata": {},
     "output_type": "execute_result"
    }
   ],
   "source": [
    "## Use a condition to create an array of True/False values\n",
    "idx = sample_array < 3\n",
    "idx"
   ]
  },
  {
   "cell_type": "code",
   "execution_count": 26,
   "metadata": {},
   "outputs": [
    {
     "data": {
      "text/plain": [
       "array([0., 1., 2.])"
      ]
     },
     "execution_count": 26,
     "metadata": {},
     "output_type": "execute_result"
    }
   ],
   "source": [
    "## Subset an array using a boolean index\n",
    "sample_array[idx]"
   ]
  },
  {
   "cell_type": "code",
   "execution_count": 27,
   "metadata": {},
   "outputs": [
    {
     "data": {
      "text/plain": [
       "array([ True,  True,  True, False, False, False, False,  True,  True,\n",
       "        True])"
      ]
     },
     "execution_count": 27,
     "metadata": {},
     "output_type": "execute_result"
    }
   ],
   "source": [
    "## You can string multiple conditions together\n",
    "idx2 = (sample_array < 3) | (sample_array > 6)\n",
    "idx2"
   ]
  },
  {
   "cell_type": "code",
   "execution_count": 28,
   "metadata": {},
   "outputs": [
    {
     "data": {
      "text/plain": [
       "array([0., 1., 2.])"
      ]
     },
     "execution_count": 28,
     "metadata": {},
     "output_type": "execute_result"
    }
   ],
   "source": [
    "## You can also use the condition directly (no need to save the boolean index)\n",
    "sample_array[sample_array < 3]"
   ]
  },
  {
   "cell_type": "markdown",
   "metadata": {},
   "source": [
    "## `Pandas` Module\n",
    "\n",
    "The `pandas` module contains a lot of great functionality for working with large data sets. `Pandas` is built on top of `Numpy` and works well with numerous other Python packages for scientific computing.\n",
    "\n",
    "[http://pandas.pydata.org/pandas-docs/stable/index.html](http://pandas.pydata.org/pandas-docs/stable/index.html)\n",
    "\n",
    "\n",
    "Example data ('./data/serotonin.txt') from the lava R package: [http://cran.r-project.org/web/packages/lava/index.html](http://cran.r-project.org/web/packages/lava/index.html)"
   ]
  },
  {
   "cell_type": "markdown",
   "metadata": {},
   "source": [
    "### Labeled Data Structures"
   ]
  },
  {
   "cell_type": "markdown",
   "metadata": {},
   "source": [
    "#### The `Series` data structure\n",
    "\n",
    "A `Series` is very similar to a 1-D numpy array, but it also contains an index."
   ]
  },
  {
   "cell_type": "code",
   "execution_count": 29,
   "metadata": {},
   "outputs": [
    {
     "data": {
      "text/plain": [
       "1    0\n",
       "2    0\n",
       "3    0\n",
       "4    0\n",
       "5    0\n",
       "dtype: int64"
      ]
     },
     "execution_count": 29,
     "metadata": {},
     "output_type": "execute_result"
    }
   ],
   "source": [
    "## Here we create a series of zeros, with an index 1-5\n",
    "s1 = pd.Series(0, index=[1,2,3,4,5])\n",
    "s1"
   ]
  },
  {
   "cell_type": "markdown",
   "metadata": {},
   "source": [
    "#### The `DataFrame` data structure\n",
    "\n",
    "The `pandas` `DataFrame` is very similar to a dataframe in `R`. It is essentially an indexed table that can contain heterogeneous data types."
   ]
  },
  {
   "cell_type": "code",
   "execution_count": 30,
   "metadata": {},
   "outputs": [
    {
     "data": {
      "text/html": [
       "<div>\n",
       "<style scoped>\n",
       "    .dataframe tbody tr th:only-of-type {\n",
       "        vertical-align: middle;\n",
       "    }\n",
       "\n",
       "    .dataframe tbody tr th {\n",
       "        vertical-align: top;\n",
       "    }\n",
       "\n",
       "    .dataframe thead th {\n",
       "        text-align: right;\n",
       "    }\n",
       "</style>\n",
       "<table border=\"1\" class=\"dataframe\">\n",
       "  <thead>\n",
       "    <tr style=\"text-align: right;\">\n",
       "      <th></th>\n",
       "      <th>A</th>\n",
       "      <th>B</th>\n",
       "      <th>C</th>\n",
       "      <th>D</th>\n",
       "      <th>E</th>\n",
       "    </tr>\n",
       "  </thead>\n",
       "  <tbody>\n",
       "    <tr>\n",
       "      <th>1</th>\n",
       "      <td>0.439281</td>\n",
       "      <td>0.942726</td>\n",
       "      <td>0.725686</td>\n",
       "      <td>0.788071</td>\n",
       "      <td>0.810877</td>\n",
       "    </tr>\n",
       "    <tr>\n",
       "      <th>2</th>\n",
       "      <td>0.718082</td>\n",
       "      <td>0.156361</td>\n",
       "      <td>0.358115</td>\n",
       "      <td>0.560236</td>\n",
       "      <td>0.027632</td>\n",
       "    </tr>\n",
       "    <tr>\n",
       "      <th>3</th>\n",
       "      <td>0.076142</td>\n",
       "      <td>0.955392</td>\n",
       "      <td>0.146347</td>\n",
       "      <td>0.123731</td>\n",
       "      <td>0.207637</td>\n",
       "    </tr>\n",
       "    <tr>\n",
       "      <th>4</th>\n",
       "      <td>0.646328</td>\n",
       "      <td>0.688423</td>\n",
       "      <td>0.438820</td>\n",
       "      <td>0.355342</td>\n",
       "      <td>0.846014</td>\n",
       "    </tr>\n",
       "    <tr>\n",
       "      <th>5</th>\n",
       "      <td>0.766103</td>\n",
       "      <td>0.148286</td>\n",
       "      <td>0.708714</td>\n",
       "      <td>0.501302</td>\n",
       "      <td>0.673095</td>\n",
       "    </tr>\n",
       "  </tbody>\n",
       "</table>\n",
       "</div>"
      ],
      "text/plain": [
       "          A         B         C         D         E\n",
       "1  0.439281  0.942726  0.725686  0.788071  0.810877\n",
       "2  0.718082  0.156361  0.358115  0.560236  0.027632\n",
       "3  0.076142  0.955392  0.146347  0.123731  0.207637\n",
       "4  0.646328  0.688423  0.438820  0.355342  0.846014\n",
       "5  0.766103  0.148286  0.708714  0.501302  0.673095"
      ]
     },
     "execution_count": 30,
     "metadata": {},
     "output_type": "execute_result"
    }
   ],
   "source": [
    "## Here we create a dataframe by specifying the data,\n",
    "## an index, and column names\n",
    "df1 = pd.DataFrame(np.random.rand(5,5), index=[1,2,3,4,5], columns=['A','B','C','D','E'])\n",
    "df1"
   ]
  },
  {
   "cell_type": "code",
   "execution_count": 31,
   "metadata": {},
   "outputs": [],
   "source": [
    "## Read data into a pandas data frame\n",
    "## Default options assume comma as delimiter and a header line with column names\n",
    "dat = pd.read_csv('./data/serotonin_data.txt')"
   ]
  },
  {
   "cell_type": "code",
   "execution_count": 32,
   "metadata": {},
   "outputs": [
    {
     "data": {
      "text/plain": [
       "(250, 20)"
      ]
     },
     "execution_count": 32,
     "metadata": {},
     "output_type": "execute_result"
    }
   ],
   "source": [
    "## Check the dimensions of the data frame\n",
    "dat.shape"
   ]
  },
  {
   "cell_type": "code",
   "execution_count": 33,
   "metadata": {},
   "outputs": [
    {
     "data": {
      "text/plain": [
       "['par',\n",
       " 'sfc',\n",
       " 'aci',\n",
       " 'pci',\n",
       " 'u1',\n",
       " 'cau',\n",
       " 'th',\n",
       " 'put',\n",
       " 'mid',\n",
       " 'u2',\n",
       " 'mem',\n",
       " 'u',\n",
       " 'age',\n",
       " 'gene1',\n",
       " 'gene2',\n",
       " 'eta',\n",
       " 'day',\n",
       " 'depr',\n",
       " 'T',\n",
       " 'status']"
      ]
     },
     "execution_count": 33,
     "metadata": {},
     "output_type": "execute_result"
    }
   ],
   "source": [
    "## Get the column names\n",
    "list(dat.columns.values)"
   ]
  },
  {
   "cell_type": "code",
   "execution_count": 34,
   "metadata": {},
   "outputs": [
    {
     "data": {
      "text/html": [
       "<div>\n",
       "<style scoped>\n",
       "    .dataframe tbody tr th:only-of-type {\n",
       "        vertical-align: middle;\n",
       "    }\n",
       "\n",
       "    .dataframe tbody tr th {\n",
       "        vertical-align: top;\n",
       "    }\n",
       "\n",
       "    .dataframe thead th {\n",
       "        text-align: right;\n",
       "    }\n",
       "</style>\n",
       "<table border=\"1\" class=\"dataframe\">\n",
       "  <thead>\n",
       "    <tr style=\"text-align: right;\">\n",
       "      <th></th>\n",
       "      <th>par</th>\n",
       "      <th>sfc</th>\n",
       "      <th>aci</th>\n",
       "      <th>pci</th>\n",
       "      <th>u1</th>\n",
       "      <th>cau</th>\n",
       "      <th>th</th>\n",
       "      <th>put</th>\n",
       "      <th>mid</th>\n",
       "      <th>u2</th>\n",
       "      <th>mem</th>\n",
       "      <th>u</th>\n",
       "      <th>age</th>\n",
       "      <th>gene1</th>\n",
       "      <th>gene2</th>\n",
       "      <th>eta</th>\n",
       "      <th>day</th>\n",
       "      <th>depr</th>\n",
       "      <th>T</th>\n",
       "      <th>status</th>\n",
       "    </tr>\n",
       "  </thead>\n",
       "  <tbody>\n",
       "    <tr>\n",
       "      <th>0</th>\n",
       "      <td>1.541845</td>\n",
       "      <td>1.639296</td>\n",
       "      <td>1.631768</td>\n",
       "      <td>1.436017</td>\n",
       "      <td>3.053231</td>\n",
       "      <td>0.941444</td>\n",
       "      <td>1.062079</td>\n",
       "      <td>0.988974</td>\n",
       "      <td>0.849440</td>\n",
       "      <td>0.452027</td>\n",
       "      <td>49</td>\n",
       "      <td>1.918266</td>\n",
       "      <td>-1.137870</td>\n",
       "      <td>1</td>\n",
       "      <td>1</td>\n",
       "      <td>-0.425573</td>\n",
       "      <td>30</td>\n",
       "      <td>0</td>\n",
       "      <td>1.019006</td>\n",
       "      <td>1</td>\n",
       "    </tr>\n",
       "    <tr>\n",
       "      <th>1</th>\n",
       "      <td>1.285776</td>\n",
       "      <td>1.314337</td>\n",
       "      <td>1.224379</td>\n",
       "      <td>1.154257</td>\n",
       "      <td>0.536178</td>\n",
       "      <td>1.018560</td>\n",
       "      <td>0.789055</td>\n",
       "      <td>0.903791</td>\n",
       "      <td>0.666955</td>\n",
       "      <td>-0.937675</td>\n",
       "      <td>36</td>\n",
       "      <td>-0.575754</td>\n",
       "      <td>-0.951810</td>\n",
       "      <td>1</td>\n",
       "      <td>1</td>\n",
       "      <td>-2.959047</td>\n",
       "      <td>246</td>\n",
       "      <td>1</td>\n",
       "      <td>30.000000</td>\n",
       "      <td>0</td>\n",
       "    </tr>\n",
       "    <tr>\n",
       "      <th>2</th>\n",
       "      <td>1.633392</td>\n",
       "      <td>1.731265</td>\n",
       "      <td>1.588976</td>\n",
       "      <td>1.580385</td>\n",
       "      <td>3.881156</td>\n",
       "      <td>0.965680</td>\n",
       "      <td>0.741293</td>\n",
       "      <td>0.389869</td>\n",
       "      <td>0.830224</td>\n",
       "      <td>-7.700945</td>\n",
       "      <td>169</td>\n",
       "      <td>4.751934</td>\n",
       "      <td>1.619259</td>\n",
       "      <td>1</td>\n",
       "      <td>1</td>\n",
       "      <td>4.244131</td>\n",
       "      <td>243</td>\n",
       "      <td>1</td>\n",
       "      <td>30.000000</td>\n",
       "      <td>0</td>\n",
       "    </tr>\n",
       "    <tr>\n",
       "      <th>3</th>\n",
       "      <td>1.971132</td>\n",
       "      <td>1.735649</td>\n",
       "      <td>1.768737</td>\n",
       "      <td>1.852557</td>\n",
       "      <td>4.071059</td>\n",
       "      <td>0.944994</td>\n",
       "      <td>0.643423</td>\n",
       "      <td>0.706459</td>\n",
       "      <td>0.822270</td>\n",
       "      <td>-4.530420</td>\n",
       "      <td>196</td>\n",
       "      <td>3.860327</td>\n",
       "      <td>0.167814</td>\n",
       "      <td>0</td>\n",
       "      <td>0</td>\n",
       "      <td>3.280688</td>\n",
       "      <td>335</td>\n",
       "      <td>0</td>\n",
       "      <td>30.000000</td>\n",
       "      <td>0</td>\n",
       "    </tr>\n",
       "    <tr>\n",
       "      <th>4</th>\n",
       "      <td>1.376904</td>\n",
       "      <td>1.423676</td>\n",
       "      <td>1.461504</td>\n",
       "      <td>1.169873</td>\n",
       "      <td>1.043610</td>\n",
       "      <td>0.778490</td>\n",
       "      <td>0.959439</td>\n",
       "      <td>0.968423</td>\n",
       "      <td>0.886591</td>\n",
       "      <td>-1.161456</td>\n",
       "      <td>64</td>\n",
       "      <td>0.974215</td>\n",
       "      <td>-0.908178</td>\n",
       "      <td>1</td>\n",
       "      <td>1</td>\n",
       "      <td>-1.082029</td>\n",
       "      <td>215</td>\n",
       "      <td>0</td>\n",
       "      <td>4.835404</td>\n",
       "      <td>1</td>\n",
       "    </tr>\n",
       "  </tbody>\n",
       "</table>\n",
       "</div>"
      ],
      "text/plain": [
       "        par       sfc       aci       pci        u1       cau        th  \\\n",
       "0  1.541845  1.639296  1.631768  1.436017  3.053231  0.941444  1.062079   \n",
       "1  1.285776  1.314337  1.224379  1.154257  0.536178  1.018560  0.789055   \n",
       "2  1.633392  1.731265  1.588976  1.580385  3.881156  0.965680  0.741293   \n",
       "3  1.971132  1.735649  1.768737  1.852557  4.071059  0.944994  0.643423   \n",
       "4  1.376904  1.423676  1.461504  1.169873  1.043610  0.778490  0.959439   \n",
       "\n",
       "        put       mid        u2  mem         u       age  gene1  gene2  \\\n",
       "0  0.988974  0.849440  0.452027   49  1.918266 -1.137870      1      1   \n",
       "1  0.903791  0.666955 -0.937675   36 -0.575754 -0.951810      1      1   \n",
       "2  0.389869  0.830224 -7.700945  169  4.751934  1.619259      1      1   \n",
       "3  0.706459  0.822270 -4.530420  196  3.860327  0.167814      0      0   \n",
       "4  0.968423  0.886591 -1.161456   64  0.974215 -0.908178      1      1   \n",
       "\n",
       "        eta  day  depr          T  status  \n",
       "0 -0.425573   30     0   1.019006       1  \n",
       "1 -2.959047  246     1  30.000000       0  \n",
       "2  4.244131  243     1  30.000000       0  \n",
       "3  3.280688  335     0  30.000000       0  \n",
       "4 -1.082029  215     0   4.835404       1  "
      ]
     },
     "execution_count": 34,
     "metadata": {},
     "output_type": "execute_result"
    }
   ],
   "source": [
    "## View the first few rows\n",
    "dat.head()"
   ]
  },
  {
   "cell_type": "code",
   "execution_count": 35,
   "metadata": {},
   "outputs": [],
   "source": [
    "## Create a new column by creating a series \n",
    "## and assigning it to a column name\n",
    "dat['age_cat'] = pd.Series(0, index=dat.index)"
   ]
  },
  {
   "cell_type": "code",
   "execution_count": 36,
   "metadata": {},
   "outputs": [
    {
     "data": {
      "text/html": [
       "<div>\n",
       "<style scoped>\n",
       "    .dataframe tbody tr th:only-of-type {\n",
       "        vertical-align: middle;\n",
       "    }\n",
       "\n",
       "    .dataframe tbody tr th {\n",
       "        vertical-align: top;\n",
       "    }\n",
       "\n",
       "    .dataframe thead th {\n",
       "        text-align: right;\n",
       "    }\n",
       "</style>\n",
       "<table border=\"1\" class=\"dataframe\">\n",
       "  <thead>\n",
       "    <tr style=\"text-align: right;\">\n",
       "      <th></th>\n",
       "      <th>par</th>\n",
       "      <th>sfc</th>\n",
       "      <th>aci</th>\n",
       "      <th>pci</th>\n",
       "      <th>u1</th>\n",
       "      <th>cau</th>\n",
       "      <th>th</th>\n",
       "      <th>put</th>\n",
       "      <th>mid</th>\n",
       "      <th>u2</th>\n",
       "      <th>...</th>\n",
       "      <th>u</th>\n",
       "      <th>age</th>\n",
       "      <th>gene1</th>\n",
       "      <th>gene2</th>\n",
       "      <th>eta</th>\n",
       "      <th>day</th>\n",
       "      <th>depr</th>\n",
       "      <th>T</th>\n",
       "      <th>status</th>\n",
       "      <th>age_cat</th>\n",
       "    </tr>\n",
       "  </thead>\n",
       "  <tbody>\n",
       "    <tr>\n",
       "      <th>0</th>\n",
       "      <td>1.541845</td>\n",
       "      <td>1.639296</td>\n",
       "      <td>1.631768</td>\n",
       "      <td>1.436017</td>\n",
       "      <td>3.053231</td>\n",
       "      <td>0.941444</td>\n",
       "      <td>1.062079</td>\n",
       "      <td>0.988974</td>\n",
       "      <td>0.849440</td>\n",
       "      <td>0.452027</td>\n",
       "      <td>...</td>\n",
       "      <td>1.918266</td>\n",
       "      <td>-1.137870</td>\n",
       "      <td>1</td>\n",
       "      <td>1</td>\n",
       "      <td>-0.425573</td>\n",
       "      <td>30</td>\n",
       "      <td>0</td>\n",
       "      <td>1.019006</td>\n",
       "      <td>1</td>\n",
       "      <td>0</td>\n",
       "    </tr>\n",
       "    <tr>\n",
       "      <th>1</th>\n",
       "      <td>1.285776</td>\n",
       "      <td>1.314337</td>\n",
       "      <td>1.224379</td>\n",
       "      <td>1.154257</td>\n",
       "      <td>0.536178</td>\n",
       "      <td>1.018560</td>\n",
       "      <td>0.789055</td>\n",
       "      <td>0.903791</td>\n",
       "      <td>0.666955</td>\n",
       "      <td>-0.937675</td>\n",
       "      <td>...</td>\n",
       "      <td>-0.575754</td>\n",
       "      <td>-0.951810</td>\n",
       "      <td>1</td>\n",
       "      <td>1</td>\n",
       "      <td>-2.959047</td>\n",
       "      <td>246</td>\n",
       "      <td>1</td>\n",
       "      <td>30.000000</td>\n",
       "      <td>0</td>\n",
       "      <td>0</td>\n",
       "    </tr>\n",
       "    <tr>\n",
       "      <th>2</th>\n",
       "      <td>1.633392</td>\n",
       "      <td>1.731265</td>\n",
       "      <td>1.588976</td>\n",
       "      <td>1.580385</td>\n",
       "      <td>3.881156</td>\n",
       "      <td>0.965680</td>\n",
       "      <td>0.741293</td>\n",
       "      <td>0.389869</td>\n",
       "      <td>0.830224</td>\n",
       "      <td>-7.700945</td>\n",
       "      <td>...</td>\n",
       "      <td>4.751934</td>\n",
       "      <td>1.619259</td>\n",
       "      <td>1</td>\n",
       "      <td>1</td>\n",
       "      <td>4.244131</td>\n",
       "      <td>243</td>\n",
       "      <td>1</td>\n",
       "      <td>30.000000</td>\n",
       "      <td>0</td>\n",
       "      <td>0</td>\n",
       "    </tr>\n",
       "    <tr>\n",
       "      <th>3</th>\n",
       "      <td>1.971132</td>\n",
       "      <td>1.735649</td>\n",
       "      <td>1.768737</td>\n",
       "      <td>1.852557</td>\n",
       "      <td>4.071059</td>\n",
       "      <td>0.944994</td>\n",
       "      <td>0.643423</td>\n",
       "      <td>0.706459</td>\n",
       "      <td>0.822270</td>\n",
       "      <td>-4.530420</td>\n",
       "      <td>...</td>\n",
       "      <td>3.860327</td>\n",
       "      <td>0.167814</td>\n",
       "      <td>0</td>\n",
       "      <td>0</td>\n",
       "      <td>3.280688</td>\n",
       "      <td>335</td>\n",
       "      <td>0</td>\n",
       "      <td>30.000000</td>\n",
       "      <td>0</td>\n",
       "      <td>0</td>\n",
       "    </tr>\n",
       "    <tr>\n",
       "      <th>4</th>\n",
       "      <td>1.376904</td>\n",
       "      <td>1.423676</td>\n",
       "      <td>1.461504</td>\n",
       "      <td>1.169873</td>\n",
       "      <td>1.043610</td>\n",
       "      <td>0.778490</td>\n",
       "      <td>0.959439</td>\n",
       "      <td>0.968423</td>\n",
       "      <td>0.886591</td>\n",
       "      <td>-1.161456</td>\n",
       "      <td>...</td>\n",
       "      <td>0.974215</td>\n",
       "      <td>-0.908178</td>\n",
       "      <td>1</td>\n",
       "      <td>1</td>\n",
       "      <td>-1.082029</td>\n",
       "      <td>215</td>\n",
       "      <td>0</td>\n",
       "      <td>4.835404</td>\n",
       "      <td>1</td>\n",
       "      <td>0</td>\n",
       "    </tr>\n",
       "  </tbody>\n",
       "</table>\n",
       "<p>5 rows × 21 columns</p>\n",
       "</div>"
      ],
      "text/plain": [
       "        par       sfc       aci       pci        u1       cau        th  \\\n",
       "0  1.541845  1.639296  1.631768  1.436017  3.053231  0.941444  1.062079   \n",
       "1  1.285776  1.314337  1.224379  1.154257  0.536178  1.018560  0.789055   \n",
       "2  1.633392  1.731265  1.588976  1.580385  3.881156  0.965680  0.741293   \n",
       "3  1.971132  1.735649  1.768737  1.852557  4.071059  0.944994  0.643423   \n",
       "4  1.376904  1.423676  1.461504  1.169873  1.043610  0.778490  0.959439   \n",
       "\n",
       "        put       mid        u2   ...            u       age  gene1  gene2  \\\n",
       "0  0.988974  0.849440  0.452027   ...     1.918266 -1.137870      1      1   \n",
       "1  0.903791  0.666955 -0.937675   ...    -0.575754 -0.951810      1      1   \n",
       "2  0.389869  0.830224 -7.700945   ...     4.751934  1.619259      1      1   \n",
       "3  0.706459  0.822270 -4.530420   ...     3.860327  0.167814      0      0   \n",
       "4  0.968423  0.886591 -1.161456   ...     0.974215 -0.908178      1      1   \n",
       "\n",
       "        eta  day  depr          T  status  age_cat  \n",
       "0 -0.425573   30     0   1.019006       1        0  \n",
       "1 -2.959047  246     1  30.000000       0        0  \n",
       "2  4.244131  243     1  30.000000       0        0  \n",
       "3  3.280688  335     0  30.000000       0        0  \n",
       "4 -1.082029  215     0   4.835404       1        0  \n",
       "\n",
       "[5 rows x 21 columns]"
      ]
     },
     "execution_count": 36,
     "metadata": {},
     "output_type": "execute_result"
    }
   ],
   "source": [
    "dat.head()"
   ]
  },
  {
   "cell_type": "markdown",
   "metadata": {},
   "source": [
    "There a a number of ways to subset `pandas` dataframes. We'll show a few examples here, but for more details please read the documentation:\n",
    "\n",
    "[https://pandas.pydata.org/pandas-docs/stable/indexing.html](https://pandas.pydata.org/pandas-docs/stable/indexing.html)\n",
    "\n",
    "#### Subsetting with `.iloc`"
   ]
  },
  {
   "cell_type": "code",
   "execution_count": 37,
   "metadata": {},
   "outputs": [
    {
     "data": {
      "text/html": [
       "<div>\n",
       "<style scoped>\n",
       "    .dataframe tbody tr th:only-of-type {\n",
       "        vertical-align: middle;\n",
       "    }\n",
       "\n",
       "    .dataframe tbody tr th {\n",
       "        vertical-align: top;\n",
       "    }\n",
       "\n",
       "    .dataframe thead th {\n",
       "        text-align: right;\n",
       "    }\n",
       "</style>\n",
       "<table border=\"1\" class=\"dataframe\">\n",
       "  <thead>\n",
       "    <tr style=\"text-align: right;\">\n",
       "      <th></th>\n",
       "      <th>par</th>\n",
       "      <th>sfc</th>\n",
       "      <th>aci</th>\n",
       "      <th>pci</th>\n",
       "      <th>u1</th>\n",
       "      <th>cau</th>\n",
       "      <th>th</th>\n",
       "      <th>put</th>\n",
       "      <th>mid</th>\n",
       "      <th>u2</th>\n",
       "      <th>...</th>\n",
       "      <th>u</th>\n",
       "      <th>age</th>\n",
       "      <th>gene1</th>\n",
       "      <th>gene2</th>\n",
       "      <th>eta</th>\n",
       "      <th>day</th>\n",
       "      <th>depr</th>\n",
       "      <th>T</th>\n",
       "      <th>status</th>\n",
       "      <th>age_cat</th>\n",
       "    </tr>\n",
       "  </thead>\n",
       "  <tbody>\n",
       "    <tr>\n",
       "      <th>0</th>\n",
       "      <td>1.541845</td>\n",
       "      <td>1.639296</td>\n",
       "      <td>1.631768</td>\n",
       "      <td>1.436017</td>\n",
       "      <td>3.053231</td>\n",
       "      <td>0.941444</td>\n",
       "      <td>1.062079</td>\n",
       "      <td>0.988974</td>\n",
       "      <td>0.849440</td>\n",
       "      <td>0.452027</td>\n",
       "      <td>...</td>\n",
       "      <td>1.918266</td>\n",
       "      <td>-1.137870</td>\n",
       "      <td>1</td>\n",
       "      <td>1</td>\n",
       "      <td>-0.425573</td>\n",
       "      <td>30</td>\n",
       "      <td>0</td>\n",
       "      <td>1.019006</td>\n",
       "      <td>1</td>\n",
       "      <td>0</td>\n",
       "    </tr>\n",
       "    <tr>\n",
       "      <th>1</th>\n",
       "      <td>1.285776</td>\n",
       "      <td>1.314337</td>\n",
       "      <td>1.224379</td>\n",
       "      <td>1.154257</td>\n",
       "      <td>0.536178</td>\n",
       "      <td>1.018560</td>\n",
       "      <td>0.789055</td>\n",
       "      <td>0.903791</td>\n",
       "      <td>0.666955</td>\n",
       "      <td>-0.937675</td>\n",
       "      <td>...</td>\n",
       "      <td>-0.575754</td>\n",
       "      <td>-0.951810</td>\n",
       "      <td>1</td>\n",
       "      <td>1</td>\n",
       "      <td>-2.959047</td>\n",
       "      <td>246</td>\n",
       "      <td>1</td>\n",
       "      <td>30.000000</td>\n",
       "      <td>0</td>\n",
       "      <td>0</td>\n",
       "    </tr>\n",
       "    <tr>\n",
       "      <th>2</th>\n",
       "      <td>1.633392</td>\n",
       "      <td>1.731265</td>\n",
       "      <td>1.588976</td>\n",
       "      <td>1.580385</td>\n",
       "      <td>3.881156</td>\n",
       "      <td>0.965680</td>\n",
       "      <td>0.741293</td>\n",
       "      <td>0.389869</td>\n",
       "      <td>0.830224</td>\n",
       "      <td>-7.700945</td>\n",
       "      <td>...</td>\n",
       "      <td>4.751934</td>\n",
       "      <td>1.619259</td>\n",
       "      <td>1</td>\n",
       "      <td>1</td>\n",
       "      <td>4.244131</td>\n",
       "      <td>243</td>\n",
       "      <td>1</td>\n",
       "      <td>30.000000</td>\n",
       "      <td>0</td>\n",
       "      <td>0</td>\n",
       "    </tr>\n",
       "    <tr>\n",
       "      <th>3</th>\n",
       "      <td>1.971132</td>\n",
       "      <td>1.735649</td>\n",
       "      <td>1.768737</td>\n",
       "      <td>1.852557</td>\n",
       "      <td>4.071059</td>\n",
       "      <td>0.944994</td>\n",
       "      <td>0.643423</td>\n",
       "      <td>0.706459</td>\n",
       "      <td>0.822270</td>\n",
       "      <td>-4.530420</td>\n",
       "      <td>...</td>\n",
       "      <td>3.860327</td>\n",
       "      <td>0.167814</td>\n",
       "      <td>0</td>\n",
       "      <td>0</td>\n",
       "      <td>3.280688</td>\n",
       "      <td>335</td>\n",
       "      <td>0</td>\n",
       "      <td>30.000000</td>\n",
       "      <td>0</td>\n",
       "      <td>0</td>\n",
       "    </tr>\n",
       "    <tr>\n",
       "      <th>4</th>\n",
       "      <td>1.376904</td>\n",
       "      <td>1.423676</td>\n",
       "      <td>1.461504</td>\n",
       "      <td>1.169873</td>\n",
       "      <td>1.043610</td>\n",
       "      <td>0.778490</td>\n",
       "      <td>0.959439</td>\n",
       "      <td>0.968423</td>\n",
       "      <td>0.886591</td>\n",
       "      <td>-1.161456</td>\n",
       "      <td>...</td>\n",
       "      <td>0.974215</td>\n",
       "      <td>-0.908178</td>\n",
       "      <td>1</td>\n",
       "      <td>1</td>\n",
       "      <td>-1.082029</td>\n",
       "      <td>215</td>\n",
       "      <td>0</td>\n",
       "      <td>4.835404</td>\n",
       "      <td>1</td>\n",
       "      <td>0</td>\n",
       "    </tr>\n",
       "  </tbody>\n",
       "</table>\n",
       "<p>5 rows × 21 columns</p>\n",
       "</div>"
      ],
      "text/plain": [
       "        par       sfc       aci       pci        u1       cau        th  \\\n",
       "0  1.541845  1.639296  1.631768  1.436017  3.053231  0.941444  1.062079   \n",
       "1  1.285776  1.314337  1.224379  1.154257  0.536178  1.018560  0.789055   \n",
       "2  1.633392  1.731265  1.588976  1.580385  3.881156  0.965680  0.741293   \n",
       "3  1.971132  1.735649  1.768737  1.852557  4.071059  0.944994  0.643423   \n",
       "4  1.376904  1.423676  1.461504  1.169873  1.043610  0.778490  0.959439   \n",
       "\n",
       "        put       mid        u2   ...            u       age  gene1  gene2  \\\n",
       "0  0.988974  0.849440  0.452027   ...     1.918266 -1.137870      1      1   \n",
       "1  0.903791  0.666955 -0.937675   ...    -0.575754 -0.951810      1      1   \n",
       "2  0.389869  0.830224 -7.700945   ...     4.751934  1.619259      1      1   \n",
       "3  0.706459  0.822270 -4.530420   ...     3.860327  0.167814      0      0   \n",
       "4  0.968423  0.886591 -1.161456   ...     0.974215 -0.908178      1      1   \n",
       "\n",
       "        eta  day  depr          T  status  age_cat  \n",
       "0 -0.425573   30     0   1.019006       1        0  \n",
       "1 -2.959047  246     1  30.000000       0        0  \n",
       "2  4.244131  243     1  30.000000       0        0  \n",
       "3  3.280688  335     0  30.000000       0        0  \n",
       "4 -1.082029  215     0   4.835404       1        0  \n",
       "\n",
       "[5 rows x 21 columns]"
      ]
     },
     "execution_count": 37,
     "metadata": {},
     "output_type": "execute_result"
    }
   ],
   "source": [
    "## Use the iloc attribute to subset a dataframe based on position (integer index)\n",
    "## Slice notation with integers can be used, and is the same \n",
    "## as seen earlier for lists and arrays\n",
    "## With just a single slice specified, rows will be selected\n",
    "dat.iloc[0:5]"
   ]
  },
  {
   "cell_type": "code",
   "execution_count": 38,
   "metadata": {},
   "outputs": [
    {
     "data": {
      "text/html": [
       "<div>\n",
       "<style scoped>\n",
       "    .dataframe tbody tr th:only-of-type {\n",
       "        vertical-align: middle;\n",
       "    }\n",
       "\n",
       "    .dataframe tbody tr th {\n",
       "        vertical-align: top;\n",
       "    }\n",
       "\n",
       "    .dataframe thead th {\n",
       "        text-align: right;\n",
       "    }\n",
       "</style>\n",
       "<table border=\"1\" class=\"dataframe\">\n",
       "  <thead>\n",
       "    <tr style=\"text-align: right;\">\n",
       "      <th></th>\n",
       "      <th>par</th>\n",
       "      <th>sfc</th>\n",
       "      <th>aci</th>\n",
       "    </tr>\n",
       "  </thead>\n",
       "  <tbody>\n",
       "    <tr>\n",
       "      <th>0</th>\n",
       "      <td>1.541845</td>\n",
       "      <td>1.639296</td>\n",
       "      <td>1.631768</td>\n",
       "    </tr>\n",
       "    <tr>\n",
       "      <th>1</th>\n",
       "      <td>1.285776</td>\n",
       "      <td>1.314337</td>\n",
       "      <td>1.224379</td>\n",
       "    </tr>\n",
       "    <tr>\n",
       "      <th>2</th>\n",
       "      <td>1.633392</td>\n",
       "      <td>1.731265</td>\n",
       "      <td>1.588976</td>\n",
       "    </tr>\n",
       "    <tr>\n",
       "      <th>3</th>\n",
       "      <td>1.971132</td>\n",
       "      <td>1.735649</td>\n",
       "      <td>1.768737</td>\n",
       "    </tr>\n",
       "    <tr>\n",
       "      <th>4</th>\n",
       "      <td>1.376904</td>\n",
       "      <td>1.423676</td>\n",
       "      <td>1.461504</td>\n",
       "    </tr>\n",
       "  </tbody>\n",
       "</table>\n",
       "</div>"
      ],
      "text/plain": [
       "        par       sfc       aci\n",
       "0  1.541845  1.639296  1.631768\n",
       "1  1.285776  1.314337  1.224379\n",
       "2  1.633392  1.731265  1.588976\n",
       "3  1.971132  1.735649  1.768737\n",
       "4  1.376904  1.423676  1.461504"
      ]
     },
     "execution_count": 38,
     "metadata": {},
     "output_type": "execute_result"
    }
   ],
   "source": [
    "## You can also subset both rows and columns\n",
    "dat.iloc[0:5,0:3]"
   ]
  },
  {
   "cell_type": "code",
   "execution_count": 39,
   "metadata": {},
   "outputs": [
    {
     "data": {
      "text/html": [
       "<div>\n",
       "<style scoped>\n",
       "    .dataframe tbody tr th:only-of-type {\n",
       "        vertical-align: middle;\n",
       "    }\n",
       "\n",
       "    .dataframe tbody tr th {\n",
       "        vertical-align: top;\n",
       "    }\n",
       "\n",
       "    .dataframe thead th {\n",
       "        text-align: right;\n",
       "    }\n",
       "</style>\n",
       "<table border=\"1\" class=\"dataframe\">\n",
       "  <thead>\n",
       "    <tr style=\"text-align: right;\">\n",
       "      <th></th>\n",
       "      <th>sfc</th>\n",
       "      <th>aci</th>\n",
       "      <th>cau</th>\n",
       "    </tr>\n",
       "  </thead>\n",
       "  <tbody>\n",
       "    <tr>\n",
       "      <th>0</th>\n",
       "      <td>1.639296</td>\n",
       "      <td>1.631768</td>\n",
       "      <td>0.941444</td>\n",
       "    </tr>\n",
       "    <tr>\n",
       "      <th>1</th>\n",
       "      <td>1.314337</td>\n",
       "      <td>1.224379</td>\n",
       "      <td>1.018560</td>\n",
       "    </tr>\n",
       "    <tr>\n",
       "      <th>2</th>\n",
       "      <td>1.731265</td>\n",
       "      <td>1.588976</td>\n",
       "      <td>0.965680</td>\n",
       "    </tr>\n",
       "    <tr>\n",
       "      <th>3</th>\n",
       "      <td>1.735649</td>\n",
       "      <td>1.768737</td>\n",
       "      <td>0.944994</td>\n",
       "    </tr>\n",
       "    <tr>\n",
       "      <th>4</th>\n",
       "      <td>1.423676</td>\n",
       "      <td>1.461504</td>\n",
       "      <td>0.778490</td>\n",
       "    </tr>\n",
       "  </tbody>\n",
       "</table>\n",
       "</div>"
      ],
      "text/plain": [
       "        sfc       aci       cau\n",
       "0  1.639296  1.631768  0.941444\n",
       "1  1.314337  1.224379  1.018560\n",
       "2  1.731265  1.588976  0.965680\n",
       "3  1.735649  1.768737  0.944994\n",
       "4  1.423676  1.461504  0.778490"
      ]
     },
     "execution_count": 39,
     "metadata": {},
     "output_type": "execute_result"
    }
   ],
   "source": [
    "## Rather than slice notation, a list of indices can be used\n",
    "dat.iloc[0:5,[1,2,5]]"
   ]
  },
  {
   "cell_type": "markdown",
   "metadata": {},
   "source": [
    "#### Subsetting with `.loc`"
   ]
  },
  {
   "cell_type": "code",
   "execution_count": 40,
   "metadata": {},
   "outputs": [
    {
     "data": {
      "text/html": [
       "<div>\n",
       "<style scoped>\n",
       "    .dataframe tbody tr th:only-of-type {\n",
       "        vertical-align: middle;\n",
       "    }\n",
       "\n",
       "    .dataframe tbody tr th {\n",
       "        vertical-align: top;\n",
       "    }\n",
       "\n",
       "    .dataframe thead th {\n",
       "        text-align: right;\n",
       "    }\n",
       "</style>\n",
       "<table border=\"1\" class=\"dataframe\">\n",
       "  <thead>\n",
       "    <tr style=\"text-align: right;\">\n",
       "      <th></th>\n",
       "      <th>par</th>\n",
       "      <th>sfc</th>\n",
       "    </tr>\n",
       "  </thead>\n",
       "  <tbody>\n",
       "    <tr>\n",
       "      <th>0</th>\n",
       "      <td>1.541845</td>\n",
       "      <td>1.639296</td>\n",
       "    </tr>\n",
       "    <tr>\n",
       "      <th>1</th>\n",
       "      <td>1.285776</td>\n",
       "      <td>1.314337</td>\n",
       "    </tr>\n",
       "    <tr>\n",
       "      <th>2</th>\n",
       "      <td>1.633392</td>\n",
       "      <td>1.731265</td>\n",
       "    </tr>\n",
       "    <tr>\n",
       "      <th>3</th>\n",
       "      <td>1.971132</td>\n",
       "      <td>1.735649</td>\n",
       "    </tr>\n",
       "    <tr>\n",
       "      <th>4</th>\n",
       "      <td>1.376904</td>\n",
       "      <td>1.423676</td>\n",
       "    </tr>\n",
       "  </tbody>\n",
       "</table>\n",
       "</div>"
      ],
      "text/plain": [
       "        par       sfc\n",
       "0  1.541845  1.639296\n",
       "1  1.285776  1.314337\n",
       "2  1.633392  1.731265\n",
       "3  1.971132  1.735649\n",
       "4  1.376904  1.423676"
      ]
     },
     "execution_count": 40,
     "metadata": {},
     "output_type": "execute_result"
    }
   ],
   "source": [
    "## Use the loc() method to subset using labels\n",
    "## Select a single column (use a list to get multiple columns)\n",
    "## Integer slices should not be used with the loc method, \n",
    "## but you can provide a list of index values\n",
    "dat.loc[range(5),['par', 'sfc']]"
   ]
  },
  {
   "cell_type": "code",
   "execution_count": 41,
   "metadata": {},
   "outputs": [
    {
     "data": {
      "text/plain": [
       "0       True\n",
       "1       True\n",
       "2       True\n",
       "3      False\n",
       "4       True\n",
       "5       True\n",
       "6      False\n",
       "7      False\n",
       "8       True\n",
       "9      False\n",
       "10     False\n",
       "11     False\n",
       "12      True\n",
       "13     False\n",
       "14     False\n",
       "15     False\n",
       "16     False\n",
       "17     False\n",
       "18     False\n",
       "19     False\n",
       "20     False\n",
       "21     False\n",
       "22     False\n",
       "23     False\n",
       "24     False\n",
       "25     False\n",
       "26     False\n",
       "27     False\n",
       "28     False\n",
       "29     False\n",
       "       ...  \n",
       "220    False\n",
       "221     True\n",
       "222     True\n",
       "223     True\n",
       "224    False\n",
       "225     True\n",
       "226    False\n",
       "227     True\n",
       "228    False\n",
       "229     True\n",
       "230    False\n",
       "231    False\n",
       "232    False\n",
       "233     True\n",
       "234    False\n",
       "235    False\n",
       "236    False\n",
       "237    False\n",
       "238    False\n",
       "239    False\n",
       "240    False\n",
       "241    False\n",
       "242    False\n",
       "243     True\n",
       "244    False\n",
       "245    False\n",
       "246    False\n",
       "247    False\n",
       "248    False\n",
       "249    False\n",
       "Length: 250, dtype: bool"
      ]
     },
     "execution_count": 41,
     "metadata": {},
     "output_type": "execute_result"
    }
   ],
   "source": [
    "## Subsetting the data structure based on a condition\n",
    "gene_idx = (dat['gene1'] == 1) & (dat['gene2'] == 1)\n",
    "gene_idx"
   ]
  },
  {
   "cell_type": "code",
   "execution_count": 42,
   "metadata": {},
   "outputs": [
    {
     "data": {
      "text/html": [
       "<div>\n",
       "<style scoped>\n",
       "    .dataframe tbody tr th:only-of-type {\n",
       "        vertical-align: middle;\n",
       "    }\n",
       "\n",
       "    .dataframe tbody tr th {\n",
       "        vertical-align: top;\n",
       "    }\n",
       "\n",
       "    .dataframe thead th {\n",
       "        text-align: right;\n",
       "    }\n",
       "</style>\n",
       "<table border=\"1\" class=\"dataframe\">\n",
       "  <thead>\n",
       "    <tr style=\"text-align: right;\">\n",
       "      <th></th>\n",
       "      <th>par</th>\n",
       "      <th>sfc</th>\n",
       "      <th>aci</th>\n",
       "      <th>pci</th>\n",
       "      <th>u1</th>\n",
       "      <th>cau</th>\n",
       "      <th>th</th>\n",
       "      <th>put</th>\n",
       "      <th>mid</th>\n",
       "      <th>u2</th>\n",
       "      <th>...</th>\n",
       "      <th>u</th>\n",
       "      <th>age</th>\n",
       "      <th>gene1</th>\n",
       "      <th>gene2</th>\n",
       "      <th>eta</th>\n",
       "      <th>day</th>\n",
       "      <th>depr</th>\n",
       "      <th>T</th>\n",
       "      <th>status</th>\n",
       "      <th>age_cat</th>\n",
       "    </tr>\n",
       "  </thead>\n",
       "  <tbody>\n",
       "    <tr>\n",
       "      <th>0</th>\n",
       "      <td>1.541845</td>\n",
       "      <td>1.639296</td>\n",
       "      <td>1.631768</td>\n",
       "      <td>1.436017</td>\n",
       "      <td>3.053231</td>\n",
       "      <td>0.941444</td>\n",
       "      <td>1.062079</td>\n",
       "      <td>0.988974</td>\n",
       "      <td>0.849440</td>\n",
       "      <td>0.452027</td>\n",
       "      <td>...</td>\n",
       "      <td>1.918266</td>\n",
       "      <td>-1.137870</td>\n",
       "      <td>1</td>\n",
       "      <td>1</td>\n",
       "      <td>-0.425573</td>\n",
       "      <td>30</td>\n",
       "      <td>0</td>\n",
       "      <td>1.019006</td>\n",
       "      <td>1</td>\n",
       "      <td>0</td>\n",
       "    </tr>\n",
       "    <tr>\n",
       "      <th>1</th>\n",
       "      <td>1.285776</td>\n",
       "      <td>1.314337</td>\n",
       "      <td>1.224379</td>\n",
       "      <td>1.154257</td>\n",
       "      <td>0.536178</td>\n",
       "      <td>1.018560</td>\n",
       "      <td>0.789055</td>\n",
       "      <td>0.903791</td>\n",
       "      <td>0.666955</td>\n",
       "      <td>-0.937675</td>\n",
       "      <td>...</td>\n",
       "      <td>-0.575754</td>\n",
       "      <td>-0.951810</td>\n",
       "      <td>1</td>\n",
       "      <td>1</td>\n",
       "      <td>-2.959047</td>\n",
       "      <td>246</td>\n",
       "      <td>1</td>\n",
       "      <td>30.000000</td>\n",
       "      <td>0</td>\n",
       "      <td>0</td>\n",
       "    </tr>\n",
       "    <tr>\n",
       "      <th>2</th>\n",
       "      <td>1.633392</td>\n",
       "      <td>1.731265</td>\n",
       "      <td>1.588976</td>\n",
       "      <td>1.580385</td>\n",
       "      <td>3.881156</td>\n",
       "      <td>0.965680</td>\n",
       "      <td>0.741293</td>\n",
       "      <td>0.389869</td>\n",
       "      <td>0.830224</td>\n",
       "      <td>-7.700945</td>\n",
       "      <td>...</td>\n",
       "      <td>4.751934</td>\n",
       "      <td>1.619259</td>\n",
       "      <td>1</td>\n",
       "      <td>1</td>\n",
       "      <td>4.244131</td>\n",
       "      <td>243</td>\n",
       "      <td>1</td>\n",
       "      <td>30.000000</td>\n",
       "      <td>0</td>\n",
       "      <td>0</td>\n",
       "    </tr>\n",
       "    <tr>\n",
       "      <th>4</th>\n",
       "      <td>1.376904</td>\n",
       "      <td>1.423676</td>\n",
       "      <td>1.461504</td>\n",
       "      <td>1.169873</td>\n",
       "      <td>1.043610</td>\n",
       "      <td>0.778490</td>\n",
       "      <td>0.959439</td>\n",
       "      <td>0.968423</td>\n",
       "      <td>0.886591</td>\n",
       "      <td>-1.161456</td>\n",
       "      <td>...</td>\n",
       "      <td>0.974215</td>\n",
       "      <td>-0.908178</td>\n",
       "      <td>1</td>\n",
       "      <td>1</td>\n",
       "      <td>-1.082029</td>\n",
       "      <td>215</td>\n",
       "      <td>0</td>\n",
       "      <td>4.835404</td>\n",
       "      <td>1</td>\n",
       "      <td>0</td>\n",
       "    </tr>\n",
       "    <tr>\n",
       "      <th>5</th>\n",
       "      <td>0.806983</td>\n",
       "      <td>1.058278</td>\n",
       "      <td>1.115488</td>\n",
       "      <td>0.651795</td>\n",
       "      <td>-1.917271</td>\n",
       "      <td>0.845913</td>\n",
       "      <td>0.901128</td>\n",
       "      <td>1.074159</td>\n",
       "      <td>1.008709</td>\n",
       "      <td>-0.411856</td>\n",
       "      <td>...</td>\n",
       "      <td>-0.254622</td>\n",
       "      <td>1.341796</td>\n",
       "      <td>1</td>\n",
       "      <td>1</td>\n",
       "      <td>0.000730</td>\n",
       "      <td>257</td>\n",
       "      <td>1</td>\n",
       "      <td>30.000000</td>\n",
       "      <td>0</td>\n",
       "      <td>0</td>\n",
       "    </tr>\n",
       "  </tbody>\n",
       "</table>\n",
       "<p>5 rows × 21 columns</p>\n",
       "</div>"
      ],
      "text/plain": [
       "        par       sfc       aci       pci        u1       cau        th  \\\n",
       "0  1.541845  1.639296  1.631768  1.436017  3.053231  0.941444  1.062079   \n",
       "1  1.285776  1.314337  1.224379  1.154257  0.536178  1.018560  0.789055   \n",
       "2  1.633392  1.731265  1.588976  1.580385  3.881156  0.965680  0.741293   \n",
       "4  1.376904  1.423676  1.461504  1.169873  1.043610  0.778490  0.959439   \n",
       "5  0.806983  1.058278  1.115488  0.651795 -1.917271  0.845913  0.901128   \n",
       "\n",
       "        put       mid        u2   ...            u       age  gene1  gene2  \\\n",
       "0  0.988974  0.849440  0.452027   ...     1.918266 -1.137870      1      1   \n",
       "1  0.903791  0.666955 -0.937675   ...    -0.575754 -0.951810      1      1   \n",
       "2  0.389869  0.830224 -7.700945   ...     4.751934  1.619259      1      1   \n",
       "4  0.968423  0.886591 -1.161456   ...     0.974215 -0.908178      1      1   \n",
       "5  1.074159  1.008709 -0.411856   ...    -0.254622  1.341796      1      1   \n",
       "\n",
       "        eta  day  depr          T  status  age_cat  \n",
       "0 -0.425573   30     0   1.019006       1        0  \n",
       "1 -2.959047  246     1  30.000000       0        0  \n",
       "2  4.244131  243     1  30.000000       0        0  \n",
       "4 -1.082029  215     0   4.835404       1        0  \n",
       "5  0.000730  257     1  30.000000       0        0  \n",
       "\n",
       "[5 rows x 21 columns]"
      ]
     },
     "execution_count": 42,
     "metadata": {},
     "output_type": "execute_result"
    }
   ],
   "source": [
    "## The loc attribute will also accept a boolean array as an indexer\n",
    "dat.loc[gene_idx].head()"
   ]
  },
  {
   "cell_type": "code",
   "execution_count": 43,
   "metadata": {},
   "outputs": [],
   "source": [
    "## Set values based on a condition (use the loc attribute)\n",
    "## Here we update the 'age_cat' column for only those rows where 'age' is > 0\n",
    "dat.loc[dat['age'] > 0, 'age_cat'] = 1"
   ]
  },
  {
   "cell_type": "code",
   "execution_count": 44,
   "metadata": {},
   "outputs": [
    {
     "data": {
      "text/html": [
       "<div>\n",
       "<style scoped>\n",
       "    .dataframe tbody tr th:only-of-type {\n",
       "        vertical-align: middle;\n",
       "    }\n",
       "\n",
       "    .dataframe tbody tr th {\n",
       "        vertical-align: top;\n",
       "    }\n",
       "\n",
       "    .dataframe thead th {\n",
       "        text-align: right;\n",
       "    }\n",
       "</style>\n",
       "<table border=\"1\" class=\"dataframe\">\n",
       "  <thead>\n",
       "    <tr style=\"text-align: right;\">\n",
       "      <th></th>\n",
       "      <th>par</th>\n",
       "      <th>sfc</th>\n",
       "      <th>aci</th>\n",
       "      <th>pci</th>\n",
       "      <th>u1</th>\n",
       "      <th>cau</th>\n",
       "      <th>th</th>\n",
       "      <th>put</th>\n",
       "      <th>mid</th>\n",
       "      <th>u2</th>\n",
       "      <th>...</th>\n",
       "      <th>u</th>\n",
       "      <th>age</th>\n",
       "      <th>gene1</th>\n",
       "      <th>gene2</th>\n",
       "      <th>eta</th>\n",
       "      <th>day</th>\n",
       "      <th>depr</th>\n",
       "      <th>T</th>\n",
       "      <th>status</th>\n",
       "      <th>age_cat</th>\n",
       "    </tr>\n",
       "  </thead>\n",
       "  <tbody>\n",
       "    <tr>\n",
       "      <th>0</th>\n",
       "      <td>1.541845</td>\n",
       "      <td>1.639296</td>\n",
       "      <td>1.631768</td>\n",
       "      <td>1.436017</td>\n",
       "      <td>3.053231</td>\n",
       "      <td>0.941444</td>\n",
       "      <td>1.062079</td>\n",
       "      <td>0.988974</td>\n",
       "      <td>0.849440</td>\n",
       "      <td>0.452027</td>\n",
       "      <td>...</td>\n",
       "      <td>1.918266</td>\n",
       "      <td>-1.137870</td>\n",
       "      <td>1</td>\n",
       "      <td>1</td>\n",
       "      <td>-0.425573</td>\n",
       "      <td>30</td>\n",
       "      <td>0</td>\n",
       "      <td>1.019006</td>\n",
       "      <td>1</td>\n",
       "      <td>0</td>\n",
       "    </tr>\n",
       "    <tr>\n",
       "      <th>1</th>\n",
       "      <td>1.285776</td>\n",
       "      <td>1.314337</td>\n",
       "      <td>1.224379</td>\n",
       "      <td>1.154257</td>\n",
       "      <td>0.536178</td>\n",
       "      <td>1.018560</td>\n",
       "      <td>0.789055</td>\n",
       "      <td>0.903791</td>\n",
       "      <td>0.666955</td>\n",
       "      <td>-0.937675</td>\n",
       "      <td>...</td>\n",
       "      <td>-0.575754</td>\n",
       "      <td>-0.951810</td>\n",
       "      <td>1</td>\n",
       "      <td>1</td>\n",
       "      <td>-2.959047</td>\n",
       "      <td>246</td>\n",
       "      <td>1</td>\n",
       "      <td>30.000000</td>\n",
       "      <td>0</td>\n",
       "      <td>0</td>\n",
       "    </tr>\n",
       "    <tr>\n",
       "      <th>2</th>\n",
       "      <td>1.633392</td>\n",
       "      <td>1.731265</td>\n",
       "      <td>1.588976</td>\n",
       "      <td>1.580385</td>\n",
       "      <td>3.881156</td>\n",
       "      <td>0.965680</td>\n",
       "      <td>0.741293</td>\n",
       "      <td>0.389869</td>\n",
       "      <td>0.830224</td>\n",
       "      <td>-7.700945</td>\n",
       "      <td>...</td>\n",
       "      <td>4.751934</td>\n",
       "      <td>1.619259</td>\n",
       "      <td>1</td>\n",
       "      <td>1</td>\n",
       "      <td>4.244131</td>\n",
       "      <td>243</td>\n",
       "      <td>1</td>\n",
       "      <td>30.000000</td>\n",
       "      <td>0</td>\n",
       "      <td>1</td>\n",
       "    </tr>\n",
       "    <tr>\n",
       "      <th>3</th>\n",
       "      <td>1.971132</td>\n",
       "      <td>1.735649</td>\n",
       "      <td>1.768737</td>\n",
       "      <td>1.852557</td>\n",
       "      <td>4.071059</td>\n",
       "      <td>0.944994</td>\n",
       "      <td>0.643423</td>\n",
       "      <td>0.706459</td>\n",
       "      <td>0.822270</td>\n",
       "      <td>-4.530420</td>\n",
       "      <td>...</td>\n",
       "      <td>3.860327</td>\n",
       "      <td>0.167814</td>\n",
       "      <td>0</td>\n",
       "      <td>0</td>\n",
       "      <td>3.280688</td>\n",
       "      <td>335</td>\n",
       "      <td>0</td>\n",
       "      <td>30.000000</td>\n",
       "      <td>0</td>\n",
       "      <td>1</td>\n",
       "    </tr>\n",
       "    <tr>\n",
       "      <th>4</th>\n",
       "      <td>1.376904</td>\n",
       "      <td>1.423676</td>\n",
       "      <td>1.461504</td>\n",
       "      <td>1.169873</td>\n",
       "      <td>1.043610</td>\n",
       "      <td>0.778490</td>\n",
       "      <td>0.959439</td>\n",
       "      <td>0.968423</td>\n",
       "      <td>0.886591</td>\n",
       "      <td>-1.161456</td>\n",
       "      <td>...</td>\n",
       "      <td>0.974215</td>\n",
       "      <td>-0.908178</td>\n",
       "      <td>1</td>\n",
       "      <td>1</td>\n",
       "      <td>-1.082029</td>\n",
       "      <td>215</td>\n",
       "      <td>0</td>\n",
       "      <td>4.835404</td>\n",
       "      <td>1</td>\n",
       "      <td>0</td>\n",
       "    </tr>\n",
       "  </tbody>\n",
       "</table>\n",
       "<p>5 rows × 21 columns</p>\n",
       "</div>"
      ],
      "text/plain": [
       "        par       sfc       aci       pci        u1       cau        th  \\\n",
       "0  1.541845  1.639296  1.631768  1.436017  3.053231  0.941444  1.062079   \n",
       "1  1.285776  1.314337  1.224379  1.154257  0.536178  1.018560  0.789055   \n",
       "2  1.633392  1.731265  1.588976  1.580385  3.881156  0.965680  0.741293   \n",
       "3  1.971132  1.735649  1.768737  1.852557  4.071059  0.944994  0.643423   \n",
       "4  1.376904  1.423676  1.461504  1.169873  1.043610  0.778490  0.959439   \n",
       "\n",
       "        put       mid        u2   ...            u       age  gene1  gene2  \\\n",
       "0  0.988974  0.849440  0.452027   ...     1.918266 -1.137870      1      1   \n",
       "1  0.903791  0.666955 -0.937675   ...    -0.575754 -0.951810      1      1   \n",
       "2  0.389869  0.830224 -7.700945   ...     4.751934  1.619259      1      1   \n",
       "3  0.706459  0.822270 -4.530420   ...     3.860327  0.167814      0      0   \n",
       "4  0.968423  0.886591 -1.161456   ...     0.974215 -0.908178      1      1   \n",
       "\n",
       "        eta  day  depr          T  status  age_cat  \n",
       "0 -0.425573   30     0   1.019006       1        0  \n",
       "1 -2.959047  246     1  30.000000       0        0  \n",
       "2  4.244131  243     1  30.000000       0        1  \n",
       "3  3.280688  335     0  30.000000       0        1  \n",
       "4 -1.082029  215     0   4.835404       1        0  \n",
       "\n",
       "[5 rows x 21 columns]"
      ]
     },
     "execution_count": 44,
     "metadata": {},
     "output_type": "execute_result"
    }
   ],
   "source": [
    "dat.head()"
   ]
  },
  {
   "cell_type": "markdown",
   "metadata": {},
   "source": [
    "### Plotting with `Pandas`\n",
    "\n",
    "A few examples of simple plots available in `pandas`... We'll dive into more advanced plotting next week."
   ]
  },
  {
   "cell_type": "code",
   "execution_count": 45,
   "metadata": {},
   "outputs": [
    {
     "data": {
      "text/plain": [
       "0    133\n",
       "1    117\n",
       "Name: gene1, dtype: int64"
      ]
     },
     "execution_count": 45,
     "metadata": {},
     "output_type": "execute_result"
    }
   ],
   "source": [
    "## Get a summary of the data (value counts)\n",
    "gene1_counts = dat['gene1'].value_counts()\n",
    "gene1_counts"
   ]
  },
  {
   "cell_type": "code",
   "execution_count": 46,
   "metadata": {},
   "outputs": [
    {
     "data": {
      "text/plain": [
       "gene1  gene2\n",
       "0      0        60\n",
       "       1        73\n",
       "1      0        59\n",
       "       1        58\n",
       "dtype: int64"
      ]
     },
     "execution_count": 46,
     "metadata": {},
     "output_type": "execute_result"
    }
   ],
   "source": [
    "## Another way to create a tabular view of you data\n",
    "dat.groupby(['gene1','gene2']).size()"
   ]
  },
  {
   "cell_type": "code",
   "execution_count": 47,
   "metadata": {},
   "outputs": [
    {
     "data": {
      "image/png": "[encoded data removed]",
      "text/plain": [
       "<Figure size 432x288 with 1 Axes>"
      ]
     },
     "metadata": {},
     "output_type": "display_data"
    }
   ],
   "source": [
    "## Bar plot\n",
    "gene1_counts.plot(kind=\"bar\");"
   ]
  },
  {
   "cell_type": "code",
   "execution_count": 48,
   "metadata": {},
   "outputs": [
    {
     "data": {
      "image/png": "[encoded data removed]",
      "text/plain": [
       "<Figure size 432x288 with 1 Axes>"
      ]
     },
     "metadata": {},
     "output_type": "display_data"
    }
   ],
   "source": [
    "## Box plot\n",
    "x = dat.boxplot(column='age', return_type='axes');\n",
    "plt.savefig('boxplot1.pdf')"
   ]
  },
  {
   "cell_type": "code",
   "execution_count": 49,
   "metadata": {},
   "outputs": [
    {
     "data": {
      "image/png": "[encoded data removed]",
      "text/plain": [
       "<Figure size 432x288 with 1 Axes>"
      ]
     },
     "metadata": {},
     "output_type": "display_data"
    }
   ],
   "source": [
    "bp = dat.boxplot(column='mem', by='gene1')\n",
    "bp.set_xticklabels(['tick1','tick2']);"
   ]
  },
  {
   "cell_type": "code",
   "execution_count": 50,
   "metadata": {},
   "outputs": [
    {
     "data": {
      "image/png": "[encoded data removed]",
      "text/plain": [
       "<Figure size 432x288 with 1 Axes>"
      ]
     },
     "metadata": {},
     "output_type": "display_data"
    }
   ],
   "source": [
    "## Scatter plot\n",
    "dat.plot(x='age', y='mem', kind=\"scatter\");"
   ]
  },
  {
   "cell_type": "markdown",
   "metadata": {},
   "source": [
    "## Statistics in Python\n",
    "\n",
    "The `statsmodels` package contains functions and classes for data exploration and many different statistical procedures (modeling, hypothesis testing). `Pandas` and `Scipy` also have statistics modules.\n",
    "\n",
    "[http://statsmodels.sourceforge.net/stable/index.html](http://statsmodels.sourceforge.net/stable/index.html)\n",
    "\n",
    "[http://pandas.pydata.org/pandas-docs/stable/basics.html#descriptive-statistics](http://pandas.pydata.org/pandas-docs/stable/basics.html#descriptive-statistics)\n",
    "\n",
    "[http://docs.scipy.org/doc/scipy-0.13.0/reference/stats.html](http://docs.scipy.org/doc/scipy-0.13.0/reference/stats.html)"
   ]
  },
  {
   "cell_type": "markdown",
   "metadata": {},
   "source": [
    "### Descriptive Statistics"
   ]
  },
  {
   "cell_type": "code",
   "execution_count": 51,
   "metadata": {},
   "outputs": [
    {
     "data": {
      "text/plain": [
       "count    250.000000\n",
       "mean      -0.009506\n",
       "std        1.036330\n",
       "min       -3.119118\n",
       "25%       -0.676994\n",
       "50%       -0.033606\n",
       "75%        0.561708\n",
       "max        2.861592\n",
       "Name: age, dtype: float64"
      ]
     },
     "execution_count": 51,
     "metadata": {},
     "output_type": "execute_result"
    }
   ],
   "source": [
    "## Pandas summary statistics\n",
    "dat['age'].describe()"
   ]
  },
  {
   "cell_type": "code",
   "execution_count": 52,
   "metadata": {},
   "outputs": [
    {
     "data": {
      "text/plain": [
       "par        0\n",
       "sfc        0\n",
       "aci        0\n",
       "pci        0\n",
       "u1         0\n",
       "cau        0\n",
       "th         0\n",
       "put        0\n",
       "mid        0\n",
       "u2         0\n",
       "mem        0\n",
       "u          0\n",
       "age        0\n",
       "gene1      0\n",
       "gene2      0\n",
       "eta        0\n",
       "day        0\n",
       "depr       0\n",
       "T          0\n",
       "status     0\n",
       "age_cat    0\n",
       "dtype: int64"
      ]
     },
     "execution_count": 52,
     "metadata": {},
     "output_type": "execute_result"
    }
   ],
   "source": [
    "## Missing data counts in Pandas\n",
    "dat.isnull().sum()"
   ]
  },
  {
   "cell_type": "code",
   "execution_count": 53,
   "metadata": {},
   "outputs": [
    {
     "data": {
      "text/plain": [
       "DescribeResult(nobs=250, minmax=(-3.1191175148780097, 2.86159181140889), mean=-0.009505743615708592, variance=1.0739808473043826, skewness=0.056228167992158774, kurtosis=-0.11090770812166584)"
      ]
     },
     "execution_count": 53,
     "metadata": {},
     "output_type": "execute_result"
    }
   ],
   "source": [
    "## Summary stats from SciPy\n",
    "from scipy import stats\n",
    "stats.describe(dat['age'])"
   ]
  },
  {
   "cell_type": "code",
   "execution_count": 54,
   "metadata": {},
   "outputs": [
    {
     "data": {
      "text/plain": [
       "array([-9.50574362e-03,  1.07140000e+02])"
      ]
     },
     "execution_count": 54,
     "metadata": {},
     "output_type": "execute_result"
    }
   ],
   "source": [
    "## Summary stats from statsmodels\n",
    "import statsmodels.api as sma\n",
    "desc = sma.stats.DescrStatsW(dat[['age','mem']])\n",
    "desc.mean"
   ]
  },
  {
   "cell_type": "code",
   "execution_count": 55,
   "metadata": {},
   "outputs": [
    {
     "data": {
      "text/plain": [
       "array([[1.        , 0.59016791],\n",
       "       [0.59016791, 1.        ]])"
      ]
     },
     "execution_count": 55,
     "metadata": {},
     "output_type": "execute_result"
    }
   ],
   "source": [
    "## Create a correlation matrix\n",
    "desc.corrcoef"
   ]
  },
  {
   "cell_type": "code",
   "execution_count": 56,
   "metadata": {},
   "outputs": [
    {
     "data": {
      "text/plain": [
       "array([[1.        , 0.59016791],\n",
       "       [0.59016791, 1.        ]])"
      ]
     },
     "execution_count": 56,
     "metadata": {},
     "output_type": "execute_result"
    }
   ],
   "source": [
    "## Equivalent correlation matrix using Numpy\n",
    "np.corrcoef(dat[['age','mem']], rowvar=0)"
   ]
  },
  {
   "cell_type": "code",
   "execution_count": 57,
   "metadata": {},
   "outputs": [
    {
     "data": {
      "text/plain": [
       "(-2.9567022934300766, 0.0034094451435307434, 248.0)"
      ]
     },
     "execution_count": 57,
     "metadata": {},
     "output_type": "execute_result"
    }
   ],
   "source": [
    "## Calculate a T-test to compare means\n",
    "sma.stats.ttest_ind(dat['mem'][dat['gene1']==1], dat['mem'][dat['gene1']==0])"
   ]
  },
  {
   "cell_type": "markdown",
   "metadata": {},
   "source": [
    "### Linear Regression"
   ]
  },
  {
   "cell_type": "code",
   "execution_count": 58,
   "metadata": {},
   "outputs": [
    {
     "name": "stdout",
     "output_type": "stream",
     "text": [
      "                            OLS Regression Results                            \n",
      "==============================================================================\n",
      "Dep. Variable:                    mem   R-squared:                       0.348\n",
      "Model:                            OLS   Adj. R-squared:                  0.346\n",
      "Method:                 Least Squares   F-statistic:                     132.5\n",
      "Date:                Mon, 08 Oct 2018   Prob (F-statistic):           7.45e-25\n",
      "Time:                        15:36:25   Log-Likelihood:                -1228.2\n",
      "No. Observations:                 250   AIC:                             2460.\n",
      "Df Residuals:                     248   BIC:                             2467.\n",
      "Df Model:                           1                                         \n",
      "Covariance Type:            nonrobust                                         \n",
      "==============================================================================\n",
      "                 coef    std err          t      P>|t|      [0.025      0.975]\n",
      "------------------------------------------------------------------------------\n",
      "Intercept    107.3611      2.090     51.372      0.000     103.245     111.477\n",
      "age           23.2621      2.021     11.513      0.000      19.282      27.242\n",
      "==============================================================================\n",
      "Omnibus:                        9.068   Durbin-Watson:                   1.932\n",
      "Prob(Omnibus):                  0.011   Jarque-Bera (JB):                9.002\n",
      "Skew:                           0.445   Prob(JB):                       0.0111\n",
      "Kurtosis:                       3.271   Cond. No.                         1.04\n",
      "==============================================================================\n",
      "\n",
      "Warnings:\n",
      "[1] Standard Errors assume that the covariance matrix of the errors is correctly specified.\n"
     ]
    }
   ],
   "source": [
    "import statsmodels.formula.api as smf\n",
    "mod = smf.ols(formula='mem ~ age', data=dat)\n",
    "res = mod.fit()\n",
    "print(res.summary())"
   ]
  },
  {
   "cell_type": "code",
   "execution_count": 59,
   "metadata": {},
   "outputs": [
    {
     "data": {
      "text/plain": [
       "Intercept    107.361123\n",
       "age           23.262082\n",
       "dtype: float64"
      ]
     },
     "execution_count": 59,
     "metadata": {},
     "output_type": "execute_result"
    }
   ],
   "source": [
    "## The regression fit parameters\n",
    "res.params"
   ]
  },
  {
   "cell_type": "code",
   "execution_count": 60,
   "metadata": {},
   "outputs": [
    {
     "data": {
      "text/plain": [
       "107.36112338651378"
      ]
     },
     "execution_count": 60,
     "metadata": {},
     "output_type": "execute_result"
    }
   ],
   "source": [
    "res.params.loc['Intercept']"
   ]
  },
  {
   "cell_type": "markdown",
   "metadata": {},
   "source": [
    "## SciPy\n",
    "### Mann-Whitney Rank Test\n",
    "\n",
    "You will use this test as part of your final project."
   ]
  },
  {
   "cell_type": "code",
   "execution_count": 61,
   "metadata": {},
   "outputs": [],
   "source": [
    "x1 = np.random.normal(0,1,30)\n",
    "x2 = np.random.normal(3,1,50)"
   ]
  },
  {
   "cell_type": "code",
   "execution_count": 62,
   "metadata": {},
   "outputs": [
    {
     "name": "stdout",
     "output_type": "stream",
     "text": [
      "x1 = [ 0.13235098 -0.05771701 -0.58174071  2.53710109 -0.23482585  0.17108569\n",
      " -0.2566527  -1.32747476 -1.20999823 -2.72180522 -1.40093292  1.38837279\n",
      " -0.98772172  0.12116443  0.3777409   0.05720694  1.51399654  0.70578532\n",
      "  0.95389727 -0.01168317  0.58121127  0.44190966 -0.15075956  0.35735848\n",
      " -0.56322954  0.83754798  1.23989683  1.02437962 -1.07051607 -0.23885539]\n",
      "x2 = [4.52451306 3.9285074  3.49832287 4.18981522 3.58176922 2.90652202\n",
      " 3.58443386 1.72176809 3.59215452 3.82031964 3.33820787 4.67610911\n",
      " 2.88610756 4.41034051 3.19850642 2.49798774 2.51165782 0.44440219\n",
      " 2.03969107 3.10318752 2.570649   4.36874163 5.73449206 1.41442721\n",
      " 3.90467818 2.88874331 0.79213003 3.05302241 3.10117543 3.16234485\n",
      " 3.55924087 2.43534601 4.61156035 3.42596161 4.06583242 3.7895313\n",
      " 3.35076582 3.62488225 3.62774969 2.4413433  2.89953376 1.10396045\n",
      " 3.62645396 2.40110548 1.2769129  2.45405994 2.00943974 0.497468\n",
      " 3.26018192 2.6558536 ]\n",
      "U = 43.0\n",
      "P-value = 1.0994328054837392e-12\n"
     ]
    }
   ],
   "source": [
    "from scipy import stats\n",
    "u, p = stats.mannwhitneyu(x1, x2)\n",
    "print(\"x1 =\", x1)\n",
    "print(\"x2 =\", x2)\n",
    "print(\"U =\", u)\n",
    "print(\"P-value =\", p)"
   ]
  },
  {
   "cell_type": "code",
   "execution_count": 63,
   "metadata": {},
   "outputs": [
    {
     "name": "stdout",
     "output_type": "stream",
     "text": [
      "Help on function mannwhitneyu in module scipy.stats.stats:\n",
      "\n",
      "mannwhitneyu(x, y, use_continuity=True, alternative=None)\n",
      "    Compute the Mann-Whitney rank test on samples x and y.\n",
      "    \n",
      "    Parameters\n",
      "    ----------\n",
      "    x, y : array_like\n",
      "        Array of samples, should be one-dimensional.\n",
      "    use_continuity : bool, optional\n",
      "            Whether a continuity correction (1/2.) should be taken into\n",
      "            account. Default is True.\n",
      "    alternative : None (deprecated), 'less', 'two-sided', or 'greater'\n",
      "            Whether to get the p-value for the one-sided hypothesis ('less'\n",
      "            or 'greater') or for the two-sided hypothesis ('two-sided').\n",
      "            Defaults to None, which results in a p-value half the size of\n",
      "            the 'two-sided' p-value and a different U statistic. The\n",
      "            default behavior is not the same as using 'less' or 'greater':\n",
      "            it only exists for backward compatibility and is deprecated.\n",
      "    \n",
      "    Returns\n",
      "    -------\n",
      "    statistic : float\n",
      "        The Mann-Whitney U statistic, equal to min(U for x, U for y) if\n",
      "        `alternative` is equal to None (deprecated; exists for backward\n",
      "        compatibility), and U for y otherwise.\n",
      "    pvalue : float\n",
      "        p-value assuming an asymptotic normal distribution. One-sided or\n",
      "        two-sided, depending on the choice of `alternative`.\n",
      "    \n",
      "    Notes\n",
      "    -----\n",
      "    Use only when the number of observation in each sample is > 20 and\n",
      "    you have 2 independent samples of ranks. Mann-Whitney U is\n",
      "    significant if the u-obtained is LESS THAN or equal to the critical\n",
      "    value of U.\n",
      "    \n",
      "    This test corrects for ties and by default uses a continuity correction.\n",
      "    \n",
      "    References\n",
      "    ----------\n",
      "    .. [1] https://en.wikipedia.org/wiki/Mann-Whitney_U_test\n",
      "    \n",
      "    .. [2] H.B. Mann and D.R. Whitney, \"On a Test of Whether one of Two Random\n",
      "           Variables is Stochastically Larger than the Other,\" The Annals of\n",
      "           Mathematical Statistics, vol. 18, no. 1, pp. 50-60, 1947.\n",
      "\n"
     ]
    }
   ],
   "source": [
    "help(stats.mannwhitneyu)"
   ]
  },
  {
   "cell_type": "markdown",
   "metadata": {},
   "source": [
    "## In-Class Exercises"
   ]
  },
  {
   "cell_type": "code",
   "execution_count": 64,
   "metadata": {},
   "outputs": [],
   "source": [
    "## Exercise 1.\n",
    "## Use the np.random.normal(5, 1, 100) function to \n",
    "## create an array of 100 random numbers.\n",
    "## Mean = 5, SD = 1\n",
    "## Count how many random numbers are greater than 5\n",
    "## \n"
   ]
  },
  {
   "cell_type": "code",
   "execution_count": 65,
   "metadata": {},
   "outputs": [],
   "source": [
    "## Exercise 2.\n",
    "## Create a new categorical variable in the serotonin data frame \n",
    "## called 'highmem'. Set the variable = 1 for subjects with a 'mem' \n",
    "## value > 100, otherwise 0. Split the data into two different \n",
    "## data frames based on the value of 'highmem'. Create boxplots \n",
    "## of 'age' for both data frames, and identify the mean, min, \n",
    "## max for each.\n",
    "##\n"
   ]
  },
  {
   "cell_type": "markdown",
   "metadata": {},
   "source": [
    "## References\n",
    "- Python for Bioinformatics, Sebastian Bassi, CRC Press (2010)\n",
    "- [http://docs.scipy.org/doc/numpy/reference/index.html](http://docs.scipy.org/doc/numpy/reference/index.html)\n",
    "- [http://pandas.pydata.org/pandas-docs/stable/](http://pandas.pydata.org/pandas-docs/stable/)\n",
    "- [http://statsmodels.sourceforge.net/stable/index.html](http://statsmodels.sourceforge.net/stable/index.html)\n",
    "- [http://docs.scipy.org/doc/numpy/reference/index.html](http://docs.scipy.org/doc/numpy/reference/index.html)\n",
    "- [http://docs.scipy.org/doc/scipy-0.14.0/reference/generated/scipy.stats.mannwhitneyu.html](http://docs.scipy.org/doc/scipy-0.14.0/reference/generated/scipy.stats.mannwhitneyu.html)"
   ]
  },
  {
   "cell_type": "markdown",
   "metadata": {},
   "source": [
    "#### Last Updated: 10-Sep-2018¶"
   ]
  }
 ],
 "metadata": {
  "anaconda-cloud": {},
  "kernelspec": {
   "display_name": "Python 2",
   "language": "python",
   "name": "python2"
  },
  "language_info": {
   "codemirror_mode": {
    "name": "ipython",
    "version": 2
   },
   "file_extension": ".py",
   "mimetype": "text/x-python",
   "name": "python",
   "nbconvert_exporter": "python",
   "pygments_lexer": "ipython2",
   "version": "2.7.15"
  }
 },
 "nbformat": 4,
 "nbformat_minor": 1
}
