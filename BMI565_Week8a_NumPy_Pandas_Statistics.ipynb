{
 "cells": [
  {
   "cell_type": "markdown",
   "metadata": {},
   "source": [
    "# BMI565: Bioinformatics Programming & Scripting\n",
    "\n",
    "#### (C) Michael Mooney (mooneymi@ohsu.edu)\n",
    "\n",
    "## Week 8: NumPy, Pandas, and Statsmodels\n",
    "\n",
    "1. Scientific Computing in Python\n",
    "2. Numpy\n",
    "    - Numpy Arrays\n",
    "    - Element-wise Operations\n",
    "    - Boolean Indexing\n",
    "3. Pandas for Data Analysis\n",
    "    - Labeled data structures\n",
    "    - Plotting with `Pandas`\n",
    "4. Statistics\n",
    "    - Descriptive Statistics\n",
    "    - Linear regression\n",
    "5. Scipy\n",
    "    - Mann-Whitney Rank Test\n",
    "\n",
    "#### Requirements\n",
    "\n",
    "- Python 2.7 or 3.5\n",
    "- `numpy` module\n",
    "- `scipy` module\n",
    "- `pandas` module\n",
    "- `statsmodels` module\n",
    "- Data Files\n",
    "    - `./data/serotonin_data.txt`"
   ]
  },
  {
   "cell_type": "code",
   "execution_count": 1,
   "metadata": {},
   "outputs": [],
   "source": [
    "from __future__ import print_function, division"
   ]
  },
  {
   "cell_type": "markdown",
   "metadata": {},
   "source": [
    "## Scientific Computing Packages\n",
    "\n",
    "- <b>Numpy</b>: provides support for creating and efficiently manipulation large data structures (arrays, multi-dimensional arrays, matrices, etc.)\n",
    "- Matplotlib: provides visualization of data through graphical plots (requires numpy)\n",
    "- <b>Scipy</b>: provides a collection of mathematical algorithms for scientific computing\n",
    "- Scikit-learn: a collection of machine-learning algorithms\n",
    "- <b>Pandas</b>: data analysis tools, including specialized data structures (built on numpy)\n",
    "- Statistical Packages:\n",
    "    - <b>Statsmodels</b>: \n",
    "    - Rpy2: provides an interface between Python and R"
   ]
  },
  {
   "cell_type": "code",
   "execution_count": 2,
   "metadata": {},
   "outputs": [],
   "source": [
    "## The following line is only needed inside the Jupyter \n",
    "## notebook, it is not a Python statement\n",
    "%matplotlib inline"
   ]
  },
  {
   "cell_type": "code",
   "execution_count": 3,
   "metadata": {},
   "outputs": [],
   "source": [
    "import numpy as np\n",
    "import pandas as pd\n",
    "import scipy as sp\n",
    "import matplotlib.pyplot as plt"
   ]
  },
  {
   "cell_type": "markdown",
   "metadata": {},
   "source": [
    "## Numpy\n",
    "\n",
    "### Numpy Arrays\n",
    "\n",
    "Why are numpy arrays so efficient?\n",
    "- Arrays are of a fixed size\n",
    "- Stored in contiguous blocks of memory\n",
    "- Arrays contain a single data type\n",
    "- Vectorized (element-wise) operations\n",
    "\n",
    "Indexing, slicing and iterating over arrays works the same as for lists. "
   ]
  },
  {
   "cell_type": "code",
   "execution_count": 4,
   "metadata": {},
   "outputs": [
    {
     "data": {
      "text/plain": [
       "array([1, 2, 3])"
      ]
     },
     "execution_count": 4,
     "metadata": {},
     "output_type": "execute_result"
    }
   ],
   "source": [
    "## Create an array from a list\n",
    "myarray = np.array([1,2,3])\n",
    "myarray"
   ]
  },
  {
   "cell_type": "code",
   "execution_count": 5,
   "metadata": {},
   "outputs": [
    {
     "data": {
      "text/plain": [
       "array([[1, 2, 3],\n",
       "       [4, 5, 6]])"
      ]
     },
     "execution_count": 5,
     "metadata": {},
     "output_type": "execute_result"
    }
   ],
   "source": [
    "## Create a multi-dimensional array from a list of lists\n",
    "myarray2 = np.array([[1,2,3],[4,5,6]])\n",
    "myarray2"
   ]
  },
  {
   "cell_type": "code",
   "execution_count": 6,
   "metadata": {},
   "outputs": [
    {
     "data": {
      "text/plain": [
       "(2, 3)"
      ]
     },
     "execution_count": 6,
     "metadata": {},
     "output_type": "execute_result"
    }
   ],
   "source": [
    "## Get the dimensions of the array\n",
    "myarray2.shape"
   ]
  },
  {
   "cell_type": "code",
   "execution_count": 7,
   "metadata": {},
   "outputs": [
    {
     "data": {
      "text/plain": [
       "array([[2, 3],\n",
       "       [5, 6]])"
      ]
     },
     "execution_count": 7,
     "metadata": {},
     "output_type": "execute_result"
    }
   ],
   "source": [
    "## Subset the array using indices\n",
    "myarray2[0:2,1:3]"
   ]
  },
  {
   "cell_type": "code",
   "execution_count": 8,
   "metadata": {},
   "outputs": [
    {
     "data": {
      "text/plain": [
       "array([0, 1, 2, 3, 4, 5, 6, 7, 8, 9])"
      ]
     },
     "execution_count": 8,
     "metadata": {},
     "output_type": "execute_result"
    }
   ],
   "source": [
    "## Create a range as an array\n",
    "np.arange(10)"
   ]
  },
  {
   "cell_type": "code",
   "execution_count": 9,
   "metadata": {},
   "outputs": [
    {
     "data": {
      "text/plain": [
       "array([0., 0., 0., 0., 0., 0., 0., 0., 0., 0.])"
      ]
     },
     "execution_count": 9,
     "metadata": {},
     "output_type": "execute_result"
    }
   ],
   "source": [
    "## Create an array of zeros\n",
    "np.zeros(10)"
   ]
  },
  {
   "cell_type": "code",
   "execution_count": 10,
   "metadata": {},
   "outputs": [
    {
     "data": {
      "text/plain": [
       "array([1., 1., 1., 1., 1., 1., 1., 1., 1., 1.])"
      ]
     },
     "execution_count": 10,
     "metadata": {},
     "output_type": "execute_result"
    }
   ],
   "source": [
    "## Create an array of ones\n",
    "np.ones(10)"
   ]
  },
  {
   "cell_type": "code",
   "execution_count": 11,
   "metadata": {},
   "outputs": [
    {
     "data": {
      "text/plain": [
       "array([0.51833074, 0.53526004, 0.01682674, 0.13170087, 0.70939372,\n",
       "       0.0211106 , 0.96086051, 0.39755038, 0.68891194, 0.63750715])"
      ]
     },
     "execution_count": 11,
     "metadata": {},
     "output_type": "execute_result"
    }
   ],
   "source": [
    "## Create random arrays\n",
    "## Uniform random numbers between 0 and 1\n",
    "np.random.rand(10)"
   ]
  },
  {
   "cell_type": "code",
   "execution_count": 12,
   "metadata": {},
   "outputs": [
    {
     "data": {
      "text/plain": [
       "array([[0.89276026, 0.15367546, 0.98306933, 0.0788412 , 0.5732241 ],\n",
       "       [0.20918323, 0.69357256, 0.76317175, 0.38676019, 0.59014902]])"
      ]
     },
     "execution_count": 12,
     "metadata": {},
     "output_type": "execute_result"
    }
   ],
   "source": [
    "np.random.rand(2,5)"
   ]
  },
  {
   "cell_type": "code",
   "execution_count": 13,
   "metadata": {},
   "outputs": [
    {
     "name": "stdout",
     "output_type": "stream",
     "text": [
      "Help on built-in function rand:\n",
      "\n",
      "rand(...) method of mtrand.RandomState instance\n",
      "    rand(d0, d1, ..., dn)\n",
      "    \n",
      "    Random values in a given shape.\n",
      "    \n",
      "    Create an array of the given shape and populate it with\n",
      "    random samples from a uniform distribution\n",
      "    over ``[0, 1)``.\n",
      "    \n",
      "    Parameters\n",
      "    ----------\n",
      "    d0, d1, ..., dn : int, optional\n",
      "        The dimensions of the returned array, should all be positive.\n",
      "        If no argument is given a single Python float is returned.\n",
      "    \n",
      "    Returns\n",
      "    -------\n",
      "    out : ndarray, shape ``(d0, d1, ..., dn)``\n",
      "        Random values.\n",
      "    \n",
      "    See Also\n",
      "    --------\n",
      "    random\n",
      "    \n",
      "    Notes\n",
      "    -----\n",
      "    This is a convenience function. If you want an interface that\n",
      "    takes a shape-tuple as the first argument, refer to\n",
      "    np.random.random_sample .\n",
      "    \n",
      "    Examples\n",
      "    --------\n",
      "    >>> np.random.rand(3,2)\n",
      "    array([[ 0.14022471,  0.96360618],  #random\n",
      "           [ 0.37601032,  0.25528411],  #random\n",
      "           [ 0.49313049,  0.94909878]]) #random\n",
      "\n"
     ]
    }
   ],
   "source": [
    "help(np.random.rand)"
   ]
  },
  {
   "cell_type": "code",
   "execution_count": 14,
   "metadata": {},
   "outputs": [
    {
     "data": {
      "text/plain": [
       "array([ 2.3039491 ,  0.63912193, -2.49211889,  0.18678147,  0.59572907,\n",
       "        0.69261793,  0.33869711,  0.32101104,  2.41593694, -0.50902366])"
      ]
     },
     "execution_count": 14,
     "metadata": {},
     "output_type": "execute_result"
    }
   ],
   "source": [
    "## Normally distributed random numbers\n",
    "np.random.randn(10)"
   ]
  },
  {
   "cell_type": "code",
   "execution_count": 15,
   "metadata": {},
   "outputs": [
    {
     "data": {
      "text/plain": [
       "array([5, 2, 4, 3, 8, 9, 2, 0, 9, 6])"
      ]
     },
     "execution_count": 15,
     "metadata": {},
     "output_type": "execute_result"
    }
   ],
   "source": [
    "## Random integers\n",
    "## Parameters: low, high(exclusive), size\n",
    "np.random.randint(0, 10, 10)"
   ]
  },
  {
   "cell_type": "code",
   "execution_count": 16,
   "metadata": {},
   "outputs": [
    {
     "name": "stdout",
     "output_type": "stream",
     "text": [
      "1\n",
      "2\n",
      "3\n"
     ]
    }
   ],
   "source": [
    "## You can iterate over an array just like a list\n",
    "for n in myarray:\n",
    "    print(n)"
   ]
  },
  {
   "cell_type": "code",
   "execution_count": 17,
   "metadata": {},
   "outputs": [
    {
     "data": {
      "text/plain": [
       "array([2, 2, 3])"
      ]
     },
     "execution_count": 17,
     "metadata": {},
     "output_type": "execute_result"
    }
   ],
   "source": [
    "myarray[0] = 2\n",
    "myarray"
   ]
  },
  {
   "cell_type": "markdown",
   "metadata": {},
   "source": [
    "#### Numpy Array Attributes"
   ]
  },
  {
   "cell_type": "markdown",
   "metadata": {},
   "source": [
    "<table align=\"left\">\n",
    "<tr><td style=\"text-align:center\"><b>Attribute</b></td><td><b>Description</b></td></tr>\n",
    "<tr><td style=\"text-align:center\"><code>ndim</code></td><td>The number of dimensions</td></tr>\n",
    "<tr><td style=\"text-align:center\"><code>shape</code></td><td>A tuple specifying the size of each dimension</td></tr>\n",
    "<tr><td style=\"text-align:center\"><code>size</code></td><td>The total number of elements in the array</td></tr>\n",
    "<tr><td style=\"text-align:center\"><code>dtype</code></td><td>The data type of the array elements</td></tr>\n",
    "    <tr><td style=\"text-align:center\"><code>itemsize</code></td><td>The size (in bytes) of each array element</td></tr>\n",
    "</table>\n"
   ]
  },
  {
   "cell_type": "markdown",
   "metadata": {},
   "source": [
    "Mathematical operations for arrays:\n",
    "\n",
    "[http://docs.scipy.org/doc/numpy/reference/routines.math.html](http://docs.scipy.org/doc/numpy/reference/routines.math.html)\n",
    "\n",
    "Statistical operations for arrays:\n",
    "\n",
    "[http://docs.scipy.org/doc/numpy/reference/routines.statistics.html](http://docs.scipy.org/doc/numpy/reference/routines.statistics.html)\n",
    "\n",
    "Linear algebra operations:\n",
    "\n",
    "[http://docs.scipy.org/doc/numpy/reference/routines.linalg.html](http://docs.scipy.org/doc/numpy/reference/routines.linalg.html)"
   ]
  },
  {
   "cell_type": "code",
   "execution_count": 18,
   "metadata": {},
   "outputs": [
    {
     "data": {
      "text/plain": [
       "dtype('float64')"
      ]
     },
     "execution_count": 18,
     "metadata": {},
     "output_type": "execute_result"
    }
   ],
   "source": [
    "np.zeros(10).dtype"
   ]
  },
  {
   "cell_type": "code",
   "execution_count": 19,
   "metadata": {},
   "outputs": [
    {
     "data": {
      "text/plain": [
       "7"
      ]
     },
     "execution_count": 19,
     "metadata": {},
     "output_type": "execute_result"
    }
   ],
   "source": [
    "## Get the sum of an array of numbers\n",
    "np.sum(myarray)"
   ]
  },
  {
   "cell_type": "markdown",
   "metadata": {},
   "source": [
    "### Element-wise Operations\n",
    "\n",
    "Numpy allows you to easily perform operations on each element in an array."
   ]
  },
  {
   "cell_type": "code",
   "execution_count": 20,
   "metadata": {},
   "outputs": [
    {
     "data": {
      "text/plain": [
       "array([0., 1., 2., 3., 4., 5., 6., 7., 8., 9.])"
      ]
     },
     "execution_count": 20,
     "metadata": {},
     "output_type": "execute_result"
    }
   ],
   "source": [
    "sample_array = np.arange(10, dtype=\"float\")\n",
    "sample_array"
   ]
  },
  {
   "cell_type": "code",
   "execution_count": 21,
   "metadata": {},
   "outputs": [
    {
     "data": {
      "text/plain": [
       "array([0. , 0.5, 1. , 1.5, 2. , 2.5, 3. , 3.5, 4. , 4.5])"
      ]
     },
     "execution_count": 21,
     "metadata": {},
     "output_type": "execute_result"
    }
   ],
   "source": [
    "sample_array/2"
   ]
  },
  {
   "cell_type": "code",
   "execution_count": 22,
   "metadata": {},
   "outputs": [
    {
     "data": {
      "text/plain": [
       "array([ 0.,  3.,  6.,  9., 12., 15., 18., 21., 24., 27.])"
      ]
     },
     "execution_count": 22,
     "metadata": {},
     "output_type": "execute_result"
    }
   ],
   "source": [
    "sample_array*3"
   ]
  },
  {
   "cell_type": "markdown",
   "metadata": {},
   "source": [
    "### Boolean Indexing"
   ]
  },
  {
   "cell_type": "code",
   "execution_count": 23,
   "metadata": {},
   "outputs": [
    {
     "data": {
      "text/plain": [
       "array([ True,  True,  True, False, False, False, False, False, False,\n",
       "       False])"
      ]
     },
     "execution_count": 23,
     "metadata": {},
     "output_type": "execute_result"
    }
   ],
   "source": [
    "## Use a condition to create an array of True/False values\n",
    "idx = sample_array < 3\n",
    "idx"
   ]
  },
  {
   "cell_type": "code",
   "execution_count": 24,
   "metadata": {},
   "outputs": [
    {
     "data": {
      "text/plain": [
       "array([0., 1., 2.])"
      ]
     },
     "execution_count": 24,
     "metadata": {},
     "output_type": "execute_result"
    }
   ],
   "source": [
    "## Subset an array using a boolean index\n",
    "sample_array[idx]"
   ]
  },
  {
   "cell_type": "code",
   "execution_count": 25,
   "metadata": {},
   "outputs": [
    {
     "data": {
      "text/plain": [
       "array([ True,  True,  True, False, False, False, False,  True,  True,\n",
       "        True])"
      ]
     },
     "execution_count": 25,
     "metadata": {},
     "output_type": "execute_result"
    }
   ],
   "source": [
    "## You can string multiple conditions together\n",
    "idx2 = (sample_array < 3) | (sample_array > 6)\n",
    "idx2"
   ]
  },
  {
   "cell_type": "code",
   "execution_count": 26,
   "metadata": {},
   "outputs": [
    {
     "data": {
      "text/plain": [
       "array([0., 1., 2.])"
      ]
     },
     "execution_count": 26,
     "metadata": {},
     "output_type": "execute_result"
    }
   ],
   "source": [
    "## You can also use the condition directly (no need to save the boolean index)\n",
    "sample_array[sample_array < 3]"
   ]
  },
  {
   "cell_type": "markdown",
   "metadata": {},
   "source": [
    "## `Pandas` Module\n",
    "\n",
    "The `pandas` module contains a lot of great functionality for working with large data sets. `Pandas` is built on top of `Numpy` and works well with numerous other Python packages for scientific computing.\n",
    "\n",
    "[http://pandas.pydata.org/pandas-docs/stable/index.html](http://pandas.pydata.org/pandas-docs/stable/index.html)\n",
    "\n",
    "\n",
    "Example data ('./data/serotonin.txt') from the lava R package: [http://cran.r-project.org/web/packages/lava/index.html](http://cran.r-project.org/web/packages/lava/index.html)"
   ]
  },
  {
   "cell_type": "markdown",
   "metadata": {},
   "source": [
    "### Labeled Data Structures"
   ]
  },
  {
   "cell_type": "markdown",
   "metadata": {},
   "source": [
    "#### The `Series` data structure\n",
    "\n",
    "A `Series` is very similar to a 1-D numpy array, but it also contains an index."
   ]
  },
  {
   "cell_type": "code",
   "execution_count": 27,
   "metadata": {},
   "outputs": [
    {
     "data": {
      "text/plain": [
       "1    0\n",
       "2    0\n",
       "3    0\n",
       "4    0\n",
       "5    0\n",
       "dtype: int64"
      ]
     },
     "execution_count": 27,
     "metadata": {},
     "output_type": "execute_result"
    }
   ],
   "source": [
    "## Here we create a series of zeros, with an index 1-5\n",
    "s1 = pd.Series(0, index=[1,2,3,4,5])\n",
    "s1"
   ]
  },
  {
   "cell_type": "markdown",
   "metadata": {},
   "source": [
    "#### The `DataFrame` data structure\n",
    "\n",
    "The `pandas` `DataFrame` is very similar to a dataframe in `R`. It is essentially an indexed table that can contain heterogeneous data types."
   ]
  },
  {
   "cell_type": "code",
   "execution_count": 28,
   "metadata": {},
   "outputs": [
    {
     "data": {
      "text/html": [
       "<div>\n",
       "<style scoped>\n",
       "    .dataframe tbody tr th:only-of-type {\n",
       "        vertical-align: middle;\n",
       "    }\n",
       "\n",
       "    .dataframe tbody tr th {\n",
       "        vertical-align: top;\n",
       "    }\n",
       "\n",
       "    .dataframe thead th {\n",
       "        text-align: right;\n",
       "    }\n",
       "</style>\n",
       "<table border=\"1\" class=\"dataframe\">\n",
       "  <thead>\n",
       "    <tr style=\"text-align: right;\">\n",
       "      <th></th>\n",
       "      <th>A</th>\n",
       "      <th>B</th>\n",
       "      <th>C</th>\n",
       "      <th>D</th>\n",
       "      <th>E</th>\n",
       "    </tr>\n",
       "  </thead>\n",
       "  <tbody>\n",
       "    <tr>\n",
       "      <th>1</th>\n",
       "      <td>0.080795</td>\n",
       "      <td>0.654331</td>\n",
       "      <td>0.511348</td>\n",
       "      <td>0.785266</td>\n",
       "      <td>0.372045</td>\n",
       "    </tr>\n",
       "    <tr>\n",
       "      <th>2</th>\n",
       "      <td>0.886491</td>\n",
       "      <td>0.541830</td>\n",
       "      <td>0.125474</td>\n",
       "      <td>0.576630</td>\n",
       "      <td>0.324528</td>\n",
       "    </tr>\n",
       "    <tr>\n",
       "      <th>3</th>\n",
       "      <td>0.156942</td>\n",
       "      <td>0.878577</td>\n",
       "      <td>0.320656</td>\n",
       "      <td>0.613637</td>\n",
       "      <td>0.980846</td>\n",
       "    </tr>\n",
       "    <tr>\n",
       "      <th>4</th>\n",
       "      <td>0.545312</td>\n",
       "      <td>0.335000</td>\n",
       "      <td>0.063259</td>\n",
       "      <td>0.897312</td>\n",
       "      <td>0.358983</td>\n",
       "    </tr>\n",
       "    <tr>\n",
       "      <th>5</th>\n",
       "      <td>0.976307</td>\n",
       "      <td>0.918262</td>\n",
       "      <td>0.130748</td>\n",
       "      <td>0.762396</td>\n",
       "      <td>0.881765</td>\n",
       "    </tr>\n",
       "  </tbody>\n",
       "</table>\n",
       "</div>"
      ],
      "text/plain": [
       "          A         B         C         D         E\n",
       "1  0.080795  0.654331  0.511348  0.785266  0.372045\n",
       "2  0.886491  0.541830  0.125474  0.576630  0.324528\n",
       "3  0.156942  0.878577  0.320656  0.613637  0.980846\n",
       "4  0.545312  0.335000  0.063259  0.897312  0.358983\n",
       "5  0.976307  0.918262  0.130748  0.762396  0.881765"
      ]
     },
     "execution_count": 28,
     "metadata": {},
     "output_type": "execute_result"
    }
   ],
   "source": [
    "## Here we create a dataframe by specifying the data,\n",
    "## an index, and column names\n",
    "df1 = pd.DataFrame(np.random.rand(5,5), index=[1,2,3,4,5], columns=['A','B','C','D','E'])\n",
    "df1"
   ]
  },
  {
   "cell_type": "code",
   "execution_count": 29,
   "metadata": {},
   "outputs": [],
   "source": [
    "## Read data into a pandas data frame\n",
    "## Default options assume comma as delimiter and a header line with column names\n",
    "dat = pd.read_csv('./data/serotonin_data.txt')"
   ]
  },
  {
   "cell_type": "code",
   "execution_count": 30,
   "metadata": {},
   "outputs": [
    {
     "data": {
      "text/plain": [
       "(250, 20)"
      ]
     },
     "execution_count": 30,
     "metadata": {},
     "output_type": "execute_result"
    }
   ],
   "source": [
    "## Check the dimensions of the data frame\n",
    "dat.shape"
   ]
  },
  {
   "cell_type": "code",
   "execution_count": 31,
   "metadata": {},
   "outputs": [
    {
     "data": {
      "text/plain": [
       "['par',\n",
       " 'sfc',\n",
       " 'aci',\n",
       " 'pci',\n",
       " 'u1',\n",
       " 'cau',\n",
       " 'th',\n",
       " 'put',\n",
       " 'mid',\n",
       " 'u2',\n",
       " 'mem',\n",
       " 'u',\n",
       " 'age',\n",
       " 'gene1',\n",
       " 'gene2',\n",
       " 'eta',\n",
       " 'day',\n",
       " 'depr',\n",
       " 'T',\n",
       " 'status']"
      ]
     },
     "execution_count": 31,
     "metadata": {},
     "output_type": "execute_result"
    }
   ],
   "source": [
    "## Get the column names\n",
    "list(dat.columns.values)"
   ]
  },
  {
   "cell_type": "code",
   "execution_count": 32,
   "metadata": {},
   "outputs": [
    {
     "data": {
      "text/html": [
       "<div>\n",
       "<style scoped>\n",
       "    .dataframe tbody tr th:only-of-type {\n",
       "        vertical-align: middle;\n",
       "    }\n",
       "\n",
       "    .dataframe tbody tr th {\n",
       "        vertical-align: top;\n",
       "    }\n",
       "\n",
       "    .dataframe thead th {\n",
       "        text-align: right;\n",
       "    }\n",
       "</style>\n",
       "<table border=\"1\" class=\"dataframe\">\n",
       "  <thead>\n",
       "    <tr style=\"text-align: right;\">\n",
       "      <th></th>\n",
       "      <th>par</th>\n",
       "      <th>sfc</th>\n",
       "      <th>aci</th>\n",
       "      <th>pci</th>\n",
       "      <th>u1</th>\n",
       "      <th>cau</th>\n",
       "      <th>th</th>\n",
       "      <th>put</th>\n",
       "      <th>mid</th>\n",
       "      <th>u2</th>\n",
       "      <th>mem</th>\n",
       "      <th>u</th>\n",
       "      <th>age</th>\n",
       "      <th>gene1</th>\n",
       "      <th>gene2</th>\n",
       "      <th>eta</th>\n",
       "      <th>day</th>\n",
       "      <th>depr</th>\n",
       "      <th>T</th>\n",
       "      <th>status</th>\n",
       "    </tr>\n",
       "  </thead>\n",
       "  <tbody>\n",
       "    <tr>\n",
       "      <th>0</th>\n",
       "      <td>1.541845</td>\n",
       "      <td>1.639296</td>\n",
       "      <td>1.631768</td>\n",
       "      <td>1.436017</td>\n",
       "      <td>3.053231</td>\n",
       "      <td>0.941444</td>\n",
       "      <td>1.062079</td>\n",
       "      <td>0.988974</td>\n",
       "      <td>0.849440</td>\n",
       "      <td>0.452027</td>\n",
       "      <td>49</td>\n",
       "      <td>1.918266</td>\n",
       "      <td>-1.137870</td>\n",
       "      <td>1</td>\n",
       "      <td>1</td>\n",
       "      <td>-0.425573</td>\n",
       "      <td>30</td>\n",
       "      <td>0</td>\n",
       "      <td>1.019006</td>\n",
       "      <td>1</td>\n",
       "    </tr>\n",
       "    <tr>\n",
       "      <th>1</th>\n",
       "      <td>1.285776</td>\n",
       "      <td>1.314337</td>\n",
       "      <td>1.224379</td>\n",
       "      <td>1.154257</td>\n",
       "      <td>0.536178</td>\n",
       "      <td>1.018560</td>\n",
       "      <td>0.789055</td>\n",
       "      <td>0.903791</td>\n",
       "      <td>0.666955</td>\n",
       "      <td>-0.937675</td>\n",
       "      <td>36</td>\n",
       "      <td>-0.575754</td>\n",
       "      <td>-0.951810</td>\n",
       "      <td>1</td>\n",
       "      <td>1</td>\n",
       "      <td>-2.959047</td>\n",
       "      <td>246</td>\n",
       "      <td>1</td>\n",
       "      <td>30.000000</td>\n",
       "      <td>0</td>\n",
       "    </tr>\n",
       "    <tr>\n",
       "      <th>2</th>\n",
       "      <td>1.633392</td>\n",
       "      <td>1.731265</td>\n",
       "      <td>1.588976</td>\n",
       "      <td>1.580385</td>\n",
       "      <td>3.881156</td>\n",
       "      <td>0.965680</td>\n",
       "      <td>0.741293</td>\n",
       "      <td>0.389869</td>\n",
       "      <td>0.830224</td>\n",
       "      <td>-7.700945</td>\n",
       "      <td>169</td>\n",
       "      <td>4.751934</td>\n",
       "      <td>1.619259</td>\n",
       "      <td>1</td>\n",
       "      <td>1</td>\n",
       "      <td>4.244131</td>\n",
       "      <td>243</td>\n",
       "      <td>1</td>\n",
       "      <td>30.000000</td>\n",
       "      <td>0</td>\n",
       "    </tr>\n",
       "    <tr>\n",
       "      <th>3</th>\n",
       "      <td>1.971132</td>\n",
       "      <td>1.735649</td>\n",
       "      <td>1.768737</td>\n",
       "      <td>1.852557</td>\n",
       "      <td>4.071059</td>\n",
       "      <td>0.944994</td>\n",
       "      <td>0.643423</td>\n",
       "      <td>0.706459</td>\n",
       "      <td>0.822270</td>\n",
       "      <td>-4.530420</td>\n",
       "      <td>196</td>\n",
       "      <td>3.860327</td>\n",
       "      <td>0.167814</td>\n",
       "      <td>0</td>\n",
       "      <td>0</td>\n",
       "      <td>3.280688</td>\n",
       "      <td>335</td>\n",
       "      <td>0</td>\n",
       "      <td>30.000000</td>\n",
       "      <td>0</td>\n",
       "    </tr>\n",
       "    <tr>\n",
       "      <th>4</th>\n",
       "      <td>1.376904</td>\n",
       "      <td>1.423676</td>\n",
       "      <td>1.461504</td>\n",
       "      <td>1.169873</td>\n",
       "      <td>1.043610</td>\n",
       "      <td>0.778490</td>\n",
       "      <td>0.959439</td>\n",
       "      <td>0.968423</td>\n",
       "      <td>0.886591</td>\n",
       "      <td>-1.161456</td>\n",
       "      <td>64</td>\n",
       "      <td>0.974215</td>\n",
       "      <td>-0.908178</td>\n",
       "      <td>1</td>\n",
       "      <td>1</td>\n",
       "      <td>-1.082029</td>\n",
       "      <td>215</td>\n",
       "      <td>0</td>\n",
       "      <td>4.835404</td>\n",
       "      <td>1</td>\n",
       "    </tr>\n",
       "  </tbody>\n",
       "</table>\n",
       "</div>"
      ],
      "text/plain": [
       "        par       sfc       aci       pci        u1       cau        th  \\\n",
       "0  1.541845  1.639296  1.631768  1.436017  3.053231  0.941444  1.062079   \n",
       "1  1.285776  1.314337  1.224379  1.154257  0.536178  1.018560  0.789055   \n",
       "2  1.633392  1.731265  1.588976  1.580385  3.881156  0.965680  0.741293   \n",
       "3  1.971132  1.735649  1.768737  1.852557  4.071059  0.944994  0.643423   \n",
       "4  1.376904  1.423676  1.461504  1.169873  1.043610  0.778490  0.959439   \n",
       "\n",
       "        put       mid        u2  mem         u       age  gene1  gene2  \\\n",
       "0  0.988974  0.849440  0.452027   49  1.918266 -1.137870      1      1   \n",
       "1  0.903791  0.666955 -0.937675   36 -0.575754 -0.951810      1      1   \n",
       "2  0.389869  0.830224 -7.700945  169  4.751934  1.619259      1      1   \n",
       "3  0.706459  0.822270 -4.530420  196  3.860327  0.167814      0      0   \n",
       "4  0.968423  0.886591 -1.161456   64  0.974215 -0.908178      1      1   \n",
       "\n",
       "        eta  day  depr          T  status  \n",
       "0 -0.425573   30     0   1.019006       1  \n",
       "1 -2.959047  246     1  30.000000       0  \n",
       "2  4.244131  243     1  30.000000       0  \n",
       "3  3.280688  335     0  30.000000       0  \n",
       "4 -1.082029  215     0   4.835404       1  "
      ]
     },
     "execution_count": 32,
     "metadata": {},
     "output_type": "execute_result"
    }
   ],
   "source": [
    "## View the first few rows\n",
    "dat.head()"
   ]
  },
  {
   "cell_type": "code",
   "execution_count": 33,
   "metadata": {},
   "outputs": [],
   "source": [
    "## Create a new column by creating a series \n",
    "## and assigning it to a column name\n",
    "dat['age_cat'] = pd.Series(0, index=dat.index)"
   ]
  },
  {
   "cell_type": "code",
   "execution_count": 34,
   "metadata": {},
   "outputs": [
    {
     "data": {
      "text/html": [
       "<div>\n",
       "<style scoped>\n",
       "    .dataframe tbody tr th:only-of-type {\n",
       "        vertical-align: middle;\n",
       "    }\n",
       "\n",
       "    .dataframe tbody tr th {\n",
       "        vertical-align: top;\n",
       "    }\n",
       "\n",
       "    .dataframe thead th {\n",
       "        text-align: right;\n",
       "    }\n",
       "</style>\n",
       "<table border=\"1\" class=\"dataframe\">\n",
       "  <thead>\n",
       "    <tr style=\"text-align: right;\">\n",
       "      <th></th>\n",
       "      <th>par</th>\n",
       "      <th>sfc</th>\n",
       "      <th>aci</th>\n",
       "      <th>pci</th>\n",
       "      <th>u1</th>\n",
       "      <th>cau</th>\n",
       "      <th>th</th>\n",
       "      <th>put</th>\n",
       "      <th>mid</th>\n",
       "      <th>u2</th>\n",
       "      <th>...</th>\n",
       "      <th>u</th>\n",
       "      <th>age</th>\n",
       "      <th>gene1</th>\n",
       "      <th>gene2</th>\n",
       "      <th>eta</th>\n",
       "      <th>day</th>\n",
       "      <th>depr</th>\n",
       "      <th>T</th>\n",
       "      <th>status</th>\n",
       "      <th>age_cat</th>\n",
       "    </tr>\n",
       "  </thead>\n",
       "  <tbody>\n",
       "    <tr>\n",
       "      <th>0</th>\n",
       "      <td>1.541845</td>\n",
       "      <td>1.639296</td>\n",
       "      <td>1.631768</td>\n",
       "      <td>1.436017</td>\n",
       "      <td>3.053231</td>\n",
       "      <td>0.941444</td>\n",
       "      <td>1.062079</td>\n",
       "      <td>0.988974</td>\n",
       "      <td>0.849440</td>\n",
       "      <td>0.452027</td>\n",
       "      <td>...</td>\n",
       "      <td>1.918266</td>\n",
       "      <td>-1.137870</td>\n",
       "      <td>1</td>\n",
       "      <td>1</td>\n",
       "      <td>-0.425573</td>\n",
       "      <td>30</td>\n",
       "      <td>0</td>\n",
       "      <td>1.019006</td>\n",
       "      <td>1</td>\n",
       "      <td>0</td>\n",
       "    </tr>\n",
       "    <tr>\n",
       "      <th>1</th>\n",
       "      <td>1.285776</td>\n",
       "      <td>1.314337</td>\n",
       "      <td>1.224379</td>\n",
       "      <td>1.154257</td>\n",
       "      <td>0.536178</td>\n",
       "      <td>1.018560</td>\n",
       "      <td>0.789055</td>\n",
       "      <td>0.903791</td>\n",
       "      <td>0.666955</td>\n",
       "      <td>-0.937675</td>\n",
       "      <td>...</td>\n",
       "      <td>-0.575754</td>\n",
       "      <td>-0.951810</td>\n",
       "      <td>1</td>\n",
       "      <td>1</td>\n",
       "      <td>-2.959047</td>\n",
       "      <td>246</td>\n",
       "      <td>1</td>\n",
       "      <td>30.000000</td>\n",
       "      <td>0</td>\n",
       "      <td>0</td>\n",
       "    </tr>\n",
       "    <tr>\n",
       "      <th>2</th>\n",
       "      <td>1.633392</td>\n",
       "      <td>1.731265</td>\n",
       "      <td>1.588976</td>\n",
       "      <td>1.580385</td>\n",
       "      <td>3.881156</td>\n",
       "      <td>0.965680</td>\n",
       "      <td>0.741293</td>\n",
       "      <td>0.389869</td>\n",
       "      <td>0.830224</td>\n",
       "      <td>-7.700945</td>\n",
       "      <td>...</td>\n",
       "      <td>4.751934</td>\n",
       "      <td>1.619259</td>\n",
       "      <td>1</td>\n",
       "      <td>1</td>\n",
       "      <td>4.244131</td>\n",
       "      <td>243</td>\n",
       "      <td>1</td>\n",
       "      <td>30.000000</td>\n",
       "      <td>0</td>\n",
       "      <td>0</td>\n",
       "    </tr>\n",
       "    <tr>\n",
       "      <th>3</th>\n",
       "      <td>1.971132</td>\n",
       "      <td>1.735649</td>\n",
       "      <td>1.768737</td>\n",
       "      <td>1.852557</td>\n",
       "      <td>4.071059</td>\n",
       "      <td>0.944994</td>\n",
       "      <td>0.643423</td>\n",
       "      <td>0.706459</td>\n",
       "      <td>0.822270</td>\n",
       "      <td>-4.530420</td>\n",
       "      <td>...</td>\n",
       "      <td>3.860327</td>\n",
       "      <td>0.167814</td>\n",
       "      <td>0</td>\n",
       "      <td>0</td>\n",
       "      <td>3.280688</td>\n",
       "      <td>335</td>\n",
       "      <td>0</td>\n",
       "      <td>30.000000</td>\n",
       "      <td>0</td>\n",
       "      <td>0</td>\n",
       "    </tr>\n",
       "    <tr>\n",
       "      <th>4</th>\n",
       "      <td>1.376904</td>\n",
       "      <td>1.423676</td>\n",
       "      <td>1.461504</td>\n",
       "      <td>1.169873</td>\n",
       "      <td>1.043610</td>\n",
       "      <td>0.778490</td>\n",
       "      <td>0.959439</td>\n",
       "      <td>0.968423</td>\n",
       "      <td>0.886591</td>\n",
       "      <td>-1.161456</td>\n",
       "      <td>...</td>\n",
       "      <td>0.974215</td>\n",
       "      <td>-0.908178</td>\n",
       "      <td>1</td>\n",
       "      <td>1</td>\n",
       "      <td>-1.082029</td>\n",
       "      <td>215</td>\n",
       "      <td>0</td>\n",
       "      <td>4.835404</td>\n",
       "      <td>1</td>\n",
       "      <td>0</td>\n",
       "    </tr>\n",
       "  </tbody>\n",
       "</table>\n",
       "<p>5 rows × 21 columns</p>\n",
       "</div>"
      ],
      "text/plain": [
       "        par       sfc       aci       pci        u1       cau        th  \\\n",
       "0  1.541845  1.639296  1.631768  1.436017  3.053231  0.941444  1.062079   \n",
       "1  1.285776  1.314337  1.224379  1.154257  0.536178  1.018560  0.789055   \n",
       "2  1.633392  1.731265  1.588976  1.580385  3.881156  0.965680  0.741293   \n",
       "3  1.971132  1.735649  1.768737  1.852557  4.071059  0.944994  0.643423   \n",
       "4  1.376904  1.423676  1.461504  1.169873  1.043610  0.778490  0.959439   \n",
       "\n",
       "        put       mid        u2  ...         u       age  gene1  gene2  \\\n",
       "0  0.988974  0.849440  0.452027  ...  1.918266 -1.137870      1      1   \n",
       "1  0.903791  0.666955 -0.937675  ... -0.575754 -0.951810      1      1   \n",
       "2  0.389869  0.830224 -7.700945  ...  4.751934  1.619259      1      1   \n",
       "3  0.706459  0.822270 -4.530420  ...  3.860327  0.167814      0      0   \n",
       "4  0.968423  0.886591 -1.161456  ...  0.974215 -0.908178      1      1   \n",
       "\n",
       "        eta  day  depr          T  status  age_cat  \n",
       "0 -0.425573   30     0   1.019006       1        0  \n",
       "1 -2.959047  246     1  30.000000       0        0  \n",
       "2  4.244131  243     1  30.000000       0        0  \n",
       "3  3.280688  335     0  30.000000       0        0  \n",
       "4 -1.082029  215     0   4.835404       1        0  \n",
       "\n",
       "[5 rows x 21 columns]"
      ]
     },
     "execution_count": 34,
     "metadata": {},
     "output_type": "execute_result"
    }
   ],
   "source": [
    "dat.head()"
   ]
  },
  {
   "cell_type": "markdown",
   "metadata": {},
   "source": [
    "There a a number of ways to subset `pandas` dataframes. We'll show a few examples here, but for more details please read the documentation:\n",
    "\n",
    "[https://pandas.pydata.org/pandas-docs/stable/indexing.html](https://pandas.pydata.org/pandas-docs/stable/indexing.html)\n",
    "\n",
    "#### Subsetting with `.iloc`"
   ]
  },
  {
   "cell_type": "code",
   "execution_count": 35,
   "metadata": {},
   "outputs": [
    {
     "data": {
      "text/html": [
       "<div>\n",
       "<style scoped>\n",
       "    .dataframe tbody tr th:only-of-type {\n",
       "        vertical-align: middle;\n",
       "    }\n",
       "\n",
       "    .dataframe tbody tr th {\n",
       "        vertical-align: top;\n",
       "    }\n",
       "\n",
       "    .dataframe thead th {\n",
       "        text-align: right;\n",
       "    }\n",
       "</style>\n",
       "<table border=\"1\" class=\"dataframe\">\n",
       "  <thead>\n",
       "    <tr style=\"text-align: right;\">\n",
       "      <th></th>\n",
       "      <th>par</th>\n",
       "      <th>sfc</th>\n",
       "      <th>aci</th>\n",
       "      <th>pci</th>\n",
       "      <th>u1</th>\n",
       "      <th>cau</th>\n",
       "      <th>th</th>\n",
       "      <th>put</th>\n",
       "      <th>mid</th>\n",
       "      <th>u2</th>\n",
       "      <th>...</th>\n",
       "      <th>u</th>\n",
       "      <th>age</th>\n",
       "      <th>gene1</th>\n",
       "      <th>gene2</th>\n",
       "      <th>eta</th>\n",
       "      <th>day</th>\n",
       "      <th>depr</th>\n",
       "      <th>T</th>\n",
       "      <th>status</th>\n",
       "      <th>age_cat</th>\n",
       "    </tr>\n",
       "  </thead>\n",
       "  <tbody>\n",
       "    <tr>\n",
       "      <th>0</th>\n",
       "      <td>1.541845</td>\n",
       "      <td>1.639296</td>\n",
       "      <td>1.631768</td>\n",
       "      <td>1.436017</td>\n",
       "      <td>3.053231</td>\n",
       "      <td>0.941444</td>\n",
       "      <td>1.062079</td>\n",
       "      <td>0.988974</td>\n",
       "      <td>0.849440</td>\n",
       "      <td>0.452027</td>\n",
       "      <td>...</td>\n",
       "      <td>1.918266</td>\n",
       "      <td>-1.137870</td>\n",
       "      <td>1</td>\n",
       "      <td>1</td>\n",
       "      <td>-0.425573</td>\n",
       "      <td>30</td>\n",
       "      <td>0</td>\n",
       "      <td>1.019006</td>\n",
       "      <td>1</td>\n",
       "      <td>0</td>\n",
       "    </tr>\n",
       "    <tr>\n",
       "      <th>1</th>\n",
       "      <td>1.285776</td>\n",
       "      <td>1.314337</td>\n",
       "      <td>1.224379</td>\n",
       "      <td>1.154257</td>\n",
       "      <td>0.536178</td>\n",
       "      <td>1.018560</td>\n",
       "      <td>0.789055</td>\n",
       "      <td>0.903791</td>\n",
       "      <td>0.666955</td>\n",
       "      <td>-0.937675</td>\n",
       "      <td>...</td>\n",
       "      <td>-0.575754</td>\n",
       "      <td>-0.951810</td>\n",
       "      <td>1</td>\n",
       "      <td>1</td>\n",
       "      <td>-2.959047</td>\n",
       "      <td>246</td>\n",
       "      <td>1</td>\n",
       "      <td>30.000000</td>\n",
       "      <td>0</td>\n",
       "      <td>0</td>\n",
       "    </tr>\n",
       "    <tr>\n",
       "      <th>2</th>\n",
       "      <td>1.633392</td>\n",
       "      <td>1.731265</td>\n",
       "      <td>1.588976</td>\n",
       "      <td>1.580385</td>\n",
       "      <td>3.881156</td>\n",
       "      <td>0.965680</td>\n",
       "      <td>0.741293</td>\n",
       "      <td>0.389869</td>\n",
       "      <td>0.830224</td>\n",
       "      <td>-7.700945</td>\n",
       "      <td>...</td>\n",
       "      <td>4.751934</td>\n",
       "      <td>1.619259</td>\n",
       "      <td>1</td>\n",
       "      <td>1</td>\n",
       "      <td>4.244131</td>\n",
       "      <td>243</td>\n",
       "      <td>1</td>\n",
       "      <td>30.000000</td>\n",
       "      <td>0</td>\n",
       "      <td>0</td>\n",
       "    </tr>\n",
       "    <tr>\n",
       "      <th>3</th>\n",
       "      <td>1.971132</td>\n",
       "      <td>1.735649</td>\n",
       "      <td>1.768737</td>\n",
       "      <td>1.852557</td>\n",
       "      <td>4.071059</td>\n",
       "      <td>0.944994</td>\n",
       "      <td>0.643423</td>\n",
       "      <td>0.706459</td>\n",
       "      <td>0.822270</td>\n",
       "      <td>-4.530420</td>\n",
       "      <td>...</td>\n",
       "      <td>3.860327</td>\n",
       "      <td>0.167814</td>\n",
       "      <td>0</td>\n",
       "      <td>0</td>\n",
       "      <td>3.280688</td>\n",
       "      <td>335</td>\n",
       "      <td>0</td>\n",
       "      <td>30.000000</td>\n",
       "      <td>0</td>\n",
       "      <td>0</td>\n",
       "    </tr>\n",
       "    <tr>\n",
       "      <th>4</th>\n",
       "      <td>1.376904</td>\n",
       "      <td>1.423676</td>\n",
       "      <td>1.461504</td>\n",
       "      <td>1.169873</td>\n",
       "      <td>1.043610</td>\n",
       "      <td>0.778490</td>\n",
       "      <td>0.959439</td>\n",
       "      <td>0.968423</td>\n",
       "      <td>0.886591</td>\n",
       "      <td>-1.161456</td>\n",
       "      <td>...</td>\n",
       "      <td>0.974215</td>\n",
       "      <td>-0.908178</td>\n",
       "      <td>1</td>\n",
       "      <td>1</td>\n",
       "      <td>-1.082029</td>\n",
       "      <td>215</td>\n",
       "      <td>0</td>\n",
       "      <td>4.835404</td>\n",
       "      <td>1</td>\n",
       "      <td>0</td>\n",
       "    </tr>\n",
       "  </tbody>\n",
       "</table>\n",
       "<p>5 rows × 21 columns</p>\n",
       "</div>"
      ],
      "text/plain": [
       "        par       sfc       aci       pci        u1       cau        th  \\\n",
       "0  1.541845  1.639296  1.631768  1.436017  3.053231  0.941444  1.062079   \n",
       "1  1.285776  1.314337  1.224379  1.154257  0.536178  1.018560  0.789055   \n",
       "2  1.633392  1.731265  1.588976  1.580385  3.881156  0.965680  0.741293   \n",
       "3  1.971132  1.735649  1.768737  1.852557  4.071059  0.944994  0.643423   \n",
       "4  1.376904  1.423676  1.461504  1.169873  1.043610  0.778490  0.959439   \n",
       "\n",
       "        put       mid        u2  ...         u       age  gene1  gene2  \\\n",
       "0  0.988974  0.849440  0.452027  ...  1.918266 -1.137870      1      1   \n",
       "1  0.903791  0.666955 -0.937675  ... -0.575754 -0.951810      1      1   \n",
       "2  0.389869  0.830224 -7.700945  ...  4.751934  1.619259      1      1   \n",
       "3  0.706459  0.822270 -4.530420  ...  3.860327  0.167814      0      0   \n",
       "4  0.968423  0.886591 -1.161456  ...  0.974215 -0.908178      1      1   \n",
       "\n",
       "        eta  day  depr          T  status  age_cat  \n",
       "0 -0.425573   30     0   1.019006       1        0  \n",
       "1 -2.959047  246     1  30.000000       0        0  \n",
       "2  4.244131  243     1  30.000000       0        0  \n",
       "3  3.280688  335     0  30.000000       0        0  \n",
       "4 -1.082029  215     0   4.835404       1        0  \n",
       "\n",
       "[5 rows x 21 columns]"
      ]
     },
     "execution_count": 35,
     "metadata": {},
     "output_type": "execute_result"
    }
   ],
   "source": [
    "## Use the iloc attribute to subset a dataframe based on position (integer index)\n",
    "## Slice notation with integers can be used, and is the same \n",
    "## as seen earlier for lists and arrays\n",
    "## With just a single slice specified, rows will be selected\n",
    "dat.iloc[0:5]"
   ]
  },
  {
   "cell_type": "code",
   "execution_count": 36,
   "metadata": {},
   "outputs": [
    {
     "data": {
      "text/html": [
       "<div>\n",
       "<style scoped>\n",
       "    .dataframe tbody tr th:only-of-type {\n",
       "        vertical-align: middle;\n",
       "    }\n",
       "\n",
       "    .dataframe tbody tr th {\n",
       "        vertical-align: top;\n",
       "    }\n",
       "\n",
       "    .dataframe thead th {\n",
       "        text-align: right;\n",
       "    }\n",
       "</style>\n",
       "<table border=\"1\" class=\"dataframe\">\n",
       "  <thead>\n",
       "    <tr style=\"text-align: right;\">\n",
       "      <th></th>\n",
       "      <th>par</th>\n",
       "      <th>sfc</th>\n",
       "      <th>aci</th>\n",
       "    </tr>\n",
       "  </thead>\n",
       "  <tbody>\n",
       "    <tr>\n",
       "      <th>0</th>\n",
       "      <td>1.541845</td>\n",
       "      <td>1.639296</td>\n",
       "      <td>1.631768</td>\n",
       "    </tr>\n",
       "    <tr>\n",
       "      <th>1</th>\n",
       "      <td>1.285776</td>\n",
       "      <td>1.314337</td>\n",
       "      <td>1.224379</td>\n",
       "    </tr>\n",
       "    <tr>\n",
       "      <th>2</th>\n",
       "      <td>1.633392</td>\n",
       "      <td>1.731265</td>\n",
       "      <td>1.588976</td>\n",
       "    </tr>\n",
       "    <tr>\n",
       "      <th>3</th>\n",
       "      <td>1.971132</td>\n",
       "      <td>1.735649</td>\n",
       "      <td>1.768737</td>\n",
       "    </tr>\n",
       "    <tr>\n",
       "      <th>4</th>\n",
       "      <td>1.376904</td>\n",
       "      <td>1.423676</td>\n",
       "      <td>1.461504</td>\n",
       "    </tr>\n",
       "  </tbody>\n",
       "</table>\n",
       "</div>"
      ],
      "text/plain": [
       "        par       sfc       aci\n",
       "0  1.541845  1.639296  1.631768\n",
       "1  1.285776  1.314337  1.224379\n",
       "2  1.633392  1.731265  1.588976\n",
       "3  1.971132  1.735649  1.768737\n",
       "4  1.376904  1.423676  1.461504"
      ]
     },
     "execution_count": 36,
     "metadata": {},
     "output_type": "execute_result"
    }
   ],
   "source": [
    "## You can also subset both rows and columns\n",
    "dat.iloc[0:5,0:3]"
   ]
  },
  {
   "cell_type": "code",
   "execution_count": 37,
   "metadata": {},
   "outputs": [
    {
     "data": {
      "text/html": [
       "<div>\n",
       "<style scoped>\n",
       "    .dataframe tbody tr th:only-of-type {\n",
       "        vertical-align: middle;\n",
       "    }\n",
       "\n",
       "    .dataframe tbody tr th {\n",
       "        vertical-align: top;\n",
       "    }\n",
       "\n",
       "    .dataframe thead th {\n",
       "        text-align: right;\n",
       "    }\n",
       "</style>\n",
       "<table border=\"1\" class=\"dataframe\">\n",
       "  <thead>\n",
       "    <tr style=\"text-align: right;\">\n",
       "      <th></th>\n",
       "      <th>sfc</th>\n",
       "      <th>aci</th>\n",
       "      <th>cau</th>\n",
       "    </tr>\n",
       "  </thead>\n",
       "  <tbody>\n",
       "    <tr>\n",
       "      <th>0</th>\n",
       "      <td>1.639296</td>\n",
       "      <td>1.631768</td>\n",
       "      <td>0.941444</td>\n",
       "    </tr>\n",
       "    <tr>\n",
       "      <th>1</th>\n",
       "      <td>1.314337</td>\n",
       "      <td>1.224379</td>\n",
       "      <td>1.018560</td>\n",
       "    </tr>\n",
       "    <tr>\n",
       "      <th>2</th>\n",
       "      <td>1.731265</td>\n",
       "      <td>1.588976</td>\n",
       "      <td>0.965680</td>\n",
       "    </tr>\n",
       "    <tr>\n",
       "      <th>3</th>\n",
       "      <td>1.735649</td>\n",
       "      <td>1.768737</td>\n",
       "      <td>0.944994</td>\n",
       "    </tr>\n",
       "    <tr>\n",
       "      <th>4</th>\n",
       "      <td>1.423676</td>\n",
       "      <td>1.461504</td>\n",
       "      <td>0.778490</td>\n",
       "    </tr>\n",
       "  </tbody>\n",
       "</table>\n",
       "</div>"
      ],
      "text/plain": [
       "        sfc       aci       cau\n",
       "0  1.639296  1.631768  0.941444\n",
       "1  1.314337  1.224379  1.018560\n",
       "2  1.731265  1.588976  0.965680\n",
       "3  1.735649  1.768737  0.944994\n",
       "4  1.423676  1.461504  0.778490"
      ]
     },
     "execution_count": 37,
     "metadata": {},
     "output_type": "execute_result"
    }
   ],
   "source": [
    "## Rather than slice notation, a list of indices can be used\n",
    "dat.iloc[0:5,[1,2,5]]"
   ]
  },
  {
   "cell_type": "markdown",
   "metadata": {},
   "source": [
    "#### Subsetting with `.loc`"
   ]
  },
  {
   "cell_type": "code",
   "execution_count": 38,
   "metadata": {},
   "outputs": [
    {
     "data": {
      "text/html": [
       "<div>\n",
       "<style scoped>\n",
       "    .dataframe tbody tr th:only-of-type {\n",
       "        vertical-align: middle;\n",
       "    }\n",
       "\n",
       "    .dataframe tbody tr th {\n",
       "        vertical-align: top;\n",
       "    }\n",
       "\n",
       "    .dataframe thead th {\n",
       "        text-align: right;\n",
       "    }\n",
       "</style>\n",
       "<table border=\"1\" class=\"dataframe\">\n",
       "  <thead>\n",
       "    <tr style=\"text-align: right;\">\n",
       "      <th></th>\n",
       "      <th>par</th>\n",
       "      <th>sfc</th>\n",
       "    </tr>\n",
       "  </thead>\n",
       "  <tbody>\n",
       "    <tr>\n",
       "      <th>0</th>\n",
       "      <td>1.541845</td>\n",
       "      <td>1.639296</td>\n",
       "    </tr>\n",
       "    <tr>\n",
       "      <th>1</th>\n",
       "      <td>1.285776</td>\n",
       "      <td>1.314337</td>\n",
       "    </tr>\n",
       "    <tr>\n",
       "      <th>2</th>\n",
       "      <td>1.633392</td>\n",
       "      <td>1.731265</td>\n",
       "    </tr>\n",
       "    <tr>\n",
       "      <th>3</th>\n",
       "      <td>1.971132</td>\n",
       "      <td>1.735649</td>\n",
       "    </tr>\n",
       "    <tr>\n",
       "      <th>4</th>\n",
       "      <td>1.376904</td>\n",
       "      <td>1.423676</td>\n",
       "    </tr>\n",
       "  </tbody>\n",
       "</table>\n",
       "</div>"
      ],
      "text/plain": [
       "        par       sfc\n",
       "0  1.541845  1.639296\n",
       "1  1.285776  1.314337\n",
       "2  1.633392  1.731265\n",
       "3  1.971132  1.735649\n",
       "4  1.376904  1.423676"
      ]
     },
     "execution_count": 38,
     "metadata": {},
     "output_type": "execute_result"
    }
   ],
   "source": [
    "## Use the loc() method to subset using labels\n",
    "## Select a single column (use a list to get multiple columns)\n",
    "## Integer slices should not be used with the loc method, \n",
    "## but you can provide a list of index values\n",
    "dat.loc[range(5),['par', 'sfc']]"
   ]
  },
  {
   "cell_type": "code",
   "execution_count": 39,
   "metadata": {},
   "outputs": [
    {
     "data": {
      "text/plain": [
       "0       True\n",
       "1       True\n",
       "2       True\n",
       "3      False\n",
       "4       True\n",
       "5       True\n",
       "6      False\n",
       "7      False\n",
       "8       True\n",
       "9      False\n",
       "10     False\n",
       "11     False\n",
       "12      True\n",
       "13     False\n",
       "14     False\n",
       "15     False\n",
       "16     False\n",
       "17     False\n",
       "18     False\n",
       "19     False\n",
       "20     False\n",
       "21     False\n",
       "22     False\n",
       "23     False\n",
       "24     False\n",
       "25     False\n",
       "26     False\n",
       "27     False\n",
       "28     False\n",
       "29     False\n",
       "       ...  \n",
       "220    False\n",
       "221     True\n",
       "222     True\n",
       "223     True\n",
       "224    False\n",
       "225     True\n",
       "226    False\n",
       "227     True\n",
       "228    False\n",
       "229     True\n",
       "230    False\n",
       "231    False\n",
       "232    False\n",
       "233     True\n",
       "234    False\n",
       "235    False\n",
       "236    False\n",
       "237    False\n",
       "238    False\n",
       "239    False\n",
       "240    False\n",
       "241    False\n",
       "242    False\n",
       "243     True\n",
       "244    False\n",
       "245    False\n",
       "246    False\n",
       "247    False\n",
       "248    False\n",
       "249    False\n",
       "Length: 250, dtype: bool"
      ]
     },
     "execution_count": 39,
     "metadata": {},
     "output_type": "execute_result"
    }
   ],
   "source": [
    "## Subsetting the data structure based on a condition\n",
    "gene_idx = (dat['gene1'] == 1) & (dat['gene2'] == 1)\n",
    "gene_idx"
   ]
  },
  {
   "cell_type": "code",
   "execution_count": 40,
   "metadata": {},
   "outputs": [
    {
     "data": {
      "text/html": [
       "<div>\n",
       "<style scoped>\n",
       "    .dataframe tbody tr th:only-of-type {\n",
       "        vertical-align: middle;\n",
       "    }\n",
       "\n",
       "    .dataframe tbody tr th {\n",
       "        vertical-align: top;\n",
       "    }\n",
       "\n",
       "    .dataframe thead th {\n",
       "        text-align: right;\n",
       "    }\n",
       "</style>\n",
       "<table border=\"1\" class=\"dataframe\">\n",
       "  <thead>\n",
       "    <tr style=\"text-align: right;\">\n",
       "      <th></th>\n",
       "      <th>par</th>\n",
       "      <th>sfc</th>\n",
       "      <th>aci</th>\n",
       "      <th>pci</th>\n",
       "      <th>u1</th>\n",
       "      <th>cau</th>\n",
       "      <th>th</th>\n",
       "      <th>put</th>\n",
       "      <th>mid</th>\n",
       "      <th>u2</th>\n",
       "      <th>...</th>\n",
       "      <th>u</th>\n",
       "      <th>age</th>\n",
       "      <th>gene1</th>\n",
       "      <th>gene2</th>\n",
       "      <th>eta</th>\n",
       "      <th>day</th>\n",
       "      <th>depr</th>\n",
       "      <th>T</th>\n",
       "      <th>status</th>\n",
       "      <th>age_cat</th>\n",
       "    </tr>\n",
       "  </thead>\n",
       "  <tbody>\n",
       "    <tr>\n",
       "      <th>0</th>\n",
       "      <td>1.541845</td>\n",
       "      <td>1.639296</td>\n",
       "      <td>1.631768</td>\n",
       "      <td>1.436017</td>\n",
       "      <td>3.053231</td>\n",
       "      <td>0.941444</td>\n",
       "      <td>1.062079</td>\n",
       "      <td>0.988974</td>\n",
       "      <td>0.849440</td>\n",
       "      <td>0.452027</td>\n",
       "      <td>...</td>\n",
       "      <td>1.918266</td>\n",
       "      <td>-1.137870</td>\n",
       "      <td>1</td>\n",
       "      <td>1</td>\n",
       "      <td>-0.425573</td>\n",
       "      <td>30</td>\n",
       "      <td>0</td>\n",
       "      <td>1.019006</td>\n",
       "      <td>1</td>\n",
       "      <td>0</td>\n",
       "    </tr>\n",
       "    <tr>\n",
       "      <th>1</th>\n",
       "      <td>1.285776</td>\n",
       "      <td>1.314337</td>\n",
       "      <td>1.224379</td>\n",
       "      <td>1.154257</td>\n",
       "      <td>0.536178</td>\n",
       "      <td>1.018560</td>\n",
       "      <td>0.789055</td>\n",
       "      <td>0.903791</td>\n",
       "      <td>0.666955</td>\n",
       "      <td>-0.937675</td>\n",
       "      <td>...</td>\n",
       "      <td>-0.575754</td>\n",
       "      <td>-0.951810</td>\n",
       "      <td>1</td>\n",
       "      <td>1</td>\n",
       "      <td>-2.959047</td>\n",
       "      <td>246</td>\n",
       "      <td>1</td>\n",
       "      <td>30.000000</td>\n",
       "      <td>0</td>\n",
       "      <td>0</td>\n",
       "    </tr>\n",
       "    <tr>\n",
       "      <th>2</th>\n",
       "      <td>1.633392</td>\n",
       "      <td>1.731265</td>\n",
       "      <td>1.588976</td>\n",
       "      <td>1.580385</td>\n",
       "      <td>3.881156</td>\n",
       "      <td>0.965680</td>\n",
       "      <td>0.741293</td>\n",
       "      <td>0.389869</td>\n",
       "      <td>0.830224</td>\n",
       "      <td>-7.700945</td>\n",
       "      <td>...</td>\n",
       "      <td>4.751934</td>\n",
       "      <td>1.619259</td>\n",
       "      <td>1</td>\n",
       "      <td>1</td>\n",
       "      <td>4.244131</td>\n",
       "      <td>243</td>\n",
       "      <td>1</td>\n",
       "      <td>30.000000</td>\n",
       "      <td>0</td>\n",
       "      <td>0</td>\n",
       "    </tr>\n",
       "    <tr>\n",
       "      <th>4</th>\n",
       "      <td>1.376904</td>\n",
       "      <td>1.423676</td>\n",
       "      <td>1.461504</td>\n",
       "      <td>1.169873</td>\n",
       "      <td>1.043610</td>\n",
       "      <td>0.778490</td>\n",
       "      <td>0.959439</td>\n",
       "      <td>0.968423</td>\n",
       "      <td>0.886591</td>\n",
       "      <td>-1.161456</td>\n",
       "      <td>...</td>\n",
       "      <td>0.974215</td>\n",
       "      <td>-0.908178</td>\n",
       "      <td>1</td>\n",
       "      <td>1</td>\n",
       "      <td>-1.082029</td>\n",
       "      <td>215</td>\n",
       "      <td>0</td>\n",
       "      <td>4.835404</td>\n",
       "      <td>1</td>\n",
       "      <td>0</td>\n",
       "    </tr>\n",
       "    <tr>\n",
       "      <th>5</th>\n",
       "      <td>0.806983</td>\n",
       "      <td>1.058278</td>\n",
       "      <td>1.115488</td>\n",
       "      <td>0.651795</td>\n",
       "      <td>-1.917271</td>\n",
       "      <td>0.845913</td>\n",
       "      <td>0.901128</td>\n",
       "      <td>1.074159</td>\n",
       "      <td>1.008709</td>\n",
       "      <td>-0.411856</td>\n",
       "      <td>...</td>\n",
       "      <td>-0.254622</td>\n",
       "      <td>1.341796</td>\n",
       "      <td>1</td>\n",
       "      <td>1</td>\n",
       "      <td>0.000730</td>\n",
       "      <td>257</td>\n",
       "      <td>1</td>\n",
       "      <td>30.000000</td>\n",
       "      <td>0</td>\n",
       "      <td>0</td>\n",
       "    </tr>\n",
       "  </tbody>\n",
       "</table>\n",
       "<p>5 rows × 21 columns</p>\n",
       "</div>"
      ],
      "text/plain": [
       "        par       sfc       aci       pci        u1       cau        th  \\\n",
       "0  1.541845  1.639296  1.631768  1.436017  3.053231  0.941444  1.062079   \n",
       "1  1.285776  1.314337  1.224379  1.154257  0.536178  1.018560  0.789055   \n",
       "2  1.633392  1.731265  1.588976  1.580385  3.881156  0.965680  0.741293   \n",
       "4  1.376904  1.423676  1.461504  1.169873  1.043610  0.778490  0.959439   \n",
       "5  0.806983  1.058278  1.115488  0.651795 -1.917271  0.845913  0.901128   \n",
       "\n",
       "        put       mid        u2  ...         u       age  gene1  gene2  \\\n",
       "0  0.988974  0.849440  0.452027  ...  1.918266 -1.137870      1      1   \n",
       "1  0.903791  0.666955 -0.937675  ... -0.575754 -0.951810      1      1   \n",
       "2  0.389869  0.830224 -7.700945  ...  4.751934  1.619259      1      1   \n",
       "4  0.968423  0.886591 -1.161456  ...  0.974215 -0.908178      1      1   \n",
       "5  1.074159  1.008709 -0.411856  ... -0.254622  1.341796      1      1   \n",
       "\n",
       "        eta  day  depr          T  status  age_cat  \n",
       "0 -0.425573   30     0   1.019006       1        0  \n",
       "1 -2.959047  246     1  30.000000       0        0  \n",
       "2  4.244131  243     1  30.000000       0        0  \n",
       "4 -1.082029  215     0   4.835404       1        0  \n",
       "5  0.000730  257     1  30.000000       0        0  \n",
       "\n",
       "[5 rows x 21 columns]"
      ]
     },
     "execution_count": 40,
     "metadata": {},
     "output_type": "execute_result"
    }
   ],
   "source": [
    "## The loc attribute will also accept a boolean array as an indexer\n",
    "dat.loc[gene_idx].head()"
   ]
  },
  {
   "cell_type": "code",
   "execution_count": 41,
   "metadata": {},
   "outputs": [],
   "source": [
    "## Set values based on a condition (use the loc attribute)\n",
    "## Here we update the 'age_cat' column for only those rows where 'age' is > 0\n",
    "dat.loc[dat['age'] > 0, 'age_cat'] = 1"
   ]
  },
  {
   "cell_type": "code",
   "execution_count": 42,
   "metadata": {},
   "outputs": [
    {
     "data": {
      "text/html": [
       "<div>\n",
       "<style scoped>\n",
       "    .dataframe tbody tr th:only-of-type {\n",
       "        vertical-align: middle;\n",
       "    }\n",
       "\n",
       "    .dataframe tbody tr th {\n",
       "        vertical-align: top;\n",
       "    }\n",
       "\n",
       "    .dataframe thead th {\n",
       "        text-align: right;\n",
       "    }\n",
       "</style>\n",
       "<table border=\"1\" class=\"dataframe\">\n",
       "  <thead>\n",
       "    <tr style=\"text-align: right;\">\n",
       "      <th></th>\n",
       "      <th>par</th>\n",
       "      <th>sfc</th>\n",
       "      <th>aci</th>\n",
       "      <th>pci</th>\n",
       "      <th>u1</th>\n",
       "      <th>cau</th>\n",
       "      <th>th</th>\n",
       "      <th>put</th>\n",
       "      <th>mid</th>\n",
       "      <th>u2</th>\n",
       "      <th>...</th>\n",
       "      <th>u</th>\n",
       "      <th>age</th>\n",
       "      <th>gene1</th>\n",
       "      <th>gene2</th>\n",
       "      <th>eta</th>\n",
       "      <th>day</th>\n",
       "      <th>depr</th>\n",
       "      <th>T</th>\n",
       "      <th>status</th>\n",
       "      <th>age_cat</th>\n",
       "    </tr>\n",
       "  </thead>\n",
       "  <tbody>\n",
       "    <tr>\n",
       "      <th>0</th>\n",
       "      <td>1.541845</td>\n",
       "      <td>1.639296</td>\n",
       "      <td>1.631768</td>\n",
       "      <td>1.436017</td>\n",
       "      <td>3.053231</td>\n",
       "      <td>0.941444</td>\n",
       "      <td>1.062079</td>\n",
       "      <td>0.988974</td>\n",
       "      <td>0.849440</td>\n",
       "      <td>0.452027</td>\n",
       "      <td>...</td>\n",
       "      <td>1.918266</td>\n",
       "      <td>-1.137870</td>\n",
       "      <td>1</td>\n",
       "      <td>1</td>\n",
       "      <td>-0.425573</td>\n",
       "      <td>30</td>\n",
       "      <td>0</td>\n",
       "      <td>1.019006</td>\n",
       "      <td>1</td>\n",
       "      <td>0</td>\n",
       "    </tr>\n",
       "    <tr>\n",
       "      <th>1</th>\n",
       "      <td>1.285776</td>\n",
       "      <td>1.314337</td>\n",
       "      <td>1.224379</td>\n",
       "      <td>1.154257</td>\n",
       "      <td>0.536178</td>\n",
       "      <td>1.018560</td>\n",
       "      <td>0.789055</td>\n",
       "      <td>0.903791</td>\n",
       "      <td>0.666955</td>\n",
       "      <td>-0.937675</td>\n",
       "      <td>...</td>\n",
       "      <td>-0.575754</td>\n",
       "      <td>-0.951810</td>\n",
       "      <td>1</td>\n",
       "      <td>1</td>\n",
       "      <td>-2.959047</td>\n",
       "      <td>246</td>\n",
       "      <td>1</td>\n",
       "      <td>30.000000</td>\n",
       "      <td>0</td>\n",
       "      <td>0</td>\n",
       "    </tr>\n",
       "    <tr>\n",
       "      <th>2</th>\n",
       "      <td>1.633392</td>\n",
       "      <td>1.731265</td>\n",
       "      <td>1.588976</td>\n",
       "      <td>1.580385</td>\n",
       "      <td>3.881156</td>\n",
       "      <td>0.965680</td>\n",
       "      <td>0.741293</td>\n",
       "      <td>0.389869</td>\n",
       "      <td>0.830224</td>\n",
       "      <td>-7.700945</td>\n",
       "      <td>...</td>\n",
       "      <td>4.751934</td>\n",
       "      <td>1.619259</td>\n",
       "      <td>1</td>\n",
       "      <td>1</td>\n",
       "      <td>4.244131</td>\n",
       "      <td>243</td>\n",
       "      <td>1</td>\n",
       "      <td>30.000000</td>\n",
       "      <td>0</td>\n",
       "      <td>1</td>\n",
       "    </tr>\n",
       "    <tr>\n",
       "      <th>3</th>\n",
       "      <td>1.971132</td>\n",
       "      <td>1.735649</td>\n",
       "      <td>1.768737</td>\n",
       "      <td>1.852557</td>\n",
       "      <td>4.071059</td>\n",
       "      <td>0.944994</td>\n",
       "      <td>0.643423</td>\n",
       "      <td>0.706459</td>\n",
       "      <td>0.822270</td>\n",
       "      <td>-4.530420</td>\n",
       "      <td>...</td>\n",
       "      <td>3.860327</td>\n",
       "      <td>0.167814</td>\n",
       "      <td>0</td>\n",
       "      <td>0</td>\n",
       "      <td>3.280688</td>\n",
       "      <td>335</td>\n",
       "      <td>0</td>\n",
       "      <td>30.000000</td>\n",
       "      <td>0</td>\n",
       "      <td>1</td>\n",
       "    </tr>\n",
       "    <tr>\n",
       "      <th>4</th>\n",
       "      <td>1.376904</td>\n",
       "      <td>1.423676</td>\n",
       "      <td>1.461504</td>\n",
       "      <td>1.169873</td>\n",
       "      <td>1.043610</td>\n",
       "      <td>0.778490</td>\n",
       "      <td>0.959439</td>\n",
       "      <td>0.968423</td>\n",
       "      <td>0.886591</td>\n",
       "      <td>-1.161456</td>\n",
       "      <td>...</td>\n",
       "      <td>0.974215</td>\n",
       "      <td>-0.908178</td>\n",
       "      <td>1</td>\n",
       "      <td>1</td>\n",
       "      <td>-1.082029</td>\n",
       "      <td>215</td>\n",
       "      <td>0</td>\n",
       "      <td>4.835404</td>\n",
       "      <td>1</td>\n",
       "      <td>0</td>\n",
       "    </tr>\n",
       "  </tbody>\n",
       "</table>\n",
       "<p>5 rows × 21 columns</p>\n",
       "</div>"
      ],
      "text/plain": [
       "        par       sfc       aci       pci        u1       cau        th  \\\n",
       "0  1.541845  1.639296  1.631768  1.436017  3.053231  0.941444  1.062079   \n",
       "1  1.285776  1.314337  1.224379  1.154257  0.536178  1.018560  0.789055   \n",
       "2  1.633392  1.731265  1.588976  1.580385  3.881156  0.965680  0.741293   \n",
       "3  1.971132  1.735649  1.768737  1.852557  4.071059  0.944994  0.643423   \n",
       "4  1.376904  1.423676  1.461504  1.169873  1.043610  0.778490  0.959439   \n",
       "\n",
       "        put       mid        u2  ...         u       age  gene1  gene2  \\\n",
       "0  0.988974  0.849440  0.452027  ...  1.918266 -1.137870      1      1   \n",
       "1  0.903791  0.666955 -0.937675  ... -0.575754 -0.951810      1      1   \n",
       "2  0.389869  0.830224 -7.700945  ...  4.751934  1.619259      1      1   \n",
       "3  0.706459  0.822270 -4.530420  ...  3.860327  0.167814      0      0   \n",
       "4  0.968423  0.886591 -1.161456  ...  0.974215 -0.908178      1      1   \n",
       "\n",
       "        eta  day  depr          T  status  age_cat  \n",
       "0 -0.425573   30     0   1.019006       1        0  \n",
       "1 -2.959047  246     1  30.000000       0        0  \n",
       "2  4.244131  243     1  30.000000       0        1  \n",
       "3  3.280688  335     0  30.000000       0        1  \n",
       "4 -1.082029  215     0   4.835404       1        0  \n",
       "\n",
       "[5 rows x 21 columns]"
      ]
     },
     "execution_count": 42,
     "metadata": {},
     "output_type": "execute_result"
    }
   ],
   "source": [
    "dat.head()"
   ]
  },
  {
   "cell_type": "markdown",
   "metadata": {},
   "source": [
    "### Plotting with `Pandas`\n",
    "\n",
    "A few examples of simple plots available in `pandas`... We'll dive into more advanced plotting next week."
   ]
  },
  {
   "cell_type": "code",
   "execution_count": 43,
   "metadata": {},
   "outputs": [
    {
     "data": {
      "text/plain": [
       "0    133\n",
       "1    117\n",
       "Name: gene1, dtype: int64"
      ]
     },
     "execution_count": 43,
     "metadata": {},
     "output_type": "execute_result"
    }
   ],
   "source": [
    "## Get a summary of the data (value counts)\n",
    "gene1_counts = dat['gene1'].value_counts()\n",
    "gene1_counts"
   ]
  },
  {
   "cell_type": "code",
   "execution_count": 44,
   "metadata": {},
   "outputs": [
    {
     "data": {
      "text/plain": [
       "gene1  gene2\n",
       "0      0        60\n",
       "       1        73\n",
       "1      0        59\n",
       "       1        58\n",
       "dtype: int64"
      ]
     },
     "execution_count": 44,
     "metadata": {},
     "output_type": "execute_result"
    }
   ],
   "source": [
    "## Another way to create a tabular view of you data\n",
    "dat.groupby(['gene1','gene2']).size()"
   ]
  },
  {
   "cell_type": "code",
   "execution_count": 45,
   "metadata": {},
   "outputs": [
    {
     "data": {
      "image/png": "[encoded data removed]",
      "text/plain": [
       "<Figure size 432x288 with 1 Axes>"
      ]
     },
     "metadata": {
      "needs_background": "light"
     },
     "output_type": "display_data"
    }
   ],
   "source": [
    "## Bar plot\n",
    "gene1_counts.plot(kind=\"bar\");"
   ]
  },
  {
   "cell_type": "code",
   "execution_count": 46,
   "metadata": {},
   "outputs": [
    {
     "data": {
      "image/png": "[encoded data removed]",
      "text/plain": [
       "<Figure size 432x288 with 1 Axes>"
      ]
     },
     "metadata": {
      "needs_background": "light"
     },
     "output_type": "display_data"
    }
   ],
   "source": [
    "## Box plot\n",
    "x = dat.boxplot(column='age', return_type='axes');\n",
    "plt.savefig('boxplot1.pdf')"
   ]
  },
  {
   "cell_type": "code",
   "execution_count": 47,
   "metadata": {},
   "outputs": [
    {
     "data": {
      "image/png": "[encoded data removed]",
      "text/plain": [
       "<Figure size 432x288 with 1 Axes>"
      ]
     },
     "metadata": {
      "needs_background": "light"
     },
     "output_type": "display_data"
    }
   ],
   "source": [
    "bp = dat.boxplot(column='mem', by='gene1')\n",
    "#bp.set_xticklabels(['tick1','tick2']);"
   ]
  },
  {
   "cell_type": "code",
   "execution_count": 48,
   "metadata": {},
   "outputs": [
    {
     "data": {
      "image/png": "[encoded data removed]",
      "text/plain": [
       "<Figure size 432x288 with 1 Axes>"
      ]
     },
     "metadata": {
      "needs_background": "light"
     },
     "output_type": "display_data"
    }
   ],
   "source": [
    "## Scatter plot\n",
    "dat.plot(x='age', y='mem', kind=\"scatter\");"
   ]
  },
  {
   "cell_type": "markdown",
   "metadata": {},
   "source": [
    "## Statistics in Python\n",
    "\n",
    "The `statsmodels` package contains functions and classes for data exploration and many different statistical procedures (modeling, hypothesis testing). `Pandas` and `Scipy` also have statistics modules.\n",
    "\n",
    "[http://statsmodels.sourceforge.net/stable/index.html](http://statsmodels.sourceforge.net/stable/index.html)\n",
    "\n",
    "[http://pandas.pydata.org/pandas-docs/stable/basics.html#descriptive-statistics](http://pandas.pydata.org/pandas-docs/stable/basics.html#descriptive-statistics)\n",
    "\n",
    "[http://docs.scipy.org/doc/scipy-0.13.0/reference/stats.html](http://docs.scipy.org/doc/scipy-0.13.0/reference/stats.html)"
   ]
  },
  {
   "cell_type": "markdown",
   "metadata": {},
   "source": [
    "### Descriptive Statistics"
   ]
  },
  {
   "cell_type": "code",
   "execution_count": 49,
   "metadata": {},
   "outputs": [
    {
     "data": {
      "text/plain": [
       "count    250.000000\n",
       "mean      -0.009506\n",
       "std        1.036330\n",
       "min       -3.119118\n",
       "25%       -0.676994\n",
       "50%       -0.033606\n",
       "75%        0.561708\n",
       "max        2.861592\n",
       "Name: age, dtype: float64"
      ]
     },
     "execution_count": 49,
     "metadata": {},
     "output_type": "execute_result"
    }
   ],
   "source": [
    "## Pandas summary statistics\n",
    "dat['age'].describe()"
   ]
  },
  {
   "cell_type": "code",
   "execution_count": 50,
   "metadata": {},
   "outputs": [
    {
     "data": {
      "text/plain": [
       "par        0\n",
       "sfc        0\n",
       "aci        0\n",
       "pci        0\n",
       "u1         0\n",
       "cau        0\n",
       "th         0\n",
       "put        0\n",
       "mid        0\n",
       "u2         0\n",
       "mem        0\n",
       "u          0\n",
       "age        0\n",
       "gene1      0\n",
       "gene2      0\n",
       "eta        0\n",
       "day        0\n",
       "depr       0\n",
       "T          0\n",
       "status     0\n",
       "age_cat    0\n",
       "dtype: int64"
      ]
     },
     "execution_count": 50,
     "metadata": {},
     "output_type": "execute_result"
    }
   ],
   "source": [
    "## Missing data counts in Pandas\n",
    "dat.isnull().sum()"
   ]
  },
  {
   "cell_type": "code",
   "execution_count": 51,
   "metadata": {},
   "outputs": [
    {
     "data": {
      "text/plain": [
       "DescribeResult(nobs=250, minmax=(-3.1191175148780097, 2.86159181140889), mean=-0.009505743615708592, variance=1.0739808473043826, skewness=0.056228167992158774, kurtosis=-0.11090770812166584)"
      ]
     },
     "execution_count": 51,
     "metadata": {},
     "output_type": "execute_result"
    }
   ],
   "source": [
    "## Summary stats from SciPy\n",
    "from scipy import stats\n",
    "stats.describe(dat['age'])"
   ]
  },
  {
   "cell_type": "code",
   "execution_count": 52,
   "metadata": {},
   "outputs": [
    {
     "data": {
      "text/plain": [
       "array([-9.50574362e-03,  1.07140000e+02])"
      ]
     },
     "execution_count": 52,
     "metadata": {},
     "output_type": "execute_result"
    }
   ],
   "source": [
    "## Summary stats from statsmodels\n",
    "import statsmodels.api as sma\n",
    "desc = sma.stats.DescrStatsW(dat[['age','mem']])\n",
    "desc.mean"
   ]
  },
  {
   "cell_type": "code",
   "execution_count": 53,
   "metadata": {},
   "outputs": [
    {
     "data": {
      "text/plain": [
       "array([[1.        , 0.59016791],\n",
       "       [0.59016791, 1.        ]])"
      ]
     },
     "execution_count": 53,
     "metadata": {},
     "output_type": "execute_result"
    }
   ],
   "source": [
    "## Create a correlation matrix\n",
    "desc.corrcoef"
   ]
  },
  {
   "cell_type": "code",
   "execution_count": 54,
   "metadata": {},
   "outputs": [
    {
     "data": {
      "text/plain": [
       "array([[1.        , 0.59016791],\n",
       "       [0.59016791, 1.        ]])"
      ]
     },
     "execution_count": 54,
     "metadata": {},
     "output_type": "execute_result"
    }
   ],
   "source": [
    "## Equivalent correlation matrix using Numpy\n",
    "np.corrcoef(dat[['age','mem']], rowvar=0)"
   ]
  },
  {
   "cell_type": "code",
   "execution_count": 55,
   "metadata": {},
   "outputs": [
    {
     "data": {
      "text/plain": [
       "(-2.9567022934300766, 0.0034094451435307434, 248.0)"
      ]
     },
     "execution_count": 55,
     "metadata": {},
     "output_type": "execute_result"
    }
   ],
   "source": [
    "## Calculate a T-test to compare means\n",
    "sma.stats.ttest_ind(dat['mem'][dat['gene1']==1], dat['mem'][dat['gene1']==0])"
   ]
  },
  {
   "cell_type": "code",
   "execution_count": 56,
   "metadata": {},
   "outputs": [
    {
     "name": "stdout",
     "output_type": "stream",
     "text": [
      "Help on function ttest_ind in module statsmodels.stats.weightstats:\n",
      "\n",
      "ttest_ind(x1, x2, alternative='two-sided', usevar='pooled', weights=(None, None), value=0)\n",
      "    ttest independent sample\n",
      "    \n",
      "    convenience function that uses the classes and throws away the intermediate\n",
      "    results,\n",
      "    compared to scipy stats: drops axis option, adds alternative, usevar, and\n",
      "    weights option\n",
      "    \n",
      "    Parameters\n",
      "    ----------\n",
      "    x1, x2 : array_like, 1-D or 2-D\n",
      "        two independent samples, see notes for 2-D case\n",
      "    alternative : string\n",
      "        The alternative hypothesis, H1, has to be one of the following\n",
      "    \n",
      "           'two-sided': H1: difference in means not equal to value (default)\n",
      "           'larger' :   H1: difference in means larger than value\n",
      "           'smaller' :  H1: difference in means smaller than value\n",
      "    \n",
      "    usevar : string, 'pooled' or 'unequal'\n",
      "        If ``pooled``, then the standard deviation of the samples is assumed to be\n",
      "        the same. If ``unequal``, then Welsh ttest with Satterthwait degrees\n",
      "        of freedom is used\n",
      "    weights : tuple of None or ndarrays\n",
      "        Case weights for the two samples. For details on weights see\n",
      "        ``DescrStatsW``\n",
      "    value : float\n",
      "        difference between the means under the Null hypothesis.\n",
      "    \n",
      "    \n",
      "    Returns\n",
      "    -------\n",
      "    tstat : float\n",
      "        test statisic\n",
      "    pvalue : float\n",
      "        pvalue of the t-test\n",
      "    df : int or float\n",
      "        degrees of freedom used in the t-test\n",
      "\n"
     ]
    }
   ],
   "source": [
    "help(sma.stats.ttest_ind)"
   ]
  },
  {
   "cell_type": "markdown",
   "metadata": {},
   "source": [
    "### Linear Regression"
   ]
  },
  {
   "cell_type": "code",
   "execution_count": 57,
   "metadata": {},
   "outputs": [
    {
     "name": "stdout",
     "output_type": "stream",
     "text": [
      "                            OLS Regression Results                            \n",
      "==============================================================================\n",
      "Dep. Variable:                    mem   R-squared:                       0.348\n",
      "Model:                            OLS   Adj. R-squared:                  0.346\n",
      "Method:                 Least Squares   F-statistic:                     132.5\n",
      "Date:                Wed, 18 Sep 2019   Prob (F-statistic):           7.45e-25\n",
      "Time:                        10:52:20   Log-Likelihood:                -1228.2\n",
      "No. Observations:                 250   AIC:                             2460.\n",
      "Df Residuals:                     248   BIC:                             2467.\n",
      "Df Model:                           1                                         \n",
      "Covariance Type:            nonrobust                                         \n",
      "==============================================================================\n",
      "                 coef    std err          t      P>|t|      [0.025      0.975]\n",
      "------------------------------------------------------------------------------\n",
      "Intercept    107.3611      2.090     51.372      0.000     103.245     111.477\n",
      "age           23.2621      2.021     11.513      0.000      19.282      27.242\n",
      "==============================================================================\n",
      "Omnibus:                        9.068   Durbin-Watson:                   1.932\n",
      "Prob(Omnibus):                  0.011   Jarque-Bera (JB):                9.002\n",
      "Skew:                           0.445   Prob(JB):                       0.0111\n",
      "Kurtosis:                       3.271   Cond. No.                         1.04\n",
      "==============================================================================\n",
      "\n",
      "Warnings:\n",
      "[1] Standard Errors assume that the covariance matrix of the errors is correctly specified.\n"
     ]
    }
   ],
   "source": [
    "import statsmodels.formula.api as smf\n",
    "mod = smf.ols(formula='mem ~ age', data=dat)\n",
    "res = mod.fit()\n",
    "print(res.summary())"
   ]
  },
  {
   "cell_type": "code",
   "execution_count": 58,
   "metadata": {},
   "outputs": [
    {
     "data": {
      "text/plain": [
       "Intercept    107.361123\n",
       "age           23.262082\n",
       "dtype: float64"
      ]
     },
     "execution_count": 58,
     "metadata": {},
     "output_type": "execute_result"
    }
   ],
   "source": [
    "## The regression fit parameters\n",
    "res.params"
   ]
  },
  {
   "cell_type": "code",
   "execution_count": 59,
   "metadata": {},
   "outputs": [
    {
     "data": {
      "text/plain": [
       "23.26208190049833"
      ]
     },
     "execution_count": 59,
     "metadata": {},
     "output_type": "execute_result"
    }
   ],
   "source": [
    "res.params.loc['age']"
   ]
  },
  {
   "cell_type": "markdown",
   "metadata": {},
   "source": [
    "## SciPy\n",
    "### Mann-Whitney Rank Test\n",
    "\n",
    "You will use this test as part of your final project."
   ]
  },
  {
   "cell_type": "code",
   "execution_count": 60,
   "metadata": {},
   "outputs": [],
   "source": [
    "x1 = np.random.normal(0,1,30)\n",
    "x2 = np.random.normal(3,1,50)"
   ]
  },
  {
   "cell_type": "code",
   "execution_count": 61,
   "metadata": {},
   "outputs": [
    {
     "name": "stdout",
     "output_type": "stream",
     "text": [
      "x1 = [ 1.11621197  0.17763053 -0.9046355   0.63190385 -1.08423218 -0.30530464\n",
      "  1.12694499 -0.7261848  -0.75539682 -0.09406353  0.08178484  1.48483384\n",
      " -0.31434    -0.36497187  0.84457665 -0.09079993 -0.65959572 -0.39550457\n",
      " -0.24760084 -0.03563169 -2.18240982  0.31040615  1.29082151  1.05360897\n",
      "  1.05454551  1.60495965 -1.01528916  2.04478548 -0.44030116 -0.7553758 ]\n",
      "x2 = [3.74521161 4.23472471 3.12704867 4.71872014 3.58282898 2.00588493\n",
      " 1.63336405 3.30492527 2.49559866 2.46121923 2.3486725  2.76550713\n",
      " 3.50466381 3.12640298 3.16492839 2.998427   2.93368916 2.48308615\n",
      " 3.02096853 3.60123247 2.60095205 3.85406694 3.58973542 3.38818494\n",
      " 3.30931215 3.08985905 1.77242846 2.01203853 2.27139979 4.52630552\n",
      " 5.4430668  2.39271949 2.55366965 1.77543826 3.52537651 2.89448136\n",
      " 2.79353526 2.7746875  3.02318293 2.37309875 4.56322521 5.84060023\n",
      " 3.99427491 2.84151968 4.27389519 0.56027087 3.77624472 3.55990018\n",
      " 2.82697603 2.94301015]\n",
      "U = 15.0\n",
      "P-value = 1.4439840475015854e-13\n"
     ]
    }
   ],
   "source": [
    "from scipy import stats\n",
    "u, p = stats.mannwhitneyu(x1, x2)\n",
    "print(\"x1 =\", x1)\n",
    "print(\"x2 =\", x2)\n",
    "print(\"U =\", u)\n",
    "print(\"P-value =\", p)"
   ]
  },
  {
   "cell_type": "code",
   "execution_count": 62,
   "metadata": {},
   "outputs": [
    {
     "name": "stdout",
     "output_type": "stream",
     "text": [
      "Help on function mannwhitneyu in module scipy.stats.stats:\n",
      "\n",
      "mannwhitneyu(x, y, use_continuity=True, alternative=None)\n",
      "    Compute the Mann-Whitney rank test on samples x and y.\n",
      "    \n",
      "    Parameters\n",
      "    ----------\n",
      "    x, y : array_like\n",
      "        Array of samples, should be one-dimensional.\n",
      "    use_continuity : bool, optional\n",
      "            Whether a continuity correction (1/2.) should be taken into\n",
      "            account. Default is True.\n",
      "    alternative : None (deprecated), 'less', 'two-sided', or 'greater'\n",
      "            Whether to get the p-value for the one-sided hypothesis ('less'\n",
      "            or 'greater') or for the two-sided hypothesis ('two-sided').\n",
      "            Defaults to None, which results in a p-value half the size of\n",
      "            the 'two-sided' p-value and a different U statistic. The\n",
      "            default behavior is not the same as using 'less' or 'greater':\n",
      "            it only exists for backward compatibility and is deprecated.\n",
      "    \n",
      "    Returns\n",
      "    -------\n",
      "    statistic : float\n",
      "        The Mann-Whitney U statistic, equal to min(U for x, U for y) if\n",
      "        `alternative` is equal to None (deprecated; exists for backward\n",
      "        compatibility), and U for y otherwise.\n",
      "    pvalue : float\n",
      "        p-value assuming an asymptotic normal distribution. One-sided or\n",
      "        two-sided, depending on the choice of `alternative`.\n",
      "    \n",
      "    Notes\n",
      "    -----\n",
      "    Use only when the number of observation in each sample is > 20 and\n",
      "    you have 2 independent samples of ranks. Mann-Whitney U is\n",
      "    significant if the u-obtained is LESS THAN or equal to the critical\n",
      "    value of U.\n",
      "    \n",
      "    This test corrects for ties and by default uses a continuity correction.\n",
      "    \n",
      "    References\n",
      "    ----------\n",
      "    .. [1] https://en.wikipedia.org/wiki/Mann-Whitney_U_test\n",
      "    \n",
      "    .. [2] H.B. Mann and D.R. Whitney, \"On a Test of Whether one of Two Random\n",
      "           Variables is Stochastically Larger than the Other,\" The Annals of\n",
      "           Mathematical Statistics, vol. 18, no. 1, pp. 50-60, 1947.\n",
      "\n"
     ]
    }
   ],
   "source": [
    "help(stats.mannwhitneyu)"
   ]
  },
  {
   "cell_type": "markdown",
   "metadata": {},
   "source": [
    "## In-Class Exercises"
   ]
  },
  {
   "cell_type": "code",
   "execution_count": 63,
   "metadata": {},
   "outputs": [],
   "source": [
    "## Exercise 1.\n",
    "## Use the np.random.normal(5, 1, 100) function to \n",
    "## create an array of 100 random numbers.\n",
    "## Mean = 5, SD = 1\n",
    "## Count how many random numbers are greater than 5\n",
    "## \n"
   ]
  },
  {
   "cell_type": "code",
   "execution_count": 64,
   "metadata": {},
   "outputs": [],
   "source": [
    "## Exercise 2.\n",
    "## Create a new categorical variable in the serotonin data frame \n",
    "## called 'highmem'. Set the variable = 1 for subjects with a 'mem' \n",
    "## value > 100, otherwise 0. Split the data into two different \n",
    "## data frames based on the value of 'highmem'. Create boxplots \n",
    "## of 'age' for both data frames, and identify the mean, min, \n",
    "## max for each.\n",
    "##\n"
   ]
  },
  {
   "cell_type": "markdown",
   "metadata": {},
   "source": [
    "## References\n",
    "- Python for Bioinformatics, Sebastian Bassi, CRC Press (2010)\n",
    "- [http://docs.scipy.org/doc/numpy/reference/index.html](http://docs.scipy.org/doc/numpy/reference/index.html)\n",
    "- [http://pandas.pydata.org/pandas-docs/stable/](http://pandas.pydata.org/pandas-docs/stable/)\n",
    "- [http://statsmodels.sourceforge.net/stable/index.html](http://statsmodels.sourceforge.net/stable/index.html)\n",
    "- [http://docs.scipy.org/doc/numpy/reference/index.html](http://docs.scipy.org/doc/numpy/reference/index.html)\n",
    "- [http://docs.scipy.org/doc/scipy-0.14.0/reference/generated/scipy.stats.mannwhitneyu.html](http://docs.scipy.org/doc/scipy-0.14.0/reference/generated/scipy.stats.mannwhitneyu.html)\n",
    "\n",
    "#### Last Updated: 18-Sep-2019¶"
   ]
  }
 ],
 "metadata": {
  "anaconda-cloud": {},
  "kernelspec": {
   "display_name": "Python 3",
   "language": "python",
   "name": "python3"
  },
  "language_info": {
   "codemirror_mode": {
    "name": "ipython",
    "version": 3
   },
   "file_extension": ".py",
   "mimetype": "text/x-python",
   "name": "python",
   "nbconvert_exporter": "python",
   "pygments_lexer": "ipython3",
   "version": "3.7.2"
  }
 },
 "nbformat": 4,
 "nbformat_minor": 1
}
